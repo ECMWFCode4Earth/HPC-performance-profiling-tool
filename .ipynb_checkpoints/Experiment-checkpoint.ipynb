{
 "cells": [
  {
   "cell_type": "code",
   "execution_count": 1,
   "metadata": {
    "scrolled": true
   },
   "outputs": [
    {
     "name": "stdout",
     "output_type": "stream",
     "text": [
      "Requirement already satisfied: altair in /home/tiberiu/.local/lib/python3.8/site-packages (4.1.0)\n",
      "Requirement already satisfied: pandas in /home/tiberiu/.local/lib/python3.8/site-packages (1.0.3)\n",
      "Requirement already satisfied: plotly in /home/tiberiu/.local/lib/python3.8/site-packages (4.8.1)\n",
      "Requirement already satisfied: pygal in /home/tiberiu/.local/lib/python3.8/site-packages (2.4.0)\n",
      "Requirement already satisfied: cairosvg in /home/tiberiu/.local/lib/python3.8/site-packages (2.4.2)\n",
      "Requirement already satisfied: ruamel.yaml in /home/tiberiu/.local/lib/python3.8/site-packages (0.16.10)\n",
      "\u001b[31mERROR: Could not find a version that satisfies the requirement PrefixedUnit (from versions: none)\u001b[0m\n",
      "\u001b[31mERROR: No matching distribution found for PrefixedUnit\u001b[0m\n",
      "Note: you may need to restart the kernel to use updated packages.\n"
     ]
    }
   ],
   "source": [
    "%pip install altair pandas plotly pygal cairosvg ruamel.yaml PrefixedUnit networkx"
   ]
  },
  {
   "cell_type": "code",
   "execution_count": 2,
   "metadata": {
    "scrolled": true
   },
   "outputs": [],
   "source": [
    "\"\"\"\n",
    "    METRICS names come from PAPI\n",
    "\"\"\"\n",
    "import pandas as pd\n",
    "import altair as alt\n",
    "import numpy as np\n",
    "import plotly.express as px\n",
    "\n",
    "data = pd.read_csv('ecprof_papi_crayhopt.csv');\n",
    "data_source2 = pd.read_csv('ecprof_papi_cray.csv');\n",
    "\n",
    "\n",
    "pd.set_option('display.max_rows', 500)\n",
    "pd.set_option('display.max_columns', 500)\n",
    "pd.set_option('display.width', 30)\n"
   ]
  },
  {
   "cell_type": "code",
   "execution_count": 44,
   "metadata": {},
   "outputs": [],
   "source": [
    "import numpy as np\n",
    "import matplotlib.pyplot as plt\n",
    "import seaborn as sns # improves plot aesthetics\n",
    "\n",
    "font = {'weight' : 'normal',\n",
    "        'size'   : 14}\n",
    "\n",
    "plt.rc('font', **font)\n",
    "\n",
    "class ComplexRadar():\n",
    "    def _invert(self, x, limits):\n",
    "        return limits[1] - (x - limits[0])\n",
    "\n",
    "    def _scale_data(self, data, ranges):\n",
    "        \"\"\"scales data[1:] to ranges[0],\n",
    "        inverts if the scale is reversed\"\"\"\n",
    "        for d, (y1, y2) in zip(data[1:], ranges[1:]):\n",
    "            assert (y1 <= d <= y2) or (y2 <= d <= y1)\n",
    "        x1, x2 = ranges[0]\n",
    "        d = data[0]\n",
    "        if x1 > x2:\n",
    "            d = self._invert(d, (x1, x2))\n",
    "            x1, x2 = x2, x1\n",
    "        sdata = [d]\n",
    "        for d, (y1, y2) in zip(data[1:], ranges[1:]):\n",
    "            if y1 > y2:\n",
    "                d = self._invert(d, (y1, y2))\n",
    "                y1, y2 = y2, y1\n",
    "            sdata.append((d-y1) / (y2-y1) \n",
    "                         * (x2 - x1) + x1)\n",
    "        return sdata\n",
    "    def create_ranges(self, data=None):\n",
    "        if data is not None:\n",
    "            return [(data[x].min() - (data[x].max() - data[x].min()) / 5, data[x].max() + (data[x].max() - data[x].min()) / 5) for x in self.labels] \n",
    "        # we need to change this formula here somehow\n",
    "        x = [(self.data[x].min() - (self.data[x].max() - self.data[x].min()) / 5, self.data[x].max() + (self.data[x].max() - self.data[x].min()) / 5) for x in self.labels] \n",
    "        return x\n",
    "        \n",
    "    def __init__(self, fig, labels, data, functions_to_plot,\n",
    "                 n_ordinate_levels=6):\n",
    "        # calculate the ranges and the labels\n",
    "        self.functions_to_plot = functions_to_plot\n",
    "        \n",
    "        self.labels = labels\n",
    "        self.data = data[0]\n",
    "        try:\n",
    "            self.data_second = data[1]\n",
    "            self.ranges = self.create_ranges(pd.concat([data[0], data[1]]))\n",
    "        except:\n",
    "            self.ranges = self.create_ranges()\n",
    "        \n",
    "        ranges = self.ranges\n",
    "        \n",
    "        angles = np.arange(0, 360, 360./len(labels))\n",
    "\n",
    "        axes = [fig.add_axes([0.1,0.1,0.9,0.9],polar=True,\n",
    "                label = \"axes{}\".format(i)) \n",
    "                for i in range(len(labels))]\n",
    "        l, text = axes[0].set_thetagrids(angles, \n",
    "                                         labels=labels, fontweight='bold', fontsize=15)\n",
    "        axes[0].tick_params(pad=40)\n",
    "        \n",
    "        \n",
    "        [txt.set_rotation(angle-90) for txt, angle \n",
    "             in zip(text, angles)]\n",
    "        for ax in axes[1:]:\n",
    "            ax.patch.set_visible(False)\n",
    "            ax.grid(\"off\")\n",
    "            ax.xaxis.set_visible(False)\n",
    "            \n",
    "        for i, ax in enumerate(axes):\n",
    "            grid = np.linspace(*self.ranges[i], \n",
    "                               num=n_ordinate_levels)\n",
    "            gridlabel = [\"{}\".format(round(x,2)) \n",
    "                         for x in grid]\n",
    "            if self.ranges[i][0] > self.ranges[i][1]:\n",
    "                grid = grid[::-1] # hack to invert grid\n",
    "                          # gridlabels aren't reversed\n",
    "            gridlabel[0] = \"\" # clean up origin\n",
    "            ax.set_rgrids(grid, labels=gridlabel,\n",
    "                         angle=angles[i])\n",
    "            ax.set_ylim(*ranges[i])\n",
    "        # variables for plotting\n",
    "        self.angle = np.deg2rad(np.r_[angles, angles[0]])\n",
    "        self.ax = axes[0]\n",
    "\n",
    "    def _plot(self, data, label, line='-'):\n",
    "        sdata = self._scale_data(data, self.ranges)\n",
    "        self.ax.plot(self.angle, np.r_[sdata, sdata[0]], line, label=label)\n",
    "\n",
    "    def plot(self):\n",
    "        lines = []\n",
    "        for label in self.functions_to_plot:\n",
    "            vars_plt = self.data.loc[self.data['Function'] == label][self.labels].values.tolist()[0]\n",
    "            self._plot(vars_plt, label)\n",
    "            lines.append(vars_plt)\n",
    "        try:\n",
    "            for label in self.functions_to_plot:\n",
    "                vars_plt = self.data_second.loc[self.data_second['Function'] == label][self.labels].values.tolist()[0]\n",
    "                self._plot(vars_plt, label, '--')\n",
    "                lines.append(vars_plt)\n",
    "        except:\n",
    "            print('Simple data')\n",
    "        self.ax.legend(bbox_to_anchor=(1.3, 1))\n",
    "        return self.ax\n",
    "    def fill(self, data, *args, **kw):\n",
    "        sdata = self._scale_data(data, self.ranges)\n",
    "        self.ax.fill(self.angle, np.r_[sdata, sdata[0]], *args, **kw)\n",
    "\n"
   ]
  },
  {
   "cell_type": "code",
   "execution_count": 46,
   "metadata": {},
   "outputs": [
    {
     "data": {
      "image/png": "[encoded data removed]",
      "text/plain": [
       "<Figure size 720x720 with 7 Axes>"
      ]
     },
     "metadata": {
      "needs_background": "light"
     },
     "output_type": "display_data"
    }
   ],
   "source": [
    "data.head()\n",
    "functions_to_plot = ['cloudsc_', 'cpg_']\n",
    "data2 = data.loc[data['Function'].isin(functions_to_plot)]\n",
    "data_source2_2 = data_source2.loc[data_source2['Function'].isin(functions_to_plot)]\n",
    "\n",
    "labels = ['DP_OPS', 'VEC_DP', '%Time', 'TOT_CYC', 'L1_DCM', 'L2_DCM', 'L3_TCM']\n",
    "    \n",
    "fig1 = plt.figure(figsize=(10, 10));\n",
    "radar = ComplexRadar(fig1, labels, [data_source2_2, data2], functions_to_plot);\n",
    "radar.plot().figure.savefig('fig.png');\n",
    "\n"
   ]
  },
  {
   "cell_type": "code",
   "execution_count": 54,
   "metadata": {
    "scrolled": true
   },
   "outputs": [
    {
     "data": {
      "application/vnd.plotly.v1+json": {
       "config": {
        "plotlyServerURL": "https://plot.ly"
       },
       "data": [
        {
         "domain": {
          "x": [
           0,
           1
          ],
          "y": [
           0,
           1
          ]
         },
         "hovertemplate": "function_name=%{label}<br>value=%{value}<br>parent=%{parent}<extra></extra>",
         "labels": [
          "cloudsc_",
          "cpg_",
          "__read_nocancel",
          "__read_nocancel"
         ],
         "name": "",
         "parents": [
          "",
          "",
          "",
          ""
         ],
         "type": "sunburst",
         "values": [
          28.2,
          16.635,
          14.259,
          0.67
         ]
        }
       ],
       "layout": {
        "height": 600,
        "legend": {
         "tracegroupgap": 0
        },
        "margin": {
         "t": 60
        },
        "template": {
         "data": {
          "bar": [
           {
            "error_x": {
             "color": "#2a3f5f"
            },
            "error_y": {
             "color": "#2a3f5f"
            },
            "marker": {
             "line": {
              "color": "#E5ECF6",
              "width": 0.5
             }
            },
            "type": "bar"
           }
          ],
          "barpolar": [
           {
            "marker": {
             "line": {
              "color": "#E5ECF6",
              "width": 0.5
             }
            },
            "type": "barpolar"
           }
          ],
          "carpet": [
           {
            "aaxis": {
             "endlinecolor": "#2a3f5f",
             "gridcolor": "white",
             "linecolor": "white",
             "minorgridcolor": "white",
             "startlinecolor": "#2a3f5f"
            },
            "baxis": {
             "endlinecolor": "#2a3f5f",
             "gridcolor": "white",
             "linecolor": "white",
             "minorgridcolor": "white",
             "startlinecolor": "#2a3f5f"
            },
            "type": "carpet"
           }
          ],
          "choropleth": [
           {
            "colorbar": {
             "outlinewidth": 0,
             "ticks": ""
            },
            "type": "choropleth"
           }
          ],
          "contour": [
           {
            "colorbar": {
             "outlinewidth": 0,
             "ticks": ""
            },
            "colorscale": [
             [
              0,
              "#0d0887"
             ],
             [
              0.1111111111111111,
              "#46039f"
             ],
             [
              0.2222222222222222,
              "#7201a8"
             ],
             [
              0.3333333333333333,
              "#9c179e"
             ],
             [
              0.4444444444444444,
              "#bd3786"
             ],
             [
              0.5555555555555556,
              "#d8576b"
             ],
             [
              0.6666666666666666,
              "#ed7953"
             ],
             [
              0.7777777777777778,
              "#fb9f3a"
             ],
             [
              0.8888888888888888,
              "#fdca26"
             ],
             [
              1,
              "#f0f921"
             ]
            ],
            "type": "contour"
           }
          ],
          "contourcarpet": [
           {
            "colorbar": {
             "outlinewidth": 0,
             "ticks": ""
            },
            "type": "contourcarpet"
           }
          ],
          "heatmap": [
           {
            "colorbar": {
             "outlinewidth": 0,
             "ticks": ""
            },
            "colorscale": [
             [
              0,
              "#0d0887"
             ],
             [
              0.1111111111111111,
              "#46039f"
             ],
             [
              0.2222222222222222,
              "#7201a8"
             ],
             [
              0.3333333333333333,
              "#9c179e"
             ],
             [
              0.4444444444444444,
              "#bd3786"
             ],
             [
              0.5555555555555556,
              "#d8576b"
             ],
             [
              0.6666666666666666,
              "#ed7953"
             ],
             [
              0.7777777777777778,
              "#fb9f3a"
             ],
             [
              0.8888888888888888,
              "#fdca26"
             ],
             [
              1,
              "#f0f921"
             ]
            ],
            "type": "heatmap"
           }
          ],
          "heatmapgl": [
           {
            "colorbar": {
             "outlinewidth": 0,
             "ticks": ""
            },
            "colorscale": [
             [
              0,
              "#0d0887"
             ],
             [
              0.1111111111111111,
              "#46039f"
             ],
             [
              0.2222222222222222,
              "#7201a8"
             ],
             [
              0.3333333333333333,
              "#9c179e"
             ],
             [
              0.4444444444444444,
              "#bd3786"
             ],
             [
              0.5555555555555556,
              "#d8576b"
             ],
             [
              0.6666666666666666,
              "#ed7953"
             ],
             [
              0.7777777777777778,
              "#fb9f3a"
             ],
             [
              0.8888888888888888,
              "#fdca26"
             ],
             [
              1,
              "#f0f921"
             ]
            ],
            "type": "heatmapgl"
           }
          ],
          "histogram": [
           {
            "marker": {
             "colorbar": {
              "outlinewidth": 0,
              "ticks": ""
             }
            },
            "type": "histogram"
           }
          ],
          "histogram2d": [
           {
            "colorbar": {
             "outlinewidth": 0,
             "ticks": ""
            },
            "colorscale": [
             [
              0,
              "#0d0887"
             ],
             [
              0.1111111111111111,
              "#46039f"
             ],
             [
              0.2222222222222222,
              "#7201a8"
             ],
             [
              0.3333333333333333,
              "#9c179e"
             ],
             [
              0.4444444444444444,
              "#bd3786"
             ],
             [
              0.5555555555555556,
              "#d8576b"
             ],
             [
              0.6666666666666666,
              "#ed7953"
             ],
             [
              0.7777777777777778,
              "#fb9f3a"
             ],
             [
              0.8888888888888888,
              "#fdca26"
             ],
             [
              1,
              "#f0f921"
             ]
            ],
            "type": "histogram2d"
           }
          ],
          "histogram2dcontour": [
           {
            "colorbar": {
             "outlinewidth": 0,
             "ticks": ""
            },
            "colorscale": [
             [
              0,
              "#0d0887"
             ],
             [
              0.1111111111111111,
              "#46039f"
             ],
             [
              0.2222222222222222,
              "#7201a8"
             ],
             [
              0.3333333333333333,
              "#9c179e"
             ],
             [
              0.4444444444444444,
              "#bd3786"
             ],
             [
              0.5555555555555556,
              "#d8576b"
             ],
             [
              0.6666666666666666,
              "#ed7953"
             ],
             [
              0.7777777777777778,
              "#fb9f3a"
             ],
             [
              0.8888888888888888,
              "#fdca26"
             ],
             [
              1,
              "#f0f921"
             ]
            ],
            "type": "histogram2dcontour"
           }
          ],
          "mesh3d": [
           {
            "colorbar": {
             "outlinewidth": 0,
             "ticks": ""
            },
            "type": "mesh3d"
           }
          ],
          "parcoords": [
           {
            "line": {
             "colorbar": {
              "outlinewidth": 0,
              "ticks": ""
             }
            },
            "type": "parcoords"
           }
          ],
          "pie": [
           {
            "automargin": true,
            "type": "pie"
           }
          ],
          "scatter": [
           {
            "marker": {
             "colorbar": {
              "outlinewidth": 0,
              "ticks": ""
             }
            },
            "type": "scatter"
           }
          ],
          "scatter3d": [
           {
            "line": {
             "colorbar": {
              "outlinewidth": 0,
              "ticks": ""
             }
            },
            "marker": {
             "colorbar": {
              "outlinewidth": 0,
              "ticks": ""
             }
            },
            "type": "scatter3d"
           }
          ],
          "scattercarpet": [
           {
            "marker": {
             "colorbar": {
              "outlinewidth": 0,
              "ticks": ""
             }
            },
            "type": "scattercarpet"
           }
          ],
          "scattergeo": [
           {
            "marker": {
             "colorbar": {
              "outlinewidth": 0,
              "ticks": ""
             }
            },
            "type": "scattergeo"
           }
          ],
          "scattergl": [
           {
            "marker": {
             "colorbar": {
              "outlinewidth": 0,
              "ticks": ""
             }
            },
            "type": "scattergl"
           }
          ],
          "scattermapbox": [
           {
            "marker": {
             "colorbar": {
              "outlinewidth": 0,
              "ticks": ""
             }
            },
            "type": "scattermapbox"
           }
          ],
          "scatterpolar": [
           {
            "marker": {
             "colorbar": {
              "outlinewidth": 0,
              "ticks": ""
             }
            },
            "type": "scatterpolar"
           }
          ],
          "scatterpolargl": [
           {
            "marker": {
             "colorbar": {
              "outlinewidth": 0,
              "ticks": ""
             }
            },
            "type": "scatterpolargl"
           }
          ],
          "scatterternary": [
           {
            "marker": {
             "colorbar": {
              "outlinewidth": 0,
              "ticks": ""
             }
            },
            "type": "scatterternary"
           }
          ],
          "surface": [
           {
            "colorbar": {
             "outlinewidth": 0,
             "ticks": ""
            },
            "colorscale": [
             [
              0,
              "#0d0887"
             ],
             [
              0.1111111111111111,
              "#46039f"
             ],
             [
              0.2222222222222222,
              "#7201a8"
             ],
             [
              0.3333333333333333,
              "#9c179e"
             ],
             [
              0.4444444444444444,
              "#bd3786"
             ],
             [
              0.5555555555555556,
              "#d8576b"
             ],
             [
              0.6666666666666666,
              "#ed7953"
             ],
             [
              0.7777777777777778,
              "#fb9f3a"
             ],
             [
              0.8888888888888888,
              "#fdca26"
             ],
             [
              1,
              "#f0f921"
             ]
            ],
            "type": "surface"
           }
          ],
          "table": [
           {
            "cells": {
             "fill": {
              "color": "#EBF0F8"
             },
             "line": {
              "color": "white"
             }
            },
            "header": {
             "fill": {
              "color": "#C8D4E3"
             },
             "line": {
              "color": "white"
             }
            },
            "type": "table"
           }
          ]
         },
         "layout": {
          "annotationdefaults": {
           "arrowcolor": "#2a3f5f",
           "arrowhead": 0,
           "arrowwidth": 1
          },
          "coloraxis": {
           "colorbar": {
            "outlinewidth": 0,
            "ticks": ""
           }
          },
          "colorscale": {
           "diverging": [
            [
             0,
             "#8e0152"
            ],
            [
             0.1,
             "#c51b7d"
            ],
            [
             0.2,
             "#de77ae"
            ],
            [
             0.3,
             "#f1b6da"
            ],
            [
             0.4,
             "#fde0ef"
            ],
            [
             0.5,
             "#f7f7f7"
            ],
            [
             0.6,
             "#e6f5d0"
            ],
            [
             0.7,
             "#b8e186"
            ],
            [
             0.8,
             "#7fbc41"
            ],
            [
             0.9,
             "#4d9221"
            ],
            [
             1,
             "#276419"
            ]
           ],
           "sequential": [
            [
             0,
             "#0d0887"
            ],
            [
             0.1111111111111111,
             "#46039f"
            ],
            [
             0.2222222222222222,
             "#7201a8"
            ],
            [
             0.3333333333333333,
             "#9c179e"
            ],
            [
             0.4444444444444444,
             "#bd3786"
            ],
            [
             0.5555555555555556,
             "#d8576b"
            ],
            [
             0.6666666666666666,
             "#ed7953"
            ],
            [
             0.7777777777777778,
             "#fb9f3a"
            ],
            [
             0.8888888888888888,
             "#fdca26"
            ],
            [
             1,
             "#f0f921"
            ]
           ],
           "sequentialminus": [
            [
             0,
             "#0d0887"
            ],
            [
             0.1111111111111111,
             "#46039f"
            ],
            [
             0.2222222222222222,
             "#7201a8"
            ],
            [
             0.3333333333333333,
             "#9c179e"
            ],
            [
             0.4444444444444444,
             "#bd3786"
            ],
            [
             0.5555555555555556,
             "#d8576b"
            ],
            [
             0.6666666666666666,
             "#ed7953"
            ],
            [
             0.7777777777777778,
             "#fb9f3a"
            ],
            [
             0.8888888888888888,
             "#fdca26"
            ],
            [
             1,
             "#f0f921"
            ]
           ]
          },
          "colorway": [
           "#636efa",
           "#EF553B",
           "#00cc96",
           "#ab63fa",
           "#FFA15A",
           "#19d3f3",
           "#FF6692",
           "#B6E880",
           "#FF97FF",
           "#FECB52"
          ],
          "font": {
           "color": "#2a3f5f"
          },
          "geo": {
           "bgcolor": "white",
           "lakecolor": "white",
           "landcolor": "#E5ECF6",
           "showlakes": true,
           "showland": true,
           "subunitcolor": "white"
          },
          "hoverlabel": {
           "align": "left"
          },
          "hovermode": "closest",
          "mapbox": {
           "style": "light"
          },
          "paper_bgcolor": "white",
          "plot_bgcolor": "#E5ECF6",
          "polar": {
           "angularaxis": {
            "gridcolor": "white",
            "linecolor": "white",
            "ticks": ""
           },
           "bgcolor": "#E5ECF6",
           "radialaxis": {
            "gridcolor": "white",
            "linecolor": "white",
            "ticks": ""
           }
          },
          "scene": {
           "xaxis": {
            "backgroundcolor": "#E5ECF6",
            "gridcolor": "white",
            "gridwidth": 2,
            "linecolor": "white",
            "showbackground": true,
            "ticks": "",
            "zerolinecolor": "white"
           },
           "yaxis": {
            "backgroundcolor": "#E5ECF6",
            "gridcolor": "white",
            "gridwidth": 2,
            "linecolor": "white",
            "showbackground": true,
            "ticks": "",
            "zerolinecolor": "white"
           },
           "zaxis": {
            "backgroundcolor": "#E5ECF6",
            "gridcolor": "white",
            "gridwidth": 2,
            "linecolor": "white",
            "showbackground": true,
            "ticks": "",
            "zerolinecolor": "white"
           }
          },
          "shapedefaults": {
           "line": {
            "color": "#2a3f5f"
           }
          },
          "ternary": {
           "aaxis": {
            "gridcolor": "white",
            "linecolor": "white",
            "ticks": ""
           },
           "baxis": {
            "gridcolor": "white",
            "linecolor": "white",
            "ticks": ""
           },
           "bgcolor": "#E5ECF6",
           "caxis": {
            "gridcolor": "white",
            "linecolor": "white",
            "ticks": ""
           }
          },
          "title": {
           "x": 0.05
          },
          "xaxis": {
           "automargin": true,
           "gridcolor": "white",
           "linecolor": "white",
           "ticks": "",
           "title": {
            "standoff": 15
           },
           "zerolinecolor": "white",
           "zerolinewidth": 2
          },
          "yaxis": {
           "automargin": true,
           "gridcolor": "white",
           "linecolor": "white",
           "ticks": "",
           "title": {
            "standoff": 15
           },
           "zerolinecolor": "white",
           "zerolinewidth": 2
          }
         }
        },
        "uniformtext": {
         "minsize": 3,
         "mode": "show"
        },
        "width": 600
       }
      },
      "text/html": [
       "<div>\n",
       "        \n",
       "        \n",
       "            <div id=\"9a31af3a-ebfa-4a55-8e5e-7b1b1d06e665\" class=\"plotly-graph-div\" style=\"height:600px; width:600px;\"></div>\n",
       "            <script type=\"text/javascript\">\n",
       "                require([\"plotly\"], function(Plotly) {\n",
       "                    window.PLOTLYENV=window.PLOTLYENV || {};\n",
       "                    \n",
       "                if (document.getElementById(\"9a31af3a-ebfa-4a55-8e5e-7b1b1d06e665\")) {\n",
       "                    Plotly.newPlot(\n",
       "                        '9a31af3a-ebfa-4a55-8e5e-7b1b1d06e665',\n",
       "                        [{\"domain\": {\"x\": [0.0, 1.0], \"y\": [0.0, 1.0]}, \"hovertemplate\": \"function_name=%{label}<br>value=%{value}<br>parent=%{parent}<extra></extra>\", \"labels\": [\"cloudsc_\", \"cpg_\", \"__read_nocancel\", \"__read_nocancel\"], \"name\": \"\", \"parents\": [\"\", \"\", \"\", \"\"], \"type\": \"sunburst\", \"values\": [28.2, 16.635, 14.259, 0.67]}],\n",
       "                        {\"height\": 600, \"legend\": {\"tracegroupgap\": 0}, \"margin\": {\"t\": 60}, \"template\": {\"data\": {\"bar\": [{\"error_x\": {\"color\": \"#2a3f5f\"}, \"error_y\": {\"color\": \"#2a3f5f\"}, \"marker\": {\"line\": {\"color\": \"#E5ECF6\", \"width\": 0.5}}, \"type\": \"bar\"}], \"barpolar\": [{\"marker\": {\"line\": {\"color\": \"#E5ECF6\", \"width\": 0.5}}, \"type\": \"barpolar\"}], \"carpet\": [{\"aaxis\": {\"endlinecolor\": \"#2a3f5f\", \"gridcolor\": \"white\", \"linecolor\": \"white\", \"minorgridcolor\": \"white\", \"startlinecolor\": \"#2a3f5f\"}, \"baxis\": {\"endlinecolor\": \"#2a3f5f\", \"gridcolor\": \"white\", \"linecolor\": \"white\", \"minorgridcolor\": \"white\", \"startlinecolor\": \"#2a3f5f\"}, \"type\": \"carpet\"}], \"choropleth\": [{\"colorbar\": {\"outlinewidth\": 0, \"ticks\": \"\"}, \"type\": \"choropleth\"}], \"contour\": [{\"colorbar\": {\"outlinewidth\": 0, \"ticks\": \"\"}, \"colorscale\": [[0.0, \"#0d0887\"], [0.1111111111111111, \"#46039f\"], [0.2222222222222222, \"#7201a8\"], [0.3333333333333333, \"#9c179e\"], [0.4444444444444444, \"#bd3786\"], [0.5555555555555556, \"#d8576b\"], [0.6666666666666666, \"#ed7953\"], [0.7777777777777778, \"#fb9f3a\"], [0.8888888888888888, \"#fdca26\"], [1.0, \"#f0f921\"]], \"type\": \"contour\"}], \"contourcarpet\": [{\"colorbar\": {\"outlinewidth\": 0, \"ticks\": \"\"}, \"type\": \"contourcarpet\"}], \"heatmap\": [{\"colorbar\": {\"outlinewidth\": 0, \"ticks\": \"\"}, \"colorscale\": [[0.0, \"#0d0887\"], [0.1111111111111111, \"#46039f\"], [0.2222222222222222, \"#7201a8\"], [0.3333333333333333, \"#9c179e\"], [0.4444444444444444, \"#bd3786\"], [0.5555555555555556, \"#d8576b\"], [0.6666666666666666, \"#ed7953\"], [0.7777777777777778, \"#fb9f3a\"], [0.8888888888888888, \"#fdca26\"], [1.0, \"#f0f921\"]], \"type\": \"heatmap\"}], \"heatmapgl\": [{\"colorbar\": {\"outlinewidth\": 0, \"ticks\": \"\"}, \"colorscale\": [[0.0, \"#0d0887\"], [0.1111111111111111, \"#46039f\"], [0.2222222222222222, \"#7201a8\"], [0.3333333333333333, \"#9c179e\"], [0.4444444444444444, \"#bd3786\"], [0.5555555555555556, \"#d8576b\"], [0.6666666666666666, \"#ed7953\"], [0.7777777777777778, \"#fb9f3a\"], [0.8888888888888888, \"#fdca26\"], [1.0, \"#f0f921\"]], \"type\": \"heatmapgl\"}], \"histogram\": [{\"marker\": {\"colorbar\": {\"outlinewidth\": 0, \"ticks\": \"\"}}, \"type\": \"histogram\"}], \"histogram2d\": [{\"colorbar\": {\"outlinewidth\": 0, \"ticks\": \"\"}, \"colorscale\": [[0.0, \"#0d0887\"], [0.1111111111111111, \"#46039f\"], [0.2222222222222222, \"#7201a8\"], [0.3333333333333333, \"#9c179e\"], [0.4444444444444444, \"#bd3786\"], [0.5555555555555556, \"#d8576b\"], [0.6666666666666666, \"#ed7953\"], [0.7777777777777778, \"#fb9f3a\"], [0.8888888888888888, \"#fdca26\"], [1.0, \"#f0f921\"]], \"type\": \"histogram2d\"}], \"histogram2dcontour\": [{\"colorbar\": {\"outlinewidth\": 0, \"ticks\": \"\"}, \"colorscale\": [[0.0, \"#0d0887\"], [0.1111111111111111, \"#46039f\"], [0.2222222222222222, \"#7201a8\"], [0.3333333333333333, \"#9c179e\"], [0.4444444444444444, \"#bd3786\"], [0.5555555555555556, \"#d8576b\"], [0.6666666666666666, \"#ed7953\"], [0.7777777777777778, \"#fb9f3a\"], [0.8888888888888888, \"#fdca26\"], [1.0, \"#f0f921\"]], \"type\": \"histogram2dcontour\"}], \"mesh3d\": [{\"colorbar\": {\"outlinewidth\": 0, \"ticks\": \"\"}, \"type\": \"mesh3d\"}], \"parcoords\": [{\"line\": {\"colorbar\": {\"outlinewidth\": 0, \"ticks\": \"\"}}, \"type\": \"parcoords\"}], \"pie\": [{\"automargin\": true, \"type\": \"pie\"}], \"scatter\": [{\"marker\": {\"colorbar\": {\"outlinewidth\": 0, \"ticks\": \"\"}}, \"type\": \"scatter\"}], \"scatter3d\": [{\"line\": {\"colorbar\": {\"outlinewidth\": 0, \"ticks\": \"\"}}, \"marker\": {\"colorbar\": {\"outlinewidth\": 0, \"ticks\": \"\"}}, \"type\": \"scatter3d\"}], \"scattercarpet\": [{\"marker\": {\"colorbar\": {\"outlinewidth\": 0, \"ticks\": \"\"}}, \"type\": \"scattercarpet\"}], \"scattergeo\": [{\"marker\": {\"colorbar\": {\"outlinewidth\": 0, \"ticks\": \"\"}}, \"type\": \"scattergeo\"}], \"scattergl\": [{\"marker\": {\"colorbar\": {\"outlinewidth\": 0, \"ticks\": \"\"}}, \"type\": \"scattergl\"}], \"scattermapbox\": [{\"marker\": {\"colorbar\": {\"outlinewidth\": 0, \"ticks\": \"\"}}, \"type\": \"scattermapbox\"}], \"scatterpolar\": [{\"marker\": {\"colorbar\": {\"outlinewidth\": 0, \"ticks\": \"\"}}, \"type\": \"scatterpolar\"}], \"scatterpolargl\": [{\"marker\": {\"colorbar\": {\"outlinewidth\": 0, \"ticks\": \"\"}}, \"type\": \"scatterpolargl\"}], \"scatterternary\": [{\"marker\": {\"colorbar\": {\"outlinewidth\": 0, \"ticks\": \"\"}}, \"type\": \"scatterternary\"}], \"surface\": [{\"colorbar\": {\"outlinewidth\": 0, \"ticks\": \"\"}, \"colorscale\": [[0.0, \"#0d0887\"], [0.1111111111111111, \"#46039f\"], [0.2222222222222222, \"#7201a8\"], [0.3333333333333333, \"#9c179e\"], [0.4444444444444444, \"#bd3786\"], [0.5555555555555556, \"#d8576b\"], [0.6666666666666666, \"#ed7953\"], [0.7777777777777778, \"#fb9f3a\"], [0.8888888888888888, \"#fdca26\"], [1.0, \"#f0f921\"]], \"type\": \"surface\"}], \"table\": [{\"cells\": {\"fill\": {\"color\": \"#EBF0F8\"}, \"line\": {\"color\": \"white\"}}, \"header\": {\"fill\": {\"color\": \"#C8D4E3\"}, \"line\": {\"color\": \"white\"}}, \"type\": \"table\"}]}, \"layout\": {\"annotationdefaults\": {\"arrowcolor\": \"#2a3f5f\", \"arrowhead\": 0, \"arrowwidth\": 1}, \"coloraxis\": {\"colorbar\": {\"outlinewidth\": 0, \"ticks\": \"\"}}, \"colorscale\": {\"diverging\": [[0, \"#8e0152\"], [0.1, \"#c51b7d\"], [0.2, \"#de77ae\"], [0.3, \"#f1b6da\"], [0.4, \"#fde0ef\"], [0.5, \"#f7f7f7\"], [0.6, \"#e6f5d0\"], [0.7, \"#b8e186\"], [0.8, \"#7fbc41\"], [0.9, \"#4d9221\"], [1, \"#276419\"]], \"sequential\": [[0.0, \"#0d0887\"], [0.1111111111111111, \"#46039f\"], [0.2222222222222222, \"#7201a8\"], [0.3333333333333333, \"#9c179e\"], [0.4444444444444444, \"#bd3786\"], [0.5555555555555556, \"#d8576b\"], [0.6666666666666666, \"#ed7953\"], [0.7777777777777778, \"#fb9f3a\"], [0.8888888888888888, \"#fdca26\"], [1.0, \"#f0f921\"]], \"sequentialminus\": [[0.0, \"#0d0887\"], [0.1111111111111111, \"#46039f\"], [0.2222222222222222, \"#7201a8\"], [0.3333333333333333, \"#9c179e\"], [0.4444444444444444, \"#bd3786\"], [0.5555555555555556, \"#d8576b\"], [0.6666666666666666, \"#ed7953\"], [0.7777777777777778, \"#fb9f3a\"], [0.8888888888888888, \"#fdca26\"], [1.0, \"#f0f921\"]]}, \"colorway\": [\"#636efa\", \"#EF553B\", \"#00cc96\", \"#ab63fa\", \"#FFA15A\", \"#19d3f3\", \"#FF6692\", \"#B6E880\", \"#FF97FF\", \"#FECB52\"], \"font\": {\"color\": \"#2a3f5f\"}, \"geo\": {\"bgcolor\": \"white\", \"lakecolor\": \"white\", \"landcolor\": \"#E5ECF6\", \"showlakes\": true, \"showland\": true, \"subunitcolor\": \"white\"}, \"hoverlabel\": {\"align\": \"left\"}, \"hovermode\": \"closest\", \"mapbox\": {\"style\": \"light\"}, \"paper_bgcolor\": \"white\", \"plot_bgcolor\": \"#E5ECF6\", \"polar\": {\"angularaxis\": {\"gridcolor\": \"white\", \"linecolor\": \"white\", \"ticks\": \"\"}, \"bgcolor\": \"#E5ECF6\", \"radialaxis\": {\"gridcolor\": \"white\", \"linecolor\": \"white\", \"ticks\": \"\"}}, \"scene\": {\"xaxis\": {\"backgroundcolor\": \"#E5ECF6\", \"gridcolor\": \"white\", \"gridwidth\": 2, \"linecolor\": \"white\", \"showbackground\": true, \"ticks\": \"\", \"zerolinecolor\": \"white\"}, \"yaxis\": {\"backgroundcolor\": \"#E5ECF6\", \"gridcolor\": \"white\", \"gridwidth\": 2, \"linecolor\": \"white\", \"showbackground\": true, \"ticks\": \"\", \"zerolinecolor\": \"white\"}, \"zaxis\": {\"backgroundcolor\": \"#E5ECF6\", \"gridcolor\": \"white\", \"gridwidth\": 2, \"linecolor\": \"white\", \"showbackground\": true, \"ticks\": \"\", \"zerolinecolor\": \"white\"}}, \"shapedefaults\": {\"line\": {\"color\": \"#2a3f5f\"}}, \"ternary\": {\"aaxis\": {\"gridcolor\": \"white\", \"linecolor\": \"white\", \"ticks\": \"\"}, \"baxis\": {\"gridcolor\": \"white\", \"linecolor\": \"white\", \"ticks\": \"\"}, \"bgcolor\": \"#E5ECF6\", \"caxis\": {\"gridcolor\": \"white\", \"linecolor\": \"white\", \"ticks\": \"\"}}, \"title\": {\"x\": 0.05}, \"xaxis\": {\"automargin\": true, \"gridcolor\": \"white\", \"linecolor\": \"white\", \"ticks\": \"\", \"title\": {\"standoff\": 15}, \"zerolinecolor\": \"white\", \"zerolinewidth\": 2}, \"yaxis\": {\"automargin\": true, \"gridcolor\": \"white\", \"linecolor\": \"white\", \"ticks\": \"\", \"title\": {\"standoff\": 15}, \"zerolinecolor\": \"white\", \"zerolinewidth\": 2}}}, \"uniformtext\": {\"minsize\": 3, \"mode\": \"show\"}, \"width\": 600},\n",
       "                        {\"responsive\": true}\n",
       "                    ).then(function(){\n",
       "                            \n",
       "var gd = document.getElementById('9a31af3a-ebfa-4a55-8e5e-7b1b1d06e665');\n",
       "var x = new MutationObserver(function (mutations, observer) {{\n",
       "        var display = window.getComputedStyle(gd).display;\n",
       "        if (!display || display === 'none') {{\n",
       "            console.log([gd, 'removed!']);\n",
       "            Plotly.purge(gd);\n",
       "            observer.disconnect();\n",
       "        }}\n",
       "}});\n",
       "\n",
       "// Listen for the removal of the full notebook cells\n",
       "var notebookContainer = gd.closest('#notebook-container');\n",
       "if (notebookContainer) {{\n",
       "    x.observe(notebookContainer, {childList: true});\n",
       "}}\n",
       "\n",
       "// Listen for the clearing of the current output cell\n",
       "var outputEl = gd.closest('.output');\n",
       "if (outputEl) {{\n",
       "    x.observe(outputEl, {childList: true});\n",
       "}}\n",
       "\n",
       "                        })\n",
       "                };\n",
       "                });\n",
       "            </script>\n",
       "        </div>"
      ]
     },
     "metadata": {},
     "output_type": "display_data"
    }
   ],
   "source": [
    "import plotly.graph_objects as go\n",
    "import pandas as pd\n",
    "import plotly.express as px\n",
    "\n",
    "functions_to_plot = ['cloudsc_', 'cpg_', '__read_nocancel']\n",
    "\n",
    "df = pd.read_csv(\"ecprof_papi_crayhopt.csv\")\n",
    "import json\n",
    "import pprint\n",
    "import pandas as pd\n",
    "\n",
    "parsed_dict = dict()\n",
    "pp = pprint.PrettyPrinter(indent=3)\n",
    "\n",
    "with open(\"callgraph.json\") as f:\n",
    "    for i in data.keys():\n",
    "        for j in data[i]:\n",
    "            name = j\n",
    "            if j not in parsed_dict:\n",
    "                parsed_dict[name] = {}\n",
    "                # name scope and file\n",
    "            if name == i:\n",
    "                parsed_dict[name]['parent'] = None\n",
    "            else:\n",
    "                parsed_dict[name]['parent'] = i\n",
    "\n",
    "\n",
    "df_parents = pd.DataFrame.from_dict(parsed_dict).transpose()\n",
    "df = df.loc[df[\"Function\"].isin(functions_to_plot)]\n",
    "df_parents = df_parents.loc[df_parents.index.isin(functions_to_plot) & df_parents.parent.isin(functions_to_plot)]\n",
    "df = df.set_index('Function').join(df_parents).fillna('').reset_index()\n",
    "\n",
    "primary_feature = 'WallTime'\n",
    "features = ['Function',\"WallTime\", 'parent']\n",
    "\n",
    "df = df[features]\n",
    "df = df.to_dict()\n",
    "df_new = {}\n",
    "for i in df.keys():\n",
    "    if i == \"Function\":\n",
    "        df_new['function_name'] = list(df[i].values())\n",
    "    elif i == \"WallTime\":\n",
    "        df_new['value'] = list(df[i].values())\n",
    "    else:\n",
    "        df_new['parent'] = list(df[i].values())\n",
    "fig =px.sunburst(\n",
    "    df_new,\n",
    "    names='function_name',\n",
    "    parents='parent',\n",
    "    values='value',\n",
    ")\n",
    "\n",
    "fig.update_layout(width=600,\n",
    "    height=600,uniformtext=dict(minsize=3, mode='show'))\n",
    "fig.show()\n"
   ]
  },
  {
   "cell_type": "code",
   "execution_count": 19,
   "metadata": {},
   "outputs": [],
   "source": [
    "# Export the drawn figures to html objects that are going to be used in the React app\n",
    "import plotly\n",
    "plotly.io.orca.config.executable = '/usr/local/bin/orca'\n"
   ]
  },
  {
   "cell_type": "code",
   "execution_count": 7,
   "metadata": {},
   "outputs": [
    {
     "data": {
      "text/html": [
       "<div>\n",
       "<style scoped>\n",
       "    .dataframe tbody tr th:only-of-type {\n",
       "        vertical-align: middle;\n",
       "    }\n",
       "\n",
       "    .dataframe tbody tr th {\n",
       "        vertical-align: top;\n",
       "    }\n",
       "\n",
       "    .dataframe thead th {\n",
       "        text-align: right;\n",
       "    }\n",
       "</style>\n",
       "<table border=\"1\" class=\"dataframe\">\n",
       "  <thead>\n",
       "    <tr style=\"text-align: right;\">\n",
       "      <th></th>\n",
       "      <th>Function</th>\n",
       "      <th>#Hits</th>\n",
       "    </tr>\n",
       "  </thead>\n",
       "  <tbody>\n",
       "    <tr>\n",
       "      <th>0</th>\n",
       "      <td>save_fluxes</td>\n",
       "      <td>118</td>\n",
       "    </tr>\n",
       "    <tr>\n",
       "      <th>1</th>\n",
       "      <td>solver_mcica_lw</td>\n",
       "      <td>112</td>\n",
       "    </tr>\n",
       "    <tr>\n",
       "      <th>2</th>\n",
       "      <td>rrtm_taumol3</td>\n",
       "      <td>107</td>\n",
       "    </tr>\n",
       "    <tr>\n",
       "      <th>3</th>\n",
       "      <td>solver_homogeneous_sw</td>\n",
       "      <td>78</td>\n",
       "    </tr>\n",
       "    <tr>\n",
       "      <th>4</th>\n",
       "      <td>rrtm_kgb7</td>\n",
       "      <td>56</td>\n",
       "    </tr>\n",
       "    <tr>\n",
       "      <th>5</th>\n",
       "      <td>solver_homogeneous_lw</td>\n",
       "      <td>52</td>\n",
       "    </tr>\n",
       "    <tr>\n",
       "      <th>6</th>\n",
       "      <td>fast_expm_exchange_2</td>\n",
       "      <td>41</td>\n",
       "    </tr>\n",
       "    <tr>\n",
       "      <th>7</th>\n",
       "      <td>rrtm_taumol5</td>\n",
       "      <td>28</td>\n",
       "    </tr>\n",
       "    <tr>\n",
       "      <th>8</th>\n",
       "      <td>get_real_matrix_indexed</td>\n",
       "      <td>28</td>\n",
       "    </tr>\n",
       "    <tr>\n",
       "      <th>9</th>\n",
       "      <td>calc_ice_optics_fu_lw</td>\n",
       "      <td>27</td>\n",
       "    </tr>\n",
       "    <tr>\n",
       "      <th>10</th>\n",
       "      <td>rrtm_taumol15</td>\n",
       "      <td>26</td>\n",
       "    </tr>\n",
       "    <tr>\n",
       "      <th>11</th>\n",
       "      <td>print_real</td>\n",
       "      <td>21</td>\n",
       "    </tr>\n",
       "    <tr>\n",
       "      <th>12</th>\n",
       "      <td>rrtm_taumol7</td>\n",
       "      <td>20</td>\n",
       "    </tr>\n",
       "    <tr>\n",
       "      <th>13</th>\n",
       "      <td>gas_optics</td>\n",
       "      <td>17</td>\n",
       "    </tr>\n",
       "    <tr>\n",
       "      <th>14</th>\n",
       "      <td>srtm_setcoef</td>\n",
       "      <td>15</td>\n",
       "    </tr>\n",
       "    <tr>\n",
       "      <th>15</th>\n",
       "      <td>consolidate_config</td>\n",
       "      <td>15</td>\n",
       "    </tr>\n",
       "    <tr>\n",
       "      <th>16</th>\n",
       "      <td>diag_mat_right_divide_3</td>\n",
       "      <td>11</td>\n",
       "    </tr>\n",
       "    <tr>\n",
       "      <th>17</th>\n",
       "      <td>calc_ice_optics_baran</td>\n",
       "      <td>9</td>\n",
       "    </tr>\n",
       "    <tr>\n",
       "      <th>18</th>\n",
       "      <td>rrtm_taumol4</td>\n",
       "      <td>8</td>\n",
       "    </tr>\n",
       "    <tr>\n",
       "      <th>19</th>\n",
       "      <td>rrtm_taumol9</td>\n",
       "      <td>7</td>\n",
       "    </tr>\n",
       "  </tbody>\n",
       "</table>\n",
       "</div>"
      ],
      "text/plain": [
       "                   Function  \\\n",
       "0               save_fluxes   \n",
       "1           solver_mcica_lw   \n",
       "2              rrtm_taumol3   \n",
       "3     solver_homogeneous_sw   \n",
       "4                 rrtm_kgb7   \n",
       "5     solver_homogeneous_lw   \n",
       "6      fast_expm_exchange_2   \n",
       "7              rrtm_taumol5   \n",
       "8   get_real_matrix_indexed   \n",
       "9     calc_ice_optics_fu_lw   \n",
       "10            rrtm_taumol15   \n",
       "11               print_real   \n",
       "12             rrtm_taumol7   \n",
       "13               gas_optics   \n",
       "14             srtm_setcoef   \n",
       "15       consolidate_config   \n",
       "16  diag_mat_right_divide_3   \n",
       "17    calc_ice_optics_baran   \n",
       "18             rrtm_taumol4   \n",
       "19             rrtm_taumol9   \n",
       "\n",
       "    #Hits  \n",
       "0     118  \n",
       "1     112  \n",
       "2     107  \n",
       "3      78  \n",
       "4      56  \n",
       "5      52  \n",
       "6      41  \n",
       "7      28  \n",
       "8      28  \n",
       "9      27  \n",
       "10     26  \n",
       "11     21  \n",
       "12     20  \n",
       "13     17  \n",
       "14     15  \n",
       "15     15  \n",
       "16     11  \n",
       "17      9  \n",
       "18      8  \n",
       "19      7  "
      ]
     },
     "metadata": {},
     "output_type": "display_data"
    },
    {
     "data": {
      "application/vnd.plotly.v1+json": {
       "config": {
        "plotlyServerURL": "https://plot.ly"
       },
       "data": [
        {
         "domain": {
          "x": [
           0,
           1
          ],
          "y": [
           0,
           1
          ]
         },
         "hovertemplate": "Function=%{label}<br>#Hits=%{value}<extra></extra>",
         "labels": [
          "save_fluxes",
          "solver_mcica_lw",
          "rrtm_taumol3",
          "solver_homogeneous_sw",
          "rrtm_kgb7",
          "solver_homogeneous_lw",
          "fast_expm_exchange_2",
          "rrtm_taumol5",
          "get_real_matrix_indexed",
          "calc_ice_optics_fu_lw",
          "rrtm_taumol15",
          "print_real",
          "rrtm_taumol7",
          "gas_optics",
          "srtm_setcoef",
          "consolidate_config",
          "diag_mat_right_divide_3",
          "calc_ice_optics_baran",
          "rrtm_taumol4",
          "rrtm_taumol9"
         ],
         "legendgroup": "",
         "name": "",
         "showlegend": true,
         "type": "pie",
         "values": [
          118,
          112,
          107,
          78,
          56,
          52,
          41,
          28,
          28,
          27,
          26,
          21,
          20,
          17,
          15,
          15,
          11,
          9,
          8,
          7
         ]
        }
       ],
       "layout": {
        "legend": {
         "tracegroupgap": 0
        },
        "template": {
         "data": {
          "bar": [
           {
            "error_x": {
             "color": "#2a3f5f"
            },
            "error_y": {
             "color": "#2a3f5f"
            },
            "marker": {
             "line": {
              "color": "#E5ECF6",
              "width": 0.5
             }
            },
            "type": "bar"
           }
          ],
          "barpolar": [
           {
            "marker": {
             "line": {
              "color": "#E5ECF6",
              "width": 0.5
             }
            },
            "type": "barpolar"
           }
          ],
          "carpet": [
           {
            "aaxis": {
             "endlinecolor": "#2a3f5f",
             "gridcolor": "white",
             "linecolor": "white",
             "minorgridcolor": "white",
             "startlinecolor": "#2a3f5f"
            },
            "baxis": {
             "endlinecolor": "#2a3f5f",
             "gridcolor": "white",
             "linecolor": "white",
             "minorgridcolor": "white",
             "startlinecolor": "#2a3f5f"
            },
            "type": "carpet"
           }
          ],
          "choropleth": [
           {
            "colorbar": {
             "outlinewidth": 0,
             "ticks": ""
            },
            "type": "choropleth"
           }
          ],
          "contour": [
           {
            "colorbar": {
             "outlinewidth": 0,
             "ticks": ""
            },
            "colorscale": [
             [
              0,
              "#0d0887"
             ],
             [
              0.1111111111111111,
              "#46039f"
             ],
             [
              0.2222222222222222,
              "#7201a8"
             ],
             [
              0.3333333333333333,
              "#9c179e"
             ],
             [
              0.4444444444444444,
              "#bd3786"
             ],
             [
              0.5555555555555556,
              "#d8576b"
             ],
             [
              0.6666666666666666,
              "#ed7953"
             ],
             [
              0.7777777777777778,
              "#fb9f3a"
             ],
             [
              0.8888888888888888,
              "#fdca26"
             ],
             [
              1,
              "#f0f921"
             ]
            ],
            "type": "contour"
           }
          ],
          "contourcarpet": [
           {
            "colorbar": {
             "outlinewidth": 0,
             "ticks": ""
            },
            "type": "contourcarpet"
           }
          ],
          "heatmap": [
           {
            "colorbar": {
             "outlinewidth": 0,
             "ticks": ""
            },
            "colorscale": [
             [
              0,
              "#0d0887"
             ],
             [
              0.1111111111111111,
              "#46039f"
             ],
             [
              0.2222222222222222,
              "#7201a8"
             ],
             [
              0.3333333333333333,
              "#9c179e"
             ],
             [
              0.4444444444444444,
              "#bd3786"
             ],
             [
              0.5555555555555556,
              "#d8576b"
             ],
             [
              0.6666666666666666,
              "#ed7953"
             ],
             [
              0.7777777777777778,
              "#fb9f3a"
             ],
             [
              0.8888888888888888,
              "#fdca26"
             ],
             [
              1,
              "#f0f921"
             ]
            ],
            "type": "heatmap"
           }
          ],
          "heatmapgl": [
           {
            "colorbar": {
             "outlinewidth": 0,
             "ticks": ""
            },
            "colorscale": [
             [
              0,
              "#0d0887"
             ],
             [
              0.1111111111111111,
              "#46039f"
             ],
             [
              0.2222222222222222,
              "#7201a8"
             ],
             [
              0.3333333333333333,
              "#9c179e"
             ],
             [
              0.4444444444444444,
              "#bd3786"
             ],
             [
              0.5555555555555556,
              "#d8576b"
             ],
             [
              0.6666666666666666,
              "#ed7953"
             ],
             [
              0.7777777777777778,
              "#fb9f3a"
             ],
             [
              0.8888888888888888,
              "#fdca26"
             ],
             [
              1,
              "#f0f921"
             ]
            ],
            "type": "heatmapgl"
           }
          ],
          "histogram": [
           {
            "marker": {
             "colorbar": {
              "outlinewidth": 0,
              "ticks": ""
             }
            },
            "type": "histogram"
           }
          ],
          "histogram2d": [
           {
            "colorbar": {
             "outlinewidth": 0,
             "ticks": ""
            },
            "colorscale": [
             [
              0,
              "#0d0887"
             ],
             [
              0.1111111111111111,
              "#46039f"
             ],
             [
              0.2222222222222222,
              "#7201a8"
             ],
             [
              0.3333333333333333,
              "#9c179e"
             ],
             [
              0.4444444444444444,
              "#bd3786"
             ],
             [
              0.5555555555555556,
              "#d8576b"
             ],
             [
              0.6666666666666666,
              "#ed7953"
             ],
             [
              0.7777777777777778,
              "#fb9f3a"
             ],
             [
              0.8888888888888888,
              "#fdca26"
             ],
             [
              1,
              "#f0f921"
             ]
            ],
            "type": "histogram2d"
           }
          ],
          "histogram2dcontour": [
           {
            "colorbar": {
             "outlinewidth": 0,
             "ticks": ""
            },
            "colorscale": [
             [
              0,
              "#0d0887"
             ],
             [
              0.1111111111111111,
              "#46039f"
             ],
             [
              0.2222222222222222,
              "#7201a8"
             ],
             [
              0.3333333333333333,
              "#9c179e"
             ],
             [
              0.4444444444444444,
              "#bd3786"
             ],
             [
              0.5555555555555556,
              "#d8576b"
             ],
             [
              0.6666666666666666,
              "#ed7953"
             ],
             [
              0.7777777777777778,
              "#fb9f3a"
             ],
             [
              0.8888888888888888,
              "#fdca26"
             ],
             [
              1,
              "#f0f921"
             ]
            ],
            "type": "histogram2dcontour"
           }
          ],
          "mesh3d": [
           {
            "colorbar": {
             "outlinewidth": 0,
             "ticks": ""
            },
            "type": "mesh3d"
           }
          ],
          "parcoords": [
           {
            "line": {
             "colorbar": {
              "outlinewidth": 0,
              "ticks": ""
             }
            },
            "type": "parcoords"
           }
          ],
          "pie": [
           {
            "automargin": true,
            "type": "pie"
           }
          ],
          "scatter": [
           {
            "marker": {
             "colorbar": {
              "outlinewidth": 0,
              "ticks": ""
             }
            },
            "type": "scatter"
           }
          ],
          "scatter3d": [
           {
            "line": {
             "colorbar": {
              "outlinewidth": 0,
              "ticks": ""
             }
            },
            "marker": {
             "colorbar": {
              "outlinewidth": 0,
              "ticks": ""
             }
            },
            "type": "scatter3d"
           }
          ],
          "scattercarpet": [
           {
            "marker": {
             "colorbar": {
              "outlinewidth": 0,
              "ticks": ""
             }
            },
            "type": "scattercarpet"
           }
          ],
          "scattergeo": [
           {
            "marker": {
             "colorbar": {
              "outlinewidth": 0,
              "ticks": ""
             }
            },
            "type": "scattergeo"
           }
          ],
          "scattergl": [
           {
            "marker": {
             "colorbar": {
              "outlinewidth": 0,
              "ticks": ""
             }
            },
            "type": "scattergl"
           }
          ],
          "scattermapbox": [
           {
            "marker": {
             "colorbar": {
              "outlinewidth": 0,
              "ticks": ""
             }
            },
            "type": "scattermapbox"
           }
          ],
          "scatterpolar": [
           {
            "marker": {
             "colorbar": {
              "outlinewidth": 0,
              "ticks": ""
             }
            },
            "type": "scatterpolar"
           }
          ],
          "scatterpolargl": [
           {
            "marker": {
             "colorbar": {
              "outlinewidth": 0,
              "ticks": ""
             }
            },
            "type": "scatterpolargl"
           }
          ],
          "scatterternary": [
           {
            "marker": {
             "colorbar": {
              "outlinewidth": 0,
              "ticks": ""
             }
            },
            "type": "scatterternary"
           }
          ],
          "surface": [
           {
            "colorbar": {
             "outlinewidth": 0,
             "ticks": ""
            },
            "colorscale": [
             [
              0,
              "#0d0887"
             ],
             [
              0.1111111111111111,
              "#46039f"
             ],
             [
              0.2222222222222222,
              "#7201a8"
             ],
             [
              0.3333333333333333,
              "#9c179e"
             ],
             [
              0.4444444444444444,
              "#bd3786"
             ],
             [
              0.5555555555555556,
              "#d8576b"
             ],
             [
              0.6666666666666666,
              "#ed7953"
             ],
             [
              0.7777777777777778,
              "#fb9f3a"
             ],
             [
              0.8888888888888888,
              "#fdca26"
             ],
             [
              1,
              "#f0f921"
             ]
            ],
            "type": "surface"
           }
          ],
          "table": [
           {
            "cells": {
             "fill": {
              "color": "#EBF0F8"
             },
             "line": {
              "color": "white"
             }
            },
            "header": {
             "fill": {
              "color": "#C8D4E3"
             },
             "line": {
              "color": "white"
             }
            },
            "type": "table"
           }
          ]
         },
         "layout": {
          "annotationdefaults": {
           "arrowcolor": "#2a3f5f",
           "arrowhead": 0,
           "arrowwidth": 1
          },
          "coloraxis": {
           "colorbar": {
            "outlinewidth": 0,
            "ticks": ""
           }
          },
          "colorscale": {
           "diverging": [
            [
             0,
             "#8e0152"
            ],
            [
             0.1,
             "#c51b7d"
            ],
            [
             0.2,
             "#de77ae"
            ],
            [
             0.3,
             "#f1b6da"
            ],
            [
             0.4,
             "#fde0ef"
            ],
            [
             0.5,
             "#f7f7f7"
            ],
            [
             0.6,
             "#e6f5d0"
            ],
            [
             0.7,
             "#b8e186"
            ],
            [
             0.8,
             "#7fbc41"
            ],
            [
             0.9,
             "#4d9221"
            ],
            [
             1,
             "#276419"
            ]
           ],
           "sequential": [
            [
             0,
             "#0d0887"
            ],
            [
             0.1111111111111111,
             "#46039f"
            ],
            [
             0.2222222222222222,
             "#7201a8"
            ],
            [
             0.3333333333333333,
             "#9c179e"
            ],
            [
             0.4444444444444444,
             "#bd3786"
            ],
            [
             0.5555555555555556,
             "#d8576b"
            ],
            [
             0.6666666666666666,
             "#ed7953"
            ],
            [
             0.7777777777777778,
             "#fb9f3a"
            ],
            [
             0.8888888888888888,
             "#fdca26"
            ],
            [
             1,
             "#f0f921"
            ]
           ],
           "sequentialminus": [
            [
             0,
             "#0d0887"
            ],
            [
             0.1111111111111111,
             "#46039f"
            ],
            [
             0.2222222222222222,
             "#7201a8"
            ],
            [
             0.3333333333333333,
             "#9c179e"
            ],
            [
             0.4444444444444444,
             "#bd3786"
            ],
            [
             0.5555555555555556,
             "#d8576b"
            ],
            [
             0.6666666666666666,
             "#ed7953"
            ],
            [
             0.7777777777777778,
             "#fb9f3a"
            ],
            [
             0.8888888888888888,
             "#fdca26"
            ],
            [
             1,
             "#f0f921"
            ]
           ]
          },
          "colorway": [
           "#636efa",
           "#EF553B",
           "#00cc96",
           "#ab63fa",
           "#FFA15A",
           "#19d3f3",
           "#FF6692",
           "#B6E880",
           "#FF97FF",
           "#FECB52"
          ],
          "font": {
           "color": "#2a3f5f"
          },
          "geo": {
           "bgcolor": "white",
           "lakecolor": "white",
           "landcolor": "#E5ECF6",
           "showlakes": true,
           "showland": true,
           "subunitcolor": "white"
          },
          "hoverlabel": {
           "align": "left"
          },
          "hovermode": "closest",
          "mapbox": {
           "style": "light"
          },
          "paper_bgcolor": "white",
          "plot_bgcolor": "#E5ECF6",
          "polar": {
           "angularaxis": {
            "gridcolor": "white",
            "linecolor": "white",
            "ticks": ""
           },
           "bgcolor": "#E5ECF6",
           "radialaxis": {
            "gridcolor": "white",
            "linecolor": "white",
            "ticks": ""
           }
          },
          "scene": {
           "xaxis": {
            "backgroundcolor": "#E5ECF6",
            "gridcolor": "white",
            "gridwidth": 2,
            "linecolor": "white",
            "showbackground": true,
            "ticks": "",
            "zerolinecolor": "white"
           },
           "yaxis": {
            "backgroundcolor": "#E5ECF6",
            "gridcolor": "white",
            "gridwidth": 2,
            "linecolor": "white",
            "showbackground": true,
            "ticks": "",
            "zerolinecolor": "white"
           },
           "zaxis": {
            "backgroundcolor": "#E5ECF6",
            "gridcolor": "white",
            "gridwidth": 2,
            "linecolor": "white",
            "showbackground": true,
            "ticks": "",
            "zerolinecolor": "white"
           }
          },
          "shapedefaults": {
           "line": {
            "color": "#2a3f5f"
           }
          },
          "ternary": {
           "aaxis": {
            "gridcolor": "white",
            "linecolor": "white",
            "ticks": ""
           },
           "baxis": {
            "gridcolor": "white",
            "linecolor": "white",
            "ticks": ""
           },
           "bgcolor": "#E5ECF6",
           "caxis": {
            "gridcolor": "white",
            "linecolor": "white",
            "ticks": ""
           }
          },
          "title": {
           "x": 0.05
          },
          "xaxis": {
           "automargin": true,
           "gridcolor": "white",
           "linecolor": "white",
           "ticks": "",
           "title": {
            "standoff": 15
           },
           "zerolinecolor": "white",
           "zerolinewidth": 2
          },
          "yaxis": {
           "automargin": true,
           "gridcolor": "white",
           "linecolor": "white",
           "ticks": "",
           "title": {
            "standoff": 15
           },
           "zerolinecolor": "white",
           "zerolinewidth": 2
          }
         }
        },
        "title": {
         "text": "Number of cache Hits"
        }
       }
      },
      "text/html": [
       "<div>\n",
       "        \n",
       "        \n",
       "            <div id=\"6daf1d79-8f52-4cb9-983a-1e051de002f2\" class=\"plotly-graph-div\" style=\"height:525px; width:100%;\"></div>\n",
       "            <script type=\"text/javascript\">\n",
       "                require([\"plotly\"], function(Plotly) {\n",
       "                    window.PLOTLYENV=window.PLOTLYENV || {};\n",
       "                    \n",
       "                if (document.getElementById(\"6daf1d79-8f52-4cb9-983a-1e051de002f2\")) {\n",
       "                    Plotly.newPlot(\n",
       "                        '6daf1d79-8f52-4cb9-983a-1e051de002f2',\n",
       "                        [{\"domain\": {\"x\": [0.0, 1.0], \"y\": [0.0, 1.0]}, \"hovertemplate\": \"Function=%{label}<br>#Hits=%{value}<extra></extra>\", \"labels\": [\"save_fluxes\", \"solver_mcica_lw\", \"rrtm_taumol3\", \"solver_homogeneous_sw\", \"rrtm_kgb7\", \"solver_homogeneous_lw\", \"fast_expm_exchange_2\", \"rrtm_taumol5\", \"get_real_matrix_indexed\", \"calc_ice_optics_fu_lw\", \"rrtm_taumol15\", \"print_real\", \"rrtm_taumol7\", \"gas_optics\", \"srtm_setcoef\", \"consolidate_config\", \"diag_mat_right_divide_3\", \"calc_ice_optics_baran\", \"rrtm_taumol4\", \"rrtm_taumol9\"], \"legendgroup\": \"\", \"name\": \"\", \"showlegend\": true, \"type\": \"pie\", \"values\": [118, 112, 107, 78, 56, 52, 41, 28, 28, 27, 26, 21, 20, 17, 15, 15, 11, 9, 8, 7]}],\n",
       "                        {\"legend\": {\"tracegroupgap\": 0}, \"template\": {\"data\": {\"bar\": [{\"error_x\": {\"color\": \"#2a3f5f\"}, \"error_y\": {\"color\": \"#2a3f5f\"}, \"marker\": {\"line\": {\"color\": \"#E5ECF6\", \"width\": 0.5}}, \"type\": \"bar\"}], \"barpolar\": [{\"marker\": {\"line\": {\"color\": \"#E5ECF6\", \"width\": 0.5}}, \"type\": \"barpolar\"}], \"carpet\": [{\"aaxis\": {\"endlinecolor\": \"#2a3f5f\", \"gridcolor\": \"white\", \"linecolor\": \"white\", \"minorgridcolor\": \"white\", \"startlinecolor\": \"#2a3f5f\"}, \"baxis\": {\"endlinecolor\": \"#2a3f5f\", \"gridcolor\": \"white\", \"linecolor\": \"white\", \"minorgridcolor\": \"white\", \"startlinecolor\": \"#2a3f5f\"}, \"type\": \"carpet\"}], \"choropleth\": [{\"colorbar\": {\"outlinewidth\": 0, \"ticks\": \"\"}, \"type\": \"choropleth\"}], \"contour\": [{\"colorbar\": {\"outlinewidth\": 0, \"ticks\": \"\"}, \"colorscale\": [[0.0, \"#0d0887\"], [0.1111111111111111, \"#46039f\"], [0.2222222222222222, \"#7201a8\"], [0.3333333333333333, \"#9c179e\"], [0.4444444444444444, \"#bd3786\"], [0.5555555555555556, \"#d8576b\"], [0.6666666666666666, \"#ed7953\"], [0.7777777777777778, \"#fb9f3a\"], [0.8888888888888888, \"#fdca26\"], [1.0, \"#f0f921\"]], \"type\": \"contour\"}], \"contourcarpet\": [{\"colorbar\": {\"outlinewidth\": 0, \"ticks\": \"\"}, \"type\": \"contourcarpet\"}], \"heatmap\": [{\"colorbar\": {\"outlinewidth\": 0, \"ticks\": \"\"}, \"colorscale\": [[0.0, \"#0d0887\"], [0.1111111111111111, \"#46039f\"], [0.2222222222222222, \"#7201a8\"], [0.3333333333333333, \"#9c179e\"], [0.4444444444444444, \"#bd3786\"], [0.5555555555555556, \"#d8576b\"], [0.6666666666666666, \"#ed7953\"], [0.7777777777777778, \"#fb9f3a\"], [0.8888888888888888, \"#fdca26\"], [1.0, \"#f0f921\"]], \"type\": \"heatmap\"}], \"heatmapgl\": [{\"colorbar\": {\"outlinewidth\": 0, \"ticks\": \"\"}, \"colorscale\": [[0.0, \"#0d0887\"], [0.1111111111111111, \"#46039f\"], [0.2222222222222222, \"#7201a8\"], [0.3333333333333333, \"#9c179e\"], [0.4444444444444444, \"#bd3786\"], [0.5555555555555556, \"#d8576b\"], [0.6666666666666666, \"#ed7953\"], [0.7777777777777778, \"#fb9f3a\"], [0.8888888888888888, \"#fdca26\"], [1.0, \"#f0f921\"]], \"type\": \"heatmapgl\"}], \"histogram\": [{\"marker\": {\"colorbar\": {\"outlinewidth\": 0, \"ticks\": \"\"}}, \"type\": \"histogram\"}], \"histogram2d\": [{\"colorbar\": {\"outlinewidth\": 0, \"ticks\": \"\"}, \"colorscale\": [[0.0, \"#0d0887\"], [0.1111111111111111, \"#46039f\"], [0.2222222222222222, \"#7201a8\"], [0.3333333333333333, \"#9c179e\"], [0.4444444444444444, \"#bd3786\"], [0.5555555555555556, \"#d8576b\"], [0.6666666666666666, \"#ed7953\"], [0.7777777777777778, \"#fb9f3a\"], [0.8888888888888888, \"#fdca26\"], [1.0, \"#f0f921\"]], \"type\": \"histogram2d\"}], \"histogram2dcontour\": [{\"colorbar\": {\"outlinewidth\": 0, \"ticks\": \"\"}, \"colorscale\": [[0.0, \"#0d0887\"], [0.1111111111111111, \"#46039f\"], [0.2222222222222222, \"#7201a8\"], [0.3333333333333333, \"#9c179e\"], [0.4444444444444444, \"#bd3786\"], [0.5555555555555556, \"#d8576b\"], [0.6666666666666666, \"#ed7953\"], [0.7777777777777778, \"#fb9f3a\"], [0.8888888888888888, \"#fdca26\"], [1.0, \"#f0f921\"]], \"type\": \"histogram2dcontour\"}], \"mesh3d\": [{\"colorbar\": {\"outlinewidth\": 0, \"ticks\": \"\"}, \"type\": \"mesh3d\"}], \"parcoords\": [{\"line\": {\"colorbar\": {\"outlinewidth\": 0, \"ticks\": \"\"}}, \"type\": \"parcoords\"}], \"pie\": [{\"automargin\": true, \"type\": \"pie\"}], \"scatter\": [{\"marker\": {\"colorbar\": {\"outlinewidth\": 0, \"ticks\": \"\"}}, \"type\": \"scatter\"}], \"scatter3d\": [{\"line\": {\"colorbar\": {\"outlinewidth\": 0, \"ticks\": \"\"}}, \"marker\": {\"colorbar\": {\"outlinewidth\": 0, \"ticks\": \"\"}}, \"type\": \"scatter3d\"}], \"scattercarpet\": [{\"marker\": {\"colorbar\": {\"outlinewidth\": 0, \"ticks\": \"\"}}, \"type\": \"scattercarpet\"}], \"scattergeo\": [{\"marker\": {\"colorbar\": {\"outlinewidth\": 0, \"ticks\": \"\"}}, \"type\": \"scattergeo\"}], \"scattergl\": [{\"marker\": {\"colorbar\": {\"outlinewidth\": 0, \"ticks\": \"\"}}, \"type\": \"scattergl\"}], \"scattermapbox\": [{\"marker\": {\"colorbar\": {\"outlinewidth\": 0, \"ticks\": \"\"}}, \"type\": \"scattermapbox\"}], \"scatterpolar\": [{\"marker\": {\"colorbar\": {\"outlinewidth\": 0, \"ticks\": \"\"}}, \"type\": \"scatterpolar\"}], \"scatterpolargl\": [{\"marker\": {\"colorbar\": {\"outlinewidth\": 0, \"ticks\": \"\"}}, \"type\": \"scatterpolargl\"}], \"scatterternary\": [{\"marker\": {\"colorbar\": {\"outlinewidth\": 0, \"ticks\": \"\"}}, \"type\": \"scatterternary\"}], \"surface\": [{\"colorbar\": {\"outlinewidth\": 0, \"ticks\": \"\"}, \"colorscale\": [[0.0, \"#0d0887\"], [0.1111111111111111, \"#46039f\"], [0.2222222222222222, \"#7201a8\"], [0.3333333333333333, \"#9c179e\"], [0.4444444444444444, \"#bd3786\"], [0.5555555555555556, \"#d8576b\"], [0.6666666666666666, \"#ed7953\"], [0.7777777777777778, \"#fb9f3a\"], [0.8888888888888888, \"#fdca26\"], [1.0, \"#f0f921\"]], \"type\": \"surface\"}], \"table\": [{\"cells\": {\"fill\": {\"color\": \"#EBF0F8\"}, \"line\": {\"color\": \"white\"}}, \"header\": {\"fill\": {\"color\": \"#C8D4E3\"}, \"line\": {\"color\": \"white\"}}, \"type\": \"table\"}]}, \"layout\": {\"annotationdefaults\": {\"arrowcolor\": \"#2a3f5f\", \"arrowhead\": 0, \"arrowwidth\": 1}, \"coloraxis\": {\"colorbar\": {\"outlinewidth\": 0, \"ticks\": \"\"}}, \"colorscale\": {\"diverging\": [[0, \"#8e0152\"], [0.1, \"#c51b7d\"], [0.2, \"#de77ae\"], [0.3, \"#f1b6da\"], [0.4, \"#fde0ef\"], [0.5, \"#f7f7f7\"], [0.6, \"#e6f5d0\"], [0.7, \"#b8e186\"], [0.8, \"#7fbc41\"], [0.9, \"#4d9221\"], [1, \"#276419\"]], \"sequential\": [[0.0, \"#0d0887\"], [0.1111111111111111, \"#46039f\"], [0.2222222222222222, \"#7201a8\"], [0.3333333333333333, \"#9c179e\"], [0.4444444444444444, \"#bd3786\"], [0.5555555555555556, \"#d8576b\"], [0.6666666666666666, \"#ed7953\"], [0.7777777777777778, \"#fb9f3a\"], [0.8888888888888888, \"#fdca26\"], [1.0, \"#f0f921\"]], \"sequentialminus\": [[0.0, \"#0d0887\"], [0.1111111111111111, \"#46039f\"], [0.2222222222222222, \"#7201a8\"], [0.3333333333333333, \"#9c179e\"], [0.4444444444444444, \"#bd3786\"], [0.5555555555555556, \"#d8576b\"], [0.6666666666666666, \"#ed7953\"], [0.7777777777777778, \"#fb9f3a\"], [0.8888888888888888, \"#fdca26\"], [1.0, \"#f0f921\"]]}, \"colorway\": [\"#636efa\", \"#EF553B\", \"#00cc96\", \"#ab63fa\", \"#FFA15A\", \"#19d3f3\", \"#FF6692\", \"#B6E880\", \"#FF97FF\", \"#FECB52\"], \"font\": {\"color\": \"#2a3f5f\"}, \"geo\": {\"bgcolor\": \"white\", \"lakecolor\": \"white\", \"landcolor\": \"#E5ECF6\", \"showlakes\": true, \"showland\": true, \"subunitcolor\": \"white\"}, \"hoverlabel\": {\"align\": \"left\"}, \"hovermode\": \"closest\", \"mapbox\": {\"style\": \"light\"}, \"paper_bgcolor\": \"white\", \"plot_bgcolor\": \"#E5ECF6\", \"polar\": {\"angularaxis\": {\"gridcolor\": \"white\", \"linecolor\": \"white\", \"ticks\": \"\"}, \"bgcolor\": \"#E5ECF6\", \"radialaxis\": {\"gridcolor\": \"white\", \"linecolor\": \"white\", \"ticks\": \"\"}}, \"scene\": {\"xaxis\": {\"backgroundcolor\": \"#E5ECF6\", \"gridcolor\": \"white\", \"gridwidth\": 2, \"linecolor\": \"white\", \"showbackground\": true, \"ticks\": \"\", \"zerolinecolor\": \"white\"}, \"yaxis\": {\"backgroundcolor\": \"#E5ECF6\", \"gridcolor\": \"white\", \"gridwidth\": 2, \"linecolor\": \"white\", \"showbackground\": true, \"ticks\": \"\", \"zerolinecolor\": \"white\"}, \"zaxis\": {\"backgroundcolor\": \"#E5ECF6\", \"gridcolor\": \"white\", \"gridwidth\": 2, \"linecolor\": \"white\", \"showbackground\": true, \"ticks\": \"\", \"zerolinecolor\": \"white\"}}, \"shapedefaults\": {\"line\": {\"color\": \"#2a3f5f\"}}, \"ternary\": {\"aaxis\": {\"gridcolor\": \"white\", \"linecolor\": \"white\", \"ticks\": \"\"}, \"baxis\": {\"gridcolor\": \"white\", \"linecolor\": \"white\", \"ticks\": \"\"}, \"bgcolor\": \"#E5ECF6\", \"caxis\": {\"gridcolor\": \"white\", \"linecolor\": \"white\", \"ticks\": \"\"}}, \"title\": {\"x\": 0.05}, \"xaxis\": {\"automargin\": true, \"gridcolor\": \"white\", \"linecolor\": \"white\", \"ticks\": \"\", \"title\": {\"standoff\": 15}, \"zerolinecolor\": \"white\", \"zerolinewidth\": 2}, \"yaxis\": {\"automargin\": true, \"gridcolor\": \"white\", \"linecolor\": \"white\", \"ticks\": \"\", \"title\": {\"standoff\": 15}, \"zerolinecolor\": \"white\", \"zerolinewidth\": 2}}}, \"title\": {\"text\": \"Number of cache Hits\"}},\n",
       "                        {\"responsive\": true}\n",
       "                    ).then(function(){\n",
       "                            \n",
       "var gd = document.getElementById('6daf1d79-8f52-4cb9-983a-1e051de002f2');\n",
       "var x = new MutationObserver(function (mutations, observer) {{\n",
       "        var display = window.getComputedStyle(gd).display;\n",
       "        if (!display || display === 'none') {{\n",
       "            console.log([gd, 'removed!']);\n",
       "            Plotly.purge(gd);\n",
       "            observer.disconnect();\n",
       "        }}\n",
       "}});\n",
       "\n",
       "// Listen for the removal of the full notebook cells\n",
       "var notebookContainer = gd.closest('#notebook-container');\n",
       "if (notebookContainer) {{\n",
       "    x.observe(notebookContainer, {childList: true});\n",
       "}}\n",
       "\n",
       "// Listen for the clearing of the current output cell\n",
       "var outputEl = gd.closest('.output');\n",
       "if (outputEl) {{\n",
       "    x.observe(outputEl, {childList: true});\n",
       "}}\n",
       "\n",
       "                        })\n",
       "                };\n",
       "                });\n",
       "            </script>\n",
       "        </div>"
      ]
     },
     "metadata": {},
     "output_type": "display_data"
    }
   ],
   "source": [
    "\n",
    "data = pd.read_csv(\"example_omp18_papi.csv\")\n",
    "data1 = pd.read_csv(\"example_omp1_papi.csv\")\n",
    "data = data[['Function', '#Hits']].head(20)\n",
    "display(data)\n",
    "fig = px.pie(data, values='#Hits', names='Function', title='Number of cache Hits')\n",
    "fig.show()\n"
   ]
  },
  {
   "cell_type": "code",
   "execution_count": null,
   "metadata": {},
   "outputs": [],
   "source": [
    "\n",
    "\n",
    "# hard to do the ifs performance\n",
    "# it does not play well with comercial available\n",
    "# also it is hard to understand the data from DrHook\n",
    "# we need compositions\n",
    "\n",
    "\n",
    "# talk about the 3 usecases\n",
    "# talk about the phisycs one\n",
    "# click on the metrics\n",
    "\n",
    "###########################\n",
    "###                     ###\n",
    "###        DEMO         ###\n",
    "###                     ###\n",
    "###########################\n",
    "\n",
    "# first simple select\n",
    "# second one is mergeing the performance in multiple compiler caracts in the same\n",
    "# third one is comparing multiple subrutines in a single spiderweb\n",
    "# so getting 2 selectors \n",
    "\n",
    "\n",
    "# select the labels as well in another selector\n",
    "# and the way the labels are working are the other way aroung this meaning that \n",
    "# leaf: [all of the parents]\n",
    "# the structure is like this : leaf: call stack\n",
    "\n",
    "\n",
    "#####################\n",
    "#   roots selector  #\n",
    "#####################\n",
    "\n",
    "######################\n",
    "#   depth selector   #\n",
    "######################\n",
    "\n",
    "\n",
    "# check the OMP-PHYSICS\n",
    "\n",
    "# CLOUD_SC\n",
    "\n",
    "# then get a new spider web on\n",
    "# do then the copy paste and the spider web intertwine\n",
    "# change the colors in the spiderweb\n",
    "# compare the way that\n",
    "# one idea is to compare 2 functions\n",
    "\n",
    "\n",
    "# the second one is going to be comparing 2 compilers\n",
    "\n",
    "# the end prototype agile configurable\n",
    "# the performance analytics be easyer\n",
    "# better at the job"
   ]
  },
  {
   "cell_type": "code",
   "execution_count": 73,
   "metadata": {},
   "outputs": [],
   "source": [
    "# graph plots\n",
    "import plotly.graph_objects as go\n",
    "import pandas as pd\n",
    "import plotly.express as px\n",
    "import json\n",
    "import pprint\n",
    "import pandas as pd\n",
    "import networkx as nx\n",
    "import random\n",
    "from collections import defaultdict\n",
    "\n",
    "parsed_dict = defaultdict(dict)\n",
    "nodes = set()\n",
    "edges = []\n",
    "pos = None\n",
    "dim = 2\n",
    "seed = None\n",
    "depth = 1\n",
    "\n",
    "old = 'MASTER' \n",
    "labels = []\n",
    "\n",
    "with open(\"callgraph.json\") as f:\n",
    "    data = json.load(f)\n",
    "    for i in data.keys():\n",
    "        for j in data[i]:\n",
    "            if old != None:\n",
    "                parsed_dict[old]['parent'] = j\n",
    "                parsed_dict[old]['depth'] = len(data[i]) - 1\n",
    "                parsed_dict[old]['finalParent'] = data[i][-1]\n",
    "            old = j\n",
    "        labels.append(data[i][-1])\n",
    "        parsed_dict[data[i][-1]]['parent'] = 'MASTER'\n",
    "        parsed_dict[data[i][-1]]['depth'] = 0\n",
    "        parsed_dict[old]['finalParent'] = data[i][-1]\n",
    "        \n",
    "        \n",
    "        # The last is the top level\n",
    "        # so it has no parent\n",
    "        # but also it is a label\n",
    "        old =  'MASTER' \n",
    "\n",
    "parsed_dict = dict(parsed_dict)"
   ]
  },
  {
   "cell_type": "code",
   "execution_count": 74,
   "metadata": {},
   "outputs": [
    {
     "name": "stdout",
     "output_type": "stream",
     "text": [
      "['MASTER', 'CNT0', 'SU0YOMA', 'IFS_INIT', 'GRIB_HANDLES_MOD', 'OPDIS', 'FINAL_STATS', 'SUGRIB', 'SUTRANS0', 'DEALXMO', 'FIELDS_MOD:FIELDS_DELETE', 'GSTATS_OUTPUT_IFS', 'IFLUSHFDBSUBS', 'IOSTREAM_MIX:CLOSE_IOSTREAM', 'SULUN', '>MPL-GATHER', 'IOSTREAM_MIX:IOSTREAM_STATS', 'SU_SURF_FLDS', 'FIELD_CONTAINER_GP_MOD', 'SUMP0', 'ALLOCATE_EMPTY_TRAJECTORY', 'SUALTDH', 'SUVAREPS', 'SUALGCO', 'SUCT0', 'FALSIFY_SURF_FLDS', 'SUMDDH', 'SUNUD', 'SUIAU', 'SURES', 'SUPP', 'SU_GRIB_API', 'YOMGSGEOM', 'SUALDYN_DDH', 'FIELDS_MOD', 'SUSC2C', 'SUMPINI_PRT', 'SUALLO', 'SUFP_CTL', 'SUDIMO', 'SURIP0', 'SUTIM', 'SURINC', 'SURLX', 'SULSFORC', 'SUMCUF', 'SUCHET', 'SUMCC', 'GEOMETRY_MOD', 'SUDIMF1', 'SUSAVTEND', 'TESTVAR_MIX', 'SUDIM_TRAJ', 'SPNG_MOD', 'YOMCSGEOM', 'SUPPVI', 'YOMCST', 'GET_SPP_CONF', 'SUETLDIAG', 'SURAND1', 'SUALSPA', 'SUDIMF2', 'supergom_destroy', 'SUCT1', 'SUMSC', 'SUINTFLEX', 'SUECHK', 'SUVWRK', 'supergom_final', 'SUALMDH', 'SUINI', 'YEMLBC_INIT', 'YOE_CUCONVCA', 'YOMGWDIAG', 'SUIOSTREAM', 'MODEL_MOD', 'MODEL_MOD:MODEL_DELETE', 'SUIOS', 'SUJFH', 'MODULE_RADTC_MIX', 'SU1YOM', 'INI_SPP', 'MTRAJ_MOD', 'SUALNUD', 'SUOPH', 'SUSPVARIABLES', 'SUCST_IFSAUX', 'SUTRAJP']\n",
      "['SUGRIB', 'SUVWRK', 'SUMSC', 'ALLOCATE_EMPTY_TRAJECTORY', 'supergom_final%class_supergom', 'SUDIMF2', 'SUCT1', 'MODEL_MOD', 'DEALXMO', 'GSTATS_OUTPUT_IFS', '>MPL-GATHER', 'SU0YOMB', 'SUNUD', 'SUALDYN_DDH', 'SU1YOM', 'FIELD_CONTAINER_GP_MOD', 'SURLX', 'IOSTREAM_MIX:IOSTREAM_STATS', 'SUMP0', 'SUDIM_TRAJ', 'FINAL_STATS', 'SUCT0', 'YOE_CUCONVCA', 'YOMGWDIAG', 'SUFP_CTL', 'SUTRANS0', 'CNT1', 'SUMCUF', 'supergom_final', 'SURES', 'OPDIS', 'SPNG_MOD', 'YOMCSGEOM', 'SUALSPA', 'SUIAU', 'MASTER', 'supergom_destroy', 'FIELDS_MOD', 'MTRAJ_MOD', 'SUTRAJP', 'SU_GRIB_API', 'IOSTREAM_MIX:CLOSE_IOSTREAM', 'SUVAREPS', 'YEMLBC_INIT', 'GRIB_HANDLES_MOD', 'SUOPH', 'CNT0', 'SURINC', 'INI_SPP', 'SUCST_IFSAUX', 'SURIP0', 'SUSAVTEND', 'SUDIMF1', 'SUSC2C', 'SUETLDIAG', 'GET_SPP_CONF', 'SUALLO', 'SU_SURF_FLDS', 'YOMGSGEOM', 'SUINI', 'MODEL_MOD:MODEL_DELETE', 'FALSIFY_SURF_FLDS', 'SUSPVARIABLES', 'SUJFH', 'YOMCST', 'SURAND1', 'SUIOS', 'SUPP', 'SUIOSTREAM', 'SUALGCO', 'SULSFORC', 'SUCHET', 'SUTIM', 'SUDIMO', 'SUALMDH', 'IFLUSHFDBSUBS', 'SUMDDH', 'SU0YOMA', 'GEOMETRY_MOD', 'GEOMETRY_MOD:GEOMETRY_DELETE', 'TESTVAR_MIX', 'SUMCC', 'SULUN', 'SUALNUD', 'SUALTDH', 'SUPPVI', 'FIELDS_MOD:FIELDS_DELETE', 'SUECHK', 'MODULE_RADTC_MIX', 'SUMPINI_PRT', 'SUINTFLEX', 'IFS_INIT']\n",
      "['SUGRIB', 'SUVWRK', 'SUMSC', 'ALLOCATE_EMPTY_TRAJECTORY', 'supergom_final%class_supergom', 'SUDIMF2', 'SUCT1', 'MODEL_MOD', 'DEALXMO', 'GSTATS_OUTPUT_IFS', '>MPL-GATHER', 'SU0YOMB', 'SUNUD', 'SUALDYN_DDH', 'SU1YOM', 'FIELD_CONTAINER_GP_MOD', 'SURLX', 'IOSTREAM_MIX:IOSTREAM_STATS', 'SUMP0', 'SUDIM_TRAJ', 'FINAL_STATS', 'SUCT0', 'YOE_CUCONVCA', 'YOMGWDIAG', 'SUFP_CTL', 'SUTRANS0', 'CNT1', 'SUMCUF', 'supergom_final', 'SURES', 'OPDIS', 'SPNG_MOD', 'YOMCSGEOM', 'SUALSPA', 'SUIAU', 'MASTER', 'supergom_destroy', 'FIELDS_MOD', 'MTRAJ_MOD', 'SUTRAJP', 'SU_GRIB_API', 'IOSTREAM_MIX:CLOSE_IOSTREAM', 'SUVAREPS', 'YEMLBC_INIT', 'GRIB_HANDLES_MOD', 'SUOPH', 'CNT0', 'SURINC', 'INI_SPP', 'SUCST_IFSAUX', 'SURIP0', 'SUSAVTEND', 'SUDIMF1', 'SUSC2C', 'SUETLDIAG', 'GET_SPP_CONF', 'SUALLO', 'SU_SURF_FLDS', 'YOMGSGEOM', 'SUINI', 'MODEL_MOD:MODEL_DELETE', 'FALSIFY_SURF_FLDS', 'SUSPVARIABLES', 'SUJFH', 'YOMCST', 'SURAND1', 'SUIOS', 'SUPP', 'SUIOSTREAM', 'SUALGCO', 'SULSFORC', 'SUCHET', 'SUTIM', 'SUDIMO', 'SUALMDH', 'IFLUSHFDBSUBS', 'SUMDDH', 'SU0YOMA', 'GEOMETRY_MOD', 'GEOMETRY_MOD:GEOMETRY_DELETE', 'TESTVAR_MIX', 'SUMCC', 'SULUN', 'SUALNUD', 'SUALTDH', 'SUPPVI', 'FIELDS_MOD:FIELDS_DELETE', 'SUECHK', 'MODULE_RADTC_MIX', 'SUMPINI_PRT', 'SUINTFLEX', 'IFS_INIT']\n",
      "['SUGRIB', 'SUVWRK', 'SUMSC', 'ALLOCATE_EMPTY_TRAJECTORY', 'supergom_final%class_supergom', 'SUDIMF2', 'SUCT1', 'MODEL_MOD', 'DEALXMO', 'GSTATS_OUTPUT_IFS', '>MPL-GATHER', 'SU0YOMB', 'SUNUD', 'SUALDYN_DDH', 'SU1YOM', 'FIELD_CONTAINER_GP_MOD', 'SURLX', 'IOSTREAM_MIX:IOSTREAM_STATS', 'SUMP0', 'SUDIM_TRAJ', 'FINAL_STATS', 'SUCT0', 'YOE_CUCONVCA', 'YOMGWDIAG', 'SUFP_CTL', 'SUTRANS0', 'CNT1', 'SUMCUF', 'supergom_final', 'SURES', 'OPDIS', 'SPNG_MOD', 'YOMCSGEOM', 'SUALSPA', 'SUIAU', 'MASTER', 'supergom_destroy', 'FIELDS_MOD', 'MTRAJ_MOD', 'SUTRAJP', 'SU_GRIB_API', 'IOSTREAM_MIX:CLOSE_IOSTREAM', 'SUVAREPS', 'YEMLBC_INIT', 'GRIB_HANDLES_MOD', 'SUOPH', 'CNT0', 'SURINC', 'INI_SPP', 'SUCST_IFSAUX', 'SURIP0', 'SUSAVTEND', 'SUDIMF1', 'SUSC2C', 'SUETLDIAG', 'GET_SPP_CONF', 'SUALLO', 'SU_SURF_FLDS', 'YOMGSGEOM', 'SUINI', 'MODEL_MOD:MODEL_DELETE', 'FALSIFY_SURF_FLDS', 'SUSPVARIABLES', 'SUJFH', 'YOMCST', 'SURAND1', 'SUIOS', 'SUPP', 'SUIOSTREAM', 'SUALGCO', 'SULSFORC', 'SUCHET', 'SUTIM', 'SUDIMO', 'SUALMDH', 'IFLUSHFDBSUBS', 'SUMDDH', 'SU0YOMA', 'GEOMETRY_MOD', 'GEOMETRY_MOD:GEOMETRY_DELETE', 'TESTVAR_MIX', 'SUMCC', 'SULUN', 'SUALNUD', 'SUALTDH', 'SUPPVI', 'FIELDS_MOD:FIELDS_DELETE', 'SUECHK', 'MODULE_RADTC_MIX', 'SUMPINI_PRT', 'SUINTFLEX', 'IFS_INIT']\n",
      "['SUGRIB', 'SUVWRK', 'SUMSC', 'ALLOCATE_EMPTY_TRAJECTORY', 'supergom_final%class_supergom', 'SUDIMF2', 'SUCT1', 'MODEL_MOD', 'DEALXMO', 'GSTATS_OUTPUT_IFS', '>MPL-GATHER', 'SU0YOMB', 'SUNUD', 'SUALDYN_DDH', 'SU1YOM', 'FIELD_CONTAINER_GP_MOD', 'SURLX', 'IOSTREAM_MIX:IOSTREAM_STATS', 'SUMP0', 'SUDIM_TRAJ', 'FINAL_STATS', 'SUCT0', 'YOE_CUCONVCA', 'YOMGWDIAG', 'SUFP_CTL', 'SUTRANS0', 'CNT1', 'SUMCUF', 'supergom_final', 'SURES', 'OPDIS', 'SPNG_MOD', 'YOMCSGEOM', 'SUALSPA', 'SUIAU', 'MASTER', 'supergom_destroy', 'FIELDS_MOD', 'MTRAJ_MOD', 'SUTRAJP', 'SU_GRIB_API', 'IOSTREAM_MIX:CLOSE_IOSTREAM', 'SUVAREPS', 'YEMLBC_INIT', 'GRIB_HANDLES_MOD', 'SUOPH', 'CNT0', 'SURINC', 'INI_SPP', 'SUCST_IFSAUX', 'SURIP0', 'SUSAVTEND', 'SUDIMF1', 'SUSC2C', 'SUETLDIAG', 'GET_SPP_CONF', 'SUALLO', 'SU_SURF_FLDS', 'YOMGSGEOM', 'SUINI', 'MODEL_MOD:MODEL_DELETE', 'FALSIFY_SURF_FLDS', 'SUSPVARIABLES', 'SUJFH', 'YOMCST', 'SURAND1', 'SUIOS', 'SUPP', 'SUIOSTREAM', 'SUALGCO', 'SULSFORC', 'SUCHET', 'SUTIM', 'SUDIMO', 'SUALMDH', 'IFLUSHFDBSUBS', 'SUMDDH', 'SU0YOMA', 'GEOMETRY_MOD', 'GEOMETRY_MOD:GEOMETRY_DELETE', 'TESTVAR_MIX', 'SUMCC', 'SULUN', 'SUALNUD', 'SUALTDH', 'SUPPVI', 'FIELDS_MOD:FIELDS_DELETE', 'SUECHK', 'MODULE_RADTC_MIX', 'SUMPINI_PRT', 'SUINTFLEX', 'IFS_INIT']\n",
      "['SUGRIB', 'SUVWRK', 'SUMSC', 'ALLOCATE_EMPTY_TRAJECTORY', 'supergom_final%class_supergom', 'SUDIMF2', 'SUCT1', 'MODEL_MOD', 'DEALXMO', 'GSTATS_OUTPUT_IFS', '>MPL-GATHER', 'SU0YOMB', 'SUNUD', 'SUALDYN_DDH', 'SU1YOM', 'FIELD_CONTAINER_GP_MOD', 'SURLX', 'IOSTREAM_MIX:IOSTREAM_STATS', 'SUMP0', 'SUDIM_TRAJ', 'FINAL_STATS', 'SUCT0', 'YOE_CUCONVCA', 'YOMGWDIAG', 'SUFP_CTL', 'SUTRANS0', 'CNT1', 'SUMCUF', 'supergom_final', 'SURES', 'OPDIS', 'SPNG_MOD', 'YOMCSGEOM', 'SUALSPA', 'SUIAU', 'MASTER', 'supergom_destroy', 'FIELDS_MOD', 'MTRAJ_MOD', 'SUTRAJP', 'SU_GRIB_API', 'IOSTREAM_MIX:CLOSE_IOSTREAM', 'SUVAREPS', 'YEMLBC_INIT', 'GRIB_HANDLES_MOD', 'SUOPH', 'CNT0', 'SURINC', 'INI_SPP', 'SUCST_IFSAUX', 'SURIP0', 'SUSAVTEND', 'SUDIMF1', 'SUSC2C', 'SUETLDIAG', 'GET_SPP_CONF', 'SUALLO', 'SU_SURF_FLDS', 'YOMGSGEOM', 'SUINI', 'MODEL_MOD:MODEL_DELETE', 'FALSIFY_SURF_FLDS', 'SUSPVARIABLES', 'SUJFH', 'YOMCST', 'SURAND1', 'SUIOS', 'SUPP', 'SUIOSTREAM', 'SUALGCO', 'SULSFORC', 'SUCHET', 'SUTIM', 'SUDIMO', 'SUALMDH', 'IFLUSHFDBSUBS', 'SUMDDH', 'SU0YOMA', 'GEOMETRY_MOD', 'GEOMETRY_MOD:GEOMETRY_DELETE', 'TESTVAR_MIX', 'SUMCC', 'SULUN', 'SUALNUD', 'SUALTDH', 'SUPPVI', 'FIELDS_MOD:FIELDS_DELETE', 'SUECHK', 'MODULE_RADTC_MIX', 'SUMPINI_PRT', 'SUINTFLEX', 'IFS_INIT']\n",
      "['SUGRIB', 'SUVWRK', 'SUMSC', 'ALLOCATE_EMPTY_TRAJECTORY', 'supergom_final%class_supergom', 'SUDIMF2', 'SUCT1', 'MODEL_MOD', 'DEALXMO', 'GSTATS_OUTPUT_IFS', '>MPL-GATHER', 'SU0YOMB', 'SUNUD', 'SUALDYN_DDH', 'SU1YOM', 'FIELD_CONTAINER_GP_MOD', 'SURLX', 'IOSTREAM_MIX:IOSTREAM_STATS', 'SUMP0', 'SUDIM_TRAJ', 'FINAL_STATS', 'SUCT0', 'YOE_CUCONVCA', 'YOMGWDIAG', 'SUFP_CTL', 'SUTRANS0', 'CNT1', 'SUMCUF', 'supergom_final', 'SURES', 'OPDIS', 'SPNG_MOD', 'YOMCSGEOM', 'SUALSPA', 'SUIAU', 'MASTER', 'supergom_destroy', 'FIELDS_MOD', 'MTRAJ_MOD', 'SUTRAJP', 'SU_GRIB_API', 'IOSTREAM_MIX:CLOSE_IOSTREAM', 'SUVAREPS', 'YEMLBC_INIT', 'GRIB_HANDLES_MOD', 'SUOPH', 'CNT0', 'SURINC', 'INI_SPP', 'SUCST_IFSAUX', 'SURIP0', 'SUSAVTEND', 'SUDIMF1', 'SUSC2C', 'SUETLDIAG', 'GET_SPP_CONF', 'SUALLO', 'SU_SURF_FLDS', 'YOMGSGEOM', 'SUINI', 'MODEL_MOD:MODEL_DELETE', 'FALSIFY_SURF_FLDS', 'SUSPVARIABLES', 'SUJFH', 'YOMCST', 'SURAND1', 'SUIOS', 'SUPP', 'SUIOSTREAM', 'SUALGCO', 'SULSFORC', 'SUCHET', 'SUTIM', 'SUDIMO', 'SUALMDH', 'IFLUSHFDBSUBS', 'SUMDDH', 'SU0YOMA', 'GEOMETRY_MOD', 'GEOMETRY_MOD:GEOMETRY_DELETE', 'TESTVAR_MIX', 'SUMCC', 'SULUN', 'SUALNUD', 'SUALTDH', 'SUPPVI', 'FIELDS_MOD:FIELDS_DELETE', 'SUECHK', 'MODULE_RADTC_MIX', 'SUMPINI_PRT', 'SUINTFLEX', 'IFS_INIT']\n",
      "['SUGRIB', 'SUVWRK', 'SUMSC', 'ALLOCATE_EMPTY_TRAJECTORY', 'supergom_final%class_supergom', 'SUDIMF2', 'SUCT1', 'MODEL_MOD', 'DEALXMO', 'GSTATS_OUTPUT_IFS', '>MPL-GATHER', 'SU0YOMB', 'SUNUD', 'SUALDYN_DDH', 'SU1YOM', 'FIELD_CONTAINER_GP_MOD', 'SURLX', 'IOSTREAM_MIX:IOSTREAM_STATS', 'SUMP0', 'SUDIM_TRAJ', 'FINAL_STATS', 'SUCT0', 'YOE_CUCONVCA', 'YOMGWDIAG', 'SUFP_CTL', 'SUTRANS0', 'CNT1', 'SUMCUF', 'supergom_final', 'SURES', 'OPDIS', 'SPNG_MOD', 'YOMCSGEOM', 'SUALSPA', 'SUIAU', 'MASTER', 'supergom_destroy', 'FIELDS_MOD', 'MTRAJ_MOD', 'SUTRAJP', 'SU_GRIB_API', 'IOSTREAM_MIX:CLOSE_IOSTREAM', 'SUVAREPS', 'YEMLBC_INIT', 'GRIB_HANDLES_MOD', 'SUOPH', 'CNT0', 'SURINC', 'INI_SPP', 'SUCST_IFSAUX', 'SURIP0', 'SUSAVTEND', 'SUDIMF1', 'SUSC2C', 'SUETLDIAG', 'GET_SPP_CONF', 'SUALLO', 'SU_SURF_FLDS', 'YOMGSGEOM', 'SUINI', 'MODEL_MOD:MODEL_DELETE', 'FALSIFY_SURF_FLDS', 'SUSPVARIABLES', 'SUJFH', 'YOMCST', 'SURAND1', 'SUIOS', 'SUPP', 'SUIOSTREAM', 'SUALGCO', 'SULSFORC', 'SUCHET', 'SUTIM', 'SUDIMO', 'SUALMDH', 'IFLUSHFDBSUBS', 'SUMDDH', 'SU0YOMA', 'GEOMETRY_MOD', 'GEOMETRY_MOD:GEOMETRY_DELETE', 'TESTVAR_MIX', 'SUMCC', 'SULUN', 'SUALNUD', 'SUALTDH', 'SUPPVI', 'FIELDS_MOD:FIELDS_DELETE', 'SUECHK', 'MODULE_RADTC_MIX', 'SUMPINI_PRT', 'SUINTFLEX', 'IFS_INIT']\n",
      "['SUGRIB', 'SUVWRK', 'SUMSC', 'ALLOCATE_EMPTY_TRAJECTORY', 'supergom_final%class_supergom', 'SUDIMF2', 'SUCT1', 'MODEL_MOD', 'DEALXMO', 'GSTATS_OUTPUT_IFS', '>MPL-GATHER', 'SU0YOMB', 'SUNUD', 'SUALDYN_DDH', 'SU1YOM', 'FIELD_CONTAINER_GP_MOD', 'SURLX', 'IOSTREAM_MIX:IOSTREAM_STATS', 'SUMP0', 'SUDIM_TRAJ', 'FINAL_STATS', 'SUCT0', 'YOE_CUCONVCA', 'YOMGWDIAG', 'SUFP_CTL', 'SUTRANS0', 'CNT1', 'SUMCUF', 'supergom_final', 'SURES', 'OPDIS', 'SPNG_MOD', 'YOMCSGEOM', 'SUALSPA', 'SUIAU', 'MASTER', 'supergom_destroy', 'FIELDS_MOD', 'MTRAJ_MOD', 'SUTRAJP', 'SU_GRIB_API', 'IOSTREAM_MIX:CLOSE_IOSTREAM', 'SUVAREPS', 'YEMLBC_INIT', 'GRIB_HANDLES_MOD', 'SUOPH', 'CNT0', 'SURINC', 'INI_SPP', 'SUCST_IFSAUX', 'SURIP0', 'SUSAVTEND', 'SUDIMF1', 'SUSC2C', 'SUETLDIAG', 'GET_SPP_CONF', 'SUALLO', 'SU_SURF_FLDS', 'YOMGSGEOM', 'SUINI', 'MODEL_MOD:MODEL_DELETE', 'FALSIFY_SURF_FLDS', 'SUSPVARIABLES', 'SUJFH', 'YOMCST', 'SURAND1', 'SUIOS', 'SUPP', 'SUIOSTREAM', 'SUALGCO', 'SULSFORC', 'SUCHET', 'SUTIM', 'SUDIMO', 'SUALMDH', 'IFLUSHFDBSUBS', 'SUMDDH', 'SU0YOMA', 'GEOMETRY_MOD', 'GEOMETRY_MOD:GEOMETRY_DELETE', 'TESTVAR_MIX', 'SUMCC', 'SULUN', 'SUALNUD', 'SUALTDH', 'SUPPVI', 'FIELDS_MOD:FIELDS_DELETE', 'SUECHK', 'MODULE_RADTC_MIX', 'SUMPINI_PRT', 'SUINTFLEX', 'IFS_INIT']\n",
      "['SUGRIB', 'SUVWRK', 'SUMSC', 'ALLOCATE_EMPTY_TRAJECTORY', 'supergom_final%class_supergom', 'SUDIMF2', 'SUCT1', 'MODEL_MOD', 'DEALXMO', 'GSTATS_OUTPUT_IFS', '>MPL-GATHER', 'SU0YOMB', 'SUNUD', 'SUALDYN_DDH', 'SU1YOM', 'FIELD_CONTAINER_GP_MOD', 'SURLX', 'IOSTREAM_MIX:IOSTREAM_STATS', 'SUMP0', 'SUDIM_TRAJ', 'FINAL_STATS', 'SUCT0', 'YOE_CUCONVCA', 'YOMGWDIAG', 'SUFP_CTL', 'SUTRANS0', 'CNT1', 'SUMCUF', 'supergom_final', 'SURES', 'OPDIS', 'SPNG_MOD', 'YOMCSGEOM', 'SUALSPA', 'SUIAU', 'MASTER', 'supergom_destroy', 'FIELDS_MOD', 'MTRAJ_MOD', 'SUTRAJP', 'SU_GRIB_API', 'IOSTREAM_MIX:CLOSE_IOSTREAM', 'SUVAREPS', 'YEMLBC_INIT', 'GRIB_HANDLES_MOD', 'SUOPH', 'CNT0', 'SURINC', 'INI_SPP', 'SUCST_IFSAUX', 'SURIP0', 'SUSAVTEND', 'SUDIMF1', 'SUSC2C', 'SUETLDIAG', 'GET_SPP_CONF', 'SUALLO', 'SU_SURF_FLDS', 'YOMGSGEOM', 'SUINI', 'MODEL_MOD:MODEL_DELETE', 'FALSIFY_SURF_FLDS', 'SUSPVARIABLES', 'SUJFH', 'YOMCST', 'SURAND1', 'SUIOS', 'SUPP', 'SUIOSTREAM', 'SUALGCO', 'SULSFORC', 'SUCHET', 'SUTIM', 'SUDIMO', 'SUALMDH', 'IFLUSHFDBSUBS', 'SUMDDH', 'SU0YOMA', 'GEOMETRY_MOD', 'GEOMETRY_MOD:GEOMETRY_DELETE', 'TESTVAR_MIX', 'SUMCC', 'SULUN', 'SUALNUD', 'SUALTDH', 'SUPPVI', 'FIELDS_MOD:FIELDS_DELETE', 'SUECHK', 'MODULE_RADTC_MIX', 'SUMPINI_PRT', 'SUINTFLEX', 'IFS_INIT']\n",
      "['SUGRIB', 'SUVWRK', 'SUMSC', 'ALLOCATE_EMPTY_TRAJECTORY', 'supergom_final%class_supergom', 'SUDIMF2', 'SUCT1', 'MODEL_MOD', 'DEALXMO', 'GSTATS_OUTPUT_IFS', '>MPL-GATHER', 'SU0YOMB', 'SUNUD', 'SUALDYN_DDH', 'SU1YOM', 'FIELD_CONTAINER_GP_MOD', 'SURLX', 'IOSTREAM_MIX:IOSTREAM_STATS', 'SUMP0', 'SUDIM_TRAJ', 'FINAL_STATS', 'SUCT0', 'YOE_CUCONVCA', 'YOMGWDIAG', 'SUFP_CTL', 'SUTRANS0', 'CNT1', 'SUMCUF', 'supergom_final', 'SURES', 'OPDIS', 'SPNG_MOD', 'YOMCSGEOM', 'SUALSPA', 'SUIAU', 'MASTER', 'supergom_destroy', 'FIELDS_MOD', 'MTRAJ_MOD', 'SUTRAJP', 'SU_GRIB_API', 'IOSTREAM_MIX:CLOSE_IOSTREAM', 'SUVAREPS', 'YEMLBC_INIT', 'GRIB_HANDLES_MOD', 'SUOPH', 'CNT0', 'SURINC', 'INI_SPP', 'SUCST_IFSAUX', 'SURIP0', 'SUSAVTEND', 'SUDIMF1', 'SUSC2C', 'SUETLDIAG', 'GET_SPP_CONF', 'SUALLO', 'SU_SURF_FLDS', 'YOMGSGEOM', 'SUINI', 'MODEL_MOD:MODEL_DELETE', 'FALSIFY_SURF_FLDS', 'SUSPVARIABLES', 'SUJFH', 'YOMCST', 'SURAND1', 'SUIOS', 'SUPP', 'SUIOSTREAM', 'SUALGCO', 'SULSFORC', 'SUCHET', 'SUTIM', 'SUDIMO', 'SUALMDH', 'IFLUSHFDBSUBS', 'SUMDDH', 'SU0YOMA', 'GEOMETRY_MOD', 'GEOMETRY_MOD:GEOMETRY_DELETE', 'TESTVAR_MIX', 'SUMCC', 'SULUN', 'SUALNUD', 'SUALTDH', 'SUPPVI', 'FIELDS_MOD:FIELDS_DELETE', 'SUECHK', 'MODULE_RADTC_MIX', 'SUMPINI_PRT', 'SUINTFLEX', 'IFS_INIT']\n",
      "['SUGRIB', 'SUVWRK', 'SUMSC', 'ALLOCATE_EMPTY_TRAJECTORY', 'supergom_final%class_supergom', 'SUDIMF2', 'SUCT1', 'MODEL_MOD', 'DEALXMO', 'GSTATS_OUTPUT_IFS', '>MPL-GATHER', 'SU0YOMB', 'SUNUD', 'SUALDYN_DDH', 'SU1YOM', 'FIELD_CONTAINER_GP_MOD', 'SURLX', 'IOSTREAM_MIX:IOSTREAM_STATS', 'SUMP0', 'SUDIM_TRAJ', 'FINAL_STATS', 'SUCT0', 'YOE_CUCONVCA', 'YOMGWDIAG', 'SUFP_CTL', 'SUTRANS0', 'CNT1', 'SUMCUF', 'supergom_final', 'SURES', 'OPDIS', 'SPNG_MOD', 'YOMCSGEOM', 'SUALSPA', 'SUIAU', 'MASTER', 'supergom_destroy', 'FIELDS_MOD', 'MTRAJ_MOD', 'SUTRAJP', 'SU_GRIB_API', 'IOSTREAM_MIX:CLOSE_IOSTREAM', 'SUVAREPS', 'YEMLBC_INIT', 'GRIB_HANDLES_MOD', 'SUOPH', 'CNT0', 'SURINC', 'INI_SPP', 'SUCST_IFSAUX', 'SURIP0', 'SUSAVTEND', 'SUDIMF1', 'SUSC2C', 'SUETLDIAG', 'GET_SPP_CONF', 'SUALLO', 'SU_SURF_FLDS', 'YOMGSGEOM', 'SUINI', 'MODEL_MOD:MODEL_DELETE', 'FALSIFY_SURF_FLDS', 'SUSPVARIABLES', 'SUJFH', 'YOMCST', 'SURAND1', 'SUIOS', 'SUPP', 'SUIOSTREAM', 'SUALGCO', 'SULSFORC', 'SUCHET', 'SUTIM', 'SUDIMO', 'SUALMDH', 'IFLUSHFDBSUBS', 'SUMDDH', 'SU0YOMA', 'GEOMETRY_MOD', 'GEOMETRY_MOD:GEOMETRY_DELETE', 'TESTVAR_MIX', 'SUMCC', 'SULUN', 'SUALNUD', 'SUALTDH', 'SUPPVI', 'FIELDS_MOD:FIELDS_DELETE', 'SUECHK', 'MODULE_RADTC_MIX', 'SUMPINI_PRT', 'SUINTFLEX', 'IFS_INIT']\n",
      "['SUGRIB', 'SUVWRK', 'SUMSC', 'ALLOCATE_EMPTY_TRAJECTORY', 'supergom_final%class_supergom', 'SUDIMF2', 'SUCT1', 'MODEL_MOD', 'DEALXMO', 'GSTATS_OUTPUT_IFS', '>MPL-GATHER', 'SU0YOMB', 'SUNUD', 'SUALDYN_DDH', 'SU1YOM', 'FIELD_CONTAINER_GP_MOD', 'SURLX', 'IOSTREAM_MIX:IOSTREAM_STATS', 'SUMP0', 'SUDIM_TRAJ', 'FINAL_STATS', 'SUCT0', 'YOE_CUCONVCA', 'YOMGWDIAG', 'SUFP_CTL', 'SUTRANS0', 'CNT1', 'SUMCUF', 'supergom_final', 'SURES', 'OPDIS', 'SPNG_MOD', 'YOMCSGEOM', 'SUALSPA', 'SUIAU', 'MASTER', 'supergom_destroy', 'FIELDS_MOD', 'MTRAJ_MOD', 'SUTRAJP', 'SU_GRIB_API', 'IOSTREAM_MIX:CLOSE_IOSTREAM', 'SUVAREPS', 'YEMLBC_INIT', 'GRIB_HANDLES_MOD', 'SUOPH', 'CNT0', 'SURINC', 'INI_SPP', 'SUCST_IFSAUX', 'SURIP0', 'SUSAVTEND', 'SUDIMF1', 'SUSC2C', 'SUETLDIAG', 'GET_SPP_CONF', 'SUALLO', 'SU_SURF_FLDS', 'YOMGSGEOM', 'SUINI', 'MODEL_MOD:MODEL_DELETE', 'FALSIFY_SURF_FLDS', 'SUSPVARIABLES', 'SUJFH', 'YOMCST', 'SURAND1', 'SUIOS', 'SUPP', 'SUIOSTREAM', 'SUALGCO', 'SULSFORC', 'SUCHET', 'SUTIM', 'SUDIMO', 'SUALMDH', 'IFLUSHFDBSUBS', 'SUMDDH', 'SU0YOMA', 'GEOMETRY_MOD', 'GEOMETRY_MOD:GEOMETRY_DELETE', 'TESTVAR_MIX', 'SUMCC', 'SULUN', 'SUALNUD', 'SUALTDH', 'SUPPVI', 'FIELDS_MOD:FIELDS_DELETE', 'SUECHK', 'MODULE_RADTC_MIX', 'SUMPINI_PRT', 'SUINTFLEX', 'IFS_INIT']\n",
      "['SUGRIB', 'SUVWRK', 'SUMSC', 'ALLOCATE_EMPTY_TRAJECTORY', 'supergom_final%class_supergom', 'SUDIMF2', 'SUCT1', 'MODEL_MOD', 'DEALXMO', 'GSTATS_OUTPUT_IFS', '>MPL-GATHER', 'SU0YOMB', 'SUNUD', 'SUALDYN_DDH', 'SU1YOM', 'FIELD_CONTAINER_GP_MOD', 'SURLX', 'IOSTREAM_MIX:IOSTREAM_STATS', 'SUMP0', 'SUDIM_TRAJ', 'FINAL_STATS', 'SUCT0', 'YOE_CUCONVCA', 'YOMGWDIAG', 'SUFP_CTL', 'SUTRANS0', 'CNT1', 'SUMCUF', 'supergom_final', 'SURES', 'OPDIS', 'SPNG_MOD', 'YOMCSGEOM', 'SUALSPA', 'SUIAU', 'MASTER', 'supergom_destroy', 'FIELDS_MOD', 'MTRAJ_MOD', 'SUTRAJP', 'SU_GRIB_API', 'IOSTREAM_MIX:CLOSE_IOSTREAM', 'SUVAREPS', 'YEMLBC_INIT', 'GRIB_HANDLES_MOD', 'SUOPH', 'CNT0', 'SURINC', 'INI_SPP', 'SUCST_IFSAUX', 'SURIP0', 'SUSAVTEND', 'SUDIMF1', 'SUSC2C', 'SUETLDIAG', 'GET_SPP_CONF', 'SUALLO', 'SU_SURF_FLDS', 'YOMGSGEOM', 'SUINI', 'MODEL_MOD:MODEL_DELETE', 'FALSIFY_SURF_FLDS', 'SUSPVARIABLES', 'SUJFH', 'YOMCST', 'SURAND1', 'SUIOS', 'SUPP', 'SUIOSTREAM', 'SUALGCO', 'SULSFORC', 'SUCHET', 'SUTIM', 'SUDIMO', 'SUALMDH', 'IFLUSHFDBSUBS', 'SUMDDH', 'SU0YOMA', 'GEOMETRY_MOD', 'GEOMETRY_MOD:GEOMETRY_DELETE', 'TESTVAR_MIX', 'SUMCC', 'SULUN', 'SUALNUD', 'SUALTDH', 'SUPPVI', 'FIELDS_MOD:FIELDS_DELETE', 'SUECHK', 'MODULE_RADTC_MIX', 'SUMPINI_PRT', 'SUINTFLEX', 'IFS_INIT']\n",
      "['SUGRIB', 'SUVWRK', 'SUMSC', 'ALLOCATE_EMPTY_TRAJECTORY', 'supergom_final%class_supergom', 'SUDIMF2', 'SUCT1', 'MODEL_MOD', 'DEALXMO', 'GSTATS_OUTPUT_IFS', '>MPL-GATHER', 'SU0YOMB', 'SUNUD', 'SUALDYN_DDH', 'SU1YOM', 'FIELD_CONTAINER_GP_MOD', 'SURLX', 'IOSTREAM_MIX:IOSTREAM_STATS', 'SUMP0', 'SUDIM_TRAJ', 'FINAL_STATS', 'SUCT0', 'YOE_CUCONVCA', 'YOMGWDIAG', 'SUFP_CTL', 'SUTRANS0', 'CNT1', 'SUMCUF', 'supergom_final', 'SURES', 'OPDIS', 'SPNG_MOD', 'YOMCSGEOM', 'SUALSPA', 'SUIAU', 'MASTER', 'supergom_destroy', 'FIELDS_MOD', 'MTRAJ_MOD', 'SUTRAJP', 'SU_GRIB_API', 'IOSTREAM_MIX:CLOSE_IOSTREAM', 'SUVAREPS', 'YEMLBC_INIT', 'GRIB_HANDLES_MOD', 'SUOPH', 'CNT0', 'SURINC', 'INI_SPP', 'SUCST_IFSAUX', 'SURIP0', 'SUSAVTEND', 'SUDIMF1', 'SUSC2C', 'SUETLDIAG', 'GET_SPP_CONF', 'SUALLO', 'SU_SURF_FLDS', 'YOMGSGEOM', 'SUINI', 'MODEL_MOD:MODEL_DELETE', 'FALSIFY_SURF_FLDS', 'SUSPVARIABLES', 'SUJFH', 'YOMCST', 'SURAND1', 'SUIOS', 'SUPP', 'SUIOSTREAM', 'SUALGCO', 'SULSFORC', 'SUCHET', 'SUTIM', 'SUDIMO', 'SUALMDH', 'IFLUSHFDBSUBS', 'SUMDDH', 'SU0YOMA', 'GEOMETRY_MOD', 'GEOMETRY_MOD:GEOMETRY_DELETE', 'TESTVAR_MIX', 'SUMCC', 'SULUN', 'SUALNUD', 'SUALTDH', 'SUPPVI', 'FIELDS_MOD:FIELDS_DELETE', 'SUECHK', 'MODULE_RADTC_MIX', 'SUMPINI_PRT', 'SUINTFLEX', 'IFS_INIT']\n",
      "['SUGRIB', 'SUVWRK', 'SUMSC', 'ALLOCATE_EMPTY_TRAJECTORY', 'supergom_final%class_supergom', 'SUDIMF2', 'SUCT1', 'MODEL_MOD', 'DEALXMO', 'GSTATS_OUTPUT_IFS', '>MPL-GATHER', 'SU0YOMB', 'SUNUD', 'SUALDYN_DDH', 'SU1YOM', 'FIELD_CONTAINER_GP_MOD', 'SURLX', 'IOSTREAM_MIX:IOSTREAM_STATS', 'SUMP0', 'SUDIM_TRAJ', 'FINAL_STATS', 'SUCT0', 'YOE_CUCONVCA', 'YOMGWDIAG', 'SUFP_CTL', 'SUTRANS0', 'CNT1', 'SUMCUF', 'supergom_final', 'SURES', 'OPDIS', 'SPNG_MOD', 'YOMCSGEOM', 'SUALSPA', 'SUIAU', 'MASTER', 'supergom_destroy', 'FIELDS_MOD', 'MTRAJ_MOD', 'SUTRAJP', 'SU_GRIB_API', 'IOSTREAM_MIX:CLOSE_IOSTREAM', 'SUVAREPS', 'YEMLBC_INIT', 'GRIB_HANDLES_MOD', 'SUOPH', 'CNT0', 'SURINC', 'INI_SPP', 'SUCST_IFSAUX', 'SURIP0', 'SUSAVTEND', 'SUDIMF1', 'SUSC2C', 'SUETLDIAG', 'GET_SPP_CONF', 'SUALLO', 'SU_SURF_FLDS', 'YOMGSGEOM', 'SUINI', 'MODEL_MOD:MODEL_DELETE', 'FALSIFY_SURF_FLDS', 'SUSPVARIABLES', 'SUJFH', 'YOMCST', 'SURAND1', 'SUIOS', 'SUPP', 'SUIOSTREAM', 'SUALGCO', 'SULSFORC', 'SUCHET', 'SUTIM', 'SUDIMO', 'SUALMDH', 'IFLUSHFDBSUBS', 'SUMDDH', 'SU0YOMA', 'GEOMETRY_MOD', 'GEOMETRY_MOD:GEOMETRY_DELETE', 'TESTVAR_MIX', 'SUMCC', 'SULUN', 'SUALNUD', 'SUALTDH', 'SUPPVI', 'FIELDS_MOD:FIELDS_DELETE', 'SUECHK', 'MODULE_RADTC_MIX', 'SUMPINI_PRT', 'SUINTFLEX', 'IFS_INIT']\n",
      "['SUGRIB', 'SUVWRK', 'SUMSC', 'ALLOCATE_EMPTY_TRAJECTORY', 'supergom_final%class_supergom', 'SUDIMF2', 'SUCT1', 'MODEL_MOD', 'DEALXMO', 'GSTATS_OUTPUT_IFS', '>MPL-GATHER', 'SU0YOMB', 'SUNUD', 'SUALDYN_DDH', 'SU1YOM', 'FIELD_CONTAINER_GP_MOD', 'SURLX', 'IOSTREAM_MIX:IOSTREAM_STATS', 'SUMP0', 'SUDIM_TRAJ', 'FINAL_STATS', 'SUCT0', 'YOE_CUCONVCA', 'YOMGWDIAG', 'SUFP_CTL', 'SUTRANS0', 'CNT1', 'SUMCUF', 'supergom_final', 'SURES', 'OPDIS', 'SPNG_MOD', 'YOMCSGEOM', 'SUALSPA', 'SUIAU', 'MASTER', 'supergom_destroy', 'FIELDS_MOD', 'MTRAJ_MOD', 'SUTRAJP', 'SU_GRIB_API', 'IOSTREAM_MIX:CLOSE_IOSTREAM', 'SUVAREPS', 'YEMLBC_INIT', 'GRIB_HANDLES_MOD', 'SUOPH', 'CNT0', 'SURINC', 'INI_SPP', 'SUCST_IFSAUX', 'SURIP0', 'SUSAVTEND', 'SUDIMF1', 'SUSC2C', 'SUETLDIAG', 'GET_SPP_CONF', 'SUALLO', 'SU_SURF_FLDS', 'YOMGSGEOM', 'SUINI', 'MODEL_MOD:MODEL_DELETE', 'FALSIFY_SURF_FLDS', 'SUSPVARIABLES', 'SUJFH', 'YOMCST', 'SURAND1', 'SUIOS', 'SUPP', 'SUIOSTREAM', 'SUALGCO', 'SULSFORC', 'SUCHET', 'SUTIM', 'SUDIMO', 'SUALMDH', 'IFLUSHFDBSUBS', 'SUMDDH', 'SU0YOMA', 'GEOMETRY_MOD', 'GEOMETRY_MOD:GEOMETRY_DELETE', 'TESTVAR_MIX', 'SUMCC', 'SULUN', 'SUALNUD', 'SUALTDH', 'SUPPVI', 'FIELDS_MOD:FIELDS_DELETE', 'SUECHK', 'MODULE_RADTC_MIX', 'SUMPINI_PRT', 'SUINTFLEX', 'IFS_INIT']\n",
      "['SUGRIB', 'SUVWRK', 'SUMSC', 'ALLOCATE_EMPTY_TRAJECTORY', 'supergom_final%class_supergom', 'SUDIMF2', 'SUCT1', 'MODEL_MOD', 'DEALXMO', 'GSTATS_OUTPUT_IFS', '>MPL-GATHER', 'SU0YOMB', 'SUNUD', 'SUALDYN_DDH', 'SU1YOM', 'FIELD_CONTAINER_GP_MOD', 'SURLX', 'IOSTREAM_MIX:IOSTREAM_STATS', 'SUMP0', 'SUDIM_TRAJ', 'FINAL_STATS', 'SUCT0', 'YOE_CUCONVCA', 'YOMGWDIAG', 'SUFP_CTL', 'SUTRANS0', 'CNT1', 'SUMCUF', 'supergom_final', 'SURES', 'OPDIS', 'SPNG_MOD', 'YOMCSGEOM', 'SUALSPA', 'SUIAU', 'MASTER', 'supergom_destroy', 'FIELDS_MOD', 'MTRAJ_MOD', 'SUTRAJP', 'SU_GRIB_API', 'IOSTREAM_MIX:CLOSE_IOSTREAM', 'SUVAREPS', 'YEMLBC_INIT', 'GRIB_HANDLES_MOD', 'SUOPH', 'CNT0', 'SURINC', 'INI_SPP', 'SUCST_IFSAUX', 'SURIP0', 'SUSAVTEND', 'SUDIMF1', 'SUSC2C', 'SUETLDIAG', 'GET_SPP_CONF', 'SUALLO', 'SU_SURF_FLDS', 'YOMGSGEOM', 'SUINI', 'MODEL_MOD:MODEL_DELETE', 'FALSIFY_SURF_FLDS', 'SUSPVARIABLES', 'SUJFH', 'YOMCST', 'SURAND1', 'SUIOS', 'SUPP', 'SUIOSTREAM', 'SUALGCO', 'SULSFORC', 'SUCHET', 'SUTIM', 'SUDIMO', 'SUALMDH', 'IFLUSHFDBSUBS', 'SUMDDH', 'SU0YOMA', 'GEOMETRY_MOD', 'GEOMETRY_MOD:GEOMETRY_DELETE', 'TESTVAR_MIX', 'SUMCC', 'SULUN', 'SUALNUD', 'SUALTDH', 'SUPPVI', 'FIELDS_MOD:FIELDS_DELETE', 'SUECHK', 'MODULE_RADTC_MIX', 'SUMPINI_PRT', 'SUINTFLEX', 'IFS_INIT']\n",
      "['SUGRIB', 'SUVWRK', 'SUMSC', 'ALLOCATE_EMPTY_TRAJECTORY', 'supergom_final%class_supergom', 'SUDIMF2', 'SUCT1', 'MODEL_MOD', 'DEALXMO', 'GSTATS_OUTPUT_IFS', '>MPL-GATHER', 'SU0YOMB', 'SUNUD', 'SUALDYN_DDH', 'SU1YOM', 'FIELD_CONTAINER_GP_MOD', 'SURLX', 'IOSTREAM_MIX:IOSTREAM_STATS', 'SUMP0', 'SUDIM_TRAJ', 'FINAL_STATS', 'SUCT0', 'YOE_CUCONVCA', 'YOMGWDIAG', 'SUFP_CTL', 'SUTRANS0', 'CNT1', 'SUMCUF', 'supergom_final', 'SURES', 'OPDIS', 'SPNG_MOD', 'YOMCSGEOM', 'SUALSPA', 'SUIAU', 'MASTER', 'supergom_destroy', 'FIELDS_MOD', 'MTRAJ_MOD', 'SUTRAJP', 'SU_GRIB_API', 'IOSTREAM_MIX:CLOSE_IOSTREAM', 'SUVAREPS', 'YEMLBC_INIT', 'GRIB_HANDLES_MOD', 'SUOPH', 'CNT0', 'SURINC', 'INI_SPP', 'SUCST_IFSAUX', 'SURIP0', 'SUSAVTEND', 'SUDIMF1', 'SUSC2C', 'SUETLDIAG', 'GET_SPP_CONF', 'SUALLO', 'SU_SURF_FLDS', 'YOMGSGEOM', 'SUINI', 'MODEL_MOD:MODEL_DELETE', 'FALSIFY_SURF_FLDS', 'SUSPVARIABLES', 'SUJFH', 'YOMCST', 'SURAND1', 'SUIOS', 'SUPP', 'SUIOSTREAM', 'SUALGCO', 'SULSFORC', 'SUCHET', 'SUTIM', 'SUDIMO', 'SUALMDH', 'IFLUSHFDBSUBS', 'SUMDDH', 'SU0YOMA', 'GEOMETRY_MOD', 'GEOMETRY_MOD:GEOMETRY_DELETE', 'TESTVAR_MIX', 'SUMCC', 'SULUN', 'SUALNUD', 'SUALTDH', 'SUPPVI', 'FIELDS_MOD:FIELDS_DELETE', 'SUECHK', 'MODULE_RADTC_MIX', 'SUMPINI_PRT', 'SUINTFLEX', 'IFS_INIT']\n",
      "['SUGRIB', 'SUVWRK', 'SUMSC', 'ALLOCATE_EMPTY_TRAJECTORY', 'supergom_final%class_supergom', 'SUDIMF2', 'SUCT1', 'MODEL_MOD', 'DEALXMO', 'GSTATS_OUTPUT_IFS', '>MPL-GATHER', 'SU0YOMB', 'SUNUD', 'SUALDYN_DDH', 'SU1YOM', 'FIELD_CONTAINER_GP_MOD', 'SURLX', 'IOSTREAM_MIX:IOSTREAM_STATS', 'SUMP0', 'SUDIM_TRAJ', 'FINAL_STATS', 'SUCT0', 'YOE_CUCONVCA', 'YOMGWDIAG', 'SUFP_CTL', 'SUTRANS0', 'CNT1', 'SUMCUF', 'supergom_final', 'SURES', 'OPDIS', 'SPNG_MOD', 'YOMCSGEOM', 'SUALSPA', 'SUIAU', 'MASTER', 'supergom_destroy', 'FIELDS_MOD', 'MTRAJ_MOD', 'SUTRAJP', 'SU_GRIB_API', 'IOSTREAM_MIX:CLOSE_IOSTREAM', 'SUVAREPS', 'YEMLBC_INIT', 'GRIB_HANDLES_MOD', 'SUOPH', 'CNT0', 'SURINC', 'INI_SPP', 'SUCST_IFSAUX', 'SURIP0', 'SUSAVTEND', 'SUDIMF1', 'SUSC2C', 'SUETLDIAG', 'GET_SPP_CONF', 'SUALLO', 'SU_SURF_FLDS', 'YOMGSGEOM', 'SUINI', 'MODEL_MOD:MODEL_DELETE', 'FALSIFY_SURF_FLDS', 'SUSPVARIABLES', 'SUJFH', 'YOMCST', 'SURAND1', 'SUIOS', 'SUPP', 'SUIOSTREAM', 'SUALGCO', 'SULSFORC', 'SUCHET', 'SUTIM', 'SUDIMO', 'SUALMDH', 'IFLUSHFDBSUBS', 'SUMDDH', 'SU0YOMA', 'GEOMETRY_MOD', 'GEOMETRY_MOD:GEOMETRY_DELETE', 'TESTVAR_MIX', 'SUMCC', 'SULUN', 'SUALNUD', 'SUALTDH', 'SUPPVI', 'FIELDS_MOD:FIELDS_DELETE', 'SUECHK', 'MODULE_RADTC_MIX', 'SUMPINI_PRT', 'SUINTFLEX', 'IFS_INIT']\n",
      "['SUGRIB', 'SUVWRK', 'SUMSC', 'ALLOCATE_EMPTY_TRAJECTORY', 'supergom_final%class_supergom', 'SUDIMF2', 'SUCT1', 'MODEL_MOD', 'DEALXMO', 'GSTATS_OUTPUT_IFS', '>MPL-GATHER', 'SU0YOMB', 'SUNUD', 'SUALDYN_DDH', 'SU1YOM', 'FIELD_CONTAINER_GP_MOD', 'SURLX', 'IOSTREAM_MIX:IOSTREAM_STATS', 'SUMP0', 'SUDIM_TRAJ', 'FINAL_STATS', 'SUCT0', 'YOE_CUCONVCA', 'YOMGWDIAG', 'SUFP_CTL', 'SUTRANS0', 'CNT1', 'SUMCUF', 'supergom_final', 'SURES', 'OPDIS', 'SPNG_MOD', 'YOMCSGEOM', 'SUALSPA', 'SUIAU', 'MASTER', 'supergom_destroy', 'FIELDS_MOD', 'MTRAJ_MOD', 'SUTRAJP', 'SU_GRIB_API', 'IOSTREAM_MIX:CLOSE_IOSTREAM', 'SUVAREPS', 'YEMLBC_INIT', 'GRIB_HANDLES_MOD', 'SUOPH', 'CNT0', 'SURINC', 'INI_SPP', 'SUCST_IFSAUX', 'SURIP0', 'SUSAVTEND', 'SUDIMF1', 'SUSC2C', 'SUETLDIAG', 'GET_SPP_CONF', 'SUALLO', 'SU_SURF_FLDS', 'YOMGSGEOM', 'SUINI', 'MODEL_MOD:MODEL_DELETE', 'FALSIFY_SURF_FLDS', 'SUSPVARIABLES', 'SUJFH', 'YOMCST', 'SURAND1', 'SUIOS', 'SUPP', 'SUIOSTREAM', 'SUALGCO', 'SULSFORC', 'SUCHET', 'SUTIM', 'SUDIMO', 'SUALMDH', 'IFLUSHFDBSUBS', 'SUMDDH', 'SU0YOMA', 'GEOMETRY_MOD', 'GEOMETRY_MOD:GEOMETRY_DELETE', 'TESTVAR_MIX', 'SUMCC', 'SULUN', 'SUALNUD', 'SUALTDH', 'SUPPVI', 'FIELDS_MOD:FIELDS_DELETE', 'SUECHK', 'MODULE_RADTC_MIX', 'SUMPINI_PRT', 'SUINTFLEX', 'IFS_INIT']\n",
      "['SUGRIB', 'SUVWRK', 'SUMSC', 'ALLOCATE_EMPTY_TRAJECTORY', 'supergom_final%class_supergom', 'SUDIMF2', 'SUCT1', 'MODEL_MOD', 'DEALXMO', 'GSTATS_OUTPUT_IFS', '>MPL-GATHER', 'SU0YOMB', 'SUNUD', 'SUALDYN_DDH', 'SU1YOM', 'FIELD_CONTAINER_GP_MOD', 'SURLX', 'IOSTREAM_MIX:IOSTREAM_STATS', 'SUMP0', 'SUDIM_TRAJ', 'FINAL_STATS', 'SUCT0', 'YOE_CUCONVCA', 'YOMGWDIAG', 'SUFP_CTL', 'SUTRANS0', 'CNT1', 'SUMCUF', 'supergom_final', 'SURES', 'OPDIS', 'SPNG_MOD', 'YOMCSGEOM', 'SUALSPA', 'SUIAU', 'MASTER', 'supergom_destroy', 'FIELDS_MOD', 'MTRAJ_MOD', 'SUTRAJP', 'SU_GRIB_API', 'IOSTREAM_MIX:CLOSE_IOSTREAM', 'SUVAREPS', 'YEMLBC_INIT', 'GRIB_HANDLES_MOD', 'SUOPH', 'CNT0', 'SURINC', 'INI_SPP', 'SUCST_IFSAUX', 'SURIP0', 'SUSAVTEND', 'SUDIMF1', 'SUSC2C', 'SUETLDIAG', 'GET_SPP_CONF', 'SUALLO', 'SU_SURF_FLDS', 'YOMGSGEOM', 'SUINI', 'MODEL_MOD:MODEL_DELETE', 'FALSIFY_SURF_FLDS', 'SUSPVARIABLES', 'SUJFH', 'YOMCST', 'SURAND1', 'SUIOS', 'SUPP', 'SUIOSTREAM', 'SUALGCO', 'SULSFORC', 'SUCHET', 'SUTIM', 'SUDIMO', 'SUALMDH', 'IFLUSHFDBSUBS', 'SUMDDH', 'SU0YOMA', 'GEOMETRY_MOD', 'GEOMETRY_MOD:GEOMETRY_DELETE', 'TESTVAR_MIX', 'SUMCC', 'SULUN', 'SUALNUD', 'SUALTDH', 'SUPPVI', 'FIELDS_MOD:FIELDS_DELETE', 'SUECHK', 'MODULE_RADTC_MIX', 'SUMPINI_PRT', 'SUINTFLEX', 'IFS_INIT']\n",
      "['SUGRIB', 'SUVWRK', 'SUMSC', 'ALLOCATE_EMPTY_TRAJECTORY', 'supergom_final%class_supergom', 'SUDIMF2', 'SUCT1', 'MODEL_MOD', 'DEALXMO', 'GSTATS_OUTPUT_IFS', '>MPL-GATHER', 'SU0YOMB', 'SUNUD', 'SUALDYN_DDH', 'SU1YOM', 'FIELD_CONTAINER_GP_MOD', 'SURLX', 'IOSTREAM_MIX:IOSTREAM_STATS', 'SUMP0', 'SUDIM_TRAJ', 'FINAL_STATS', 'SUCT0', 'YOE_CUCONVCA', 'YOMGWDIAG', 'SUFP_CTL', 'SUTRANS0', 'CNT1', 'SUMCUF', 'supergom_final', 'SURES', 'OPDIS', 'SPNG_MOD', 'YOMCSGEOM', 'SUALSPA', 'SUIAU', 'MASTER', 'supergom_destroy', 'FIELDS_MOD', 'MTRAJ_MOD', 'SUTRAJP', 'SU_GRIB_API', 'IOSTREAM_MIX:CLOSE_IOSTREAM', 'SUVAREPS', 'YEMLBC_INIT', 'GRIB_HANDLES_MOD', 'SUOPH', 'CNT0', 'SURINC', 'INI_SPP', 'SUCST_IFSAUX', 'SURIP0', 'SUSAVTEND', 'SUDIMF1', 'SUSC2C', 'SUETLDIAG', 'GET_SPP_CONF', 'SUALLO', 'SU_SURF_FLDS', 'YOMGSGEOM', 'SUINI', 'MODEL_MOD:MODEL_DELETE', 'FALSIFY_SURF_FLDS', 'SUSPVARIABLES', 'SUJFH', 'YOMCST', 'SURAND1', 'SUIOS', 'SUPP', 'SUIOSTREAM', 'SUALGCO', 'SULSFORC', 'SUCHET', 'SUTIM', 'SUDIMO', 'SUALMDH', 'IFLUSHFDBSUBS', 'SUMDDH', 'SU0YOMA', 'GEOMETRY_MOD', 'GEOMETRY_MOD:GEOMETRY_DELETE', 'TESTVAR_MIX', 'SUMCC', 'SULUN', 'SUALNUD', 'SUALTDH', 'SUPPVI', 'FIELDS_MOD:FIELDS_DELETE', 'SUECHK', 'MODULE_RADTC_MIX', 'SUMPINI_PRT', 'SUINTFLEX', 'IFS_INIT']\n",
      "['SUGRIB', 'SUVWRK', 'SUMSC', 'ALLOCATE_EMPTY_TRAJECTORY', 'supergom_final%class_supergom', 'SUDIMF2', 'SUCT1', 'MODEL_MOD', 'DEALXMO', 'GSTATS_OUTPUT_IFS', '>MPL-GATHER', 'SU0YOMB', 'SUNUD', 'SUALDYN_DDH', 'SU1YOM', 'FIELD_CONTAINER_GP_MOD', 'SURLX', 'IOSTREAM_MIX:IOSTREAM_STATS', 'SUMP0', 'SUDIM_TRAJ', 'FINAL_STATS', 'SUCT0', 'YOE_CUCONVCA', 'YOMGWDIAG', 'SUFP_CTL', 'SUTRANS0', 'CNT1', 'SUMCUF', 'supergom_final', 'SURES', 'OPDIS', 'SPNG_MOD', 'YOMCSGEOM', 'SUALSPA', 'SUIAU', 'MASTER', 'supergom_destroy', 'FIELDS_MOD', 'MTRAJ_MOD', 'SUTRAJP', 'SU_GRIB_API', 'IOSTREAM_MIX:CLOSE_IOSTREAM', 'SUVAREPS', 'YEMLBC_INIT', 'GRIB_HANDLES_MOD', 'SUOPH', 'CNT0', 'SURINC', 'INI_SPP', 'SUCST_IFSAUX', 'SURIP0', 'SUSAVTEND', 'SUDIMF1', 'SUSC2C', 'SUETLDIAG', 'GET_SPP_CONF', 'SUALLO', 'SU_SURF_FLDS', 'YOMGSGEOM', 'SUINI', 'MODEL_MOD:MODEL_DELETE', 'FALSIFY_SURF_FLDS', 'SUSPVARIABLES', 'SUJFH', 'YOMCST', 'SURAND1', 'SUIOS', 'SUPP', 'SUIOSTREAM', 'SUALGCO', 'SULSFORC', 'SUCHET', 'SUTIM', 'SUDIMO', 'SUALMDH', 'IFLUSHFDBSUBS', 'SUMDDH', 'SU0YOMA', 'GEOMETRY_MOD', 'GEOMETRY_MOD:GEOMETRY_DELETE', 'TESTVAR_MIX', 'SUMCC', 'SULUN', 'SUALNUD', 'SUALTDH', 'SUPPVI', 'FIELDS_MOD:FIELDS_DELETE', 'SUECHK', 'MODULE_RADTC_MIX', 'SUMPINI_PRT', 'SUINTFLEX', 'IFS_INIT']\n",
      "['SUGRIB', 'SUVWRK', 'SUMSC', 'ALLOCATE_EMPTY_TRAJECTORY', 'supergom_final%class_supergom', 'SUDIMF2', 'SUCT1', 'MODEL_MOD', 'DEALXMO', 'GSTATS_OUTPUT_IFS', '>MPL-GATHER', 'SU0YOMB', 'SUNUD', 'SUALDYN_DDH', 'SU1YOM', 'FIELD_CONTAINER_GP_MOD', 'SURLX', 'IOSTREAM_MIX:IOSTREAM_STATS', 'SUMP0', 'SUDIM_TRAJ', 'FINAL_STATS', 'SUCT0', 'YOE_CUCONVCA', 'YOMGWDIAG', 'SUFP_CTL', 'SUTRANS0', 'CNT1', 'SUMCUF', 'supergom_final', 'SURES', 'OPDIS', 'SPNG_MOD', 'YOMCSGEOM', 'SUALSPA', 'SUIAU', 'MASTER', 'supergom_destroy', 'FIELDS_MOD', 'MTRAJ_MOD', 'SUTRAJP', 'SU_GRIB_API', 'IOSTREAM_MIX:CLOSE_IOSTREAM', 'SUVAREPS', 'YEMLBC_INIT', 'GRIB_HANDLES_MOD', 'SUOPH', 'CNT0', 'SURINC', 'INI_SPP', 'SUCST_IFSAUX', 'SURIP0', 'SUSAVTEND', 'SUDIMF1', 'SUSC2C', 'SUETLDIAG', 'GET_SPP_CONF', 'SUALLO', 'SU_SURF_FLDS', 'YOMGSGEOM', 'SUINI', 'MODEL_MOD:MODEL_DELETE', 'FALSIFY_SURF_FLDS', 'SUSPVARIABLES', 'SUJFH', 'YOMCST', 'SURAND1', 'SUIOS', 'SUPP', 'SUIOSTREAM', 'SUALGCO', 'SULSFORC', 'SUCHET', 'SUTIM', 'SUDIMO', 'SUALMDH', 'IFLUSHFDBSUBS', 'SUMDDH', 'SU0YOMA', 'GEOMETRY_MOD', 'GEOMETRY_MOD:GEOMETRY_DELETE', 'TESTVAR_MIX', 'SUMCC', 'SULUN', 'SUALNUD', 'SUALTDH', 'SUPPVI', 'FIELDS_MOD:FIELDS_DELETE', 'SUECHK', 'MODULE_RADTC_MIX', 'SUMPINI_PRT', 'SUINTFLEX', 'IFS_INIT']\n",
      "['SUGRIB', 'SUVWRK', 'SUMSC', 'ALLOCATE_EMPTY_TRAJECTORY', 'supergom_final%class_supergom', 'SUDIMF2', 'SUCT1', 'MODEL_MOD', 'DEALXMO', 'GSTATS_OUTPUT_IFS', '>MPL-GATHER', 'SU0YOMB', 'SUNUD', 'SUALDYN_DDH', 'SU1YOM', 'FIELD_CONTAINER_GP_MOD', 'SURLX', 'IOSTREAM_MIX:IOSTREAM_STATS', 'SUMP0', 'SUDIM_TRAJ', 'FINAL_STATS', 'SUCT0', 'YOE_CUCONVCA', 'YOMGWDIAG', 'SUFP_CTL', 'SUTRANS0', 'CNT1', 'SUMCUF', 'supergom_final', 'SURES', 'OPDIS', 'SPNG_MOD', 'YOMCSGEOM', 'SUALSPA', 'SUIAU', 'MASTER', 'supergom_destroy', 'FIELDS_MOD', 'MTRAJ_MOD', 'SUTRAJP', 'SU_GRIB_API', 'IOSTREAM_MIX:CLOSE_IOSTREAM', 'SUVAREPS', 'YEMLBC_INIT', 'GRIB_HANDLES_MOD', 'SUOPH', 'CNT0', 'SURINC', 'INI_SPP', 'SUCST_IFSAUX', 'SURIP0', 'SUSAVTEND', 'SUDIMF1', 'SUSC2C', 'SUETLDIAG', 'GET_SPP_CONF', 'SUALLO', 'SU_SURF_FLDS', 'YOMGSGEOM', 'SUINI', 'MODEL_MOD:MODEL_DELETE', 'FALSIFY_SURF_FLDS', 'SUSPVARIABLES', 'SUJFH', 'YOMCST', 'SURAND1', 'SUIOS', 'SUPP', 'SUIOSTREAM', 'SUALGCO', 'SULSFORC', 'SUCHET', 'SUTIM', 'SUDIMO', 'SUALMDH', 'IFLUSHFDBSUBS', 'SUMDDH', 'SU0YOMA', 'GEOMETRY_MOD', 'GEOMETRY_MOD:GEOMETRY_DELETE', 'TESTVAR_MIX', 'SUMCC', 'SULUN', 'SUALNUD', 'SUALTDH', 'SUPPVI', 'FIELDS_MOD:FIELDS_DELETE', 'SUECHK', 'MODULE_RADTC_MIX', 'SUMPINI_PRT', 'SUINTFLEX', 'IFS_INIT']\n",
      "['SUGRIB', 'SUVWRK', 'SUMSC', 'ALLOCATE_EMPTY_TRAJECTORY', 'supergom_final%class_supergom', 'SUDIMF2', 'SUCT1', 'MODEL_MOD', 'DEALXMO', 'GSTATS_OUTPUT_IFS', '>MPL-GATHER', 'SU0YOMB', 'SUNUD', 'SUALDYN_DDH', 'SU1YOM', 'FIELD_CONTAINER_GP_MOD', 'SURLX', 'IOSTREAM_MIX:IOSTREAM_STATS', 'SUMP0', 'SUDIM_TRAJ', 'FINAL_STATS', 'SUCT0', 'YOE_CUCONVCA', 'YOMGWDIAG', 'SUFP_CTL', 'SUTRANS0', 'CNT1', 'SUMCUF', 'supergom_final', 'SURES', 'OPDIS', 'SPNG_MOD', 'YOMCSGEOM', 'SUALSPA', 'SUIAU', 'MASTER', 'supergom_destroy', 'FIELDS_MOD', 'MTRAJ_MOD', 'SUTRAJP', 'SU_GRIB_API', 'IOSTREAM_MIX:CLOSE_IOSTREAM', 'SUVAREPS', 'YEMLBC_INIT', 'GRIB_HANDLES_MOD', 'SUOPH', 'CNT0', 'SURINC', 'INI_SPP', 'SUCST_IFSAUX', 'SURIP0', 'SUSAVTEND', 'SUDIMF1', 'SUSC2C', 'SUETLDIAG', 'GET_SPP_CONF', 'SUALLO', 'SU_SURF_FLDS', 'YOMGSGEOM', 'SUINI', 'MODEL_MOD:MODEL_DELETE', 'FALSIFY_SURF_FLDS', 'SUSPVARIABLES', 'SUJFH', 'YOMCST', 'SURAND1', 'SUIOS', 'SUPP', 'SUIOSTREAM', 'SUALGCO', 'SULSFORC', 'SUCHET', 'SUTIM', 'SUDIMO', 'SUALMDH', 'IFLUSHFDBSUBS', 'SUMDDH', 'SU0YOMA', 'GEOMETRY_MOD', 'GEOMETRY_MOD:GEOMETRY_DELETE', 'TESTVAR_MIX', 'SUMCC', 'SULUN', 'SUALNUD', 'SUALTDH', 'SUPPVI', 'FIELDS_MOD:FIELDS_DELETE', 'SUECHK', 'MODULE_RADTC_MIX', 'SUMPINI_PRT', 'SUINTFLEX', 'IFS_INIT']\n",
      "['SUGRIB', 'SUVWRK', 'SUMSC', 'ALLOCATE_EMPTY_TRAJECTORY', 'supergom_final%class_supergom', 'SUDIMF2', 'SUCT1', 'MODEL_MOD', 'DEALXMO', 'GSTATS_OUTPUT_IFS', '>MPL-GATHER', 'SU0YOMB', 'SUNUD', 'SUALDYN_DDH', 'SU1YOM', 'FIELD_CONTAINER_GP_MOD', 'SURLX', 'IOSTREAM_MIX:IOSTREAM_STATS', 'SUMP0', 'SUDIM_TRAJ', 'FINAL_STATS', 'SUCT0', 'YOE_CUCONVCA', 'YOMGWDIAG', 'SUFP_CTL', 'SUTRANS0', 'CNT1', 'SUMCUF', 'supergom_final', 'SURES', 'OPDIS', 'SPNG_MOD', 'YOMCSGEOM', 'SUALSPA', 'SUIAU', 'MASTER', 'supergom_destroy', 'FIELDS_MOD', 'MTRAJ_MOD', 'SUTRAJP', 'SU_GRIB_API', 'IOSTREAM_MIX:CLOSE_IOSTREAM', 'SUVAREPS', 'YEMLBC_INIT', 'GRIB_HANDLES_MOD', 'SUOPH', 'CNT0', 'SURINC', 'INI_SPP', 'SUCST_IFSAUX', 'SURIP0', 'SUSAVTEND', 'SUDIMF1', 'SUSC2C', 'SUETLDIAG', 'GET_SPP_CONF', 'SUALLO', 'SU_SURF_FLDS', 'YOMGSGEOM', 'SUINI', 'MODEL_MOD:MODEL_DELETE', 'FALSIFY_SURF_FLDS', 'SUSPVARIABLES', 'SUJFH', 'YOMCST', 'SURAND1', 'SUIOS', 'SUPP', 'SUIOSTREAM', 'SUALGCO', 'SULSFORC', 'SUCHET', 'SUTIM', 'SUDIMO', 'SUALMDH', 'IFLUSHFDBSUBS', 'SUMDDH', 'SU0YOMA', 'GEOMETRY_MOD', 'GEOMETRY_MOD:GEOMETRY_DELETE', 'TESTVAR_MIX', 'SUMCC', 'SULUN', 'SUALNUD', 'SUALTDH', 'SUPPVI', 'FIELDS_MOD:FIELDS_DELETE', 'SUECHK', 'MODULE_RADTC_MIX', 'SUMPINI_PRT', 'SUINTFLEX', 'IFS_INIT']\n",
      "['SUGRIB', 'SUVWRK', 'SUMSC', 'ALLOCATE_EMPTY_TRAJECTORY', 'supergom_final%class_supergom', 'SUDIMF2', 'SUCT1', 'MODEL_MOD', 'DEALXMO', 'GSTATS_OUTPUT_IFS', '>MPL-GATHER', 'SU0YOMB', 'SUNUD', 'SUALDYN_DDH', 'SU1YOM', 'FIELD_CONTAINER_GP_MOD', 'SURLX', 'IOSTREAM_MIX:IOSTREAM_STATS', 'SUMP0', 'SUDIM_TRAJ', 'FINAL_STATS', 'SUCT0', 'YOE_CUCONVCA', 'YOMGWDIAG', 'SUFP_CTL', 'SUTRANS0', 'CNT1', 'SUMCUF', 'supergom_final', 'SURES', 'OPDIS', 'SPNG_MOD', 'YOMCSGEOM', 'SUALSPA', 'SUIAU', 'MASTER', 'supergom_destroy', 'FIELDS_MOD', 'MTRAJ_MOD', 'SUTRAJP', 'SU_GRIB_API', 'IOSTREAM_MIX:CLOSE_IOSTREAM', 'SUVAREPS', 'YEMLBC_INIT', 'GRIB_HANDLES_MOD', 'SUOPH', 'CNT0', 'SURINC', 'INI_SPP', 'SUCST_IFSAUX', 'SURIP0', 'SUSAVTEND', 'SUDIMF1', 'SUSC2C', 'SUETLDIAG', 'GET_SPP_CONF', 'SUALLO', 'SU_SURF_FLDS', 'YOMGSGEOM', 'SUINI', 'MODEL_MOD:MODEL_DELETE', 'FALSIFY_SURF_FLDS', 'SUSPVARIABLES', 'SUJFH', 'YOMCST', 'SURAND1', 'SUIOS', 'SUPP', 'SUIOSTREAM', 'SUALGCO', 'SULSFORC', 'SUCHET', 'SUTIM', 'SUDIMO', 'SUALMDH', 'IFLUSHFDBSUBS', 'SUMDDH', 'SU0YOMA', 'GEOMETRY_MOD', 'GEOMETRY_MOD:GEOMETRY_DELETE', 'TESTVAR_MIX', 'SUMCC', 'SULUN', 'SUALNUD', 'SUALTDH', 'SUPPVI', 'FIELDS_MOD:FIELDS_DELETE', 'SUECHK', 'MODULE_RADTC_MIX', 'SUMPINI_PRT', 'SUINTFLEX', 'IFS_INIT']\n",
      "['SUGRIB', 'SUVWRK', 'SUMSC', 'ALLOCATE_EMPTY_TRAJECTORY', 'supergom_final%class_supergom', 'SUDIMF2', 'SUCT1', 'MODEL_MOD', 'DEALXMO', 'GSTATS_OUTPUT_IFS', '>MPL-GATHER', 'SU0YOMB', 'SUNUD', 'SUALDYN_DDH', 'SU1YOM', 'FIELD_CONTAINER_GP_MOD', 'SURLX', 'IOSTREAM_MIX:IOSTREAM_STATS', 'SUMP0', 'SUDIM_TRAJ', 'FINAL_STATS', 'SUCT0', 'YOE_CUCONVCA', 'YOMGWDIAG', 'SUFP_CTL', 'SUTRANS0', 'CNT1', 'SUMCUF', 'supergom_final', 'SURES', 'OPDIS', 'SPNG_MOD', 'YOMCSGEOM', 'SUALSPA', 'SUIAU', 'MASTER', 'supergom_destroy', 'FIELDS_MOD', 'MTRAJ_MOD', 'SUTRAJP', 'SU_GRIB_API', 'IOSTREAM_MIX:CLOSE_IOSTREAM', 'SUVAREPS', 'YEMLBC_INIT', 'GRIB_HANDLES_MOD', 'SUOPH', 'CNT0', 'SURINC', 'INI_SPP', 'SUCST_IFSAUX', 'SURIP0', 'SUSAVTEND', 'SUDIMF1', 'SUSC2C', 'SUETLDIAG', 'GET_SPP_CONF', 'SUALLO', 'SU_SURF_FLDS', 'YOMGSGEOM', 'SUINI', 'MODEL_MOD:MODEL_DELETE', 'FALSIFY_SURF_FLDS', 'SUSPVARIABLES', 'SUJFH', 'YOMCST', 'SURAND1', 'SUIOS', 'SUPP', 'SUIOSTREAM', 'SUALGCO', 'SULSFORC', 'SUCHET', 'SUTIM', 'SUDIMO', 'SUALMDH', 'IFLUSHFDBSUBS', 'SUMDDH', 'SU0YOMA', 'GEOMETRY_MOD', 'GEOMETRY_MOD:GEOMETRY_DELETE', 'TESTVAR_MIX', 'SUMCC', 'SULUN', 'SUALNUD', 'SUALTDH', 'SUPPVI', 'FIELDS_MOD:FIELDS_DELETE', 'SUECHK', 'MODULE_RADTC_MIX', 'SUMPINI_PRT', 'SUINTFLEX', 'IFS_INIT']\n",
      "['SUGRIB', 'SUVWRK', 'SUMSC', 'ALLOCATE_EMPTY_TRAJECTORY', 'supergom_final%class_supergom', 'SUDIMF2', 'SUCT1', 'MODEL_MOD', 'DEALXMO', 'GSTATS_OUTPUT_IFS', '>MPL-GATHER', 'SU0YOMB', 'SUNUD', 'SUALDYN_DDH', 'SU1YOM', 'FIELD_CONTAINER_GP_MOD', 'SURLX', 'IOSTREAM_MIX:IOSTREAM_STATS', 'SUMP0', 'SUDIM_TRAJ', 'FINAL_STATS', 'SUCT0', 'YOE_CUCONVCA', 'YOMGWDIAG', 'SUFP_CTL', 'SUTRANS0', 'CNT1', 'SUMCUF', 'supergom_final', 'SURES', 'OPDIS', 'SPNG_MOD', 'YOMCSGEOM', 'SUALSPA', 'SUIAU', 'MASTER', 'supergom_destroy', 'FIELDS_MOD', 'MTRAJ_MOD', 'SUTRAJP', 'SU_GRIB_API', 'IOSTREAM_MIX:CLOSE_IOSTREAM', 'SUVAREPS', 'YEMLBC_INIT', 'GRIB_HANDLES_MOD', 'SUOPH', 'CNT0', 'SURINC', 'INI_SPP', 'SUCST_IFSAUX', 'SURIP0', 'SUSAVTEND', 'SUDIMF1', 'SUSC2C', 'SUETLDIAG', 'GET_SPP_CONF', 'SUALLO', 'SU_SURF_FLDS', 'YOMGSGEOM', 'SUINI', 'MODEL_MOD:MODEL_DELETE', 'FALSIFY_SURF_FLDS', 'SUSPVARIABLES', 'SUJFH', 'YOMCST', 'SURAND1', 'SUIOS', 'SUPP', 'SUIOSTREAM', 'SUALGCO', 'SULSFORC', 'SUCHET', 'SUTIM', 'SUDIMO', 'SUALMDH', 'IFLUSHFDBSUBS', 'SUMDDH', 'SU0YOMA', 'GEOMETRY_MOD', 'GEOMETRY_MOD:GEOMETRY_DELETE', 'TESTVAR_MIX', 'SUMCC', 'SULUN', 'SUALNUD', 'SUALTDH', 'SUPPVI', 'FIELDS_MOD:FIELDS_DELETE', 'SUECHK', 'MODULE_RADTC_MIX', 'SUMPINI_PRT', 'SUINTFLEX', 'IFS_INIT']\n",
      "['SUGRIB', 'SUVWRK', 'SUMSC', 'ALLOCATE_EMPTY_TRAJECTORY', 'supergom_final%class_supergom', 'SUDIMF2', 'SUCT1', 'MODEL_MOD', 'DEALXMO', 'GSTATS_OUTPUT_IFS', '>MPL-GATHER', 'SU0YOMB', 'SUNUD', 'SUALDYN_DDH', 'SU1YOM', 'FIELD_CONTAINER_GP_MOD', 'SURLX', 'IOSTREAM_MIX:IOSTREAM_STATS', 'SUMP0', 'SUDIM_TRAJ', 'FINAL_STATS', 'SUCT0', 'YOE_CUCONVCA', 'YOMGWDIAG', 'SUFP_CTL', 'SUTRANS0', 'CNT1', 'SUMCUF', 'supergom_final', 'SURES', 'OPDIS', 'SPNG_MOD', 'YOMCSGEOM', 'SUALSPA', 'SUIAU', 'MASTER', 'supergom_destroy', 'FIELDS_MOD', 'MTRAJ_MOD', 'SUTRAJP', 'SU_GRIB_API', 'IOSTREAM_MIX:CLOSE_IOSTREAM', 'SUVAREPS', 'YEMLBC_INIT', 'GRIB_HANDLES_MOD', 'SUOPH', 'CNT0', 'SURINC', 'INI_SPP', 'SUCST_IFSAUX', 'SURIP0', 'SUSAVTEND', 'SUDIMF1', 'SUSC2C', 'SUETLDIAG', 'GET_SPP_CONF', 'SUALLO', 'SU_SURF_FLDS', 'YOMGSGEOM', 'SUINI', 'MODEL_MOD:MODEL_DELETE', 'FALSIFY_SURF_FLDS', 'SUSPVARIABLES', 'SUJFH', 'YOMCST', 'SURAND1', 'SUIOS', 'SUPP', 'SUIOSTREAM', 'SUALGCO', 'SULSFORC', 'SUCHET', 'SUTIM', 'SUDIMO', 'SUALMDH', 'IFLUSHFDBSUBS', 'SUMDDH', 'SU0YOMA', 'GEOMETRY_MOD', 'GEOMETRY_MOD:GEOMETRY_DELETE', 'TESTVAR_MIX', 'SUMCC', 'SULUN', 'SUALNUD', 'SUALTDH', 'SUPPVI', 'FIELDS_MOD:FIELDS_DELETE', 'SUECHK', 'MODULE_RADTC_MIX', 'SUMPINI_PRT', 'SUINTFLEX', 'IFS_INIT']\n",
      "['SUGRIB', 'SUVWRK', 'SUMSC', 'ALLOCATE_EMPTY_TRAJECTORY', 'supergom_final%class_supergom', 'SUDIMF2', 'SUCT1', 'MODEL_MOD', 'DEALXMO', 'GSTATS_OUTPUT_IFS', '>MPL-GATHER', 'SU0YOMB', 'SUNUD', 'SUALDYN_DDH', 'SU1YOM', 'FIELD_CONTAINER_GP_MOD', 'SURLX', 'IOSTREAM_MIX:IOSTREAM_STATS', 'SUMP0', 'SUDIM_TRAJ', 'FINAL_STATS', 'SUCT0', 'YOE_CUCONVCA', 'YOMGWDIAG', 'SUFP_CTL', 'SUTRANS0', 'CNT1', 'SUMCUF', 'supergom_final', 'SURES', 'OPDIS', 'SPNG_MOD', 'YOMCSGEOM', 'SUALSPA', 'SUIAU', 'MASTER', 'supergom_destroy', 'FIELDS_MOD', 'MTRAJ_MOD', 'SUTRAJP', 'SU_GRIB_API', 'IOSTREAM_MIX:CLOSE_IOSTREAM', 'SUVAREPS', 'YEMLBC_INIT', 'GRIB_HANDLES_MOD', 'SUOPH', 'CNT0', 'SURINC', 'INI_SPP', 'SUCST_IFSAUX', 'SURIP0', 'SUSAVTEND', 'SUDIMF1', 'SUSC2C', 'SUETLDIAG', 'GET_SPP_CONF', 'SUALLO', 'SU_SURF_FLDS', 'YOMGSGEOM', 'SUINI', 'MODEL_MOD:MODEL_DELETE', 'FALSIFY_SURF_FLDS', 'SUSPVARIABLES', 'SUJFH', 'YOMCST', 'SURAND1', 'SUIOS', 'SUPP', 'SUIOSTREAM', 'SUALGCO', 'SULSFORC', 'SUCHET', 'SUTIM', 'SUDIMO', 'SUALMDH', 'IFLUSHFDBSUBS', 'SUMDDH', 'SU0YOMA', 'GEOMETRY_MOD', 'GEOMETRY_MOD:GEOMETRY_DELETE', 'TESTVAR_MIX', 'SUMCC', 'SULUN', 'SUALNUD', 'SUALTDH', 'SUPPVI', 'FIELDS_MOD:FIELDS_DELETE', 'SUECHK', 'MODULE_RADTC_MIX', 'SUMPINI_PRT', 'SUINTFLEX', 'IFS_INIT']\n",
      "['SUGRIB', 'SUVWRK', 'SUMSC', 'ALLOCATE_EMPTY_TRAJECTORY', 'supergom_final%class_supergom', 'SUDIMF2', 'SUCT1', 'MODEL_MOD', 'DEALXMO', 'GSTATS_OUTPUT_IFS', '>MPL-GATHER', 'SU0YOMB', 'SUNUD', 'SUALDYN_DDH', 'SU1YOM', 'FIELD_CONTAINER_GP_MOD', 'SURLX', 'IOSTREAM_MIX:IOSTREAM_STATS', 'SUMP0', 'SUDIM_TRAJ', 'FINAL_STATS', 'SUCT0', 'YOE_CUCONVCA', 'YOMGWDIAG', 'SUFP_CTL', 'SUTRANS0', 'CNT1', 'SUMCUF', 'supergom_final', 'SURES', 'OPDIS', 'SPNG_MOD', 'YOMCSGEOM', 'SUALSPA', 'SUIAU', 'MASTER', 'supergom_destroy', 'FIELDS_MOD', 'MTRAJ_MOD', 'SUTRAJP', 'SU_GRIB_API', 'IOSTREAM_MIX:CLOSE_IOSTREAM', 'SUVAREPS', 'YEMLBC_INIT', 'GRIB_HANDLES_MOD', 'SUOPH', 'CNT0', 'SURINC', 'INI_SPP', 'SUCST_IFSAUX', 'SURIP0', 'SUSAVTEND', 'SUDIMF1', 'SUSC2C', 'SUETLDIAG', 'GET_SPP_CONF', 'SUALLO', 'SU_SURF_FLDS', 'YOMGSGEOM', 'SUINI', 'MODEL_MOD:MODEL_DELETE', 'FALSIFY_SURF_FLDS', 'SUSPVARIABLES', 'SUJFH', 'YOMCST', 'SURAND1', 'SUIOS', 'SUPP', 'SUIOSTREAM', 'SUALGCO', 'SULSFORC', 'SUCHET', 'SUTIM', 'SUDIMO', 'SUALMDH', 'IFLUSHFDBSUBS', 'SUMDDH', 'SU0YOMA', 'GEOMETRY_MOD', 'GEOMETRY_MOD:GEOMETRY_DELETE', 'TESTVAR_MIX', 'SUMCC', 'SULUN', 'SUALNUD', 'SUALTDH', 'SUPPVI', 'FIELDS_MOD:FIELDS_DELETE', 'SUECHK', 'MODULE_RADTC_MIX', 'SUMPINI_PRT', 'SUINTFLEX', 'IFS_INIT']\n",
      "['SUGRIB', 'SUVWRK', 'SUMSC', 'ALLOCATE_EMPTY_TRAJECTORY', 'supergom_final%class_supergom', 'SUDIMF2', 'SUCT1', 'MODEL_MOD', 'DEALXMO', 'GSTATS_OUTPUT_IFS', '>MPL-GATHER', 'SU0YOMB', 'SUNUD', 'SUALDYN_DDH', 'SU1YOM', 'FIELD_CONTAINER_GP_MOD', 'SURLX', 'IOSTREAM_MIX:IOSTREAM_STATS', 'SUMP0', 'SUDIM_TRAJ', 'FINAL_STATS', 'SUCT0', 'YOE_CUCONVCA', 'YOMGWDIAG', 'SUFP_CTL', 'SUTRANS0', 'CNT1', 'SUMCUF', 'supergom_final', 'SURES', 'OPDIS', 'SPNG_MOD', 'YOMCSGEOM', 'SUALSPA', 'SUIAU', 'MASTER', 'supergom_destroy', 'FIELDS_MOD', 'MTRAJ_MOD', 'SUTRAJP', 'SU_GRIB_API', 'IOSTREAM_MIX:CLOSE_IOSTREAM', 'SUVAREPS', 'YEMLBC_INIT', 'GRIB_HANDLES_MOD', 'SUOPH', 'CNT0', 'SURINC', 'INI_SPP', 'SUCST_IFSAUX', 'SURIP0', 'SUSAVTEND', 'SUDIMF1', 'SUSC2C', 'SUETLDIAG', 'GET_SPP_CONF', 'SUALLO', 'SU_SURF_FLDS', 'YOMGSGEOM', 'SUINI', 'MODEL_MOD:MODEL_DELETE', 'FALSIFY_SURF_FLDS', 'SUSPVARIABLES', 'SUJFH', 'YOMCST', 'SURAND1', 'SUIOS', 'SUPP', 'SUIOSTREAM', 'SUALGCO', 'SULSFORC', 'SUCHET', 'SUTIM', 'SUDIMO', 'SUALMDH', 'IFLUSHFDBSUBS', 'SUMDDH', 'SU0YOMA', 'GEOMETRY_MOD', 'GEOMETRY_MOD:GEOMETRY_DELETE', 'TESTVAR_MIX', 'SUMCC', 'SULUN', 'SUALNUD', 'SUALTDH', 'SUPPVI', 'FIELDS_MOD:FIELDS_DELETE', 'SUECHK', 'MODULE_RADTC_MIX', 'SUMPINI_PRT', 'SUINTFLEX', 'IFS_INIT']\n",
      "['SUGRIB', 'SUVWRK', 'SUMSC', 'ALLOCATE_EMPTY_TRAJECTORY', 'supergom_final%class_supergom', 'SUDIMF2', 'SUCT1', 'MODEL_MOD', 'DEALXMO', 'GSTATS_OUTPUT_IFS', '>MPL-GATHER', 'SU0YOMB', 'SUNUD', 'SUALDYN_DDH', 'SU1YOM', 'FIELD_CONTAINER_GP_MOD', 'SURLX', 'IOSTREAM_MIX:IOSTREAM_STATS', 'SUMP0', 'SUDIM_TRAJ', 'FINAL_STATS', 'SUCT0', 'YOE_CUCONVCA', 'YOMGWDIAG', 'SUFP_CTL', 'SUTRANS0', 'CNT1', 'SUMCUF', 'supergom_final', 'SURES', 'OPDIS', 'SPNG_MOD', 'YOMCSGEOM', 'SUALSPA', 'SUIAU', 'MASTER', 'supergom_destroy', 'FIELDS_MOD', 'MTRAJ_MOD', 'SUTRAJP', 'SU_GRIB_API', 'IOSTREAM_MIX:CLOSE_IOSTREAM', 'SUVAREPS', 'YEMLBC_INIT', 'GRIB_HANDLES_MOD', 'SUOPH', 'CNT0', 'SURINC', 'INI_SPP', 'SUCST_IFSAUX', 'SURIP0', 'SUSAVTEND', 'SUDIMF1', 'SUSC2C', 'SUETLDIAG', 'GET_SPP_CONF', 'SUALLO', 'SU_SURF_FLDS', 'YOMGSGEOM', 'SUINI', 'MODEL_MOD:MODEL_DELETE', 'FALSIFY_SURF_FLDS', 'SUSPVARIABLES', 'SUJFH', 'YOMCST', 'SURAND1', 'SUIOS', 'SUPP', 'SUIOSTREAM', 'SUALGCO', 'SULSFORC', 'SUCHET', 'SUTIM', 'SUDIMO', 'SUALMDH', 'IFLUSHFDBSUBS', 'SUMDDH', 'SU0YOMA', 'GEOMETRY_MOD', 'GEOMETRY_MOD:GEOMETRY_DELETE', 'TESTVAR_MIX', 'SUMCC', 'SULUN', 'SUALNUD', 'SUALTDH', 'SUPPVI', 'FIELDS_MOD:FIELDS_DELETE', 'SUECHK', 'MODULE_RADTC_MIX', 'SUMPINI_PRT', 'SUINTFLEX', 'IFS_INIT']\n",
      "['SUGRIB', 'SUVWRK', 'SUMSC', 'ALLOCATE_EMPTY_TRAJECTORY', 'supergom_final%class_supergom', 'SUDIMF2', 'SUCT1', 'MODEL_MOD', 'DEALXMO', 'GSTATS_OUTPUT_IFS', '>MPL-GATHER', 'SU0YOMB', 'SUNUD', 'SUALDYN_DDH', 'SU1YOM', 'FIELD_CONTAINER_GP_MOD', 'SURLX', 'IOSTREAM_MIX:IOSTREAM_STATS', 'SUMP0', 'SUDIM_TRAJ', 'FINAL_STATS', 'SUCT0', 'YOE_CUCONVCA', 'YOMGWDIAG', 'SUFP_CTL', 'SUTRANS0', 'CNT1', 'SUMCUF', 'supergom_final', 'SURES', 'OPDIS', 'SPNG_MOD', 'YOMCSGEOM', 'SUALSPA', 'SUIAU', 'MASTER', 'supergom_destroy', 'FIELDS_MOD', 'MTRAJ_MOD', 'SUTRAJP', 'SU_GRIB_API', 'IOSTREAM_MIX:CLOSE_IOSTREAM', 'SUVAREPS', 'YEMLBC_INIT', 'GRIB_HANDLES_MOD', 'SUOPH', 'CNT0', 'SURINC', 'INI_SPP', 'SUCST_IFSAUX', 'SURIP0', 'SUSAVTEND', 'SUDIMF1', 'SUSC2C', 'SUETLDIAG', 'GET_SPP_CONF', 'SUALLO', 'SU_SURF_FLDS', 'YOMGSGEOM', 'SUINI', 'MODEL_MOD:MODEL_DELETE', 'FALSIFY_SURF_FLDS', 'SUSPVARIABLES', 'SUJFH', 'YOMCST', 'SURAND1', 'SUIOS', 'SUPP', 'SUIOSTREAM', 'SUALGCO', 'SULSFORC', 'SUCHET', 'SUTIM', 'SUDIMO', 'SUALMDH', 'IFLUSHFDBSUBS', 'SUMDDH', 'SU0YOMA', 'GEOMETRY_MOD', 'GEOMETRY_MOD:GEOMETRY_DELETE', 'TESTVAR_MIX', 'SUMCC', 'SULUN', 'SUALNUD', 'SUALTDH', 'SUPPVI', 'FIELDS_MOD:FIELDS_DELETE', 'SUECHK', 'MODULE_RADTC_MIX', 'SUMPINI_PRT', 'SUINTFLEX', 'IFS_INIT']\n",
      "['SUGRIB', 'SUVWRK', 'SUMSC', 'ALLOCATE_EMPTY_TRAJECTORY', 'supergom_final%class_supergom', 'SUDIMF2', 'SUCT1', 'MODEL_MOD', 'DEALXMO', 'GSTATS_OUTPUT_IFS', '>MPL-GATHER', 'SU0YOMB', 'SUNUD', 'SUALDYN_DDH', 'SU1YOM', 'FIELD_CONTAINER_GP_MOD', 'SURLX', 'IOSTREAM_MIX:IOSTREAM_STATS', 'SUMP0', 'SUDIM_TRAJ', 'FINAL_STATS', 'SUCT0', 'YOE_CUCONVCA', 'YOMGWDIAG', 'SUFP_CTL', 'SUTRANS0', 'CNT1', 'SUMCUF', 'supergom_final', 'SURES', 'OPDIS', 'SPNG_MOD', 'YOMCSGEOM', 'SUALSPA', 'SUIAU', 'MASTER', 'supergom_destroy', 'FIELDS_MOD', 'MTRAJ_MOD', 'SUTRAJP', 'SU_GRIB_API', 'IOSTREAM_MIX:CLOSE_IOSTREAM', 'SUVAREPS', 'YEMLBC_INIT', 'GRIB_HANDLES_MOD', 'SUOPH', 'CNT0', 'SURINC', 'INI_SPP', 'SUCST_IFSAUX', 'SURIP0', 'SUSAVTEND', 'SUDIMF1', 'SUSC2C', 'SUETLDIAG', 'GET_SPP_CONF', 'SUALLO', 'SU_SURF_FLDS', 'YOMGSGEOM', 'SUINI', 'MODEL_MOD:MODEL_DELETE', 'FALSIFY_SURF_FLDS', 'SUSPVARIABLES', 'SUJFH', 'YOMCST', 'SURAND1', 'SUIOS', 'SUPP', 'SUIOSTREAM', 'SUALGCO', 'SULSFORC', 'SUCHET', 'SUTIM', 'SUDIMO', 'SUALMDH', 'IFLUSHFDBSUBS', 'SUMDDH', 'SU0YOMA', 'GEOMETRY_MOD', 'GEOMETRY_MOD:GEOMETRY_DELETE', 'TESTVAR_MIX', 'SUMCC', 'SULUN', 'SUALNUD', 'SUALTDH', 'SUPPVI', 'FIELDS_MOD:FIELDS_DELETE', 'SUECHK', 'MODULE_RADTC_MIX', 'SUMPINI_PRT', 'SUINTFLEX', 'IFS_INIT']\n",
      "['SUGRIB', 'SUVWRK', 'SUMSC', 'ALLOCATE_EMPTY_TRAJECTORY', 'supergom_final%class_supergom', 'SUDIMF2', 'SUCT1', 'MODEL_MOD', 'DEALXMO', 'GSTATS_OUTPUT_IFS', '>MPL-GATHER', 'SU0YOMB', 'SUNUD', 'SUALDYN_DDH', 'SU1YOM', 'FIELD_CONTAINER_GP_MOD', 'SURLX', 'IOSTREAM_MIX:IOSTREAM_STATS', 'SUMP0', 'SUDIM_TRAJ', 'FINAL_STATS', 'SUCT0', 'YOE_CUCONVCA', 'YOMGWDIAG', 'SUFP_CTL', 'SUTRANS0', 'CNT1', 'SUMCUF', 'supergom_final', 'SURES', 'OPDIS', 'SPNG_MOD', 'YOMCSGEOM', 'SUALSPA', 'SUIAU', 'MASTER', 'supergom_destroy', 'FIELDS_MOD', 'MTRAJ_MOD', 'SUTRAJP', 'SU_GRIB_API', 'IOSTREAM_MIX:CLOSE_IOSTREAM', 'SUVAREPS', 'YEMLBC_INIT', 'GRIB_HANDLES_MOD', 'SUOPH', 'CNT0', 'SURINC', 'INI_SPP', 'SUCST_IFSAUX', 'SURIP0', 'SUSAVTEND', 'SUDIMF1', 'SUSC2C', 'SUETLDIAG', 'GET_SPP_CONF', 'SUALLO', 'SU_SURF_FLDS', 'YOMGSGEOM', 'SUINI', 'MODEL_MOD:MODEL_DELETE', 'FALSIFY_SURF_FLDS', 'SUSPVARIABLES', 'SUJFH', 'YOMCST', 'SURAND1', 'SUIOS', 'SUPP', 'SUIOSTREAM', 'SUALGCO', 'SULSFORC', 'SUCHET', 'SUTIM', 'SUDIMO', 'SUALMDH', 'IFLUSHFDBSUBS', 'SUMDDH', 'SU0YOMA', 'GEOMETRY_MOD', 'GEOMETRY_MOD:GEOMETRY_DELETE', 'TESTVAR_MIX', 'SUMCC', 'SULUN', 'SUALNUD', 'SUALTDH', 'SUPPVI', 'FIELDS_MOD:FIELDS_DELETE', 'SUECHK', 'MODULE_RADTC_MIX', 'SUMPINI_PRT', 'SUINTFLEX', 'IFS_INIT']\n",
      "['SUGRIB', 'SUVWRK', 'SUMSC', 'ALLOCATE_EMPTY_TRAJECTORY', 'supergom_final%class_supergom', 'SUDIMF2', 'SUCT1', 'MODEL_MOD', 'DEALXMO', 'GSTATS_OUTPUT_IFS', '>MPL-GATHER', 'SU0YOMB', 'SUNUD', 'SUALDYN_DDH', 'SU1YOM', 'FIELD_CONTAINER_GP_MOD', 'SURLX', 'IOSTREAM_MIX:IOSTREAM_STATS', 'SUMP0', 'SUDIM_TRAJ', 'FINAL_STATS', 'SUCT0', 'YOE_CUCONVCA', 'YOMGWDIAG', 'SUFP_CTL', 'SUTRANS0', 'CNT1', 'SUMCUF', 'supergom_final', 'SURES', 'OPDIS', 'SPNG_MOD', 'YOMCSGEOM', 'SUALSPA', 'SUIAU', 'MASTER', 'supergom_destroy', 'FIELDS_MOD', 'MTRAJ_MOD', 'SUTRAJP', 'SU_GRIB_API', 'IOSTREAM_MIX:CLOSE_IOSTREAM', 'SUVAREPS', 'YEMLBC_INIT', 'GRIB_HANDLES_MOD', 'SUOPH', 'CNT0', 'SURINC', 'INI_SPP', 'SUCST_IFSAUX', 'SURIP0', 'SUSAVTEND', 'SUDIMF1', 'SUSC2C', 'SUETLDIAG', 'GET_SPP_CONF', 'SUALLO', 'SU_SURF_FLDS', 'YOMGSGEOM', 'SUINI', 'MODEL_MOD:MODEL_DELETE', 'FALSIFY_SURF_FLDS', 'SUSPVARIABLES', 'SUJFH', 'YOMCST', 'SURAND1', 'SUIOS', 'SUPP', 'SUIOSTREAM', 'SUALGCO', 'SULSFORC', 'SUCHET', 'SUTIM', 'SUDIMO', 'SUALMDH', 'IFLUSHFDBSUBS', 'SUMDDH', 'SU0YOMA', 'GEOMETRY_MOD', 'GEOMETRY_MOD:GEOMETRY_DELETE', 'TESTVAR_MIX', 'SUMCC', 'SULUN', 'SUALNUD', 'SUALTDH', 'SUPPVI', 'FIELDS_MOD:FIELDS_DELETE', 'SUECHK', 'MODULE_RADTC_MIX', 'SUMPINI_PRT', 'SUINTFLEX', 'IFS_INIT']\n",
      "['SUGRIB', 'SUVWRK', 'SUMSC', 'ALLOCATE_EMPTY_TRAJECTORY', 'supergom_final%class_supergom', 'SUDIMF2', 'SUCT1', 'MODEL_MOD', 'DEALXMO', 'GSTATS_OUTPUT_IFS', '>MPL-GATHER', 'SU0YOMB', 'SUNUD', 'SUALDYN_DDH', 'SU1YOM', 'FIELD_CONTAINER_GP_MOD', 'SURLX', 'IOSTREAM_MIX:IOSTREAM_STATS', 'SUMP0', 'SUDIM_TRAJ', 'FINAL_STATS', 'SUCT0', 'YOE_CUCONVCA', 'YOMGWDIAG', 'SUFP_CTL', 'SUTRANS0', 'CNT1', 'SUMCUF', 'supergom_final', 'SURES', 'OPDIS', 'SPNG_MOD', 'YOMCSGEOM', 'SUALSPA', 'SUIAU', 'MASTER', 'supergom_destroy', 'FIELDS_MOD', 'MTRAJ_MOD', 'SUTRAJP', 'SU_GRIB_API', 'IOSTREAM_MIX:CLOSE_IOSTREAM', 'SUVAREPS', 'YEMLBC_INIT', 'GRIB_HANDLES_MOD', 'SUOPH', 'CNT0', 'SURINC', 'INI_SPP', 'SUCST_IFSAUX', 'SURIP0', 'SUSAVTEND', 'SUDIMF1', 'SUSC2C', 'SUETLDIAG', 'GET_SPP_CONF', 'SUALLO', 'SU_SURF_FLDS', 'YOMGSGEOM', 'SUINI', 'MODEL_MOD:MODEL_DELETE', 'FALSIFY_SURF_FLDS', 'SUSPVARIABLES', 'SUJFH', 'YOMCST', 'SURAND1', 'SUIOS', 'SUPP', 'SUIOSTREAM', 'SUALGCO', 'SULSFORC', 'SUCHET', 'SUTIM', 'SUDIMO', 'SUALMDH', 'IFLUSHFDBSUBS', 'SUMDDH', 'SU0YOMA', 'GEOMETRY_MOD', 'GEOMETRY_MOD:GEOMETRY_DELETE', 'TESTVAR_MIX', 'SUMCC', 'SULUN', 'SUALNUD', 'SUALTDH', 'SUPPVI', 'FIELDS_MOD:FIELDS_DELETE', 'SUECHK', 'MODULE_RADTC_MIX', 'SUMPINI_PRT', 'SUINTFLEX', 'IFS_INIT']\n",
      "['SUGRIB', 'SUVWRK', 'SUMSC', 'ALLOCATE_EMPTY_TRAJECTORY', 'supergom_final%class_supergom', 'SUDIMF2', 'SUCT1', 'MODEL_MOD', 'DEALXMO', 'GSTATS_OUTPUT_IFS', '>MPL-GATHER', 'SU0YOMB', 'SUNUD', 'SUALDYN_DDH', 'SU1YOM', 'FIELD_CONTAINER_GP_MOD', 'SURLX', 'IOSTREAM_MIX:IOSTREAM_STATS', 'SUMP0', 'SUDIM_TRAJ', 'FINAL_STATS', 'SUCT0', 'YOE_CUCONVCA', 'YOMGWDIAG', 'SUFP_CTL', 'SUTRANS0', 'CNT1', 'SUMCUF', 'supergom_final', 'SURES', 'OPDIS', 'SPNG_MOD', 'YOMCSGEOM', 'SUALSPA', 'SUIAU', 'MASTER', 'supergom_destroy', 'FIELDS_MOD', 'MTRAJ_MOD', 'SUTRAJP', 'SU_GRIB_API', 'IOSTREAM_MIX:CLOSE_IOSTREAM', 'SUVAREPS', 'YEMLBC_INIT', 'GRIB_HANDLES_MOD', 'SUOPH', 'CNT0', 'SURINC', 'INI_SPP', 'SUCST_IFSAUX', 'SURIP0', 'SUSAVTEND', 'SUDIMF1', 'SUSC2C', 'SUETLDIAG', 'GET_SPP_CONF', 'SUALLO', 'SU_SURF_FLDS', 'YOMGSGEOM', 'SUINI', 'MODEL_MOD:MODEL_DELETE', 'FALSIFY_SURF_FLDS', 'SUSPVARIABLES', 'SUJFH', 'YOMCST', 'SURAND1', 'SUIOS', 'SUPP', 'SUIOSTREAM', 'SUALGCO', 'SULSFORC', 'SUCHET', 'SUTIM', 'SUDIMO', 'SUALMDH', 'IFLUSHFDBSUBS', 'SUMDDH', 'SU0YOMA', 'GEOMETRY_MOD', 'GEOMETRY_MOD:GEOMETRY_DELETE', 'TESTVAR_MIX', 'SUMCC', 'SULUN', 'SUALNUD', 'SUALTDH', 'SUPPVI', 'FIELDS_MOD:FIELDS_DELETE', 'SUECHK', 'MODULE_RADTC_MIX', 'SUMPINI_PRT', 'SUINTFLEX', 'IFS_INIT']\n",
      "['SUGRIB', 'SUVWRK', 'SUMSC', 'ALLOCATE_EMPTY_TRAJECTORY', 'supergom_final%class_supergom', 'SUDIMF2', 'SUCT1', 'MODEL_MOD', 'DEALXMO', 'GSTATS_OUTPUT_IFS', '>MPL-GATHER', 'SU0YOMB', 'SUNUD', 'SUALDYN_DDH', 'SU1YOM', 'FIELD_CONTAINER_GP_MOD', 'SURLX', 'IOSTREAM_MIX:IOSTREAM_STATS', 'SUMP0', 'SUDIM_TRAJ', 'FINAL_STATS', 'SUCT0', 'YOE_CUCONVCA', 'YOMGWDIAG', 'SUFP_CTL', 'SUTRANS0', 'CNT1', 'SUMCUF', 'supergom_final', 'SURES', 'OPDIS', 'SPNG_MOD', 'YOMCSGEOM', 'SUALSPA', 'SUIAU', 'MASTER', 'supergom_destroy', 'FIELDS_MOD', 'MTRAJ_MOD', 'SUTRAJP', 'SU_GRIB_API', 'IOSTREAM_MIX:CLOSE_IOSTREAM', 'SUVAREPS', 'YEMLBC_INIT', 'GRIB_HANDLES_MOD', 'SUOPH', 'CNT0', 'SURINC', 'INI_SPP', 'SUCST_IFSAUX', 'SURIP0', 'SUSAVTEND', 'SUDIMF1', 'SUSC2C', 'SUETLDIAG', 'GET_SPP_CONF', 'SUALLO', 'SU_SURF_FLDS', 'YOMGSGEOM', 'SUINI', 'MODEL_MOD:MODEL_DELETE', 'FALSIFY_SURF_FLDS', 'SUSPVARIABLES', 'SUJFH', 'YOMCST', 'SURAND1', 'SUIOS', 'SUPP', 'SUIOSTREAM', 'SUALGCO', 'SULSFORC', 'SUCHET', 'SUTIM', 'SUDIMO', 'SUALMDH', 'IFLUSHFDBSUBS', 'SUMDDH', 'SU0YOMA', 'GEOMETRY_MOD', 'GEOMETRY_MOD:GEOMETRY_DELETE', 'TESTVAR_MIX', 'SUMCC', 'SULUN', 'SUALNUD', 'SUALTDH', 'SUPPVI', 'FIELDS_MOD:FIELDS_DELETE', 'SUECHK', 'MODULE_RADTC_MIX', 'SUMPINI_PRT', 'SUINTFLEX', 'IFS_INIT']\n",
      "['SUGRIB', 'SUVWRK', 'SUMSC', 'ALLOCATE_EMPTY_TRAJECTORY', 'supergom_final%class_supergom', 'SUDIMF2', 'SUCT1', 'MODEL_MOD', 'DEALXMO', 'GSTATS_OUTPUT_IFS', '>MPL-GATHER', 'SU0YOMB', 'SUNUD', 'SUALDYN_DDH', 'SU1YOM', 'FIELD_CONTAINER_GP_MOD', 'SURLX', 'IOSTREAM_MIX:IOSTREAM_STATS', 'SUMP0', 'SUDIM_TRAJ', 'FINAL_STATS', 'SUCT0', 'YOE_CUCONVCA', 'YOMGWDIAG', 'SUFP_CTL', 'SUTRANS0', 'CNT1', 'SUMCUF', 'supergom_final', 'SURES', 'OPDIS', 'SPNG_MOD', 'YOMCSGEOM', 'SUALSPA', 'SUIAU', 'MASTER', 'supergom_destroy', 'FIELDS_MOD', 'MTRAJ_MOD', 'SUTRAJP', 'SU_GRIB_API', 'IOSTREAM_MIX:CLOSE_IOSTREAM', 'SUVAREPS', 'YEMLBC_INIT', 'GRIB_HANDLES_MOD', 'SUOPH', 'CNT0', 'SURINC', 'INI_SPP', 'SUCST_IFSAUX', 'SURIP0', 'SUSAVTEND', 'SUDIMF1', 'SUSC2C', 'SUETLDIAG', 'GET_SPP_CONF', 'SUALLO', 'SU_SURF_FLDS', 'YOMGSGEOM', 'SUINI', 'MODEL_MOD:MODEL_DELETE', 'FALSIFY_SURF_FLDS', 'SUSPVARIABLES', 'SUJFH', 'YOMCST', 'SURAND1', 'SUIOS', 'SUPP', 'SUIOSTREAM', 'SUALGCO', 'SULSFORC', 'SUCHET', 'SUTIM', 'SUDIMO', 'SUALMDH', 'IFLUSHFDBSUBS', 'SUMDDH', 'SU0YOMA', 'GEOMETRY_MOD', 'GEOMETRY_MOD:GEOMETRY_DELETE', 'TESTVAR_MIX', 'SUMCC', 'SULUN', 'SUALNUD', 'SUALTDH', 'SUPPVI', 'FIELDS_MOD:FIELDS_DELETE', 'SUECHK', 'MODULE_RADTC_MIX', 'SUMPINI_PRT', 'SUINTFLEX', 'IFS_INIT']\n",
      "['SUGRIB', 'SUVWRK', 'SUMSC', 'ALLOCATE_EMPTY_TRAJECTORY', 'supergom_final%class_supergom', 'SUDIMF2', 'SUCT1', 'MODEL_MOD', 'DEALXMO', 'GSTATS_OUTPUT_IFS', '>MPL-GATHER', 'SU0YOMB', 'SUNUD', 'SUALDYN_DDH', 'SU1YOM', 'FIELD_CONTAINER_GP_MOD', 'SURLX', 'IOSTREAM_MIX:IOSTREAM_STATS', 'SUMP0', 'SUDIM_TRAJ', 'FINAL_STATS', 'SUCT0', 'YOE_CUCONVCA', 'YOMGWDIAG', 'SUFP_CTL', 'SUTRANS0', 'CNT1', 'SUMCUF', 'supergom_final', 'SURES', 'OPDIS', 'SPNG_MOD', 'YOMCSGEOM', 'SUALSPA', 'SUIAU', 'MASTER', 'supergom_destroy', 'FIELDS_MOD', 'MTRAJ_MOD', 'SUTRAJP', 'SU_GRIB_API', 'IOSTREAM_MIX:CLOSE_IOSTREAM', 'SUVAREPS', 'YEMLBC_INIT', 'GRIB_HANDLES_MOD', 'SUOPH', 'CNT0', 'SURINC', 'INI_SPP', 'SUCST_IFSAUX', 'SURIP0', 'SUSAVTEND', 'SUDIMF1', 'SUSC2C', 'SUETLDIAG', 'GET_SPP_CONF', 'SUALLO', 'SU_SURF_FLDS', 'YOMGSGEOM', 'SUINI', 'MODEL_MOD:MODEL_DELETE', 'FALSIFY_SURF_FLDS', 'SUSPVARIABLES', 'SUJFH', 'YOMCST', 'SURAND1', 'SUIOS', 'SUPP', 'SUIOSTREAM', 'SUALGCO', 'SULSFORC', 'SUCHET', 'SUTIM', 'SUDIMO', 'SUALMDH', 'IFLUSHFDBSUBS', 'SUMDDH', 'SU0YOMA', 'GEOMETRY_MOD', 'GEOMETRY_MOD:GEOMETRY_DELETE', 'TESTVAR_MIX', 'SUMCC', 'SULUN', 'SUALNUD', 'SUALTDH', 'SUPPVI', 'FIELDS_MOD:FIELDS_DELETE', 'SUECHK', 'MODULE_RADTC_MIX', 'SUMPINI_PRT', 'SUINTFLEX', 'IFS_INIT']\n",
      "['SUGRIB', 'SUVWRK', 'SUMSC', 'ALLOCATE_EMPTY_TRAJECTORY', 'supergom_final%class_supergom', 'SUDIMF2', 'SUCT1', 'MODEL_MOD', 'DEALXMO', 'GSTATS_OUTPUT_IFS', '>MPL-GATHER', 'SU0YOMB', 'SUNUD', 'SUALDYN_DDH', 'SU1YOM', 'FIELD_CONTAINER_GP_MOD', 'SURLX', 'IOSTREAM_MIX:IOSTREAM_STATS', 'SUMP0', 'SUDIM_TRAJ', 'FINAL_STATS', 'SUCT0', 'YOE_CUCONVCA', 'YOMGWDIAG', 'SUFP_CTL', 'SUTRANS0', 'CNT1', 'SUMCUF', 'supergom_final', 'SURES', 'OPDIS', 'SPNG_MOD', 'YOMCSGEOM', 'SUALSPA', 'SUIAU', 'MASTER', 'supergom_destroy', 'FIELDS_MOD', 'MTRAJ_MOD', 'SUTRAJP', 'SU_GRIB_API', 'IOSTREAM_MIX:CLOSE_IOSTREAM', 'SUVAREPS', 'YEMLBC_INIT', 'GRIB_HANDLES_MOD', 'SUOPH', 'CNT0', 'SURINC', 'INI_SPP', 'SUCST_IFSAUX', 'SURIP0', 'SUSAVTEND', 'SUDIMF1', 'SUSC2C', 'SUETLDIAG', 'GET_SPP_CONF', 'SUALLO', 'SU_SURF_FLDS', 'YOMGSGEOM', 'SUINI', 'MODEL_MOD:MODEL_DELETE', 'FALSIFY_SURF_FLDS', 'SUSPVARIABLES', 'SUJFH', 'YOMCST', 'SURAND1', 'SUIOS', 'SUPP', 'SUIOSTREAM', 'SUALGCO', 'SULSFORC', 'SUCHET', 'SUTIM', 'SUDIMO', 'SUALMDH', 'IFLUSHFDBSUBS', 'SUMDDH', 'SU0YOMA', 'GEOMETRY_MOD', 'GEOMETRY_MOD:GEOMETRY_DELETE', 'TESTVAR_MIX', 'SUMCC', 'SULUN', 'SUALNUD', 'SUALTDH', 'SUPPVI', 'FIELDS_MOD:FIELDS_DELETE', 'SUECHK', 'MODULE_RADTC_MIX', 'SUMPINI_PRT', 'SUINTFLEX', 'IFS_INIT']\n",
      "['SUGRIB', 'SUVWRK', 'SUMSC', 'ALLOCATE_EMPTY_TRAJECTORY', 'supergom_final%class_supergom', 'SUDIMF2', 'SUCT1', 'MODEL_MOD', 'DEALXMO', 'GSTATS_OUTPUT_IFS', '>MPL-GATHER', 'SU0YOMB', 'SUNUD', 'SUALDYN_DDH', 'SU1YOM', 'FIELD_CONTAINER_GP_MOD', 'SURLX', 'IOSTREAM_MIX:IOSTREAM_STATS', 'SUMP0', 'SUDIM_TRAJ', 'FINAL_STATS', 'SUCT0', 'YOE_CUCONVCA', 'YOMGWDIAG', 'SUFP_CTL', 'SUTRANS0', 'CNT1', 'SUMCUF', 'supergom_final', 'SURES', 'OPDIS', 'SPNG_MOD', 'YOMCSGEOM', 'SUALSPA', 'SUIAU', 'MASTER', 'supergom_destroy', 'FIELDS_MOD', 'MTRAJ_MOD', 'SUTRAJP', 'SU_GRIB_API', 'IOSTREAM_MIX:CLOSE_IOSTREAM', 'SUVAREPS', 'YEMLBC_INIT', 'GRIB_HANDLES_MOD', 'SUOPH', 'CNT0', 'SURINC', 'INI_SPP', 'SUCST_IFSAUX', 'SURIP0', 'SUSAVTEND', 'SUDIMF1', 'SUSC2C', 'SUETLDIAG', 'GET_SPP_CONF', 'SUALLO', 'SU_SURF_FLDS', 'YOMGSGEOM', 'SUINI', 'MODEL_MOD:MODEL_DELETE', 'FALSIFY_SURF_FLDS', 'SUSPVARIABLES', 'SUJFH', 'YOMCST', 'SURAND1', 'SUIOS', 'SUPP', 'SUIOSTREAM', 'SUALGCO', 'SULSFORC', 'SUCHET', 'SUTIM', 'SUDIMO', 'SUALMDH', 'IFLUSHFDBSUBS', 'SUMDDH', 'SU0YOMA', 'GEOMETRY_MOD', 'GEOMETRY_MOD:GEOMETRY_DELETE', 'TESTVAR_MIX', 'SUMCC', 'SULUN', 'SUALNUD', 'SUALTDH', 'SUPPVI', 'FIELDS_MOD:FIELDS_DELETE', 'SUECHK', 'MODULE_RADTC_MIX', 'SUMPINI_PRT', 'SUINTFLEX', 'IFS_INIT']\n",
      "['SUGRIB', 'SUVWRK', 'SUMSC', 'ALLOCATE_EMPTY_TRAJECTORY', 'supergom_final%class_supergom', 'SUDIMF2', 'SUCT1', 'MODEL_MOD', 'DEALXMO', 'GSTATS_OUTPUT_IFS', '>MPL-GATHER', 'SU0YOMB', 'SUNUD', 'SUALDYN_DDH', 'SU1YOM', 'FIELD_CONTAINER_GP_MOD', 'SURLX', 'IOSTREAM_MIX:IOSTREAM_STATS', 'SUMP0', 'SUDIM_TRAJ', 'FINAL_STATS', 'SUCT0', 'YOE_CUCONVCA', 'YOMGWDIAG', 'SUFP_CTL', 'SUTRANS0', 'CNT1', 'SUMCUF', 'supergom_final', 'SURES', 'OPDIS', 'SPNG_MOD', 'YOMCSGEOM', 'SUALSPA', 'SUIAU', 'MASTER', 'supergom_destroy', 'FIELDS_MOD', 'MTRAJ_MOD', 'SUTRAJP', 'SU_GRIB_API', 'IOSTREAM_MIX:CLOSE_IOSTREAM', 'SUVAREPS', 'YEMLBC_INIT', 'GRIB_HANDLES_MOD', 'SUOPH', 'CNT0', 'SURINC', 'INI_SPP', 'SUCST_IFSAUX', 'SURIP0', 'SUSAVTEND', 'SUDIMF1', 'SUSC2C', 'SUETLDIAG', 'GET_SPP_CONF', 'SUALLO', 'SU_SURF_FLDS', 'YOMGSGEOM', 'SUINI', 'MODEL_MOD:MODEL_DELETE', 'FALSIFY_SURF_FLDS', 'SUSPVARIABLES', 'SUJFH', 'YOMCST', 'SURAND1', 'SUIOS', 'SUPP', 'SUIOSTREAM', 'SUALGCO', 'SULSFORC', 'SUCHET', 'SUTIM', 'SUDIMO', 'SUALMDH', 'IFLUSHFDBSUBS', 'SUMDDH', 'SU0YOMA', 'GEOMETRY_MOD', 'GEOMETRY_MOD:GEOMETRY_DELETE', 'TESTVAR_MIX', 'SUMCC', 'SULUN', 'SUALNUD', 'SUALTDH', 'SUPPVI', 'FIELDS_MOD:FIELDS_DELETE', 'SUECHK', 'MODULE_RADTC_MIX', 'SUMPINI_PRT', 'SUINTFLEX', 'IFS_INIT']\n",
      "['SUGRIB', 'SUVWRK', 'SUMSC', 'ALLOCATE_EMPTY_TRAJECTORY', 'supergom_final%class_supergom', 'SUDIMF2', 'SUCT1', 'MODEL_MOD', 'DEALXMO', 'GSTATS_OUTPUT_IFS', '>MPL-GATHER', 'SU0YOMB', 'SUNUD', 'SUALDYN_DDH', 'SU1YOM', 'FIELD_CONTAINER_GP_MOD', 'SURLX', 'IOSTREAM_MIX:IOSTREAM_STATS', 'SUMP0', 'SUDIM_TRAJ', 'FINAL_STATS', 'SUCT0', 'YOE_CUCONVCA', 'YOMGWDIAG', 'SUFP_CTL', 'SUTRANS0', 'CNT1', 'SUMCUF', 'supergom_final', 'SURES', 'OPDIS', 'SPNG_MOD', 'YOMCSGEOM', 'SUALSPA', 'SUIAU', 'MASTER', 'supergom_destroy', 'FIELDS_MOD', 'MTRAJ_MOD', 'SUTRAJP', 'SU_GRIB_API', 'IOSTREAM_MIX:CLOSE_IOSTREAM', 'SUVAREPS', 'YEMLBC_INIT', 'GRIB_HANDLES_MOD', 'SUOPH', 'CNT0', 'SURINC', 'INI_SPP', 'SUCST_IFSAUX', 'SURIP0', 'SUSAVTEND', 'SUDIMF1', 'SUSC2C', 'SUETLDIAG', 'GET_SPP_CONF', 'SUALLO', 'SU_SURF_FLDS', 'YOMGSGEOM', 'SUINI', 'MODEL_MOD:MODEL_DELETE', 'FALSIFY_SURF_FLDS', 'SUSPVARIABLES', 'SUJFH', 'YOMCST', 'SURAND1', 'SUIOS', 'SUPP', 'SUIOSTREAM', 'SUALGCO', 'SULSFORC', 'SUCHET', 'SUTIM', 'SUDIMO', 'SUALMDH', 'IFLUSHFDBSUBS', 'SUMDDH', 'SU0YOMA', 'GEOMETRY_MOD', 'GEOMETRY_MOD:GEOMETRY_DELETE', 'TESTVAR_MIX', 'SUMCC', 'SULUN', 'SUALNUD', 'SUALTDH', 'SUPPVI', 'FIELDS_MOD:FIELDS_DELETE', 'SUECHK', 'MODULE_RADTC_MIX', 'SUMPINI_PRT', 'SUINTFLEX', 'IFS_INIT']\n",
      "['SUGRIB', 'SUVWRK', 'SUMSC', 'ALLOCATE_EMPTY_TRAJECTORY', 'supergom_final%class_supergom', 'SUDIMF2', 'SUCT1', 'MODEL_MOD', 'DEALXMO', 'GSTATS_OUTPUT_IFS', '>MPL-GATHER', 'SU0YOMB', 'SUNUD', 'SUALDYN_DDH', 'SU1YOM', 'FIELD_CONTAINER_GP_MOD', 'SURLX', 'IOSTREAM_MIX:IOSTREAM_STATS', 'SUMP0', 'SUDIM_TRAJ', 'FINAL_STATS', 'SUCT0', 'YOE_CUCONVCA', 'YOMGWDIAG', 'SUFP_CTL', 'SUTRANS0', 'CNT1', 'SUMCUF', 'supergom_final', 'SURES', 'OPDIS', 'SPNG_MOD', 'YOMCSGEOM', 'SUALSPA', 'SUIAU', 'MASTER', 'supergom_destroy', 'FIELDS_MOD', 'MTRAJ_MOD', 'SUTRAJP', 'SU_GRIB_API', 'IOSTREAM_MIX:CLOSE_IOSTREAM', 'SUVAREPS', 'YEMLBC_INIT', 'GRIB_HANDLES_MOD', 'SUOPH', 'CNT0', 'SURINC', 'INI_SPP', 'SUCST_IFSAUX', 'SURIP0', 'SUSAVTEND', 'SUDIMF1', 'SUSC2C', 'SUETLDIAG', 'GET_SPP_CONF', 'SUALLO', 'SU_SURF_FLDS', 'YOMGSGEOM', 'SUINI', 'MODEL_MOD:MODEL_DELETE', 'FALSIFY_SURF_FLDS', 'SUSPVARIABLES', 'SUJFH', 'YOMCST', 'SURAND1', 'SUIOS', 'SUPP', 'SUIOSTREAM', 'SUALGCO', 'SULSFORC', 'SUCHET', 'SUTIM', 'SUDIMO', 'SUALMDH', 'IFLUSHFDBSUBS', 'SUMDDH', 'SU0YOMA', 'GEOMETRY_MOD', 'GEOMETRY_MOD:GEOMETRY_DELETE', 'TESTVAR_MIX', 'SUMCC', 'SULUN', 'SUALNUD', 'SUALTDH', 'SUPPVI', 'FIELDS_MOD:FIELDS_DELETE', 'SUECHK', 'MODULE_RADTC_MIX', 'SUMPINI_PRT', 'SUINTFLEX', 'IFS_INIT']\n",
      "['SUGRIB', 'SUVWRK', 'SUMSC', 'ALLOCATE_EMPTY_TRAJECTORY', 'supergom_final%class_supergom', 'SUDIMF2', 'SUCT1', 'MODEL_MOD', 'DEALXMO', 'GSTATS_OUTPUT_IFS', '>MPL-GATHER', 'SU0YOMB', 'SUNUD', 'SUALDYN_DDH', 'SU1YOM', 'FIELD_CONTAINER_GP_MOD', 'SURLX', 'IOSTREAM_MIX:IOSTREAM_STATS', 'SUMP0', 'SUDIM_TRAJ', 'FINAL_STATS', 'SUCT0', 'YOE_CUCONVCA', 'YOMGWDIAG', 'SUFP_CTL', 'SUTRANS0', 'CNT1', 'SUMCUF', 'supergom_final', 'SURES', 'OPDIS', 'SPNG_MOD', 'YOMCSGEOM', 'SUALSPA', 'SUIAU', 'MASTER', 'supergom_destroy', 'FIELDS_MOD', 'MTRAJ_MOD', 'SUTRAJP', 'SU_GRIB_API', 'IOSTREAM_MIX:CLOSE_IOSTREAM', 'SUVAREPS', 'YEMLBC_INIT', 'GRIB_HANDLES_MOD', 'SUOPH', 'CNT0', 'SURINC', 'INI_SPP', 'SUCST_IFSAUX', 'SURIP0', 'SUSAVTEND', 'SUDIMF1', 'SUSC2C', 'SUETLDIAG', 'GET_SPP_CONF', 'SUALLO', 'SU_SURF_FLDS', 'YOMGSGEOM', 'SUINI', 'MODEL_MOD:MODEL_DELETE', 'FALSIFY_SURF_FLDS', 'SUSPVARIABLES', 'SUJFH', 'YOMCST', 'SURAND1', 'SUIOS', 'SUPP', 'SUIOSTREAM', 'SUALGCO', 'SULSFORC', 'SUCHET', 'SUTIM', 'SUDIMO', 'SUALMDH', 'IFLUSHFDBSUBS', 'SUMDDH', 'SU0YOMA', 'GEOMETRY_MOD', 'GEOMETRY_MOD:GEOMETRY_DELETE', 'TESTVAR_MIX', 'SUMCC', 'SULUN', 'SUALNUD', 'SUALTDH', 'SUPPVI', 'FIELDS_MOD:FIELDS_DELETE', 'SUECHK', 'MODULE_RADTC_MIX', 'SUMPINI_PRT', 'SUINTFLEX', 'IFS_INIT']\n",
      "['SUGRIB', 'SUVWRK', 'SUMSC', 'ALLOCATE_EMPTY_TRAJECTORY', 'supergom_final%class_supergom', 'SUDIMF2', 'SUCT1', 'MODEL_MOD', 'DEALXMO', 'GSTATS_OUTPUT_IFS', '>MPL-GATHER', 'SU0YOMB', 'SUNUD', 'SUALDYN_DDH', 'SU1YOM', 'FIELD_CONTAINER_GP_MOD', 'SURLX', 'IOSTREAM_MIX:IOSTREAM_STATS', 'SUMP0', 'SUDIM_TRAJ', 'FINAL_STATS', 'SUCT0', 'YOE_CUCONVCA', 'YOMGWDIAG', 'SUFP_CTL', 'SUTRANS0', 'CNT1', 'SUMCUF', 'supergom_final', 'SURES', 'OPDIS', 'SPNG_MOD', 'YOMCSGEOM', 'SUALSPA', 'SUIAU', 'MASTER', 'supergom_destroy', 'FIELDS_MOD', 'MTRAJ_MOD', 'SUTRAJP', 'SU_GRIB_API', 'IOSTREAM_MIX:CLOSE_IOSTREAM', 'SUVAREPS', 'YEMLBC_INIT', 'GRIB_HANDLES_MOD', 'SUOPH', 'CNT0', 'SURINC', 'INI_SPP', 'SUCST_IFSAUX', 'SURIP0', 'SUSAVTEND', 'SUDIMF1', 'SUSC2C', 'SUETLDIAG', 'GET_SPP_CONF', 'SUALLO', 'SU_SURF_FLDS', 'YOMGSGEOM', 'SUINI', 'MODEL_MOD:MODEL_DELETE', 'FALSIFY_SURF_FLDS', 'SUSPVARIABLES', 'SUJFH', 'YOMCST', 'SURAND1', 'SUIOS', 'SUPP', 'SUIOSTREAM', 'SUALGCO', 'SULSFORC', 'SUCHET', 'SUTIM', 'SUDIMO', 'SUALMDH', 'IFLUSHFDBSUBS', 'SUMDDH', 'SU0YOMA', 'GEOMETRY_MOD', 'GEOMETRY_MOD:GEOMETRY_DELETE', 'TESTVAR_MIX', 'SUMCC', 'SULUN', 'SUALNUD', 'SUALTDH', 'SUPPVI', 'FIELDS_MOD:FIELDS_DELETE', 'SUECHK', 'MODULE_RADTC_MIX', 'SUMPINI_PRT', 'SUINTFLEX', 'IFS_INIT']\n",
      "['SUGRIB', 'SUVWRK', 'SUMSC', 'ALLOCATE_EMPTY_TRAJECTORY', 'supergom_final%class_supergom', 'SUDIMF2', 'SUCT1', 'MODEL_MOD', 'DEALXMO', 'GSTATS_OUTPUT_IFS', '>MPL-GATHER', 'SU0YOMB', 'SUNUD', 'SUALDYN_DDH', 'SU1YOM', 'FIELD_CONTAINER_GP_MOD', 'SURLX', 'IOSTREAM_MIX:IOSTREAM_STATS', 'SUMP0', 'SUDIM_TRAJ', 'FINAL_STATS', 'SUCT0', 'YOE_CUCONVCA', 'YOMGWDIAG', 'SUFP_CTL', 'SUTRANS0', 'CNT1', 'SUMCUF', 'supergom_final', 'SURES', 'OPDIS', 'SPNG_MOD', 'YOMCSGEOM', 'SUALSPA', 'SUIAU', 'MASTER', 'supergom_destroy', 'FIELDS_MOD', 'MTRAJ_MOD', 'SUTRAJP', 'SU_GRIB_API', 'IOSTREAM_MIX:CLOSE_IOSTREAM', 'SUVAREPS', 'YEMLBC_INIT', 'GRIB_HANDLES_MOD', 'SUOPH', 'CNT0', 'SURINC', 'INI_SPP', 'SUCST_IFSAUX', 'SURIP0', 'SUSAVTEND', 'SUDIMF1', 'SUSC2C', 'SUETLDIAG', 'GET_SPP_CONF', 'SUALLO', 'SU_SURF_FLDS', 'YOMGSGEOM', 'SUINI', 'MODEL_MOD:MODEL_DELETE', 'FALSIFY_SURF_FLDS', 'SUSPVARIABLES', 'SUJFH', 'YOMCST', 'SURAND1', 'SUIOS', 'SUPP', 'SUIOSTREAM', 'SUALGCO', 'SULSFORC', 'SUCHET', 'SUTIM', 'SUDIMO', 'SUALMDH', 'IFLUSHFDBSUBS', 'SUMDDH', 'SU0YOMA', 'GEOMETRY_MOD', 'GEOMETRY_MOD:GEOMETRY_DELETE', 'TESTVAR_MIX', 'SUMCC', 'SULUN', 'SUALNUD', 'SUALTDH', 'SUPPVI', 'FIELDS_MOD:FIELDS_DELETE', 'SUECHK', 'MODULE_RADTC_MIX', 'SUMPINI_PRT', 'SUINTFLEX', 'IFS_INIT']\n",
      "['SUGRIB', 'SUVWRK', 'SUMSC', 'ALLOCATE_EMPTY_TRAJECTORY', 'supergom_final%class_supergom', 'SUDIMF2', 'SUCT1', 'MODEL_MOD', 'DEALXMO', 'GSTATS_OUTPUT_IFS', '>MPL-GATHER', 'SU0YOMB', 'SUNUD', 'SUALDYN_DDH', 'SU1YOM', 'FIELD_CONTAINER_GP_MOD', 'SURLX', 'IOSTREAM_MIX:IOSTREAM_STATS', 'SUMP0', 'SUDIM_TRAJ', 'FINAL_STATS', 'SUCT0', 'YOE_CUCONVCA', 'YOMGWDIAG', 'SUFP_CTL', 'SUTRANS0', 'CNT1', 'SUMCUF', 'supergom_final', 'SURES', 'OPDIS', 'SPNG_MOD', 'YOMCSGEOM', 'SUALSPA', 'SUIAU', 'MASTER', 'supergom_destroy', 'FIELDS_MOD', 'MTRAJ_MOD', 'SUTRAJP', 'SU_GRIB_API', 'IOSTREAM_MIX:CLOSE_IOSTREAM', 'SUVAREPS', 'YEMLBC_INIT', 'GRIB_HANDLES_MOD', 'SUOPH', 'CNT0', 'SURINC', 'INI_SPP', 'SUCST_IFSAUX', 'SURIP0', 'SUSAVTEND', 'SUDIMF1', 'SUSC2C', 'SUETLDIAG', 'GET_SPP_CONF', 'SUALLO', 'SU_SURF_FLDS', 'YOMGSGEOM', 'SUINI', 'MODEL_MOD:MODEL_DELETE', 'FALSIFY_SURF_FLDS', 'SUSPVARIABLES', 'SUJFH', 'YOMCST', 'SURAND1', 'SUIOS', 'SUPP', 'SUIOSTREAM', 'SUALGCO', 'SULSFORC', 'SUCHET', 'SUTIM', 'SUDIMO', 'SUALMDH', 'IFLUSHFDBSUBS', 'SUMDDH', 'SU0YOMA', 'GEOMETRY_MOD', 'GEOMETRY_MOD:GEOMETRY_DELETE', 'TESTVAR_MIX', 'SUMCC', 'SULUN', 'SUALNUD', 'SUALTDH', 'SUPPVI', 'FIELDS_MOD:FIELDS_DELETE', 'SUECHK', 'MODULE_RADTC_MIX', 'SUMPINI_PRT', 'SUINTFLEX', 'IFS_INIT']\n",
      "['SUGRIB', 'SUVWRK', 'SUMSC', 'ALLOCATE_EMPTY_TRAJECTORY', 'supergom_final%class_supergom', 'SUDIMF2', 'SUCT1', 'MODEL_MOD', 'DEALXMO', 'GSTATS_OUTPUT_IFS', '>MPL-GATHER', 'SU0YOMB', 'SUNUD', 'SUALDYN_DDH', 'SU1YOM', 'FIELD_CONTAINER_GP_MOD', 'SURLX', 'IOSTREAM_MIX:IOSTREAM_STATS', 'SUMP0', 'SUDIM_TRAJ', 'FINAL_STATS', 'SUCT0', 'YOE_CUCONVCA', 'YOMGWDIAG', 'SUFP_CTL', 'SUTRANS0', 'CNT1', 'SUMCUF', 'supergom_final', 'SURES', 'OPDIS', 'SPNG_MOD', 'YOMCSGEOM', 'SUALSPA', 'SUIAU', 'MASTER', 'supergom_destroy', 'FIELDS_MOD', 'MTRAJ_MOD', 'SUTRAJP', 'SU_GRIB_API', 'IOSTREAM_MIX:CLOSE_IOSTREAM', 'SUVAREPS', 'YEMLBC_INIT', 'GRIB_HANDLES_MOD', 'SUOPH', 'CNT0', 'SURINC', 'INI_SPP', 'SUCST_IFSAUX', 'SURIP0', 'SUSAVTEND', 'SUDIMF1', 'SUSC2C', 'SUETLDIAG', 'GET_SPP_CONF', 'SUALLO', 'SU_SURF_FLDS', 'YOMGSGEOM', 'SUINI', 'MODEL_MOD:MODEL_DELETE', 'FALSIFY_SURF_FLDS', 'SUSPVARIABLES', 'SUJFH', 'YOMCST', 'SURAND1', 'SUIOS', 'SUPP', 'SUIOSTREAM', 'SUALGCO', 'SULSFORC', 'SUCHET', 'SUTIM', 'SUDIMO', 'SUALMDH', 'IFLUSHFDBSUBS', 'SUMDDH', 'SU0YOMA', 'GEOMETRY_MOD', 'GEOMETRY_MOD:GEOMETRY_DELETE', 'TESTVAR_MIX', 'SUMCC', 'SULUN', 'SUALNUD', 'SUALTDH', 'SUPPVI', 'FIELDS_MOD:FIELDS_DELETE', 'SUECHK', 'MODULE_RADTC_MIX', 'SUMPINI_PRT', 'SUINTFLEX', 'IFS_INIT']\n",
      "['SUGRIB', 'SUVWRK', 'SUMSC', 'ALLOCATE_EMPTY_TRAJECTORY', 'supergom_final%class_supergom', 'SUDIMF2', 'SUCT1', 'MODEL_MOD', 'DEALXMO', 'GSTATS_OUTPUT_IFS', '>MPL-GATHER', 'SU0YOMB', 'SUNUD', 'SUALDYN_DDH', 'SU1YOM', 'FIELD_CONTAINER_GP_MOD', 'SURLX', 'IOSTREAM_MIX:IOSTREAM_STATS', 'SUMP0', 'SUDIM_TRAJ', 'FINAL_STATS', 'SUCT0', 'YOE_CUCONVCA', 'YOMGWDIAG', 'SUFP_CTL', 'SUTRANS0', 'CNT1', 'SUMCUF', 'supergom_final', 'SURES', 'OPDIS', 'SPNG_MOD', 'YOMCSGEOM', 'SUALSPA', 'SUIAU', 'MASTER', 'supergom_destroy', 'FIELDS_MOD', 'MTRAJ_MOD', 'SUTRAJP', 'SU_GRIB_API', 'IOSTREAM_MIX:CLOSE_IOSTREAM', 'SUVAREPS', 'YEMLBC_INIT', 'GRIB_HANDLES_MOD', 'SUOPH', 'CNT0', 'SURINC', 'INI_SPP', 'SUCST_IFSAUX', 'SURIP0', 'SUSAVTEND', 'SUDIMF1', 'SUSC2C', 'SUETLDIAG', 'GET_SPP_CONF', 'SUALLO', 'SU_SURF_FLDS', 'YOMGSGEOM', 'SUINI', 'MODEL_MOD:MODEL_DELETE', 'FALSIFY_SURF_FLDS', 'SUSPVARIABLES', 'SUJFH', 'YOMCST', 'SURAND1', 'SUIOS', 'SUPP', 'SUIOSTREAM', 'SUALGCO', 'SULSFORC', 'SUCHET', 'SUTIM', 'SUDIMO', 'SUALMDH', 'IFLUSHFDBSUBS', 'SUMDDH', 'SU0YOMA', 'GEOMETRY_MOD', 'GEOMETRY_MOD:GEOMETRY_DELETE', 'TESTVAR_MIX', 'SUMCC', 'SULUN', 'SUALNUD', 'SUALTDH', 'SUPPVI', 'FIELDS_MOD:FIELDS_DELETE', 'SUECHK', 'MODULE_RADTC_MIX', 'SUMPINI_PRT', 'SUINTFLEX', 'IFS_INIT']\n",
      "['SUGRIB', 'SUVWRK', 'SUMSC', 'ALLOCATE_EMPTY_TRAJECTORY', 'supergom_final%class_supergom', 'SUDIMF2', 'SUCT1', 'MODEL_MOD', 'DEALXMO', 'GSTATS_OUTPUT_IFS', '>MPL-GATHER', 'SU0YOMB', 'SUNUD', 'SUALDYN_DDH', 'SU1YOM', 'FIELD_CONTAINER_GP_MOD', 'SURLX', 'IOSTREAM_MIX:IOSTREAM_STATS', 'SUMP0', 'SUDIM_TRAJ', 'FINAL_STATS', 'SUCT0', 'YOE_CUCONVCA', 'YOMGWDIAG', 'SUFP_CTL', 'SUTRANS0', 'CNT1', 'SUMCUF', 'supergom_final', 'SURES', 'OPDIS', 'SPNG_MOD', 'YOMCSGEOM', 'SUALSPA', 'SUIAU', 'MASTER', 'supergom_destroy', 'FIELDS_MOD', 'MTRAJ_MOD', 'SUTRAJP', 'SU_GRIB_API', 'IOSTREAM_MIX:CLOSE_IOSTREAM', 'SUVAREPS', 'YEMLBC_INIT', 'GRIB_HANDLES_MOD', 'SUOPH', 'CNT0', 'SURINC', 'INI_SPP', 'SUCST_IFSAUX', 'SURIP0', 'SUSAVTEND', 'SUDIMF1', 'SUSC2C', 'SUETLDIAG', 'GET_SPP_CONF', 'SUALLO', 'SU_SURF_FLDS', 'YOMGSGEOM', 'SUINI', 'MODEL_MOD:MODEL_DELETE', 'FALSIFY_SURF_FLDS', 'SUSPVARIABLES', 'SUJFH', 'YOMCST', 'SURAND1', 'SUIOS', 'SUPP', 'SUIOSTREAM', 'SUALGCO', 'SULSFORC', 'SUCHET', 'SUTIM', 'SUDIMO', 'SUALMDH', 'IFLUSHFDBSUBS', 'SUMDDH', 'SU0YOMA', 'GEOMETRY_MOD', 'GEOMETRY_MOD:GEOMETRY_DELETE', 'TESTVAR_MIX', 'SUMCC', 'SULUN', 'SUALNUD', 'SUALTDH', 'SUPPVI', 'FIELDS_MOD:FIELDS_DELETE', 'SUECHK', 'MODULE_RADTC_MIX', 'SUMPINI_PRT', 'SUINTFLEX', 'IFS_INIT']\n",
      "['SUGRIB', 'SUVWRK', 'SUMSC', 'ALLOCATE_EMPTY_TRAJECTORY', 'supergom_final%class_supergom', 'SUDIMF2', 'SUCT1', 'MODEL_MOD', 'DEALXMO', 'GSTATS_OUTPUT_IFS', '>MPL-GATHER', 'SU0YOMB', 'SUNUD', 'SUALDYN_DDH', 'SU1YOM', 'FIELD_CONTAINER_GP_MOD', 'SURLX', 'IOSTREAM_MIX:IOSTREAM_STATS', 'SUMP0', 'SUDIM_TRAJ', 'FINAL_STATS', 'SUCT0', 'YOE_CUCONVCA', 'YOMGWDIAG', 'SUFP_CTL', 'SUTRANS0', 'CNT1', 'SUMCUF', 'supergom_final', 'SURES', 'OPDIS', 'SPNG_MOD', 'YOMCSGEOM', 'SUALSPA', 'SUIAU', 'MASTER', 'supergom_destroy', 'FIELDS_MOD', 'MTRAJ_MOD', 'SUTRAJP', 'SU_GRIB_API', 'IOSTREAM_MIX:CLOSE_IOSTREAM', 'SUVAREPS', 'YEMLBC_INIT', 'GRIB_HANDLES_MOD', 'SUOPH', 'CNT0', 'SURINC', 'INI_SPP', 'SUCST_IFSAUX', 'SURIP0', 'SUSAVTEND', 'SUDIMF1', 'SUSC2C', 'SUETLDIAG', 'GET_SPP_CONF', 'SUALLO', 'SU_SURF_FLDS', 'YOMGSGEOM', 'SUINI', 'MODEL_MOD:MODEL_DELETE', 'FALSIFY_SURF_FLDS', 'SUSPVARIABLES', 'SUJFH', 'YOMCST', 'SURAND1', 'SUIOS', 'SUPP', 'SUIOSTREAM', 'SUALGCO', 'SULSFORC', 'SUCHET', 'SUTIM', 'SUDIMO', 'SUALMDH', 'IFLUSHFDBSUBS', 'SUMDDH', 'SU0YOMA', 'GEOMETRY_MOD', 'GEOMETRY_MOD:GEOMETRY_DELETE', 'TESTVAR_MIX', 'SUMCC', 'SULUN', 'SUALNUD', 'SUALTDH', 'SUPPVI', 'FIELDS_MOD:FIELDS_DELETE', 'SUECHK', 'MODULE_RADTC_MIX', 'SUMPINI_PRT', 'SUINTFLEX', 'IFS_INIT']\n",
      "['SUGRIB', 'SUVWRK', 'SUMSC', 'ALLOCATE_EMPTY_TRAJECTORY', 'supergom_final%class_supergom', 'SUDIMF2', 'SUCT1', 'MODEL_MOD', 'DEALXMO', 'GSTATS_OUTPUT_IFS', '>MPL-GATHER', 'SU0YOMB', 'SUNUD', 'SUALDYN_DDH', 'SU1YOM', 'FIELD_CONTAINER_GP_MOD', 'SURLX', 'IOSTREAM_MIX:IOSTREAM_STATS', 'SUMP0', 'SUDIM_TRAJ', 'FINAL_STATS', 'SUCT0', 'YOE_CUCONVCA', 'YOMGWDIAG', 'SUFP_CTL', 'SUTRANS0', 'CNT1', 'SUMCUF', 'supergom_final', 'SURES', 'OPDIS', 'SPNG_MOD', 'YOMCSGEOM', 'SUALSPA', 'SUIAU', 'MASTER', 'supergom_destroy', 'FIELDS_MOD', 'MTRAJ_MOD', 'SUTRAJP', 'SU_GRIB_API', 'IOSTREAM_MIX:CLOSE_IOSTREAM', 'SUVAREPS', 'YEMLBC_INIT', 'GRIB_HANDLES_MOD', 'SUOPH', 'CNT0', 'SURINC', 'INI_SPP', 'SUCST_IFSAUX', 'SURIP0', 'SUSAVTEND', 'SUDIMF1', 'SUSC2C', 'SUETLDIAG', 'GET_SPP_CONF', 'SUALLO', 'SU_SURF_FLDS', 'YOMGSGEOM', 'SUINI', 'MODEL_MOD:MODEL_DELETE', 'FALSIFY_SURF_FLDS', 'SUSPVARIABLES', 'SUJFH', 'YOMCST', 'SURAND1', 'SUIOS', 'SUPP', 'SUIOSTREAM', 'SUALGCO', 'SULSFORC', 'SUCHET', 'SUTIM', 'SUDIMO', 'SUALMDH', 'IFLUSHFDBSUBS', 'SUMDDH', 'SU0YOMA', 'GEOMETRY_MOD', 'GEOMETRY_MOD:GEOMETRY_DELETE', 'TESTVAR_MIX', 'SUMCC', 'SULUN', 'SUALNUD', 'SUALTDH', 'SUPPVI', 'FIELDS_MOD:FIELDS_DELETE', 'SUECHK', 'MODULE_RADTC_MIX', 'SUMPINI_PRT', 'SUINTFLEX', 'IFS_INIT']\n",
      "['SUGRIB', 'SUVWRK', 'SUMSC', 'ALLOCATE_EMPTY_TRAJECTORY', 'supergom_final%class_supergom', 'SUDIMF2', 'SUCT1', 'MODEL_MOD', 'DEALXMO', 'GSTATS_OUTPUT_IFS', '>MPL-GATHER', 'SU0YOMB', 'SUNUD', 'SUALDYN_DDH', 'SU1YOM', 'FIELD_CONTAINER_GP_MOD', 'SURLX', 'IOSTREAM_MIX:IOSTREAM_STATS', 'SUMP0', 'SUDIM_TRAJ', 'FINAL_STATS', 'SUCT0', 'YOE_CUCONVCA', 'YOMGWDIAG', 'SUFP_CTL', 'SUTRANS0', 'CNT1', 'SUMCUF', 'supergom_final', 'SURES', 'OPDIS', 'SPNG_MOD', 'YOMCSGEOM', 'SUALSPA', 'SUIAU', 'MASTER', 'supergom_destroy', 'FIELDS_MOD', 'MTRAJ_MOD', 'SUTRAJP', 'SU_GRIB_API', 'IOSTREAM_MIX:CLOSE_IOSTREAM', 'SUVAREPS', 'YEMLBC_INIT', 'GRIB_HANDLES_MOD', 'SUOPH', 'CNT0', 'SURINC', 'INI_SPP', 'SUCST_IFSAUX', 'SURIP0', 'SUSAVTEND', 'SUDIMF1', 'SUSC2C', 'SUETLDIAG', 'GET_SPP_CONF', 'SUALLO', 'SU_SURF_FLDS', 'YOMGSGEOM', 'SUINI', 'MODEL_MOD:MODEL_DELETE', 'FALSIFY_SURF_FLDS', 'SUSPVARIABLES', 'SUJFH', 'YOMCST', 'SURAND1', 'SUIOS', 'SUPP', 'SUIOSTREAM', 'SUALGCO', 'SULSFORC', 'SUCHET', 'SUTIM', 'SUDIMO', 'SUALMDH', 'IFLUSHFDBSUBS', 'SUMDDH', 'SU0YOMA', 'GEOMETRY_MOD', 'GEOMETRY_MOD:GEOMETRY_DELETE', 'TESTVAR_MIX', 'SUMCC', 'SULUN', 'SUALNUD', 'SUALTDH', 'SUPPVI', 'FIELDS_MOD:FIELDS_DELETE', 'SUECHK', 'MODULE_RADTC_MIX', 'SUMPINI_PRT', 'SUINTFLEX', 'IFS_INIT']\n",
      "['SUGRIB', 'SUVWRK', 'SUMSC', 'ALLOCATE_EMPTY_TRAJECTORY', 'supergom_final%class_supergom', 'SUDIMF2', 'SUCT1', 'MODEL_MOD', 'DEALXMO', 'GSTATS_OUTPUT_IFS', '>MPL-GATHER', 'SU0YOMB', 'SUNUD', 'SUALDYN_DDH', 'SU1YOM', 'FIELD_CONTAINER_GP_MOD', 'SURLX', 'IOSTREAM_MIX:IOSTREAM_STATS', 'SUMP0', 'SUDIM_TRAJ', 'FINAL_STATS', 'SUCT0', 'YOE_CUCONVCA', 'YOMGWDIAG', 'SUFP_CTL', 'SUTRANS0', 'CNT1', 'SUMCUF', 'supergom_final', 'SURES', 'OPDIS', 'SPNG_MOD', 'YOMCSGEOM', 'SUALSPA', 'SUIAU', 'MASTER', 'supergom_destroy', 'FIELDS_MOD', 'MTRAJ_MOD', 'SUTRAJP', 'SU_GRIB_API', 'IOSTREAM_MIX:CLOSE_IOSTREAM', 'SUVAREPS', 'YEMLBC_INIT', 'GRIB_HANDLES_MOD', 'SUOPH', 'CNT0', 'SURINC', 'INI_SPP', 'SUCST_IFSAUX', 'SURIP0', 'SUSAVTEND', 'SUDIMF1', 'SUSC2C', 'SUETLDIAG', 'GET_SPP_CONF', 'SUALLO', 'SU_SURF_FLDS', 'YOMGSGEOM', 'SUINI', 'MODEL_MOD:MODEL_DELETE', 'FALSIFY_SURF_FLDS', 'SUSPVARIABLES', 'SUJFH', 'YOMCST', 'SURAND1', 'SUIOS', 'SUPP', 'SUIOSTREAM', 'SUALGCO', 'SULSFORC', 'SUCHET', 'SUTIM', 'SUDIMO', 'SUALMDH', 'IFLUSHFDBSUBS', 'SUMDDH', 'SU0YOMA', 'GEOMETRY_MOD', 'GEOMETRY_MOD:GEOMETRY_DELETE', 'TESTVAR_MIX', 'SUMCC', 'SULUN', 'SUALNUD', 'SUALTDH', 'SUPPVI', 'FIELDS_MOD:FIELDS_DELETE', 'SUECHK', 'MODULE_RADTC_MIX', 'SUMPINI_PRT', 'SUINTFLEX', 'IFS_INIT']\n",
      "['SUGRIB', 'SUVWRK', 'SUMSC', 'ALLOCATE_EMPTY_TRAJECTORY', 'supergom_final%class_supergom', 'SUDIMF2', 'SUCT1', 'MODEL_MOD', 'DEALXMO', 'GSTATS_OUTPUT_IFS', '>MPL-GATHER', 'SU0YOMB', 'SUNUD', 'SUALDYN_DDH', 'SU1YOM', 'FIELD_CONTAINER_GP_MOD', 'SURLX', 'IOSTREAM_MIX:IOSTREAM_STATS', 'SUMP0', 'SUDIM_TRAJ', 'FINAL_STATS', 'SUCT0', 'YOE_CUCONVCA', 'YOMGWDIAG', 'SUFP_CTL', 'SUTRANS0', 'CNT1', 'SUMCUF', 'supergom_final', 'SURES', 'OPDIS', 'SPNG_MOD', 'YOMCSGEOM', 'SUALSPA', 'SUIAU', 'MASTER', 'supergom_destroy', 'FIELDS_MOD', 'MTRAJ_MOD', 'SUTRAJP', 'SU_GRIB_API', 'IOSTREAM_MIX:CLOSE_IOSTREAM', 'SUVAREPS', 'YEMLBC_INIT', 'GRIB_HANDLES_MOD', 'SUOPH', 'CNT0', 'SURINC', 'INI_SPP', 'SUCST_IFSAUX', 'SURIP0', 'SUSAVTEND', 'SUDIMF1', 'SUSC2C', 'SUETLDIAG', 'GET_SPP_CONF', 'SUALLO', 'SU_SURF_FLDS', 'YOMGSGEOM', 'SUINI', 'MODEL_MOD:MODEL_DELETE', 'FALSIFY_SURF_FLDS', 'SUSPVARIABLES', 'SUJFH', 'YOMCST', 'SURAND1', 'SUIOS', 'SUPP', 'SUIOSTREAM', 'SUALGCO', 'SULSFORC', 'SUCHET', 'SUTIM', 'SUDIMO', 'SUALMDH', 'IFLUSHFDBSUBS', 'SUMDDH', 'SU0YOMA', 'GEOMETRY_MOD', 'GEOMETRY_MOD:GEOMETRY_DELETE', 'TESTVAR_MIX', 'SUMCC', 'SULUN', 'SUALNUD', 'SUALTDH', 'SUPPVI', 'FIELDS_MOD:FIELDS_DELETE', 'SUECHK', 'MODULE_RADTC_MIX', 'SUMPINI_PRT', 'SUINTFLEX', 'IFS_INIT']\n",
      "['SUGRIB', 'SUVWRK', 'SUMSC', 'ALLOCATE_EMPTY_TRAJECTORY', 'supergom_final%class_supergom', 'SUDIMF2', 'SUCT1', 'MODEL_MOD', 'DEALXMO', 'GSTATS_OUTPUT_IFS', '>MPL-GATHER', 'SU0YOMB', 'SUNUD', 'SUALDYN_DDH', 'SU1YOM', 'FIELD_CONTAINER_GP_MOD', 'SURLX', 'IOSTREAM_MIX:IOSTREAM_STATS', 'SUMP0', 'SUDIM_TRAJ', 'FINAL_STATS', 'SUCT0', 'YOE_CUCONVCA', 'YOMGWDIAG', 'SUFP_CTL', 'SUTRANS0', 'CNT1', 'SUMCUF', 'supergom_final', 'SURES', 'OPDIS', 'SPNG_MOD', 'YOMCSGEOM', 'SUALSPA', 'SUIAU', 'MASTER', 'supergom_destroy', 'FIELDS_MOD', 'MTRAJ_MOD', 'SUTRAJP', 'SU_GRIB_API', 'IOSTREAM_MIX:CLOSE_IOSTREAM', 'SUVAREPS', 'YEMLBC_INIT', 'GRIB_HANDLES_MOD', 'SUOPH', 'CNT0', 'SURINC', 'INI_SPP', 'SUCST_IFSAUX', 'SURIP0', 'SUSAVTEND', 'SUDIMF1', 'SUSC2C', 'SUETLDIAG', 'GET_SPP_CONF', 'SUALLO', 'SU_SURF_FLDS', 'YOMGSGEOM', 'SUINI', 'MODEL_MOD:MODEL_DELETE', 'FALSIFY_SURF_FLDS', 'SUSPVARIABLES', 'SUJFH', 'YOMCST', 'SURAND1', 'SUIOS', 'SUPP', 'SUIOSTREAM', 'SUALGCO', 'SULSFORC', 'SUCHET', 'SUTIM', 'SUDIMO', 'SUALMDH', 'IFLUSHFDBSUBS', 'SUMDDH', 'SU0YOMA', 'GEOMETRY_MOD', 'GEOMETRY_MOD:GEOMETRY_DELETE', 'TESTVAR_MIX', 'SUMCC', 'SULUN', 'SUALNUD', 'SUALTDH', 'SUPPVI', 'FIELDS_MOD:FIELDS_DELETE', 'SUECHK', 'MODULE_RADTC_MIX', 'SUMPINI_PRT', 'SUINTFLEX', 'IFS_INIT']\n",
      "['SUGRIB', 'SUVWRK', 'SUMSC', 'ALLOCATE_EMPTY_TRAJECTORY', 'supergom_final%class_supergom', 'SUDIMF2', 'SUCT1', 'MODEL_MOD', 'DEALXMO', 'GSTATS_OUTPUT_IFS', '>MPL-GATHER', 'SU0YOMB', 'SUNUD', 'SUALDYN_DDH', 'SU1YOM', 'FIELD_CONTAINER_GP_MOD', 'SURLX', 'IOSTREAM_MIX:IOSTREAM_STATS', 'SUMP0', 'SUDIM_TRAJ', 'FINAL_STATS', 'SUCT0', 'YOE_CUCONVCA', 'YOMGWDIAG', 'SUFP_CTL', 'SUTRANS0', 'CNT1', 'SUMCUF', 'supergom_final', 'SURES', 'OPDIS', 'SPNG_MOD', 'YOMCSGEOM', 'SUALSPA', 'SUIAU', 'MASTER', 'supergom_destroy', 'FIELDS_MOD', 'MTRAJ_MOD', 'SUTRAJP', 'SU_GRIB_API', 'IOSTREAM_MIX:CLOSE_IOSTREAM', 'SUVAREPS', 'YEMLBC_INIT', 'GRIB_HANDLES_MOD', 'SUOPH', 'CNT0', 'SURINC', 'INI_SPP', 'SUCST_IFSAUX', 'SURIP0', 'SUSAVTEND', 'SUDIMF1', 'SUSC2C', 'SUETLDIAG', 'GET_SPP_CONF', 'SUALLO', 'SU_SURF_FLDS', 'YOMGSGEOM', 'SUINI', 'MODEL_MOD:MODEL_DELETE', 'FALSIFY_SURF_FLDS', 'SUSPVARIABLES', 'SUJFH', 'YOMCST', 'SURAND1', 'SUIOS', 'SUPP', 'SUIOSTREAM', 'SUALGCO', 'SULSFORC', 'SUCHET', 'SUTIM', 'SUDIMO', 'SUALMDH', 'IFLUSHFDBSUBS', 'SUMDDH', 'SU0YOMA', 'GEOMETRY_MOD', 'GEOMETRY_MOD:GEOMETRY_DELETE', 'TESTVAR_MIX', 'SUMCC', 'SULUN', 'SUALNUD', 'SUALTDH', 'SUPPVI', 'FIELDS_MOD:FIELDS_DELETE', 'SUECHK', 'MODULE_RADTC_MIX', 'SUMPINI_PRT', 'SUINTFLEX', 'IFS_INIT']\n",
      "['SUGRIB', 'SUVWRK', 'SUMSC', 'ALLOCATE_EMPTY_TRAJECTORY', 'supergom_final%class_supergom', 'SUDIMF2', 'SUCT1', 'MODEL_MOD', 'DEALXMO', 'GSTATS_OUTPUT_IFS', '>MPL-GATHER', 'SU0YOMB', 'SUNUD', 'SUALDYN_DDH', 'SU1YOM', 'FIELD_CONTAINER_GP_MOD', 'SURLX', 'IOSTREAM_MIX:IOSTREAM_STATS', 'SUMP0', 'SUDIM_TRAJ', 'FINAL_STATS', 'SUCT0', 'YOE_CUCONVCA', 'YOMGWDIAG', 'SUFP_CTL', 'SUTRANS0', 'CNT1', 'SUMCUF', 'supergom_final', 'SURES', 'OPDIS', 'SPNG_MOD', 'YOMCSGEOM', 'SUALSPA', 'SUIAU', 'MASTER', 'supergom_destroy', 'FIELDS_MOD', 'MTRAJ_MOD', 'SUTRAJP', 'SU_GRIB_API', 'IOSTREAM_MIX:CLOSE_IOSTREAM', 'SUVAREPS', 'YEMLBC_INIT', 'GRIB_HANDLES_MOD', 'SUOPH', 'CNT0', 'SURINC', 'INI_SPP', 'SUCST_IFSAUX', 'SURIP0', 'SUSAVTEND', 'SUDIMF1', 'SUSC2C', 'SUETLDIAG', 'GET_SPP_CONF', 'SUALLO', 'SU_SURF_FLDS', 'YOMGSGEOM', 'SUINI', 'MODEL_MOD:MODEL_DELETE', 'FALSIFY_SURF_FLDS', 'SUSPVARIABLES', 'SUJFH', 'YOMCST', 'SURAND1', 'SUIOS', 'SUPP', 'SUIOSTREAM', 'SUALGCO', 'SULSFORC', 'SUCHET', 'SUTIM', 'SUDIMO', 'SUALMDH', 'IFLUSHFDBSUBS', 'SUMDDH', 'SU0YOMA', 'GEOMETRY_MOD', 'GEOMETRY_MOD:GEOMETRY_DELETE', 'TESTVAR_MIX', 'SUMCC', 'SULUN', 'SUALNUD', 'SUALTDH', 'SUPPVI', 'FIELDS_MOD:FIELDS_DELETE', 'SUECHK', 'MODULE_RADTC_MIX', 'SUMPINI_PRT', 'SUINTFLEX', 'IFS_INIT']\n",
      "['SUGRIB', 'SUVWRK', 'SUMSC', 'ALLOCATE_EMPTY_TRAJECTORY', 'supergom_final%class_supergom', 'SUDIMF2', 'SUCT1', 'MODEL_MOD', 'DEALXMO', 'GSTATS_OUTPUT_IFS', '>MPL-GATHER', 'SU0YOMB', 'SUNUD', 'SUALDYN_DDH', 'SU1YOM', 'FIELD_CONTAINER_GP_MOD', 'SURLX', 'IOSTREAM_MIX:IOSTREAM_STATS', 'SUMP0', 'SUDIM_TRAJ', 'FINAL_STATS', 'SUCT0', 'YOE_CUCONVCA', 'YOMGWDIAG', 'SUFP_CTL', 'SUTRANS0', 'CNT1', 'SUMCUF', 'supergom_final', 'SURES', 'OPDIS', 'SPNG_MOD', 'YOMCSGEOM', 'SUALSPA', 'SUIAU', 'MASTER', 'supergom_destroy', 'FIELDS_MOD', 'MTRAJ_MOD', 'SUTRAJP', 'SU_GRIB_API', 'IOSTREAM_MIX:CLOSE_IOSTREAM', 'SUVAREPS', 'YEMLBC_INIT', 'GRIB_HANDLES_MOD', 'SUOPH', 'CNT0', 'SURINC', 'INI_SPP', 'SUCST_IFSAUX', 'SURIP0', 'SUSAVTEND', 'SUDIMF1', 'SUSC2C', 'SUETLDIAG', 'GET_SPP_CONF', 'SUALLO', 'SU_SURF_FLDS', 'YOMGSGEOM', 'SUINI', 'MODEL_MOD:MODEL_DELETE', 'FALSIFY_SURF_FLDS', 'SUSPVARIABLES', 'SUJFH', 'YOMCST', 'SURAND1', 'SUIOS', 'SUPP', 'SUIOSTREAM', 'SUALGCO', 'SULSFORC', 'SUCHET', 'SUTIM', 'SUDIMO', 'SUALMDH', 'IFLUSHFDBSUBS', 'SUMDDH', 'SU0YOMA', 'GEOMETRY_MOD', 'GEOMETRY_MOD:GEOMETRY_DELETE', 'TESTVAR_MIX', 'SUMCC', 'SULUN', 'SUALNUD', 'SUALTDH', 'SUPPVI', 'FIELDS_MOD:FIELDS_DELETE', 'SUECHK', 'MODULE_RADTC_MIX', 'SUMPINI_PRT', 'SUINTFLEX', 'IFS_INIT']\n",
      "['SUGRIB', 'SUVWRK', 'SUMSC', 'ALLOCATE_EMPTY_TRAJECTORY', 'supergom_final%class_supergom', 'SUDIMF2', 'SUCT1', 'MODEL_MOD', 'DEALXMO', 'GSTATS_OUTPUT_IFS', '>MPL-GATHER', 'SU0YOMB', 'SUNUD', 'SUALDYN_DDH', 'SU1YOM', 'FIELD_CONTAINER_GP_MOD', 'SURLX', 'IOSTREAM_MIX:IOSTREAM_STATS', 'SUMP0', 'SUDIM_TRAJ', 'FINAL_STATS', 'SUCT0', 'YOE_CUCONVCA', 'YOMGWDIAG', 'SUFP_CTL', 'SUTRANS0', 'CNT1', 'SUMCUF', 'supergom_final', 'SURES', 'OPDIS', 'SPNG_MOD', 'YOMCSGEOM', 'SUALSPA', 'SUIAU', 'MASTER', 'supergom_destroy', 'FIELDS_MOD', 'MTRAJ_MOD', 'SUTRAJP', 'SU_GRIB_API', 'IOSTREAM_MIX:CLOSE_IOSTREAM', 'SUVAREPS', 'YEMLBC_INIT', 'GRIB_HANDLES_MOD', 'SUOPH', 'CNT0', 'SURINC', 'INI_SPP', 'SUCST_IFSAUX', 'SURIP0', 'SUSAVTEND', 'SUDIMF1', 'SUSC2C', 'SUETLDIAG', 'GET_SPP_CONF', 'SUALLO', 'SU_SURF_FLDS', 'YOMGSGEOM', 'SUINI', 'MODEL_MOD:MODEL_DELETE', 'FALSIFY_SURF_FLDS', 'SUSPVARIABLES', 'SUJFH', 'YOMCST', 'SURAND1', 'SUIOS', 'SUPP', 'SUIOSTREAM', 'SUALGCO', 'SULSFORC', 'SUCHET', 'SUTIM', 'SUDIMO', 'SUALMDH', 'IFLUSHFDBSUBS', 'SUMDDH', 'SU0YOMA', 'GEOMETRY_MOD', 'GEOMETRY_MOD:GEOMETRY_DELETE', 'TESTVAR_MIX', 'SUMCC', 'SULUN', 'SUALNUD', 'SUALTDH', 'SUPPVI', 'FIELDS_MOD:FIELDS_DELETE', 'SUECHK', 'MODULE_RADTC_MIX', 'SUMPINI_PRT', 'SUINTFLEX', 'IFS_INIT']\n",
      "['SUGRIB', 'SUVWRK', 'SUMSC', 'ALLOCATE_EMPTY_TRAJECTORY', 'supergom_final%class_supergom', 'SUDIMF2', 'SUCT1', 'MODEL_MOD', 'DEALXMO', 'GSTATS_OUTPUT_IFS', '>MPL-GATHER', 'SU0YOMB', 'SUNUD', 'SUALDYN_DDH', 'SU1YOM', 'FIELD_CONTAINER_GP_MOD', 'SURLX', 'IOSTREAM_MIX:IOSTREAM_STATS', 'SUMP0', 'SUDIM_TRAJ', 'FINAL_STATS', 'SUCT0', 'YOE_CUCONVCA', 'YOMGWDIAG', 'SUFP_CTL', 'SUTRANS0', 'CNT1', 'SUMCUF', 'supergom_final', 'SURES', 'OPDIS', 'SPNG_MOD', 'YOMCSGEOM', 'SUALSPA', 'SUIAU', 'MASTER', 'supergom_destroy', 'FIELDS_MOD', 'MTRAJ_MOD', 'SUTRAJP', 'SU_GRIB_API', 'IOSTREAM_MIX:CLOSE_IOSTREAM', 'SUVAREPS', 'YEMLBC_INIT', 'GRIB_HANDLES_MOD', 'SUOPH', 'CNT0', 'SURINC', 'INI_SPP', 'SUCST_IFSAUX', 'SURIP0', 'SUSAVTEND', 'SUDIMF1', 'SUSC2C', 'SUETLDIAG', 'GET_SPP_CONF', 'SUALLO', 'SU_SURF_FLDS', 'YOMGSGEOM', 'SUINI', 'MODEL_MOD:MODEL_DELETE', 'FALSIFY_SURF_FLDS', 'SUSPVARIABLES', 'SUJFH', 'YOMCST', 'SURAND1', 'SUIOS', 'SUPP', 'SUIOSTREAM', 'SUALGCO', 'SULSFORC', 'SUCHET', 'SUTIM', 'SUDIMO', 'SUALMDH', 'IFLUSHFDBSUBS', 'SUMDDH', 'SU0YOMA', 'GEOMETRY_MOD', 'GEOMETRY_MOD:GEOMETRY_DELETE', 'TESTVAR_MIX', 'SUMCC', 'SULUN', 'SUALNUD', 'SUALTDH', 'SUPPVI', 'FIELDS_MOD:FIELDS_DELETE', 'SUECHK', 'MODULE_RADTC_MIX', 'SUMPINI_PRT', 'SUINTFLEX', 'IFS_INIT']\n",
      "['SUGRIB', 'SUVWRK', 'SUMSC', 'ALLOCATE_EMPTY_TRAJECTORY', 'supergom_final%class_supergom', 'SUDIMF2', 'SUCT1', 'MODEL_MOD', 'DEALXMO', 'GSTATS_OUTPUT_IFS', '>MPL-GATHER', 'SU0YOMB', 'SUNUD', 'SUALDYN_DDH', 'SU1YOM', 'FIELD_CONTAINER_GP_MOD', 'SURLX', 'IOSTREAM_MIX:IOSTREAM_STATS', 'SUMP0', 'SUDIM_TRAJ', 'FINAL_STATS', 'SUCT0', 'YOE_CUCONVCA', 'YOMGWDIAG', 'SUFP_CTL', 'SUTRANS0', 'CNT1', 'SUMCUF', 'supergom_final', 'SURES', 'OPDIS', 'SPNG_MOD', 'YOMCSGEOM', 'SUALSPA', 'SUIAU', 'MASTER', 'supergom_destroy', 'FIELDS_MOD', 'MTRAJ_MOD', 'SUTRAJP', 'SU_GRIB_API', 'IOSTREAM_MIX:CLOSE_IOSTREAM', 'SUVAREPS', 'YEMLBC_INIT', 'GRIB_HANDLES_MOD', 'SUOPH', 'CNT0', 'SURINC', 'INI_SPP', 'SUCST_IFSAUX', 'SURIP0', 'SUSAVTEND', 'SUDIMF1', 'SUSC2C', 'SUETLDIAG', 'GET_SPP_CONF', 'SUALLO', 'SU_SURF_FLDS', 'YOMGSGEOM', 'SUINI', 'MODEL_MOD:MODEL_DELETE', 'FALSIFY_SURF_FLDS', 'SUSPVARIABLES', 'SUJFH', 'YOMCST', 'SURAND1', 'SUIOS', 'SUPP', 'SUIOSTREAM', 'SUALGCO', 'SULSFORC', 'SUCHET', 'SUTIM', 'SUDIMO', 'SUALMDH', 'IFLUSHFDBSUBS', 'SUMDDH', 'SU0YOMA', 'GEOMETRY_MOD', 'GEOMETRY_MOD:GEOMETRY_DELETE', 'TESTVAR_MIX', 'SUMCC', 'SULUN', 'SUALNUD', 'SUALTDH', 'SUPPVI', 'FIELDS_MOD:FIELDS_DELETE', 'SUECHK', 'MODULE_RADTC_MIX', 'SUMPINI_PRT', 'SUINTFLEX', 'IFS_INIT']\n",
      "['SUGRIB', 'SUVWRK', 'SUMSC', 'ALLOCATE_EMPTY_TRAJECTORY', 'supergom_final%class_supergom', 'SUDIMF2', 'SUCT1', 'MODEL_MOD', 'DEALXMO', 'GSTATS_OUTPUT_IFS', '>MPL-GATHER', 'SU0YOMB', 'SUNUD', 'SUALDYN_DDH', 'SU1YOM', 'FIELD_CONTAINER_GP_MOD', 'SURLX', 'IOSTREAM_MIX:IOSTREAM_STATS', 'SUMP0', 'SUDIM_TRAJ', 'FINAL_STATS', 'SUCT0', 'YOE_CUCONVCA', 'YOMGWDIAG', 'SUFP_CTL', 'SUTRANS0', 'CNT1', 'SUMCUF', 'supergom_final', 'SURES', 'OPDIS', 'SPNG_MOD', 'YOMCSGEOM', 'SUALSPA', 'SUIAU', 'MASTER', 'supergom_destroy', 'FIELDS_MOD', 'MTRAJ_MOD', 'SUTRAJP', 'SU_GRIB_API', 'IOSTREAM_MIX:CLOSE_IOSTREAM', 'SUVAREPS', 'YEMLBC_INIT', 'GRIB_HANDLES_MOD', 'SUOPH', 'CNT0', 'SURINC', 'INI_SPP', 'SUCST_IFSAUX', 'SURIP0', 'SUSAVTEND', 'SUDIMF1', 'SUSC2C', 'SUETLDIAG', 'GET_SPP_CONF', 'SUALLO', 'SU_SURF_FLDS', 'YOMGSGEOM', 'SUINI', 'MODEL_MOD:MODEL_DELETE', 'FALSIFY_SURF_FLDS', 'SUSPVARIABLES', 'SUJFH', 'YOMCST', 'SURAND1', 'SUIOS', 'SUPP', 'SUIOSTREAM', 'SUALGCO', 'SULSFORC', 'SUCHET', 'SUTIM', 'SUDIMO', 'SUALMDH', 'IFLUSHFDBSUBS', 'SUMDDH', 'SU0YOMA', 'GEOMETRY_MOD', 'GEOMETRY_MOD:GEOMETRY_DELETE', 'TESTVAR_MIX', 'SUMCC', 'SULUN', 'SUALNUD', 'SUALTDH', 'SUPPVI', 'FIELDS_MOD:FIELDS_DELETE', 'SUECHK', 'MODULE_RADTC_MIX', 'SUMPINI_PRT', 'SUINTFLEX', 'IFS_INIT']\n",
      "['SUGRIB', 'SUVWRK', 'SUMSC', 'ALLOCATE_EMPTY_TRAJECTORY', 'supergom_final%class_supergom', 'SUDIMF2', 'SUCT1', 'MODEL_MOD', 'DEALXMO', 'GSTATS_OUTPUT_IFS', '>MPL-GATHER', 'SU0YOMB', 'SUNUD', 'SUALDYN_DDH', 'SU1YOM', 'FIELD_CONTAINER_GP_MOD', 'SURLX', 'IOSTREAM_MIX:IOSTREAM_STATS', 'SUMP0', 'SUDIM_TRAJ', 'FINAL_STATS', 'SUCT0', 'YOE_CUCONVCA', 'YOMGWDIAG', 'SUFP_CTL', 'SUTRANS0', 'CNT1', 'SUMCUF', 'supergom_final', 'SURES', 'OPDIS', 'SPNG_MOD', 'YOMCSGEOM', 'SUALSPA', 'SUIAU', 'MASTER', 'supergom_destroy', 'FIELDS_MOD', 'MTRAJ_MOD', 'SUTRAJP', 'SU_GRIB_API', 'IOSTREAM_MIX:CLOSE_IOSTREAM', 'SUVAREPS', 'YEMLBC_INIT', 'GRIB_HANDLES_MOD', 'SUOPH', 'CNT0', 'SURINC', 'INI_SPP', 'SUCST_IFSAUX', 'SURIP0', 'SUSAVTEND', 'SUDIMF1', 'SUSC2C', 'SUETLDIAG', 'GET_SPP_CONF', 'SUALLO', 'SU_SURF_FLDS', 'YOMGSGEOM', 'SUINI', 'MODEL_MOD:MODEL_DELETE', 'FALSIFY_SURF_FLDS', 'SUSPVARIABLES', 'SUJFH', 'YOMCST', 'SURAND1', 'SUIOS', 'SUPP', 'SUIOSTREAM', 'SUALGCO', 'SULSFORC', 'SUCHET', 'SUTIM', 'SUDIMO', 'SUALMDH', 'IFLUSHFDBSUBS', 'SUMDDH', 'SU0YOMA', 'GEOMETRY_MOD', 'GEOMETRY_MOD:GEOMETRY_DELETE', 'TESTVAR_MIX', 'SUMCC', 'SULUN', 'SUALNUD', 'SUALTDH', 'SUPPVI', 'FIELDS_MOD:FIELDS_DELETE', 'SUECHK', 'MODULE_RADTC_MIX', 'SUMPINI_PRT', 'SUINTFLEX', 'IFS_INIT']\n",
      "['SUGRIB', 'SUVWRK', 'SUMSC', 'ALLOCATE_EMPTY_TRAJECTORY', 'supergom_final%class_supergom', 'SUDIMF2', 'SUCT1', 'MODEL_MOD', 'DEALXMO', 'GSTATS_OUTPUT_IFS', '>MPL-GATHER', 'SU0YOMB', 'SUNUD', 'SUALDYN_DDH', 'SU1YOM', 'FIELD_CONTAINER_GP_MOD', 'SURLX', 'IOSTREAM_MIX:IOSTREAM_STATS', 'SUMP0', 'SUDIM_TRAJ', 'FINAL_STATS', 'SUCT0', 'YOE_CUCONVCA', 'YOMGWDIAG', 'SUFP_CTL', 'SUTRANS0', 'CNT1', 'SUMCUF', 'supergom_final', 'SURES', 'OPDIS', 'SPNG_MOD', 'YOMCSGEOM', 'SUALSPA', 'SUIAU', 'MASTER', 'supergom_destroy', 'FIELDS_MOD', 'MTRAJ_MOD', 'SUTRAJP', 'SU_GRIB_API', 'IOSTREAM_MIX:CLOSE_IOSTREAM', 'SUVAREPS', 'YEMLBC_INIT', 'GRIB_HANDLES_MOD', 'SUOPH', 'CNT0', 'SURINC', 'INI_SPP', 'SUCST_IFSAUX', 'SURIP0', 'SUSAVTEND', 'SUDIMF1', 'SUSC2C', 'SUETLDIAG', 'GET_SPP_CONF', 'SUALLO', 'SU_SURF_FLDS', 'YOMGSGEOM', 'SUINI', 'MODEL_MOD:MODEL_DELETE', 'FALSIFY_SURF_FLDS', 'SUSPVARIABLES', 'SUJFH', 'YOMCST', 'SURAND1', 'SUIOS', 'SUPP', 'SUIOSTREAM', 'SUALGCO', 'SULSFORC', 'SUCHET', 'SUTIM', 'SUDIMO', 'SUALMDH', 'IFLUSHFDBSUBS', 'SUMDDH', 'SU0YOMA', 'GEOMETRY_MOD', 'GEOMETRY_MOD:GEOMETRY_DELETE', 'TESTVAR_MIX', 'SUMCC', 'SULUN', 'SUALNUD', 'SUALTDH', 'SUPPVI', 'FIELDS_MOD:FIELDS_DELETE', 'SUECHK', 'MODULE_RADTC_MIX', 'SUMPINI_PRT', 'SUINTFLEX', 'IFS_INIT']\n",
      "['SUGRIB', 'SUVWRK', 'SUMSC', 'ALLOCATE_EMPTY_TRAJECTORY', 'supergom_final%class_supergom', 'SUDIMF2', 'SUCT1', 'MODEL_MOD', 'DEALXMO', 'GSTATS_OUTPUT_IFS', '>MPL-GATHER', 'SU0YOMB', 'SUNUD', 'SUALDYN_DDH', 'SU1YOM', 'FIELD_CONTAINER_GP_MOD', 'SURLX', 'IOSTREAM_MIX:IOSTREAM_STATS', 'SUMP0', 'SUDIM_TRAJ', 'FINAL_STATS', 'SUCT0', 'YOE_CUCONVCA', 'YOMGWDIAG', 'SUFP_CTL', 'SUTRANS0', 'CNT1', 'SUMCUF', 'supergom_final', 'SURES', 'OPDIS', 'SPNG_MOD', 'YOMCSGEOM', 'SUALSPA', 'SUIAU', 'MASTER', 'supergom_destroy', 'FIELDS_MOD', 'MTRAJ_MOD', 'SUTRAJP', 'SU_GRIB_API', 'IOSTREAM_MIX:CLOSE_IOSTREAM', 'SUVAREPS', 'YEMLBC_INIT', 'GRIB_HANDLES_MOD', 'SUOPH', 'CNT0', 'SURINC', 'INI_SPP', 'SUCST_IFSAUX', 'SURIP0', 'SUSAVTEND', 'SUDIMF1', 'SUSC2C', 'SUETLDIAG', 'GET_SPP_CONF', 'SUALLO', 'SU_SURF_FLDS', 'YOMGSGEOM', 'SUINI', 'MODEL_MOD:MODEL_DELETE', 'FALSIFY_SURF_FLDS', 'SUSPVARIABLES', 'SUJFH', 'YOMCST', 'SURAND1', 'SUIOS', 'SUPP', 'SUIOSTREAM', 'SUALGCO', 'SULSFORC', 'SUCHET', 'SUTIM', 'SUDIMO', 'SUALMDH', 'IFLUSHFDBSUBS', 'SUMDDH', 'SU0YOMA', 'GEOMETRY_MOD', 'GEOMETRY_MOD:GEOMETRY_DELETE', 'TESTVAR_MIX', 'SUMCC', 'SULUN', 'SUALNUD', 'SUALTDH', 'SUPPVI', 'FIELDS_MOD:FIELDS_DELETE', 'SUECHK', 'MODULE_RADTC_MIX', 'SUMPINI_PRT', 'SUINTFLEX', 'IFS_INIT']\n",
      "['SUGRIB', 'SUVWRK', 'SUMSC', 'ALLOCATE_EMPTY_TRAJECTORY', 'supergom_final%class_supergom', 'SUDIMF2', 'SUCT1', 'MODEL_MOD', 'DEALXMO', 'GSTATS_OUTPUT_IFS', '>MPL-GATHER', 'SU0YOMB', 'SUNUD', 'SUALDYN_DDH', 'SU1YOM', 'FIELD_CONTAINER_GP_MOD', 'SURLX', 'IOSTREAM_MIX:IOSTREAM_STATS', 'SUMP0', 'SUDIM_TRAJ', 'FINAL_STATS', 'SUCT0', 'YOE_CUCONVCA', 'YOMGWDIAG', 'SUFP_CTL', 'SUTRANS0', 'CNT1', 'SUMCUF', 'supergom_final', 'SURES', 'OPDIS', 'SPNG_MOD', 'YOMCSGEOM', 'SUALSPA', 'SUIAU', 'MASTER', 'supergom_destroy', 'FIELDS_MOD', 'MTRAJ_MOD', 'SUTRAJP', 'SU_GRIB_API', 'IOSTREAM_MIX:CLOSE_IOSTREAM', 'SUVAREPS', 'YEMLBC_INIT', 'GRIB_HANDLES_MOD', 'SUOPH', 'CNT0', 'SURINC', 'INI_SPP', 'SUCST_IFSAUX', 'SURIP0', 'SUSAVTEND', 'SUDIMF1', 'SUSC2C', 'SUETLDIAG', 'GET_SPP_CONF', 'SUALLO', 'SU_SURF_FLDS', 'YOMGSGEOM', 'SUINI', 'MODEL_MOD:MODEL_DELETE', 'FALSIFY_SURF_FLDS', 'SUSPVARIABLES', 'SUJFH', 'YOMCST', 'SURAND1', 'SUIOS', 'SUPP', 'SUIOSTREAM', 'SUALGCO', 'SULSFORC', 'SUCHET', 'SUTIM', 'SUDIMO', 'SUALMDH', 'IFLUSHFDBSUBS', 'SUMDDH', 'SU0YOMA', 'GEOMETRY_MOD', 'GEOMETRY_MOD:GEOMETRY_DELETE', 'TESTVAR_MIX', 'SUMCC', 'SULUN', 'SUALNUD', 'SUALTDH', 'SUPPVI', 'FIELDS_MOD:FIELDS_DELETE', 'SUECHK', 'MODULE_RADTC_MIX', 'SUMPINI_PRT', 'SUINTFLEX', 'IFS_INIT']\n",
      "['SUGRIB', 'SUVWRK', 'SUMSC', 'ALLOCATE_EMPTY_TRAJECTORY', 'supergom_final%class_supergom', 'SUDIMF2', 'SUCT1', 'MODEL_MOD', 'DEALXMO', 'GSTATS_OUTPUT_IFS', '>MPL-GATHER', 'SU0YOMB', 'SUNUD', 'SUALDYN_DDH', 'SU1YOM', 'FIELD_CONTAINER_GP_MOD', 'SURLX', 'IOSTREAM_MIX:IOSTREAM_STATS', 'SUMP0', 'SUDIM_TRAJ', 'FINAL_STATS', 'SUCT0', 'YOE_CUCONVCA', 'YOMGWDIAG', 'SUFP_CTL', 'SUTRANS0', 'CNT1', 'SUMCUF', 'supergom_final', 'SURES', 'OPDIS', 'SPNG_MOD', 'YOMCSGEOM', 'SUALSPA', 'SUIAU', 'MASTER', 'supergom_destroy', 'FIELDS_MOD', 'MTRAJ_MOD', 'SUTRAJP', 'SU_GRIB_API', 'IOSTREAM_MIX:CLOSE_IOSTREAM', 'SUVAREPS', 'YEMLBC_INIT', 'GRIB_HANDLES_MOD', 'SUOPH', 'CNT0', 'SURINC', 'INI_SPP', 'SUCST_IFSAUX', 'SURIP0', 'SUSAVTEND', 'SUDIMF1', 'SUSC2C', 'SUETLDIAG', 'GET_SPP_CONF', 'SUALLO', 'SU_SURF_FLDS', 'YOMGSGEOM', 'SUINI', 'MODEL_MOD:MODEL_DELETE', 'FALSIFY_SURF_FLDS', 'SUSPVARIABLES', 'SUJFH', 'YOMCST', 'SURAND1', 'SUIOS', 'SUPP', 'SUIOSTREAM', 'SUALGCO', 'SULSFORC', 'SUCHET', 'SUTIM', 'SUDIMO', 'SUALMDH', 'IFLUSHFDBSUBS', 'SUMDDH', 'SU0YOMA', 'GEOMETRY_MOD', 'GEOMETRY_MOD:GEOMETRY_DELETE', 'TESTVAR_MIX', 'SUMCC', 'SULUN', 'SUALNUD', 'SUALTDH', 'SUPPVI', 'FIELDS_MOD:FIELDS_DELETE', 'SUECHK', 'MODULE_RADTC_MIX', 'SUMPINI_PRT', 'SUINTFLEX', 'IFS_INIT']\n",
      "['SUGRIB', 'SUVWRK', 'SUMSC', 'ALLOCATE_EMPTY_TRAJECTORY', 'supergom_final%class_supergom', 'SUDIMF2', 'SUCT1', 'MODEL_MOD', 'DEALXMO', 'GSTATS_OUTPUT_IFS', '>MPL-GATHER', 'SU0YOMB', 'SUNUD', 'SUALDYN_DDH', 'SU1YOM', 'FIELD_CONTAINER_GP_MOD', 'SURLX', 'IOSTREAM_MIX:IOSTREAM_STATS', 'SUMP0', 'SUDIM_TRAJ', 'FINAL_STATS', 'SUCT0', 'YOE_CUCONVCA', 'YOMGWDIAG', 'SUFP_CTL', 'SUTRANS0', 'CNT1', 'SUMCUF', 'supergom_final', 'SURES', 'OPDIS', 'SPNG_MOD', 'YOMCSGEOM', 'SUALSPA', 'SUIAU', 'MASTER', 'supergom_destroy', 'FIELDS_MOD', 'MTRAJ_MOD', 'SUTRAJP', 'SU_GRIB_API', 'IOSTREAM_MIX:CLOSE_IOSTREAM', 'SUVAREPS', 'YEMLBC_INIT', 'GRIB_HANDLES_MOD', 'SUOPH', 'CNT0', 'SURINC', 'INI_SPP', 'SUCST_IFSAUX', 'SURIP0', 'SUSAVTEND', 'SUDIMF1', 'SUSC2C', 'SUETLDIAG', 'GET_SPP_CONF', 'SUALLO', 'SU_SURF_FLDS', 'YOMGSGEOM', 'SUINI', 'MODEL_MOD:MODEL_DELETE', 'FALSIFY_SURF_FLDS', 'SUSPVARIABLES', 'SUJFH', 'YOMCST', 'SURAND1', 'SUIOS', 'SUPP', 'SUIOSTREAM', 'SUALGCO', 'SULSFORC', 'SUCHET', 'SUTIM', 'SUDIMO', 'SUALMDH', 'IFLUSHFDBSUBS', 'SUMDDH', 'SU0YOMA', 'GEOMETRY_MOD', 'GEOMETRY_MOD:GEOMETRY_DELETE', 'TESTVAR_MIX', 'SUMCC', 'SULUN', 'SUALNUD', 'SUALTDH', 'SUPPVI', 'FIELDS_MOD:FIELDS_DELETE', 'SUECHK', 'MODULE_RADTC_MIX', 'SUMPINI_PRT', 'SUINTFLEX', 'IFS_INIT']\n",
      "['SUGRIB', 'SUVWRK', 'SUMSC', 'ALLOCATE_EMPTY_TRAJECTORY', 'supergom_final%class_supergom', 'SUDIMF2', 'SUCT1', 'MODEL_MOD', 'DEALXMO', 'GSTATS_OUTPUT_IFS', '>MPL-GATHER', 'SU0YOMB', 'SUNUD', 'SUALDYN_DDH', 'SU1YOM', 'FIELD_CONTAINER_GP_MOD', 'SURLX', 'IOSTREAM_MIX:IOSTREAM_STATS', 'SUMP0', 'SUDIM_TRAJ', 'FINAL_STATS', 'SUCT0', 'YOE_CUCONVCA', 'YOMGWDIAG', 'SUFP_CTL', 'SUTRANS0', 'CNT1', 'SUMCUF', 'supergom_final', 'SURES', 'OPDIS', 'SPNG_MOD', 'YOMCSGEOM', 'SUALSPA', 'SUIAU', 'MASTER', 'supergom_destroy', 'FIELDS_MOD', 'MTRAJ_MOD', 'SUTRAJP', 'SU_GRIB_API', 'IOSTREAM_MIX:CLOSE_IOSTREAM', 'SUVAREPS', 'YEMLBC_INIT', 'GRIB_HANDLES_MOD', 'SUOPH', 'CNT0', 'SURINC', 'INI_SPP', 'SUCST_IFSAUX', 'SURIP0', 'SUSAVTEND', 'SUDIMF1', 'SUSC2C', 'SUETLDIAG', 'GET_SPP_CONF', 'SUALLO', 'SU_SURF_FLDS', 'YOMGSGEOM', 'SUINI', 'MODEL_MOD:MODEL_DELETE', 'FALSIFY_SURF_FLDS', 'SUSPVARIABLES', 'SUJFH', 'YOMCST', 'SURAND1', 'SUIOS', 'SUPP', 'SUIOSTREAM', 'SUALGCO', 'SULSFORC', 'SUCHET', 'SUTIM', 'SUDIMO', 'SUALMDH', 'IFLUSHFDBSUBS', 'SUMDDH', 'SU0YOMA', 'GEOMETRY_MOD', 'GEOMETRY_MOD:GEOMETRY_DELETE', 'TESTVAR_MIX', 'SUMCC', 'SULUN', 'SUALNUD', 'SUALTDH', 'SUPPVI', 'FIELDS_MOD:FIELDS_DELETE', 'SUECHK', 'MODULE_RADTC_MIX', 'SUMPINI_PRT', 'SUINTFLEX', 'IFS_INIT']\n",
      "['SUGRIB', 'SUVWRK', 'SUMSC', 'ALLOCATE_EMPTY_TRAJECTORY', 'supergom_final%class_supergom', 'SUDIMF2', 'SUCT1', 'MODEL_MOD', 'DEALXMO', 'GSTATS_OUTPUT_IFS', '>MPL-GATHER', 'SU0YOMB', 'SUNUD', 'SUALDYN_DDH', 'SU1YOM', 'FIELD_CONTAINER_GP_MOD', 'SURLX', 'IOSTREAM_MIX:IOSTREAM_STATS', 'SUMP0', 'SUDIM_TRAJ', 'FINAL_STATS', 'SUCT0', 'YOE_CUCONVCA', 'YOMGWDIAG', 'SUFP_CTL', 'SUTRANS0', 'CNT1', 'SUMCUF', 'supergom_final', 'SURES', 'OPDIS', 'SPNG_MOD', 'YOMCSGEOM', 'SUALSPA', 'SUIAU', 'MASTER', 'supergom_destroy', 'FIELDS_MOD', 'MTRAJ_MOD', 'SUTRAJP', 'SU_GRIB_API', 'IOSTREAM_MIX:CLOSE_IOSTREAM', 'SUVAREPS', 'YEMLBC_INIT', 'GRIB_HANDLES_MOD', 'SUOPH', 'CNT0', 'SURINC', 'INI_SPP', 'SUCST_IFSAUX', 'SURIP0', 'SUSAVTEND', 'SUDIMF1', 'SUSC2C', 'SUETLDIAG', 'GET_SPP_CONF', 'SUALLO', 'SU_SURF_FLDS', 'YOMGSGEOM', 'SUINI', 'MODEL_MOD:MODEL_DELETE', 'FALSIFY_SURF_FLDS', 'SUSPVARIABLES', 'SUJFH', 'YOMCST', 'SURAND1', 'SUIOS', 'SUPP', 'SUIOSTREAM', 'SUALGCO', 'SULSFORC', 'SUCHET', 'SUTIM', 'SUDIMO', 'SUALMDH', 'IFLUSHFDBSUBS', 'SUMDDH', 'SU0YOMA', 'GEOMETRY_MOD', 'GEOMETRY_MOD:GEOMETRY_DELETE', 'TESTVAR_MIX', 'SUMCC', 'SULUN', 'SUALNUD', 'SUALTDH', 'SUPPVI', 'FIELDS_MOD:FIELDS_DELETE', 'SUECHK', 'MODULE_RADTC_MIX', 'SUMPINI_PRT', 'SUINTFLEX', 'IFS_INIT']\n",
      "['SUGRIB', 'SUVWRK', 'SUMSC', 'ALLOCATE_EMPTY_TRAJECTORY', 'supergom_final%class_supergom', 'SUDIMF2', 'SUCT1', 'MODEL_MOD', 'DEALXMO', 'GSTATS_OUTPUT_IFS', '>MPL-GATHER', 'SU0YOMB', 'SUNUD', 'SUALDYN_DDH', 'SU1YOM', 'FIELD_CONTAINER_GP_MOD', 'SURLX', 'IOSTREAM_MIX:IOSTREAM_STATS', 'SUMP0', 'SUDIM_TRAJ', 'FINAL_STATS', 'SUCT0', 'YOE_CUCONVCA', 'YOMGWDIAG', 'SUFP_CTL', 'SUTRANS0', 'CNT1', 'SUMCUF', 'supergom_final', 'SURES', 'OPDIS', 'SPNG_MOD', 'YOMCSGEOM', 'SUALSPA', 'SUIAU', 'MASTER', 'supergom_destroy', 'FIELDS_MOD', 'MTRAJ_MOD', 'SUTRAJP', 'SU_GRIB_API', 'IOSTREAM_MIX:CLOSE_IOSTREAM', 'SUVAREPS', 'YEMLBC_INIT', 'GRIB_HANDLES_MOD', 'SUOPH', 'CNT0', 'SURINC', 'INI_SPP', 'SUCST_IFSAUX', 'SURIP0', 'SUSAVTEND', 'SUDIMF1', 'SUSC2C', 'SUETLDIAG', 'GET_SPP_CONF', 'SUALLO', 'SU_SURF_FLDS', 'YOMGSGEOM', 'SUINI', 'MODEL_MOD:MODEL_DELETE', 'FALSIFY_SURF_FLDS', 'SUSPVARIABLES', 'SUJFH', 'YOMCST', 'SURAND1', 'SUIOS', 'SUPP', 'SUIOSTREAM', 'SUALGCO', 'SULSFORC', 'SUCHET', 'SUTIM', 'SUDIMO', 'SUALMDH', 'IFLUSHFDBSUBS', 'SUMDDH', 'SU0YOMA', 'GEOMETRY_MOD', 'GEOMETRY_MOD:GEOMETRY_DELETE', 'TESTVAR_MIX', 'SUMCC', 'SULUN', 'SUALNUD', 'SUALTDH', 'SUPPVI', 'FIELDS_MOD:FIELDS_DELETE', 'SUECHK', 'MODULE_RADTC_MIX', 'SUMPINI_PRT', 'SUINTFLEX', 'IFS_INIT']\n",
      "['SUGRIB', 'SUVWRK', 'SUMSC', 'ALLOCATE_EMPTY_TRAJECTORY', 'supergom_final%class_supergom', 'SUDIMF2', 'SUCT1', 'MODEL_MOD', 'DEALXMO', 'GSTATS_OUTPUT_IFS', '>MPL-GATHER', 'SU0YOMB', 'SUNUD', 'SUALDYN_DDH', 'SU1YOM', 'FIELD_CONTAINER_GP_MOD', 'SURLX', 'IOSTREAM_MIX:IOSTREAM_STATS', 'SUMP0', 'SUDIM_TRAJ', 'FINAL_STATS', 'SUCT0', 'YOE_CUCONVCA', 'YOMGWDIAG', 'SUFP_CTL', 'SUTRANS0', 'CNT1', 'SUMCUF', 'supergom_final', 'SURES', 'OPDIS', 'SPNG_MOD', 'YOMCSGEOM', 'SUALSPA', 'SUIAU', 'MASTER', 'supergom_destroy', 'FIELDS_MOD', 'MTRAJ_MOD', 'SUTRAJP', 'SU_GRIB_API', 'IOSTREAM_MIX:CLOSE_IOSTREAM', 'SUVAREPS', 'YEMLBC_INIT', 'GRIB_HANDLES_MOD', 'SUOPH', 'CNT0', 'SURINC', 'INI_SPP', 'SUCST_IFSAUX', 'SURIP0', 'SUSAVTEND', 'SUDIMF1', 'SUSC2C', 'SUETLDIAG', 'GET_SPP_CONF', 'SUALLO', 'SU_SURF_FLDS', 'YOMGSGEOM', 'SUINI', 'MODEL_MOD:MODEL_DELETE', 'FALSIFY_SURF_FLDS', 'SUSPVARIABLES', 'SUJFH', 'YOMCST', 'SURAND1', 'SUIOS', 'SUPP', 'SUIOSTREAM', 'SUALGCO', 'SULSFORC', 'SUCHET', 'SUTIM', 'SUDIMO', 'SUALMDH', 'IFLUSHFDBSUBS', 'SUMDDH', 'SU0YOMA', 'GEOMETRY_MOD', 'GEOMETRY_MOD:GEOMETRY_DELETE', 'TESTVAR_MIX', 'SUMCC', 'SULUN', 'SUALNUD', 'SUALTDH', 'SUPPVI', 'FIELDS_MOD:FIELDS_DELETE', 'SUECHK', 'MODULE_RADTC_MIX', 'SUMPINI_PRT', 'SUINTFLEX', 'IFS_INIT']\n",
      "['SUGRIB', 'SUVWRK', 'SUMSC', 'ALLOCATE_EMPTY_TRAJECTORY', 'supergom_final%class_supergom', 'SUDIMF2', 'SUCT1', 'MODEL_MOD', 'DEALXMO', 'GSTATS_OUTPUT_IFS', '>MPL-GATHER', 'SU0YOMB', 'SUNUD', 'SUALDYN_DDH', 'SU1YOM', 'FIELD_CONTAINER_GP_MOD', 'SURLX', 'IOSTREAM_MIX:IOSTREAM_STATS', 'SUMP0', 'SUDIM_TRAJ', 'FINAL_STATS', 'SUCT0', 'YOE_CUCONVCA', 'YOMGWDIAG', 'SUFP_CTL', 'SUTRANS0', 'CNT1', 'SUMCUF', 'supergom_final', 'SURES', 'OPDIS', 'SPNG_MOD', 'YOMCSGEOM', 'SUALSPA', 'SUIAU', 'MASTER', 'supergom_destroy', 'FIELDS_MOD', 'MTRAJ_MOD', 'SUTRAJP', 'SU_GRIB_API', 'IOSTREAM_MIX:CLOSE_IOSTREAM', 'SUVAREPS', 'YEMLBC_INIT', 'GRIB_HANDLES_MOD', 'SUOPH', 'CNT0', 'SURINC', 'INI_SPP', 'SUCST_IFSAUX', 'SURIP0', 'SUSAVTEND', 'SUDIMF1', 'SUSC2C', 'SUETLDIAG', 'GET_SPP_CONF', 'SUALLO', 'SU_SURF_FLDS', 'YOMGSGEOM', 'SUINI', 'MODEL_MOD:MODEL_DELETE', 'FALSIFY_SURF_FLDS', 'SUSPVARIABLES', 'SUJFH', 'YOMCST', 'SURAND1', 'SUIOS', 'SUPP', 'SUIOSTREAM', 'SUALGCO', 'SULSFORC', 'SUCHET', 'SUTIM', 'SUDIMO', 'SUALMDH', 'IFLUSHFDBSUBS', 'SUMDDH', 'SU0YOMA', 'GEOMETRY_MOD', 'GEOMETRY_MOD:GEOMETRY_DELETE', 'TESTVAR_MIX', 'SUMCC', 'SULUN', 'SUALNUD', 'SUALTDH', 'SUPPVI', 'FIELDS_MOD:FIELDS_DELETE', 'SUECHK', 'MODULE_RADTC_MIX', 'SUMPINI_PRT', 'SUINTFLEX', 'IFS_INIT']\n",
      "['SUGRIB', 'SUVWRK', 'SUMSC', 'ALLOCATE_EMPTY_TRAJECTORY', 'supergom_final%class_supergom', 'SUDIMF2', 'SUCT1', 'MODEL_MOD', 'DEALXMO', 'GSTATS_OUTPUT_IFS', '>MPL-GATHER', 'SU0YOMB', 'SUNUD', 'SUALDYN_DDH', 'SU1YOM', 'FIELD_CONTAINER_GP_MOD', 'SURLX', 'IOSTREAM_MIX:IOSTREAM_STATS', 'SUMP0', 'SUDIM_TRAJ', 'FINAL_STATS', 'SUCT0', 'YOE_CUCONVCA', 'YOMGWDIAG', 'SUFP_CTL', 'SUTRANS0', 'CNT1', 'SUMCUF', 'supergom_final', 'SURES', 'OPDIS', 'SPNG_MOD', 'YOMCSGEOM', 'SUALSPA', 'SUIAU', 'MASTER', 'supergom_destroy', 'FIELDS_MOD', 'MTRAJ_MOD', 'SUTRAJP', 'SU_GRIB_API', 'IOSTREAM_MIX:CLOSE_IOSTREAM', 'SUVAREPS', 'YEMLBC_INIT', 'GRIB_HANDLES_MOD', 'SUOPH', 'CNT0', 'SURINC', 'INI_SPP', 'SUCST_IFSAUX', 'SURIP0', 'SUSAVTEND', 'SUDIMF1', 'SUSC2C', 'SUETLDIAG', 'GET_SPP_CONF', 'SUALLO', 'SU_SURF_FLDS', 'YOMGSGEOM', 'SUINI', 'MODEL_MOD:MODEL_DELETE', 'FALSIFY_SURF_FLDS', 'SUSPVARIABLES', 'SUJFH', 'YOMCST', 'SURAND1', 'SUIOS', 'SUPP', 'SUIOSTREAM', 'SUALGCO', 'SULSFORC', 'SUCHET', 'SUTIM', 'SUDIMO', 'SUALMDH', 'IFLUSHFDBSUBS', 'SUMDDH', 'SU0YOMA', 'GEOMETRY_MOD', 'GEOMETRY_MOD:GEOMETRY_DELETE', 'TESTVAR_MIX', 'SUMCC', 'SULUN', 'SUALNUD', 'SUALTDH', 'SUPPVI', 'FIELDS_MOD:FIELDS_DELETE', 'SUECHK', 'MODULE_RADTC_MIX', 'SUMPINI_PRT', 'SUINTFLEX', 'IFS_INIT']\n",
      "['SUGRIB', 'SUVWRK', 'SUMSC', 'ALLOCATE_EMPTY_TRAJECTORY', 'supergom_final%class_supergom', 'SUDIMF2', 'SUCT1', 'MODEL_MOD', 'DEALXMO', 'GSTATS_OUTPUT_IFS', '>MPL-GATHER', 'SU0YOMB', 'SUNUD', 'SUALDYN_DDH', 'SU1YOM', 'FIELD_CONTAINER_GP_MOD', 'SURLX', 'IOSTREAM_MIX:IOSTREAM_STATS', 'SUMP0', 'SUDIM_TRAJ', 'FINAL_STATS', 'SUCT0', 'YOE_CUCONVCA', 'YOMGWDIAG', 'SUFP_CTL', 'SUTRANS0', 'CNT1', 'SUMCUF', 'supergom_final', 'SURES', 'OPDIS', 'SPNG_MOD', 'YOMCSGEOM', 'SUALSPA', 'SUIAU', 'MASTER', 'supergom_destroy', 'FIELDS_MOD', 'MTRAJ_MOD', 'SUTRAJP', 'SU_GRIB_API', 'IOSTREAM_MIX:CLOSE_IOSTREAM', 'SUVAREPS', 'YEMLBC_INIT', 'GRIB_HANDLES_MOD', 'SUOPH', 'CNT0', 'SURINC', 'INI_SPP', 'SUCST_IFSAUX', 'SURIP0', 'SUSAVTEND', 'SUDIMF1', 'SUSC2C', 'SUETLDIAG', 'GET_SPP_CONF', 'SUALLO', 'SU_SURF_FLDS', 'YOMGSGEOM', 'SUINI', 'MODEL_MOD:MODEL_DELETE', 'FALSIFY_SURF_FLDS', 'SUSPVARIABLES', 'SUJFH', 'YOMCST', 'SURAND1', 'SUIOS', 'SUPP', 'SUIOSTREAM', 'SUALGCO', 'SULSFORC', 'SUCHET', 'SUTIM', 'SUDIMO', 'SUALMDH', 'IFLUSHFDBSUBS', 'SUMDDH', 'SU0YOMA', 'GEOMETRY_MOD', 'GEOMETRY_MOD:GEOMETRY_DELETE', 'TESTVAR_MIX', 'SUMCC', 'SULUN', 'SUALNUD', 'SUALTDH', 'SUPPVI', 'FIELDS_MOD:FIELDS_DELETE', 'SUECHK', 'MODULE_RADTC_MIX', 'SUMPINI_PRT', 'SUINTFLEX', 'IFS_INIT']\n",
      "['SUGRIB', 'SUVWRK', 'SUMSC', 'ALLOCATE_EMPTY_TRAJECTORY', 'supergom_final%class_supergom', 'SUDIMF2', 'SUCT1', 'MODEL_MOD', 'DEALXMO', 'GSTATS_OUTPUT_IFS', '>MPL-GATHER', 'SU0YOMB', 'SUNUD', 'SUALDYN_DDH', 'SU1YOM', 'FIELD_CONTAINER_GP_MOD', 'SURLX', 'IOSTREAM_MIX:IOSTREAM_STATS', 'SUMP0', 'SUDIM_TRAJ', 'FINAL_STATS', 'SUCT0', 'YOE_CUCONVCA', 'YOMGWDIAG', 'SUFP_CTL', 'SUTRANS0', 'CNT1', 'SUMCUF', 'supergom_final', 'SURES', 'OPDIS', 'SPNG_MOD', 'YOMCSGEOM', 'SUALSPA', 'SUIAU', 'MASTER', 'supergom_destroy', 'FIELDS_MOD', 'MTRAJ_MOD', 'SUTRAJP', 'SU_GRIB_API', 'IOSTREAM_MIX:CLOSE_IOSTREAM', 'SUVAREPS', 'YEMLBC_INIT', 'GRIB_HANDLES_MOD', 'SUOPH', 'CNT0', 'SURINC', 'INI_SPP', 'SUCST_IFSAUX', 'SURIP0', 'SUSAVTEND', 'SUDIMF1', 'SUSC2C', 'SUETLDIAG', 'GET_SPP_CONF', 'SUALLO', 'SU_SURF_FLDS', 'YOMGSGEOM', 'SUINI', 'MODEL_MOD:MODEL_DELETE', 'FALSIFY_SURF_FLDS', 'SUSPVARIABLES', 'SUJFH', 'YOMCST', 'SURAND1', 'SUIOS', 'SUPP', 'SUIOSTREAM', 'SUALGCO', 'SULSFORC', 'SUCHET', 'SUTIM', 'SUDIMO', 'SUALMDH', 'IFLUSHFDBSUBS', 'SUMDDH', 'SU0YOMA', 'GEOMETRY_MOD', 'GEOMETRY_MOD:GEOMETRY_DELETE', 'TESTVAR_MIX', 'SUMCC', 'SULUN', 'SUALNUD', 'SUALTDH', 'SUPPVI', 'FIELDS_MOD:FIELDS_DELETE', 'SUECHK', 'MODULE_RADTC_MIX', 'SUMPINI_PRT', 'SUINTFLEX', 'IFS_INIT']\n",
      "['SUGRIB', 'SUVWRK', 'SUMSC', 'ALLOCATE_EMPTY_TRAJECTORY', 'supergom_final%class_supergom', 'SUDIMF2', 'SUCT1', 'MODEL_MOD', 'DEALXMO', 'GSTATS_OUTPUT_IFS', '>MPL-GATHER', 'SU0YOMB', 'SUNUD', 'SUALDYN_DDH', 'SU1YOM', 'FIELD_CONTAINER_GP_MOD', 'SURLX', 'IOSTREAM_MIX:IOSTREAM_STATS', 'SUMP0', 'SUDIM_TRAJ', 'FINAL_STATS', 'SUCT0', 'YOE_CUCONVCA', 'YOMGWDIAG', 'SUFP_CTL', 'SUTRANS0', 'CNT1', 'SUMCUF', 'supergom_final', 'SURES', 'OPDIS', 'SPNG_MOD', 'YOMCSGEOM', 'SUALSPA', 'SUIAU', 'MASTER', 'supergom_destroy', 'FIELDS_MOD', 'MTRAJ_MOD', 'SUTRAJP', 'SU_GRIB_API', 'IOSTREAM_MIX:CLOSE_IOSTREAM', 'SUVAREPS', 'YEMLBC_INIT', 'GRIB_HANDLES_MOD', 'SUOPH', 'CNT0', 'SURINC', 'INI_SPP', 'SUCST_IFSAUX', 'SURIP0', 'SUSAVTEND', 'SUDIMF1', 'SUSC2C', 'SUETLDIAG', 'GET_SPP_CONF', 'SUALLO', 'SU_SURF_FLDS', 'YOMGSGEOM', 'SUINI', 'MODEL_MOD:MODEL_DELETE', 'FALSIFY_SURF_FLDS', 'SUSPVARIABLES', 'SUJFH', 'YOMCST', 'SURAND1', 'SUIOS', 'SUPP', 'SUIOSTREAM', 'SUALGCO', 'SULSFORC', 'SUCHET', 'SUTIM', 'SUDIMO', 'SUALMDH', 'IFLUSHFDBSUBS', 'SUMDDH', 'SU0YOMA', 'GEOMETRY_MOD', 'GEOMETRY_MOD:GEOMETRY_DELETE', 'TESTVAR_MIX', 'SUMCC', 'SULUN', 'SUALNUD', 'SUALTDH', 'SUPPVI', 'FIELDS_MOD:FIELDS_DELETE', 'SUECHK', 'MODULE_RADTC_MIX', 'SUMPINI_PRT', 'SUINTFLEX', 'IFS_INIT']\n",
      "['SUGRIB', 'SUVWRK', 'SUMSC', 'ALLOCATE_EMPTY_TRAJECTORY', 'supergom_final%class_supergom', 'SUDIMF2', 'SUCT1', 'MODEL_MOD', 'DEALXMO', 'GSTATS_OUTPUT_IFS', '>MPL-GATHER', 'SU0YOMB', 'SUNUD', 'SUALDYN_DDH', 'SU1YOM', 'FIELD_CONTAINER_GP_MOD', 'SURLX', 'IOSTREAM_MIX:IOSTREAM_STATS', 'SUMP0', 'SUDIM_TRAJ', 'FINAL_STATS', 'SUCT0', 'YOE_CUCONVCA', 'YOMGWDIAG', 'SUFP_CTL', 'SUTRANS0', 'CNT1', 'SUMCUF', 'supergom_final', 'SURES', 'OPDIS', 'SPNG_MOD', 'YOMCSGEOM', 'SUALSPA', 'SUIAU', 'MASTER', 'supergom_destroy', 'FIELDS_MOD', 'MTRAJ_MOD', 'SUTRAJP', 'SU_GRIB_API', 'IOSTREAM_MIX:CLOSE_IOSTREAM', 'SUVAREPS', 'YEMLBC_INIT', 'GRIB_HANDLES_MOD', 'SUOPH', 'CNT0', 'SURINC', 'INI_SPP', 'SUCST_IFSAUX', 'SURIP0', 'SUSAVTEND', 'SUDIMF1', 'SUSC2C', 'SUETLDIAG', 'GET_SPP_CONF', 'SUALLO', 'SU_SURF_FLDS', 'YOMGSGEOM', 'SUINI', 'MODEL_MOD:MODEL_DELETE', 'FALSIFY_SURF_FLDS', 'SUSPVARIABLES', 'SUJFH', 'YOMCST', 'SURAND1', 'SUIOS', 'SUPP', 'SUIOSTREAM', 'SUALGCO', 'SULSFORC', 'SUCHET', 'SUTIM', 'SUDIMO', 'SUALMDH', 'IFLUSHFDBSUBS', 'SUMDDH', 'SU0YOMA', 'GEOMETRY_MOD', 'GEOMETRY_MOD:GEOMETRY_DELETE', 'TESTVAR_MIX', 'SUMCC', 'SULUN', 'SUALNUD', 'SUALTDH', 'SUPPVI', 'FIELDS_MOD:FIELDS_DELETE', 'SUECHK', 'MODULE_RADTC_MIX', 'SUMPINI_PRT', 'SUINTFLEX', 'IFS_INIT']\n",
      "['SUGRIB', 'SUVWRK', 'SUMSC', 'ALLOCATE_EMPTY_TRAJECTORY', 'supergom_final%class_supergom', 'SUDIMF2', 'SUCT1', 'MODEL_MOD', 'DEALXMO', 'GSTATS_OUTPUT_IFS', '>MPL-GATHER', 'SU0YOMB', 'SUNUD', 'SUALDYN_DDH', 'SU1YOM', 'FIELD_CONTAINER_GP_MOD', 'SURLX', 'IOSTREAM_MIX:IOSTREAM_STATS', 'SUMP0', 'SUDIM_TRAJ', 'FINAL_STATS', 'SUCT0', 'YOE_CUCONVCA', 'YOMGWDIAG', 'SUFP_CTL', 'SUTRANS0', 'CNT1', 'SUMCUF', 'supergom_final', 'SURES', 'OPDIS', 'SPNG_MOD', 'YOMCSGEOM', 'SUALSPA', 'SUIAU', 'MASTER', 'supergom_destroy', 'FIELDS_MOD', 'MTRAJ_MOD', 'SUTRAJP', 'SU_GRIB_API', 'IOSTREAM_MIX:CLOSE_IOSTREAM', 'SUVAREPS', 'YEMLBC_INIT', 'GRIB_HANDLES_MOD', 'SUOPH', 'CNT0', 'SURINC', 'INI_SPP', 'SUCST_IFSAUX', 'SURIP0', 'SUSAVTEND', 'SUDIMF1', 'SUSC2C', 'SUETLDIAG', 'GET_SPP_CONF', 'SUALLO', 'SU_SURF_FLDS', 'YOMGSGEOM', 'SUINI', 'MODEL_MOD:MODEL_DELETE', 'FALSIFY_SURF_FLDS', 'SUSPVARIABLES', 'SUJFH', 'YOMCST', 'SURAND1', 'SUIOS', 'SUPP', 'SUIOSTREAM', 'SUALGCO', 'SULSFORC', 'SUCHET', 'SUTIM', 'SUDIMO', 'SUALMDH', 'IFLUSHFDBSUBS', 'SUMDDH', 'SU0YOMA', 'GEOMETRY_MOD', 'GEOMETRY_MOD:GEOMETRY_DELETE', 'TESTVAR_MIX', 'SUMCC', 'SULUN', 'SUALNUD', 'SUALTDH', 'SUPPVI', 'FIELDS_MOD:FIELDS_DELETE', 'SUECHK', 'MODULE_RADTC_MIX', 'SUMPINI_PRT', 'SUINTFLEX', 'IFS_INIT']\n",
      "['SUGRIB', 'SUVWRK', 'SUMSC', 'ALLOCATE_EMPTY_TRAJECTORY', 'supergom_final%class_supergom', 'SUDIMF2', 'SUCT1', 'MODEL_MOD', 'DEALXMO', 'GSTATS_OUTPUT_IFS', '>MPL-GATHER', 'SU0YOMB', 'SUNUD', 'SUALDYN_DDH', 'SU1YOM', 'FIELD_CONTAINER_GP_MOD', 'SURLX', 'IOSTREAM_MIX:IOSTREAM_STATS', 'SUMP0', 'SUDIM_TRAJ', 'FINAL_STATS', 'SUCT0', 'YOE_CUCONVCA', 'YOMGWDIAG', 'SUFP_CTL', 'SUTRANS0', 'CNT1', 'SUMCUF', 'supergom_final', 'SURES', 'OPDIS', 'SPNG_MOD', 'YOMCSGEOM', 'SUALSPA', 'SUIAU', 'MASTER', 'supergom_destroy', 'FIELDS_MOD', 'MTRAJ_MOD', 'SUTRAJP', 'SU_GRIB_API', 'IOSTREAM_MIX:CLOSE_IOSTREAM', 'SUVAREPS', 'YEMLBC_INIT', 'GRIB_HANDLES_MOD', 'SUOPH', 'CNT0', 'SURINC', 'INI_SPP', 'SUCST_IFSAUX', 'SURIP0', 'SUSAVTEND', 'SUDIMF1', 'SUSC2C', 'SUETLDIAG', 'GET_SPP_CONF', 'SUALLO', 'SU_SURF_FLDS', 'YOMGSGEOM', 'SUINI', 'MODEL_MOD:MODEL_DELETE', 'FALSIFY_SURF_FLDS', 'SUSPVARIABLES', 'SUJFH', 'YOMCST', 'SURAND1', 'SUIOS', 'SUPP', 'SUIOSTREAM', 'SUALGCO', 'SULSFORC', 'SUCHET', 'SUTIM', 'SUDIMO', 'SUALMDH', 'IFLUSHFDBSUBS', 'SUMDDH', 'SU0YOMA', 'GEOMETRY_MOD', 'GEOMETRY_MOD:GEOMETRY_DELETE', 'TESTVAR_MIX', 'SUMCC', 'SULUN', 'SUALNUD', 'SUALTDH', 'SUPPVI', 'FIELDS_MOD:FIELDS_DELETE', 'SUECHK', 'MODULE_RADTC_MIX', 'SUMPINI_PRT', 'SUINTFLEX', 'IFS_INIT']\n",
      "['SUGRIB', 'SUVWRK', 'SUMSC', 'ALLOCATE_EMPTY_TRAJECTORY', 'supergom_final%class_supergom', 'SUDIMF2', 'SUCT1', 'MODEL_MOD', 'DEALXMO', 'GSTATS_OUTPUT_IFS', '>MPL-GATHER', 'SU0YOMB', 'SUNUD', 'SUALDYN_DDH', 'SU1YOM', 'FIELD_CONTAINER_GP_MOD', 'SURLX', 'IOSTREAM_MIX:IOSTREAM_STATS', 'SUMP0', 'SUDIM_TRAJ', 'FINAL_STATS', 'SUCT0', 'YOE_CUCONVCA', 'YOMGWDIAG', 'SUFP_CTL', 'SUTRANS0', 'CNT1', 'SUMCUF', 'supergom_final', 'SURES', 'OPDIS', 'SPNG_MOD', 'YOMCSGEOM', 'SUALSPA', 'SUIAU', 'MASTER', 'supergom_destroy', 'FIELDS_MOD', 'MTRAJ_MOD', 'SUTRAJP', 'SU_GRIB_API', 'IOSTREAM_MIX:CLOSE_IOSTREAM', 'SUVAREPS', 'YEMLBC_INIT', 'GRIB_HANDLES_MOD', 'SUOPH', 'CNT0', 'SURINC', 'INI_SPP', 'SUCST_IFSAUX', 'SURIP0', 'SUSAVTEND', 'SUDIMF1', 'SUSC2C', 'SUETLDIAG', 'GET_SPP_CONF', 'SUALLO', 'SU_SURF_FLDS', 'YOMGSGEOM', 'SUINI', 'MODEL_MOD:MODEL_DELETE', 'FALSIFY_SURF_FLDS', 'SUSPVARIABLES', 'SUJFH', 'YOMCST', 'SURAND1', 'SUIOS', 'SUPP', 'SUIOSTREAM', 'SUALGCO', 'SULSFORC', 'SUCHET', 'SUTIM', 'SUDIMO', 'SUALMDH', 'IFLUSHFDBSUBS', 'SUMDDH', 'SU0YOMA', 'GEOMETRY_MOD', 'GEOMETRY_MOD:GEOMETRY_DELETE', 'TESTVAR_MIX', 'SUMCC', 'SULUN', 'SUALNUD', 'SUALTDH', 'SUPPVI', 'FIELDS_MOD:FIELDS_DELETE', 'SUECHK', 'MODULE_RADTC_MIX', 'SUMPINI_PRT', 'SUINTFLEX', 'IFS_INIT']\n"
     ]
    },
    {
     "data": {
      "application/vnd.plotly.v1+json": {
       "config": {
        "plotlyServerURL": "https://plot.ly"
       },
       "data": [
        {
         "line": {
          "color": "#888",
          "width": 0.5
         },
         "mode": "lines",
         "type": "scatter",
         "x": [
          202,
          89,
          null,
          280,
          200,
          null,
          273,
          200,
          null,
          138,
          89,
          null,
          133,
          224,
          null,
          346,
          79,
          null,
          217,
          200,
          null,
          202,
          121,
          null,
          423,
          193,
          null,
          232,
          44,
          null,
          178,
          21,
          null,
          89,
          140,
          null,
          89,
          300,
          null,
          89,
          25,
          null,
          89,
          210,
          null,
          89,
          151,
          null,
          89,
          415,
          null,
          89,
          164,
          null,
          89,
          363,
          null,
          89,
          127,
          null,
          89,
          57,
          null,
          89,
          98,
          null,
          89,
          267,
          null,
          89,
          91,
          null,
          89,
          257,
          null,
          89,
          17,
          null,
          89,
          314,
          null,
          89,
          38,
          null,
          89,
          54,
          null,
          89,
          409,
          null,
          89,
          327,
          null,
          89,
          430,
          null,
          89,
          270,
          null,
          89,
          107,
          null,
          89,
          210,
          null,
          89,
          425,
          null,
          89,
          167,
          null,
          89,
          263,
          null,
          89,
          246,
          null,
          89,
          381,
          null,
          89,
          185,
          null,
          266,
          79,
          null,
          323,
          124,
          null,
          21,
          44,
          null,
          215,
          200,
          null,
          19,
          79,
          null,
          343,
          44,
          null,
          343,
          242,
          null,
          207,
          200,
          null,
          113,
          200,
          null,
          68,
          200,
          null,
          391,
          44,
          null,
          112,
          312,
          null,
          33,
          33,
          null,
          33,
          44,
          null,
          435,
          44,
          null,
          420,
          44,
          null,
          42,
          79,
          null,
          337,
          44,
          null,
          337,
          171,
          null,
          349,
          200,
          null,
          112,
          200,
          null,
          213,
          79,
          null,
          44,
          121,
          null,
          44,
          79,
          null,
          44,
          267,
          null,
          44,
          193,
          null,
          44,
          200,
          null,
          247,
          200,
          null,
          41,
          200,
          null,
          360,
          200,
          null,
          175,
          79,
          null,
          48,
          79,
          null,
          356,
          200,
          null,
          396,
          79,
          null,
          317,
          79,
          null,
          432,
          312,
          null,
          356,
          200,
          null,
          323,
          193,
          null,
          421,
          200,
          null,
          322,
          200,
          null,
          36,
          79,
          null,
          275,
          200,
          null,
          79,
          266,
          null,
          79,
          326,
          null,
          29,
          200,
          null,
          358,
          200,
          null,
          66,
          200,
          null
         ],
         "y": [
          418,
          110,
          null,
          286,
          438,
          null,
          85,
          438,
          null,
          7,
          110,
          null,
          283,
          62,
          null,
          269,
          358,
          null,
          271,
          438,
          null,
          226,
          198,
          null,
          88,
          122,
          null,
          53,
          42,
          null,
          31,
          328,
          null,
          110,
          307,
          null,
          110,
          81,
          null,
          110,
          282,
          null,
          110,
          135,
          null,
          110,
          216,
          null,
          110,
          47,
          null,
          110,
          279,
          null,
          110,
          212,
          null,
          110,
          408,
          null,
          110,
          307,
          null,
          110,
          5,
          null,
          110,
          273,
          null,
          110,
          251,
          null,
          110,
          404,
          null,
          110,
          372,
          null,
          110,
          282,
          null,
          110,
          228,
          null,
          110,
          150,
          null,
          110,
          349,
          null,
          110,
          276,
          null,
          110,
          67,
          null,
          110,
          234,
          null,
          110,
          22,
          null,
          110,
          24,
          null,
          110,
          109,
          null,
          110,
          78,
          null,
          110,
          389,
          null,
          110,
          374,
          null,
          110,
          417,
          null,
          110,
          401,
          null,
          169,
          358,
          null,
          214,
          390,
          null,
          328,
          42,
          null,
          157,
          438,
          null,
          61,
          358,
          null,
          308,
          42,
          null,
          308,
          188,
          null,
          401,
          438,
          null,
          25,
          438,
          null,
          180,
          438,
          null,
          271,
          42,
          null,
          202,
          27,
          null,
          24,
          24,
          null,
          24,
          42,
          null,
          18,
          42,
          null,
          289,
          42,
          null,
          141,
          358,
          null,
          366,
          42,
          null,
          366,
          409,
          null,
          190,
          438,
          null,
          412,
          438,
          null,
          220,
          358,
          null,
          42,
          198,
          null,
          42,
          358,
          null,
          42,
          39,
          null,
          42,
          122,
          null,
          42,
          438,
          null,
          244,
          438,
          null,
          137,
          438,
          null,
          374,
          438,
          null,
          376,
          358,
          null,
          211,
          358,
          null,
          365,
          438,
          null,
          148,
          358,
          null,
          22,
          358,
          null,
          88,
          27,
          null,
          161,
          438,
          null,
          287,
          122,
          null,
          77,
          438,
          null,
          73,
          438,
          null,
          84,
          358,
          null,
          412,
          438,
          null,
          358,
          202,
          null,
          358,
          429,
          null,
          245,
          438,
          null,
          309,
          438,
          null,
          387,
          438,
          null
         ]
        },
        {
         "hoverinfo": "text",
         "marker": {
          "line": {
           "width": 2
          }
         },
         "mode": "markers",
         "text": [
          "SUGRIB",
          "SUVWRK",
          "SUMSC",
          "ALLOCATE_EMPTY_TRAJECTORY",
          "supergom_final%class_supergom",
          "SUDIMF2",
          "SUCT1",
          "MODEL_MOD",
          "DEALXMO",
          "GSTATS_OUTPUT_IFS",
          ">MPL-GATHER",
          "SU0YOMB",
          "SUNUD",
          "SUALDYN_DDH",
          "SU1YOM",
          "FIELD_CONTAINER_GP_MOD",
          "SURLX",
          "IOSTREAM_MIX:IOSTREAM_STATS",
          "SUMP0",
          "SUDIM_TRAJ",
          "FINAL_STATS",
          "SUCT0",
          "YOE_CUCONVCA",
          "YOMGWDIAG",
          "SUFP_CTL",
          "SUTRANS0",
          "CNT1",
          "SUMCUF",
          "supergom_final",
          "SURES",
          "OPDIS",
          "SPNG_MOD",
          "YOMCSGEOM",
          "SUALSPA",
          "SUIAU",
          "MASTER",
          "supergom_destroy",
          "FIELDS_MOD",
          "MTRAJ_MOD",
          "SUTRAJP",
          "SU_GRIB_API",
          "IOSTREAM_MIX:CLOSE_IOSTREAM",
          "SUVAREPS",
          "YEMLBC_INIT",
          "GRIB_HANDLES_MOD",
          "SUOPH",
          "CNT0",
          "SURINC",
          "INI_SPP",
          "SUCST_IFSAUX",
          "SURIP0",
          "SUSAVTEND",
          "SUDIMF1",
          "SUSC2C",
          "SUETLDIAG",
          "GET_SPP_CONF",
          "SUALLO",
          "SU_SURF_FLDS",
          "YOMGSGEOM",
          "SUINI",
          "MODEL_MOD:MODEL_DELETE",
          "FALSIFY_SURF_FLDS",
          "SUSPVARIABLES",
          "SUJFH",
          "YOMCST",
          "SURAND1",
          "SUIOS",
          "SUPP",
          "SUIOSTREAM",
          "SUALGCO",
          "SULSFORC",
          "SUCHET",
          "SUTIM",
          "SUDIMO",
          "SUALMDH",
          "IFLUSHFDBSUBS",
          "SUMDDH",
          "SU0YOMA",
          "GEOMETRY_MOD",
          "GEOMETRY_MOD:GEOMETRY_DELETE",
          "TESTVAR_MIX",
          "SUMCC",
          "SULUN",
          "SUALNUD",
          "SUALTDH",
          "SUPPVI",
          "FIELDS_MOD:FIELDS_DELETE",
          "SUECHK",
          "MODULE_RADTC_MIX",
          "SUMPINI_PRT",
          "SUINTFLEX",
          "IFS_INIT"
         ],
         "type": "scatter",
         "x": [
          202,
          280,
          273,
          138,
          133,
          346,
          217,
          202,
          423,
          232,
          178,
          89,
          266,
          140,
          323,
          300,
          25,
          21,
          215,
          19,
          343,
          207,
          210,
          151,
          113,
          68,
          124,
          415,
          391,
          164,
          242,
          363,
          112,
          127,
          57,
          33,
          224,
          435,
          420,
          42,
          98,
          337,
          267,
          349,
          112,
          213,
          44,
          247,
          91,
          41,
          360,
          175,
          48,
          257,
          356,
          17,
          396,
          317,
          432,
          356,
          121,
          323,
          314,
          421,
          322,
          38,
          54,
          409,
          327,
          430,
          270,
          36,
          275,
          107,
          210,
          171,
          425,
          79,
          267,
          312,
          167,
          266,
          29,
          263,
          246,
          358,
          193,
          326,
          381,
          66,
          185,
          200
         ],
         "y": [
          418,
          286,
          85,
          7,
          283,
          269,
          271,
          226,
          88,
          53,
          31,
          110,
          169,
          307,
          214,
          81,
          282,
          328,
          157,
          61,
          308,
          401,
          135,
          216,
          25,
          180,
          390,
          47,
          271,
          279,
          188,
          212,
          202,
          408,
          307,
          24,
          62,
          18,
          289,
          141,
          5,
          366,
          273,
          190,
          412,
          220,
          42,
          244,
          251,
          137,
          374,
          376,
          211,
          404,
          365,
          372,
          148,
          22,
          88,
          161,
          198,
          287,
          282,
          77,
          73,
          228,
          150,
          349,
          276,
          67,
          234,
          84,
          412,
          22,
          24,
          409,
          109,
          358,
          39,
          27,
          78,
          202,
          245,
          389,
          374,
          309,
          122,
          429,
          417,
          387,
          401,
          438
         ]
        }
       ],
       "layout": {
        "template": {
         "data": {
          "bar": [
           {
            "error_x": {
             "color": "#2a3f5f"
            },
            "error_y": {
             "color": "#2a3f5f"
            },
            "marker": {
             "line": {
              "color": "#E5ECF6",
              "width": 0.5
             }
            },
            "type": "bar"
           }
          ],
          "barpolar": [
           {
            "marker": {
             "line": {
              "color": "#E5ECF6",
              "width": 0.5
             }
            },
            "type": "barpolar"
           }
          ],
          "carpet": [
           {
            "aaxis": {
             "endlinecolor": "#2a3f5f",
             "gridcolor": "white",
             "linecolor": "white",
             "minorgridcolor": "white",
             "startlinecolor": "#2a3f5f"
            },
            "baxis": {
             "endlinecolor": "#2a3f5f",
             "gridcolor": "white",
             "linecolor": "white",
             "minorgridcolor": "white",
             "startlinecolor": "#2a3f5f"
            },
            "type": "carpet"
           }
          ],
          "choropleth": [
           {
            "colorbar": {
             "outlinewidth": 0,
             "ticks": ""
            },
            "type": "choropleth"
           }
          ],
          "contour": [
           {
            "colorbar": {
             "outlinewidth": 0,
             "ticks": ""
            },
            "colorscale": [
             [
              0,
              "#0d0887"
             ],
             [
              0.1111111111111111,
              "#46039f"
             ],
             [
              0.2222222222222222,
              "#7201a8"
             ],
             [
              0.3333333333333333,
              "#9c179e"
             ],
             [
              0.4444444444444444,
              "#bd3786"
             ],
             [
              0.5555555555555556,
              "#d8576b"
             ],
             [
              0.6666666666666666,
              "#ed7953"
             ],
             [
              0.7777777777777778,
              "#fb9f3a"
             ],
             [
              0.8888888888888888,
              "#fdca26"
             ],
             [
              1,
              "#f0f921"
             ]
            ],
            "type": "contour"
           }
          ],
          "contourcarpet": [
           {
            "colorbar": {
             "outlinewidth": 0,
             "ticks": ""
            },
            "type": "contourcarpet"
           }
          ],
          "heatmap": [
           {
            "colorbar": {
             "outlinewidth": 0,
             "ticks": ""
            },
            "colorscale": [
             [
              0,
              "#0d0887"
             ],
             [
              0.1111111111111111,
              "#46039f"
             ],
             [
              0.2222222222222222,
              "#7201a8"
             ],
             [
              0.3333333333333333,
              "#9c179e"
             ],
             [
              0.4444444444444444,
              "#bd3786"
             ],
             [
              0.5555555555555556,
              "#d8576b"
             ],
             [
              0.6666666666666666,
              "#ed7953"
             ],
             [
              0.7777777777777778,
              "#fb9f3a"
             ],
             [
              0.8888888888888888,
              "#fdca26"
             ],
             [
              1,
              "#f0f921"
             ]
            ],
            "type": "heatmap"
           }
          ],
          "heatmapgl": [
           {
            "colorbar": {
             "outlinewidth": 0,
             "ticks": ""
            },
            "colorscale": [
             [
              0,
              "#0d0887"
             ],
             [
              0.1111111111111111,
              "#46039f"
             ],
             [
              0.2222222222222222,
              "#7201a8"
             ],
             [
              0.3333333333333333,
              "#9c179e"
             ],
             [
              0.4444444444444444,
              "#bd3786"
             ],
             [
              0.5555555555555556,
              "#d8576b"
             ],
             [
              0.6666666666666666,
              "#ed7953"
             ],
             [
              0.7777777777777778,
              "#fb9f3a"
             ],
             [
              0.8888888888888888,
              "#fdca26"
             ],
             [
              1,
              "#f0f921"
             ]
            ],
            "type": "heatmapgl"
           }
          ],
          "histogram": [
           {
            "marker": {
             "colorbar": {
              "outlinewidth": 0,
              "ticks": ""
             }
            },
            "type": "histogram"
           }
          ],
          "histogram2d": [
           {
            "colorbar": {
             "outlinewidth": 0,
             "ticks": ""
            },
            "colorscale": [
             [
              0,
              "#0d0887"
             ],
             [
              0.1111111111111111,
              "#46039f"
             ],
             [
              0.2222222222222222,
              "#7201a8"
             ],
             [
              0.3333333333333333,
              "#9c179e"
             ],
             [
              0.4444444444444444,
              "#bd3786"
             ],
             [
              0.5555555555555556,
              "#d8576b"
             ],
             [
              0.6666666666666666,
              "#ed7953"
             ],
             [
              0.7777777777777778,
              "#fb9f3a"
             ],
             [
              0.8888888888888888,
              "#fdca26"
             ],
             [
              1,
              "#f0f921"
             ]
            ],
            "type": "histogram2d"
           }
          ],
          "histogram2dcontour": [
           {
            "colorbar": {
             "outlinewidth": 0,
             "ticks": ""
            },
            "colorscale": [
             [
              0,
              "#0d0887"
             ],
             [
              0.1111111111111111,
              "#46039f"
             ],
             [
              0.2222222222222222,
              "#7201a8"
             ],
             [
              0.3333333333333333,
              "#9c179e"
             ],
             [
              0.4444444444444444,
              "#bd3786"
             ],
             [
              0.5555555555555556,
              "#d8576b"
             ],
             [
              0.6666666666666666,
              "#ed7953"
             ],
             [
              0.7777777777777778,
              "#fb9f3a"
             ],
             [
              0.8888888888888888,
              "#fdca26"
             ],
             [
              1,
              "#f0f921"
             ]
            ],
            "type": "histogram2dcontour"
           }
          ],
          "mesh3d": [
           {
            "colorbar": {
             "outlinewidth": 0,
             "ticks": ""
            },
            "type": "mesh3d"
           }
          ],
          "parcoords": [
           {
            "line": {
             "colorbar": {
              "outlinewidth": 0,
              "ticks": ""
             }
            },
            "type": "parcoords"
           }
          ],
          "pie": [
           {
            "automargin": true,
            "type": "pie"
           }
          ],
          "scatter": [
           {
            "marker": {
             "colorbar": {
              "outlinewidth": 0,
              "ticks": ""
             }
            },
            "type": "scatter"
           }
          ],
          "scatter3d": [
           {
            "line": {
             "colorbar": {
              "outlinewidth": 0,
              "ticks": ""
             }
            },
            "marker": {
             "colorbar": {
              "outlinewidth": 0,
              "ticks": ""
             }
            },
            "type": "scatter3d"
           }
          ],
          "scattercarpet": [
           {
            "marker": {
             "colorbar": {
              "outlinewidth": 0,
              "ticks": ""
             }
            },
            "type": "scattercarpet"
           }
          ],
          "scattergeo": [
           {
            "marker": {
             "colorbar": {
              "outlinewidth": 0,
              "ticks": ""
             }
            },
            "type": "scattergeo"
           }
          ],
          "scattergl": [
           {
            "marker": {
             "colorbar": {
              "outlinewidth": 0,
              "ticks": ""
             }
            },
            "type": "scattergl"
           }
          ],
          "scattermapbox": [
           {
            "marker": {
             "colorbar": {
              "outlinewidth": 0,
              "ticks": ""
             }
            },
            "type": "scattermapbox"
           }
          ],
          "scatterpolar": [
           {
            "marker": {
             "colorbar": {
              "outlinewidth": 0,
              "ticks": ""
             }
            },
            "type": "scatterpolar"
           }
          ],
          "scatterpolargl": [
           {
            "marker": {
             "colorbar": {
              "outlinewidth": 0,
              "ticks": ""
             }
            },
            "type": "scatterpolargl"
           }
          ],
          "scatterternary": [
           {
            "marker": {
             "colorbar": {
              "outlinewidth": 0,
              "ticks": ""
             }
            },
            "type": "scatterternary"
           }
          ],
          "surface": [
           {
            "colorbar": {
             "outlinewidth": 0,
             "ticks": ""
            },
            "colorscale": [
             [
              0,
              "#0d0887"
             ],
             [
              0.1111111111111111,
              "#46039f"
             ],
             [
              0.2222222222222222,
              "#7201a8"
             ],
             [
              0.3333333333333333,
              "#9c179e"
             ],
             [
              0.4444444444444444,
              "#bd3786"
             ],
             [
              0.5555555555555556,
              "#d8576b"
             ],
             [
              0.6666666666666666,
              "#ed7953"
             ],
             [
              0.7777777777777778,
              "#fb9f3a"
             ],
             [
              0.8888888888888888,
              "#fdca26"
             ],
             [
              1,
              "#f0f921"
             ]
            ],
            "type": "surface"
           }
          ],
          "table": [
           {
            "cells": {
             "fill": {
              "color": "#EBF0F8"
             },
             "line": {
              "color": "white"
             }
            },
            "header": {
             "fill": {
              "color": "#C8D4E3"
             },
             "line": {
              "color": "white"
             }
            },
            "type": "table"
           }
          ]
         },
         "layout": {
          "annotationdefaults": {
           "arrowcolor": "#2a3f5f",
           "arrowhead": 0,
           "arrowwidth": 1
          },
          "coloraxis": {
           "colorbar": {
            "outlinewidth": 0,
            "ticks": ""
           }
          },
          "colorscale": {
           "diverging": [
            [
             0,
             "#8e0152"
            ],
            [
             0.1,
             "#c51b7d"
            ],
            [
             0.2,
             "#de77ae"
            ],
            [
             0.3,
             "#f1b6da"
            ],
            [
             0.4,
             "#fde0ef"
            ],
            [
             0.5,
             "#f7f7f7"
            ],
            [
             0.6,
             "#e6f5d0"
            ],
            [
             0.7,
             "#b8e186"
            ],
            [
             0.8,
             "#7fbc41"
            ],
            [
             0.9,
             "#4d9221"
            ],
            [
             1,
             "#276419"
            ]
           ],
           "sequential": [
            [
             0,
             "#0d0887"
            ],
            [
             0.1111111111111111,
             "#46039f"
            ],
            [
             0.2222222222222222,
             "#7201a8"
            ],
            [
             0.3333333333333333,
             "#9c179e"
            ],
            [
             0.4444444444444444,
             "#bd3786"
            ],
            [
             0.5555555555555556,
             "#d8576b"
            ],
            [
             0.6666666666666666,
             "#ed7953"
            ],
            [
             0.7777777777777778,
             "#fb9f3a"
            ],
            [
             0.8888888888888888,
             "#fdca26"
            ],
            [
             1,
             "#f0f921"
            ]
           ],
           "sequentialminus": [
            [
             0,
             "#0d0887"
            ],
            [
             0.1111111111111111,
             "#46039f"
            ],
            [
             0.2222222222222222,
             "#7201a8"
            ],
            [
             0.3333333333333333,
             "#9c179e"
            ],
            [
             0.4444444444444444,
             "#bd3786"
            ],
            [
             0.5555555555555556,
             "#d8576b"
            ],
            [
             0.6666666666666666,
             "#ed7953"
            ],
            [
             0.7777777777777778,
             "#fb9f3a"
            ],
            [
             0.8888888888888888,
             "#fdca26"
            ],
            [
             1,
             "#f0f921"
            ]
           ]
          },
          "colorway": [
           "#636efa",
           "#EF553B",
           "#00cc96",
           "#ab63fa",
           "#FFA15A",
           "#19d3f3",
           "#FF6692",
           "#B6E880",
           "#FF97FF",
           "#FECB52"
          ],
          "font": {
           "color": "#2a3f5f"
          },
          "geo": {
           "bgcolor": "white",
           "lakecolor": "white",
           "landcolor": "#E5ECF6",
           "showlakes": true,
           "showland": true,
           "subunitcolor": "white"
          },
          "hoverlabel": {
           "align": "left"
          },
          "hovermode": "closest",
          "mapbox": {
           "style": "light"
          },
          "paper_bgcolor": "white",
          "plot_bgcolor": "#E5ECF6",
          "polar": {
           "angularaxis": {
            "gridcolor": "white",
            "linecolor": "white",
            "ticks": ""
           },
           "bgcolor": "#E5ECF6",
           "radialaxis": {
            "gridcolor": "white",
            "linecolor": "white",
            "ticks": ""
           }
          },
          "scene": {
           "xaxis": {
            "backgroundcolor": "#E5ECF6",
            "gridcolor": "white",
            "gridwidth": 2,
            "linecolor": "white",
            "showbackground": true,
            "ticks": "",
            "zerolinecolor": "white"
           },
           "yaxis": {
            "backgroundcolor": "#E5ECF6",
            "gridcolor": "white",
            "gridwidth": 2,
            "linecolor": "white",
            "showbackground": true,
            "ticks": "",
            "zerolinecolor": "white"
           },
           "zaxis": {
            "backgroundcolor": "#E5ECF6",
            "gridcolor": "white",
            "gridwidth": 2,
            "linecolor": "white",
            "showbackground": true,
            "ticks": "",
            "zerolinecolor": "white"
           }
          },
          "shapedefaults": {
           "line": {
            "color": "#2a3f5f"
           }
          },
          "ternary": {
           "aaxis": {
            "gridcolor": "white",
            "linecolor": "white",
            "ticks": ""
           },
           "baxis": {
            "gridcolor": "white",
            "linecolor": "white",
            "ticks": ""
           },
           "bgcolor": "#E5ECF6",
           "caxis": {
            "gridcolor": "white",
            "linecolor": "white",
            "ticks": ""
           }
          },
          "title": {
           "x": 0.05
          },
          "xaxis": {
           "automargin": true,
           "gridcolor": "white",
           "linecolor": "white",
           "ticks": "",
           "title": {
            "standoff": 15
           },
           "zerolinecolor": "white",
           "zerolinewidth": 2
          },
          "yaxis": {
           "automargin": true,
           "gridcolor": "white",
           "linecolor": "white",
           "ticks": "",
           "title": {
            "standoff": 15
           },
           "zerolinecolor": "white",
           "zerolinewidth": 2
          }
         }
        },
        "title": {
         "font": {
          "size": 16
         }
        }
       }
      },
      "text/html": [
       "<div>\n",
       "        \n",
       "        \n",
       "            <div id=\"db3419a9-f29d-463d-9900-10137afcb7e5\" class=\"plotly-graph-div\" style=\"height:525px; width:100%;\"></div>\n",
       "            <script type=\"text/javascript\">\n",
       "                require([\"plotly\"], function(Plotly) {\n",
       "                    window.PLOTLYENV=window.PLOTLYENV || {};\n",
       "                    \n",
       "                if (document.getElementById(\"db3419a9-f29d-463d-9900-10137afcb7e5\")) {\n",
       "                    Plotly.newPlot(\n",
       "                        'db3419a9-f29d-463d-9900-10137afcb7e5',\n",
       "                        [{\"line\": {\"color\": \"#888\", \"width\": 0.5}, \"mode\": \"lines\", \"type\": \"scatter\", \"x\": [202, 89, null, 280, 200, null, 273, 200, null, 138, 89, null, 133, 224, null, 346, 79, null, 217, 200, null, 202, 121, null, 423, 193, null, 232, 44, null, 178, 21, null, 89, 140, null, 89, 300, null, 89, 25, null, 89, 210, null, 89, 151, null, 89, 415, null, 89, 164, null, 89, 363, null, 89, 127, null, 89, 57, null, 89, 98, null, 89, 267, null, 89, 91, null, 89, 257, null, 89, 17, null, 89, 314, null, 89, 38, null, 89, 54, null, 89, 409, null, 89, 327, null, 89, 430, null, 89, 270, null, 89, 107, null, 89, 210, null, 89, 425, null, 89, 167, null, 89, 263, null, 89, 246, null, 89, 381, null, 89, 185, null, 266, 79, null, 323, 124, null, 21, 44, null, 215, 200, null, 19, 79, null, 343, 44, null, 343, 242, null, 207, 200, null, 113, 200, null, 68, 200, null, 391, 44, null, 112, 312, null, 33, 33, null, 33, 44, null, 435, 44, null, 420, 44, null, 42, 79, null, 337, 44, null, 337, 171, null, 349, 200, null, 112, 200, null, 213, 79, null, 44, 121, null, 44, 79, null, 44, 267, null, 44, 193, null, 44, 200, null, 247, 200, null, 41, 200, null, 360, 200, null, 175, 79, null, 48, 79, null, 356, 200, null, 396, 79, null, 317, 79, null, 432, 312, null, 356, 200, null, 323, 193, null, 421, 200, null, 322, 200, null, 36, 79, null, 275, 200, null, 79, 266, null, 79, 326, null, 29, 200, null, 358, 200, null, 66, 200, null], \"y\": [418, 110, null, 286, 438, null, 85, 438, null, 7, 110, null, 283, 62, null, 269, 358, null, 271, 438, null, 226, 198, null, 88, 122, null, 53, 42, null, 31, 328, null, 110, 307, null, 110, 81, null, 110, 282, null, 110, 135, null, 110, 216, null, 110, 47, null, 110, 279, null, 110, 212, null, 110, 408, null, 110, 307, null, 110, 5, null, 110, 273, null, 110, 251, null, 110, 404, null, 110, 372, null, 110, 282, null, 110, 228, null, 110, 150, null, 110, 349, null, 110, 276, null, 110, 67, null, 110, 234, null, 110, 22, null, 110, 24, null, 110, 109, null, 110, 78, null, 110, 389, null, 110, 374, null, 110, 417, null, 110, 401, null, 169, 358, null, 214, 390, null, 328, 42, null, 157, 438, null, 61, 358, null, 308, 42, null, 308, 188, null, 401, 438, null, 25, 438, null, 180, 438, null, 271, 42, null, 202, 27, null, 24, 24, null, 24, 42, null, 18, 42, null, 289, 42, null, 141, 358, null, 366, 42, null, 366, 409, null, 190, 438, null, 412, 438, null, 220, 358, null, 42, 198, null, 42, 358, null, 42, 39, null, 42, 122, null, 42, 438, null, 244, 438, null, 137, 438, null, 374, 438, null, 376, 358, null, 211, 358, null, 365, 438, null, 148, 358, null, 22, 358, null, 88, 27, null, 161, 438, null, 287, 122, null, 77, 438, null, 73, 438, null, 84, 358, null, 412, 438, null, 358, 202, null, 358, 429, null, 245, 438, null, 309, 438, null, 387, 438, null]}, {\"hoverinfo\": \"text\", \"marker\": {\"line\": {\"width\": 2}}, \"mode\": \"markers\", \"text\": [\"SUGRIB\", \"SUVWRK\", \"SUMSC\", \"ALLOCATE_EMPTY_TRAJECTORY\", \"supergom_final%class_supergom\", \"SUDIMF2\", \"SUCT1\", \"MODEL_MOD\", \"DEALXMO\", \"GSTATS_OUTPUT_IFS\", \">MPL-GATHER\", \"SU0YOMB\", \"SUNUD\", \"SUALDYN_DDH\", \"SU1YOM\", \"FIELD_CONTAINER_GP_MOD\", \"SURLX\", \"IOSTREAM_MIX:IOSTREAM_STATS\", \"SUMP0\", \"SUDIM_TRAJ\", \"FINAL_STATS\", \"SUCT0\", \"YOE_CUCONVCA\", \"YOMGWDIAG\", \"SUFP_CTL\", \"SUTRANS0\", \"CNT1\", \"SUMCUF\", \"supergom_final\", \"SURES\", \"OPDIS\", \"SPNG_MOD\", \"YOMCSGEOM\", \"SUALSPA\", \"SUIAU\", \"MASTER\", \"supergom_destroy\", \"FIELDS_MOD\", \"MTRAJ_MOD\", \"SUTRAJP\", \"SU_GRIB_API\", \"IOSTREAM_MIX:CLOSE_IOSTREAM\", \"SUVAREPS\", \"YEMLBC_INIT\", \"GRIB_HANDLES_MOD\", \"SUOPH\", \"CNT0\", \"SURINC\", \"INI_SPP\", \"SUCST_IFSAUX\", \"SURIP0\", \"SUSAVTEND\", \"SUDIMF1\", \"SUSC2C\", \"SUETLDIAG\", \"GET_SPP_CONF\", \"SUALLO\", \"SU_SURF_FLDS\", \"YOMGSGEOM\", \"SUINI\", \"MODEL_MOD:MODEL_DELETE\", \"FALSIFY_SURF_FLDS\", \"SUSPVARIABLES\", \"SUJFH\", \"YOMCST\", \"SURAND1\", \"SUIOS\", \"SUPP\", \"SUIOSTREAM\", \"SUALGCO\", \"SULSFORC\", \"SUCHET\", \"SUTIM\", \"SUDIMO\", \"SUALMDH\", \"IFLUSHFDBSUBS\", \"SUMDDH\", \"SU0YOMA\", \"GEOMETRY_MOD\", \"GEOMETRY_MOD:GEOMETRY_DELETE\", \"TESTVAR_MIX\", \"SUMCC\", \"SULUN\", \"SUALNUD\", \"SUALTDH\", \"SUPPVI\", \"FIELDS_MOD:FIELDS_DELETE\", \"SUECHK\", \"MODULE_RADTC_MIX\", \"SUMPINI_PRT\", \"SUINTFLEX\", \"IFS_INIT\"], \"type\": \"scatter\", \"x\": [202, 280, 273, 138, 133, 346, 217, 202, 423, 232, 178, 89, 266, 140, 323, 300, 25, 21, 215, 19, 343, 207, 210, 151, 113, 68, 124, 415, 391, 164, 242, 363, 112, 127, 57, 33, 224, 435, 420, 42, 98, 337, 267, 349, 112, 213, 44, 247, 91, 41, 360, 175, 48, 257, 356, 17, 396, 317, 432, 356, 121, 323, 314, 421, 322, 38, 54, 409, 327, 430, 270, 36, 275, 107, 210, 171, 425, 79, 267, 312, 167, 266, 29, 263, 246, 358, 193, 326, 381, 66, 185, 200], \"y\": [418, 286, 85, 7, 283, 269, 271, 226, 88, 53, 31, 110, 169, 307, 214, 81, 282, 328, 157, 61, 308, 401, 135, 216, 25, 180, 390, 47, 271, 279, 188, 212, 202, 408, 307, 24, 62, 18, 289, 141, 5, 366, 273, 190, 412, 220, 42, 244, 251, 137, 374, 376, 211, 404, 365, 372, 148, 22, 88, 161, 198, 287, 282, 77, 73, 228, 150, 349, 276, 67, 234, 84, 412, 22, 24, 409, 109, 358, 39, 27, 78, 202, 245, 389, 374, 309, 122, 429, 417, 387, 401, 438]}],\n",
       "                        {\"template\": {\"data\": {\"bar\": [{\"error_x\": {\"color\": \"#2a3f5f\"}, \"error_y\": {\"color\": \"#2a3f5f\"}, \"marker\": {\"line\": {\"color\": \"#E5ECF6\", \"width\": 0.5}}, \"type\": \"bar\"}], \"barpolar\": [{\"marker\": {\"line\": {\"color\": \"#E5ECF6\", \"width\": 0.5}}, \"type\": \"barpolar\"}], \"carpet\": [{\"aaxis\": {\"endlinecolor\": \"#2a3f5f\", \"gridcolor\": \"white\", \"linecolor\": \"white\", \"minorgridcolor\": \"white\", \"startlinecolor\": \"#2a3f5f\"}, \"baxis\": {\"endlinecolor\": \"#2a3f5f\", \"gridcolor\": \"white\", \"linecolor\": \"white\", \"minorgridcolor\": \"white\", \"startlinecolor\": \"#2a3f5f\"}, \"type\": \"carpet\"}], \"choropleth\": [{\"colorbar\": {\"outlinewidth\": 0, \"ticks\": \"\"}, \"type\": \"choropleth\"}], \"contour\": [{\"colorbar\": {\"outlinewidth\": 0, \"ticks\": \"\"}, \"colorscale\": [[0.0, \"#0d0887\"], [0.1111111111111111, \"#46039f\"], [0.2222222222222222, \"#7201a8\"], [0.3333333333333333, \"#9c179e\"], [0.4444444444444444, \"#bd3786\"], [0.5555555555555556, \"#d8576b\"], [0.6666666666666666, \"#ed7953\"], [0.7777777777777778, \"#fb9f3a\"], [0.8888888888888888, \"#fdca26\"], [1.0, \"#f0f921\"]], \"type\": \"contour\"}], \"contourcarpet\": [{\"colorbar\": {\"outlinewidth\": 0, \"ticks\": \"\"}, \"type\": \"contourcarpet\"}], \"heatmap\": [{\"colorbar\": {\"outlinewidth\": 0, \"ticks\": \"\"}, \"colorscale\": [[0.0, \"#0d0887\"], [0.1111111111111111, \"#46039f\"], [0.2222222222222222, \"#7201a8\"], [0.3333333333333333, \"#9c179e\"], [0.4444444444444444, \"#bd3786\"], [0.5555555555555556, \"#d8576b\"], [0.6666666666666666, \"#ed7953\"], [0.7777777777777778, \"#fb9f3a\"], [0.8888888888888888, \"#fdca26\"], [1.0, \"#f0f921\"]], \"type\": \"heatmap\"}], \"heatmapgl\": [{\"colorbar\": {\"outlinewidth\": 0, \"ticks\": \"\"}, \"colorscale\": [[0.0, \"#0d0887\"], [0.1111111111111111, \"#46039f\"], [0.2222222222222222, \"#7201a8\"], [0.3333333333333333, \"#9c179e\"], [0.4444444444444444, \"#bd3786\"], [0.5555555555555556, \"#d8576b\"], [0.6666666666666666, \"#ed7953\"], [0.7777777777777778, \"#fb9f3a\"], [0.8888888888888888, \"#fdca26\"], [1.0, \"#f0f921\"]], \"type\": \"heatmapgl\"}], \"histogram\": [{\"marker\": {\"colorbar\": {\"outlinewidth\": 0, \"ticks\": \"\"}}, \"type\": \"histogram\"}], \"histogram2d\": [{\"colorbar\": {\"outlinewidth\": 0, \"ticks\": \"\"}, \"colorscale\": [[0.0, \"#0d0887\"], [0.1111111111111111, \"#46039f\"], [0.2222222222222222, \"#7201a8\"], [0.3333333333333333, \"#9c179e\"], [0.4444444444444444, \"#bd3786\"], [0.5555555555555556, \"#d8576b\"], [0.6666666666666666, \"#ed7953\"], [0.7777777777777778, \"#fb9f3a\"], [0.8888888888888888, \"#fdca26\"], [1.0, \"#f0f921\"]], \"type\": \"histogram2d\"}], \"histogram2dcontour\": [{\"colorbar\": {\"outlinewidth\": 0, \"ticks\": \"\"}, \"colorscale\": [[0.0, \"#0d0887\"], [0.1111111111111111, \"#46039f\"], [0.2222222222222222, \"#7201a8\"], [0.3333333333333333, \"#9c179e\"], [0.4444444444444444, \"#bd3786\"], [0.5555555555555556, \"#d8576b\"], [0.6666666666666666, \"#ed7953\"], [0.7777777777777778, \"#fb9f3a\"], [0.8888888888888888, \"#fdca26\"], [1.0, \"#f0f921\"]], \"type\": \"histogram2dcontour\"}], \"mesh3d\": [{\"colorbar\": {\"outlinewidth\": 0, \"ticks\": \"\"}, \"type\": \"mesh3d\"}], \"parcoords\": [{\"line\": {\"colorbar\": {\"outlinewidth\": 0, \"ticks\": \"\"}}, \"type\": \"parcoords\"}], \"pie\": [{\"automargin\": true, \"type\": \"pie\"}], \"scatter\": [{\"marker\": {\"colorbar\": {\"outlinewidth\": 0, \"ticks\": \"\"}}, \"type\": \"scatter\"}], \"scatter3d\": [{\"line\": {\"colorbar\": {\"outlinewidth\": 0, \"ticks\": \"\"}}, \"marker\": {\"colorbar\": {\"outlinewidth\": 0, \"ticks\": \"\"}}, \"type\": \"scatter3d\"}], \"scattercarpet\": [{\"marker\": {\"colorbar\": {\"outlinewidth\": 0, \"ticks\": \"\"}}, \"type\": \"scattercarpet\"}], \"scattergeo\": [{\"marker\": {\"colorbar\": {\"outlinewidth\": 0, \"ticks\": \"\"}}, \"type\": \"scattergeo\"}], \"scattergl\": [{\"marker\": {\"colorbar\": {\"outlinewidth\": 0, \"ticks\": \"\"}}, \"type\": \"scattergl\"}], \"scattermapbox\": [{\"marker\": {\"colorbar\": {\"outlinewidth\": 0, \"ticks\": \"\"}}, \"type\": \"scattermapbox\"}], \"scatterpolar\": [{\"marker\": {\"colorbar\": {\"outlinewidth\": 0, \"ticks\": \"\"}}, \"type\": \"scatterpolar\"}], \"scatterpolargl\": [{\"marker\": {\"colorbar\": {\"outlinewidth\": 0, \"ticks\": \"\"}}, \"type\": \"scatterpolargl\"}], \"scatterternary\": [{\"marker\": {\"colorbar\": {\"outlinewidth\": 0, \"ticks\": \"\"}}, \"type\": \"scatterternary\"}], \"surface\": [{\"colorbar\": {\"outlinewidth\": 0, \"ticks\": \"\"}, \"colorscale\": [[0.0, \"#0d0887\"], [0.1111111111111111, \"#46039f\"], [0.2222222222222222, \"#7201a8\"], [0.3333333333333333, \"#9c179e\"], [0.4444444444444444, \"#bd3786\"], [0.5555555555555556, \"#d8576b\"], [0.6666666666666666, \"#ed7953\"], [0.7777777777777778, \"#fb9f3a\"], [0.8888888888888888, \"#fdca26\"], [1.0, \"#f0f921\"]], \"type\": \"surface\"}], \"table\": [{\"cells\": {\"fill\": {\"color\": \"#EBF0F8\"}, \"line\": {\"color\": \"white\"}}, \"header\": {\"fill\": {\"color\": \"#C8D4E3\"}, \"line\": {\"color\": \"white\"}}, \"type\": \"table\"}]}, \"layout\": {\"annotationdefaults\": {\"arrowcolor\": \"#2a3f5f\", \"arrowhead\": 0, \"arrowwidth\": 1}, \"coloraxis\": {\"colorbar\": {\"outlinewidth\": 0, \"ticks\": \"\"}}, \"colorscale\": {\"diverging\": [[0, \"#8e0152\"], [0.1, \"#c51b7d\"], [0.2, \"#de77ae\"], [0.3, \"#f1b6da\"], [0.4, \"#fde0ef\"], [0.5, \"#f7f7f7\"], [0.6, \"#e6f5d0\"], [0.7, \"#b8e186\"], [0.8, \"#7fbc41\"], [0.9, \"#4d9221\"], [1, \"#276419\"]], \"sequential\": [[0.0, \"#0d0887\"], [0.1111111111111111, \"#46039f\"], [0.2222222222222222, \"#7201a8\"], [0.3333333333333333, \"#9c179e\"], [0.4444444444444444, \"#bd3786\"], [0.5555555555555556, \"#d8576b\"], [0.6666666666666666, \"#ed7953\"], [0.7777777777777778, \"#fb9f3a\"], [0.8888888888888888, \"#fdca26\"], [1.0, \"#f0f921\"]], \"sequentialminus\": [[0.0, \"#0d0887\"], [0.1111111111111111, \"#46039f\"], [0.2222222222222222, \"#7201a8\"], [0.3333333333333333, \"#9c179e\"], [0.4444444444444444, \"#bd3786\"], [0.5555555555555556, \"#d8576b\"], [0.6666666666666666, \"#ed7953\"], [0.7777777777777778, \"#fb9f3a\"], [0.8888888888888888, \"#fdca26\"], [1.0, \"#f0f921\"]]}, \"colorway\": [\"#636efa\", \"#EF553B\", \"#00cc96\", \"#ab63fa\", \"#FFA15A\", \"#19d3f3\", \"#FF6692\", \"#B6E880\", \"#FF97FF\", \"#FECB52\"], \"font\": {\"color\": \"#2a3f5f\"}, \"geo\": {\"bgcolor\": \"white\", \"lakecolor\": \"white\", \"landcolor\": \"#E5ECF6\", \"showlakes\": true, \"showland\": true, \"subunitcolor\": \"white\"}, \"hoverlabel\": {\"align\": \"left\"}, \"hovermode\": \"closest\", \"mapbox\": {\"style\": \"light\"}, \"paper_bgcolor\": \"white\", \"plot_bgcolor\": \"#E5ECF6\", \"polar\": {\"angularaxis\": {\"gridcolor\": \"white\", \"linecolor\": \"white\", \"ticks\": \"\"}, \"bgcolor\": \"#E5ECF6\", \"radialaxis\": {\"gridcolor\": \"white\", \"linecolor\": \"white\", \"ticks\": \"\"}}, \"scene\": {\"xaxis\": {\"backgroundcolor\": \"#E5ECF6\", \"gridcolor\": \"white\", \"gridwidth\": 2, \"linecolor\": \"white\", \"showbackground\": true, \"ticks\": \"\", \"zerolinecolor\": \"white\"}, \"yaxis\": {\"backgroundcolor\": \"#E5ECF6\", \"gridcolor\": \"white\", \"gridwidth\": 2, \"linecolor\": \"white\", \"showbackground\": true, \"ticks\": \"\", \"zerolinecolor\": \"white\"}, \"zaxis\": {\"backgroundcolor\": \"#E5ECF6\", \"gridcolor\": \"white\", \"gridwidth\": 2, \"linecolor\": \"white\", \"showbackground\": true, \"ticks\": \"\", \"zerolinecolor\": \"white\"}}, \"shapedefaults\": {\"line\": {\"color\": \"#2a3f5f\"}}, \"ternary\": {\"aaxis\": {\"gridcolor\": \"white\", \"linecolor\": \"white\", \"ticks\": \"\"}, \"baxis\": {\"gridcolor\": \"white\", \"linecolor\": \"white\", \"ticks\": \"\"}, \"bgcolor\": \"#E5ECF6\", \"caxis\": {\"gridcolor\": \"white\", \"linecolor\": \"white\", \"ticks\": \"\"}}, \"title\": {\"x\": 0.05}, \"xaxis\": {\"automargin\": true, \"gridcolor\": \"white\", \"linecolor\": \"white\", \"ticks\": \"\", \"title\": {\"standoff\": 15}, \"zerolinecolor\": \"white\", \"zerolinewidth\": 2}, \"yaxis\": {\"automargin\": true, \"gridcolor\": \"white\", \"linecolor\": \"white\", \"ticks\": \"\", \"title\": {\"standoff\": 15}, \"zerolinecolor\": \"white\", \"zerolinewidth\": 2}}}, \"title\": {\"font\": {\"size\": 16}}},\n",
       "                        {\"responsive\": true}\n",
       "                    ).then(function(){\n",
       "                            \n",
       "var gd = document.getElementById('db3419a9-f29d-463d-9900-10137afcb7e5');\n",
       "var x = new MutationObserver(function (mutations, observer) {{\n",
       "        var display = window.getComputedStyle(gd).display;\n",
       "        if (!display || display === 'none') {{\n",
       "            console.log([gd, 'removed!']);\n",
       "            Plotly.purge(gd);\n",
       "            observer.disconnect();\n",
       "        }}\n",
       "}});\n",
       "\n",
       "// Listen for the removal of the full notebook cells\n",
       "var notebookContainer = gd.closest('#notebook-container');\n",
       "if (notebookContainer) {{\n",
       "    x.observe(notebookContainer, {childList: true});\n",
       "}}\n",
       "\n",
       "// Listen for the clearing of the current output cell\n",
       "var outputEl = gd.closest('.output');\n",
       "if (outputEl) {{\n",
       "    x.observe(outputEl, {childList: true});\n",
       "}}\n",
       "\n",
       "                        })\n",
       "                };\n",
       "                });\n",
       "            </script>\n",
       "        </div>"
      ]
     },
     "metadata": {},
     "output_type": "display_data"
    }
   ],
   "source": [
    "# START get depth of the data\n",
    "depth = 4\n",
    "data = list(filter(lambda x: parsed_dict[x]['finalParent'] == 'MASTER' and\n",
    "                   parsed_dict[x]['depth'] < 4,\n",
    "                     parsed_dict.keys()))\n",
    "print(data)\n",
    "newData = set(data)\n",
    "# for i in data:\n",
    "#     newData.add(parsed_dict[i]['parent'])\n",
    "for i in newData:\n",
    "    local_depth = depth\n",
    "    parent = parsed_dict[i]['parent']\n",
    "    local = i\n",
    "    if parent == None or i == None:\n",
    "        continue\n",
    "\n",
    "    while local_depth >= 0:\n",
    "        edges.append((local, parent))\n",
    "        if i in newData or parent in newData:\n",
    "            nodes.add(i)\n",
    "            nodes.add(parent)\n",
    "        if i:\n",
    "            parent = parsed_dict[i]['parent']\n",
    "        else:\n",
    "            edges.append((local, ''))\n",
    "            nodes.add(i)\n",
    "            nodes.add(parent)\n",
    "            nodes.add('SourceOfGraph')\n",
    "            break\n",
    "        local_depth -= 1\n",
    "            \n",
    "# END get depth of the data\n",
    "            \n",
    "G = nx.Graph()\n",
    "G.add_nodes_from(list(nodes))\n",
    "pos = {v: [random.randint(0, len(edges)) for i in range(dim)] for v in nodes} # TODO this is not good in here \n",
    "nx.set_node_attributes(G, pos, \"pos\")\n",
    "\n",
    "G.add_edges_from(edges)\n",
    "\n",
    "edge_x = []\n",
    "edge_y = []\n",
    "for edge in G.edges():\n",
    "    print(G.nodes)\n",
    "    x0, y0 = G.nodes[edge[0]]['pos']\n",
    "    x1, y1 = G.nodes[edge[1]]['pos']\n",
    "    edge_x.append(x0)\n",
    "    edge_x.append(x1)\n",
    "    edge_x.append(None)\n",
    "    edge_y.append(y0)\n",
    "    edge_y.append(y1)\n",
    "    edge_y.append(None)\n",
    "\n",
    "edge_trace = go.Scatter(\n",
    "    x=edge_x, y=edge_y,\n",
    "    line=dict(width=0.5, color='#888'),\n",
    "    mode='lines')\n",
    "node_x = []\n",
    "node_y = []\n",
    "for node in nodes:\n",
    "    x, y = G.nodes[node]['pos']\n",
    "    node_x.append(x)\n",
    "    node_y.append(y)\n",
    "\n",
    "\n",
    "node_trace = go.Scatter(\n",
    "    x=node_x, y=node_y,\n",
    "    mode='markers',\n",
    "    hoverinfo='text',\n",
    "    marker=dict(line_width=2))\n",
    "\n",
    "node_adjacencies = []\n",
    "node_text = []\n",
    "for node in G.nodes():\n",
    "    node_text.append(node)\n",
    "\n",
    "node_trace.text = node_text\n",
    "\n",
    "fig = go.Figure(data=[edge_trace, node_trace],\n",
    "             layout=go.Layout(\n",
    "                titlefont_size=16))\n",
    "fig.show()"
   ]
  }
 ],
 "metadata": {
  "kernelspec": {
   "display_name": "Python 3",
   "language": "python",
   "name": "python3"
  },
  "language_info": {
   "codemirror_mode": {
    "name": "ipython",
    "version": 3
   },
   "file_extension": ".py",
   "mimetype": "text/x-python",
   "name": "python",
   "nbconvert_exporter": "python",
   "pygments_lexer": "ipython3",
   "version": "3.8.2"
  }
 },
 "nbformat": 4,
 "nbformat_minor": 4
}
