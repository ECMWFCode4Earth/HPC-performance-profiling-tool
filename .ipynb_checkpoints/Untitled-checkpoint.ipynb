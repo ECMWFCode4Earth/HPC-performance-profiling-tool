{
 "cells": [
  {
   "cell_type": "code",
   "execution_count": 142,
   "metadata": {},
   "outputs": [
    {
     "name": "stdout",
     "output_type": "stream",
     "text": [
      "Requirement already satisfied: altair in /home/tiberiu/.local/lib/python3.8/site-packages (4.1.0)\n",
      "Requirement already satisfied: pandas in /home/tiberiu/.local/lib/python3.8/site-packages (1.0.4)\n",
      "Requirement already satisfied: plotly in /home/tiberiu/.local/lib/python3.8/site-packages (4.8.1)\n",
      "Requirement already satisfied: pygal in /home/tiberiu/.local/lib/python3.8/site-packages (2.4.0)\n",
      "Requirement already satisfied: cairosvg in /home/tiberiu/.local/lib/python3.8/site-packages (2.4.2)\n",
      "Requirement already satisfied: holoviews in /home/tiberiu/.local/lib/python3.8/site-packages (1.13.2)\n",
      "Collecting selenium\n",
      "  Downloading selenium-3.141.0-py2.py3-none-any.whl (904 kB)\n",
      "\u001b[K     |████████████████████████████████| 904 kB 851 kB/s eta 0:00:01\n",
      "\u001b[?25hRequirement already satisfied: toolz in /home/tiberiu/.local/lib/python3.8/site-packages (from altair) (0.10.0)\n",
      "Requirement already satisfied: entrypoints in /usr/lib/python3/dist-packages (from altair) (0.3)\n",
      "Requirement already satisfied: jinja2 in /home/tiberiu/.local/lib/python3.8/site-packages (from altair) (2.11.2)\n",
      "Requirement already satisfied: jsonschema in /home/tiberiu/.local/lib/python3.8/site-packages (from altair) (3.2.0)\n",
      "Requirement already satisfied: numpy in /usr/lib/python3/dist-packages (from altair) (1.17.4)\n",
      "Requirement already satisfied: python-dateutil>=2.6.1 in /usr/lib/python3/dist-packages (from pandas) (2.7.3)\n",
      "Requirement already satisfied: pytz>=2017.2 in /usr/lib/python3/dist-packages (from pandas) (2019.3)\n",
      "Requirement already satisfied: six in /usr/lib/python3/dist-packages (from plotly) (1.14.0)\n",
      "Requirement already satisfied: retrying>=1.3.3 in /home/tiberiu/.local/lib/python3.8/site-packages (from plotly) (1.3.3)\n",
      "Requirement already satisfied: cssselect2 in /home/tiberiu/.local/lib/python3.8/site-packages (from cairosvg) (0.3.0)\n",
      "Requirement already satisfied: cairocffi in /home/tiberiu/.local/lib/python3.8/site-packages (from cairosvg) (1.1.0)\n",
      "Requirement already satisfied: tinycss2 in /home/tiberiu/.local/lib/python3.8/site-packages (from cairosvg) (1.0.2)\n",
      "Requirement already satisfied: defusedxml in /home/tiberiu/.local/lib/python3.8/site-packages (from cairosvg) (0.6.0)\n",
      "Requirement already satisfied: pillow in /usr/lib/python3/dist-packages (from cairosvg) (7.0.0)\n",
      "Requirement already satisfied: param<2.0,>=1.9.3 in /home/tiberiu/.local/lib/python3.8/site-packages (from holoviews) (1.9.3)\n",
      "Requirement already satisfied: pyviz-comms>=0.7.3 in /home/tiberiu/.local/lib/python3.8/site-packages (from holoviews) (0.7.4)\n",
      "Requirement already satisfied: panel>=0.7.0 in /home/tiberiu/.local/lib/python3.8/site-packages (from holoviews) (0.9.5)\n",
      "Requirement already satisfied: urllib3 in /usr/lib/python3/dist-packages (from selenium) (1.25.8)\n",
      "Requirement already satisfied: MarkupSafe>=0.23 in /home/tiberiu/.local/lib/python3.8/site-packages (from jinja2->altair) (1.1.1)\n",
      "Requirement already satisfied: setuptools in /usr/lib/python3/dist-packages (from jsonschema->altair) (45.2.0)\n",
      "Requirement already satisfied: attrs>=17.4.0 in /home/tiberiu/.local/lib/python3.8/site-packages (from jsonschema->altair) (19.3.0)\n",
      "Requirement already satisfied: pyrsistent>=0.14.0 in /home/tiberiu/.local/lib/python3.8/site-packages (from jsonschema->altair) (0.16.0)\n",
      "Requirement already satisfied: webencodings in /usr/lib/python3/dist-packages (from cssselect2->cairosvg) (0.5.1)\n",
      "Requirement already satisfied: cffi>=1.1.0 in /home/tiberiu/.local/lib/python3.8/site-packages (from cairocffi->cairosvg) (1.14.0)\n",
      "Requirement already satisfied: pyct>=0.4.4 in /home/tiberiu/.local/lib/python3.8/site-packages (from panel>=0.7.0->holoviews) (0.4.6)\n",
      "Requirement already satisfied: tqdm in /home/tiberiu/.local/lib/python3.8/site-packages (from panel>=0.7.0->holoviews) (4.46.1)\n",
      "Requirement already satisfied: bokeh>=2.0.0 in /home/tiberiu/.local/lib/python3.8/site-packages (from panel>=0.7.0->holoviews) (2.0.2)\n",
      "Requirement already satisfied: markdown in /usr/lib/python3/dist-packages (from panel>=0.7.0->holoviews) (3.1.1)\n",
      "Requirement already satisfied: pycparser in /home/tiberiu/.local/lib/python3.8/site-packages (from cffi>=1.1.0->cairocffi->cairosvg) (2.20)\n",
      "Requirement already satisfied: tornado>=5 in /home/tiberiu/.local/lib/python3.8/site-packages (from bokeh>=2.0.0->panel>=0.7.0->holoviews) (6.0.4)\n",
      "Requirement already satisfied: packaging>=16.8 in /usr/lib/python3/dist-packages (from bokeh>=2.0.0->panel>=0.7.0->holoviews) (20.3)\n",
      "Requirement already satisfied: PyYAML>=3.10 in /usr/lib/python3/dist-packages (from bokeh>=2.0.0->panel>=0.7.0->holoviews) (5.3.1)\n",
      "Requirement already satisfied: typing-extensions>=3.7.4 in /home/tiberiu/.local/lib/python3.8/site-packages (from bokeh>=2.0.0->panel>=0.7.0->holoviews) (3.7.4.2)\n",
      "Installing collected packages: selenium\n",
      "Successfully installed selenium-3.141.0\n",
      "Note: you may need to restart the kernel to use updated packages.\n"
     ]
    }
   ],
   "source": [
    "%pip install altair pandas plotly pygal cairosvg  "
   ]
  },
  {
   "cell_type": "code",
   "execution_count": 16,
   "metadata": {},
   "outputs": [
    {
     "name": "stdout",
     "output_type": "stream",
     "text": [
      "callgraph.json          example_omp1_papi.csv  README.md    Untitled.ipynb\r\n",
      "example_omp18_papi.csv  example_profile.csv    RESEARCH.md\r\n"
     ]
    }
   ],
   "source": [
    "%ls"
   ]
  },
  {
   "cell_type": "code",
   "execution_count": 161,
   "metadata": {
    "scrolled": true
   },
   "outputs": [
    {
     "data": {
      "text/html": [
       "<div>\n",
       "<style scoped>\n",
       "    .dataframe tbody tr th:only-of-type {\n",
       "        vertical-align: middle;\n",
       "    }\n",
       "\n",
       "    .dataframe tbody tr th {\n",
       "        vertical-align: top;\n",
       "    }\n",
       "\n",
       "    .dataframe thead th {\n",
       "        text-align: right;\n",
       "    }\n",
       "</style>\n",
       "<table border=\"1\" class=\"dataframe\">\n",
       "  <thead>\n",
       "    <tr style=\"text-align: right;\">\n",
       "      <th></th>\n",
       "      <th>id</th>\n",
       "      <th>%Time</th>\n",
       "      <th>WallTime</th>\n",
       "      <th>#Hits</th>\n",
       "      <th>IPC</th>\n",
       "      <th>Cycles/s</th>\n",
       "      <th>Instr/s</th>\n",
       "      <th>Flops/s</th>\n",
       "      <th>TOT_CYC</th>\n",
       "      <th>TOT_INS</th>\n",
       "      <th>...</th>\n",
       "      <th>L1_ICM</th>\n",
       "      <th>VEC_DP</th>\n",
       "      <th>DP_OPS</th>\n",
       "      <th>VEC_SP</th>\n",
       "      <th>SP_OPS</th>\n",
       "      <th>TLB_DM</th>\n",
       "      <th>TLB_IM</th>\n",
       "      <th>Function</th>\n",
       "      <th>Scope</th>\n",
       "      <th>File</th>\n",
       "    </tr>\n",
       "  </thead>\n",
       "  <tbody>\n",
       "    <tr>\n",
       "      <th>0</th>\n",
       "      <td>1</td>\n",
       "      <td>14.2</td>\n",
       "      <td>59.850</td>\n",
       "      <td>1197</td>\n",
       "      <td>1.86</td>\n",
       "      <td>2003</td>\n",
       "      <td>3719.0</td>\n",
       "      <td>3556.0</td>\n",
       "      <td>118000.0</td>\n",
       "      <td>218000.0</td>\n",
       "      <td>...</td>\n",
       "      <td>39.275</td>\n",
       "      <td>61633.0</td>\n",
       "      <td>148000.0</td>\n",
       "      <td>10.986</td>\n",
       "      <td>10.986</td>\n",
       "      <td>269.0</td>\n",
       "      <td>1.229</td>\n",
       "      <td>rrtm_taumol3</td>\n",
       "      <td>USER</td>\n",
       "      <td>rrtm_taumol3.F90</td>\n",
       "    </tr>\n",
       "    <tr>\n",
       "      <th>1</th>\n",
       "      <td>2</td>\n",
       "      <td>13.5</td>\n",
       "      <td>56.800</td>\n",
       "      <td>1136</td>\n",
       "      <td>1.74</td>\n",
       "      <td>2003</td>\n",
       "      <td>3483.0</td>\n",
       "      <td>3746.0</td>\n",
       "      <td>112000.0</td>\n",
       "      <td>194000.0</td>\n",
       "      <td>...</td>\n",
       "      <td>31.245</td>\n",
       "      <td>59403.0</td>\n",
       "      <td>150000.0</td>\n",
       "      <td>9.023</td>\n",
       "      <td>9.023</td>\n",
       "      <td>261.0</td>\n",
       "      <td>1.045</td>\n",
       "      <td>solver_mcica_lw</td>\n",
       "      <td>USER</td>\n",
       "      <td>radiation_mcica_lw.F90</td>\n",
       "    </tr>\n",
       "    <tr>\n",
       "      <th>2</th>\n",
       "      <td>3</td>\n",
       "      <td>11.7</td>\n",
       "      <td>49.487</td>\n",
       "      <td>990</td>\n",
       "      <td>1.79</td>\n",
       "      <td>2003</td>\n",
       "      <td>3577.0</td>\n",
       "      <td>3340.0</td>\n",
       "      <td>99109.0</td>\n",
       "      <td>173000.0</td>\n",
       "      <td>...</td>\n",
       "      <td>28.563</td>\n",
       "      <td>47092.0</td>\n",
       "      <td>116000.0</td>\n",
       "      <td>7.872</td>\n",
       "      <td>7.872</td>\n",
       "      <td>278.0</td>\n",
       "      <td>1.018</td>\n",
       "      <td>save_fluxes</td>\n",
       "      <td>USER</td>\n",
       "      <td>radiation_save.F90</td>\n",
       "    </tr>\n",
       "    <tr>\n",
       "      <th>3</th>\n",
       "      <td>4</td>\n",
       "      <td>6.4</td>\n",
       "      <td>27.150</td>\n",
       "      <td>543</td>\n",
       "      <td>1.78</td>\n",
       "      <td>2003</td>\n",
       "      <td>3570.0</td>\n",
       "      <td>3498.0</td>\n",
       "      <td>54374.0</td>\n",
       "      <td>96925.0</td>\n",
       "      <td>...</td>\n",
       "      <td>15.555</td>\n",
       "      <td>26883.0</td>\n",
       "      <td>68079.0</td>\n",
       "      <td>3.968</td>\n",
       "      <td>3.968</td>\n",
       "      <td>189.0</td>\n",
       "      <td>0.556</td>\n",
       "      <td>rrtm_kgb7</td>\n",
       "      <td>USER</td>\n",
       "      <td>rrtm_kgb7.F90</td>\n",
       "    </tr>\n",
       "    <tr>\n",
       "      <th>4</th>\n",
       "      <td>5</td>\n",
       "      <td>6.2</td>\n",
       "      <td>26.100</td>\n",
       "      <td>522</td>\n",
       "      <td>1.77</td>\n",
       "      <td>2003</td>\n",
       "      <td>3555.0</td>\n",
       "      <td>3886.0</td>\n",
       "      <td>52271.0</td>\n",
       "      <td>92767.0</td>\n",
       "      <td>...</td>\n",
       "      <td>14.798</td>\n",
       "      <td>26886.0</td>\n",
       "      <td>74526.0</td>\n",
       "      <td>5.032</td>\n",
       "      <td>5.032</td>\n",
       "      <td>171.0</td>\n",
       "      <td>0.524</td>\n",
       "      <td>solver_homogeneous_lw</td>\n",
       "      <td>USER</td>\n",
       "      <td>radiation_homogeneous_lw.F90</td>\n",
       "    </tr>\n",
       "  </tbody>\n",
       "</table>\n",
       "<p>5 rows × 23 columns</p>\n",
       "</div>"
      ],
      "text/plain": [
       "   id  %Time  WallTime  #Hits   IPC  Cycles/s  Instr/s  Flops/s   TOT_CYC   TOT_INS  ...  L1_ICM   VEC_DP    DP_OPS  VEC_SP  SP_OPS  TLB_DM  TLB_IM               Function  Scope                          File\n",
       "0   1   14.2    59.850   1197  1.86      2003   3719.0   3556.0  118000.0  218000.0  ...  39.275  61633.0  148000.0  10.986  10.986   269.0   1.229           rrtm_taumol3   USER              rrtm_taumol3.F90\n",
       "1   2   13.5    56.800   1136  1.74      2003   3483.0   3746.0  112000.0  194000.0  ...  31.245  59403.0  150000.0   9.023   9.023   261.0   1.045        solver_mcica_lw   USER        radiation_mcica_lw.F90\n",
       "2   3   11.7    49.487    990  1.79      2003   3577.0   3340.0   99109.0  173000.0  ...  28.563  47092.0  116000.0   7.872   7.872   278.0   1.018            save_fluxes   USER            radiation_save.F90\n",
       "3   4    6.4    27.150    543  1.78      2003   3570.0   3498.0   54374.0   96925.0  ...  15.555  26883.0   68079.0   3.968   3.968   189.0   0.556              rrtm_kgb7   USER                 rrtm_kgb7.F90\n",
       "4   5    6.2    26.100    522  1.77      2003   3555.0   3886.0   52271.0   92767.0  ...  14.798  26886.0   74526.0   5.032   5.032   171.0   0.524  solver_homogeneous_lw   USER  radiation_homogeneous_lw.F90\n",
       "\n",
       "[5 rows x 23 columns]"
      ]
     },
     "execution_count": 161,
     "metadata": {},
     "output_type": "execute_result"
    }
   ],
   "source": [
    "# Pygal\n",
    "# Sexy python charting -> love to the marketing team\n",
    "\n",
    "import pandas as pd\n",
    "import altair as alt\n",
    "import plotly.express as px\n",
    "import pygal\n",
    "import numpy as np\n",
    "from IPython.display import SVG,display\n",
    "\n",
    "\n",
    "data = pd.read_csv(\"example_omp18_papi.csv\")\n",
    "data1 = pd.read_csv(\"example_omp1_papi.csv\")\n",
    "data.head()\n",
    "data1.head()\n",
    "# remember the file function and scope atrebuites"
   ]
  },
  {
   "cell_type": "code",
   "execution_count": 162,
   "metadata": {},
   "outputs": [
    {
     "data": {
      "application/vnd.plotly.v1+json": {
       "config": {
        "plotlyServerURL": "https://plot.ly"
       },
       "data": [
        {
         "hovertemplate": "r=%{r}<br>theta=%{theta}<extra></extra>",
         "legendgroup": "",
         "line": {
          "color": "#636efa",
          "dash": "solid"
         },
         "mode": "lines",
         "name": "",
         "r": [
          107,
          7.9,
          1.53,
          107
         ],
         "showlegend": false,
         "subplot": "polar",
         "theta": [
          "#Hits",
          "%Time",
          "IPC",
          "#Hits"
         ],
         "type": "scatterpolar"
        }
       ],
       "layout": {
        "legend": {
         "tracegroupgap": 0
        },
        "margin": {
         "t": 60
        },
        "polar": {
         "angularaxis": {
          "direction": "clockwise",
          "rotation": 90
         },
         "domain": {
          "x": [
           0,
           1
          ],
          "y": [
           0,
           1
          ]
         }
        },
        "template": {
         "data": {
          "bar": [
           {
            "error_x": {
             "color": "#2a3f5f"
            },
            "error_y": {
             "color": "#2a3f5f"
            },
            "marker": {
             "line": {
              "color": "#E5ECF6",
              "width": 0.5
             }
            },
            "type": "bar"
           }
          ],
          "barpolar": [
           {
            "marker": {
             "line": {
              "color": "#E5ECF6",
              "width": 0.5
             }
            },
            "type": "barpolar"
           }
          ],
          "carpet": [
           {
            "aaxis": {
             "endlinecolor": "#2a3f5f",
             "gridcolor": "white",
             "linecolor": "white",
             "minorgridcolor": "white",
             "startlinecolor": "#2a3f5f"
            },
            "baxis": {
             "endlinecolor": "#2a3f5f",
             "gridcolor": "white",
             "linecolor": "white",
             "minorgridcolor": "white",
             "startlinecolor": "#2a3f5f"
            },
            "type": "carpet"
           }
          ],
          "choropleth": [
           {
            "colorbar": {
             "outlinewidth": 0,
             "ticks": ""
            },
            "type": "choropleth"
           }
          ],
          "contour": [
           {
            "colorbar": {
             "outlinewidth": 0,
             "ticks": ""
            },
            "colorscale": [
             [
              0,
              "#0d0887"
             ],
             [
              0.1111111111111111,
              "#46039f"
             ],
             [
              0.2222222222222222,
              "#7201a8"
             ],
             [
              0.3333333333333333,
              "#9c179e"
             ],
             [
              0.4444444444444444,
              "#bd3786"
             ],
             [
              0.5555555555555556,
              "#d8576b"
             ],
             [
              0.6666666666666666,
              "#ed7953"
             ],
             [
              0.7777777777777778,
              "#fb9f3a"
             ],
             [
              0.8888888888888888,
              "#fdca26"
             ],
             [
              1,
              "#f0f921"
             ]
            ],
            "type": "contour"
           }
          ],
          "contourcarpet": [
           {
            "colorbar": {
             "outlinewidth": 0,
             "ticks": ""
            },
            "type": "contourcarpet"
           }
          ],
          "heatmap": [
           {
            "colorbar": {
             "outlinewidth": 0,
             "ticks": ""
            },
            "colorscale": [
             [
              0,
              "#0d0887"
             ],
             [
              0.1111111111111111,
              "#46039f"
             ],
             [
              0.2222222222222222,
              "#7201a8"
             ],
             [
              0.3333333333333333,
              "#9c179e"
             ],
             [
              0.4444444444444444,
              "#bd3786"
             ],
             [
              0.5555555555555556,
              "#d8576b"
             ],
             [
              0.6666666666666666,
              "#ed7953"
             ],
             [
              0.7777777777777778,
              "#fb9f3a"
             ],
             [
              0.8888888888888888,
              "#fdca26"
             ],
             [
              1,
              "#f0f921"
             ]
            ],
            "type": "heatmap"
           }
          ],
          "heatmapgl": [
           {
            "colorbar": {
             "outlinewidth": 0,
             "ticks": ""
            },
            "colorscale": [
             [
              0,
              "#0d0887"
             ],
             [
              0.1111111111111111,
              "#46039f"
             ],
             [
              0.2222222222222222,
              "#7201a8"
             ],
             [
              0.3333333333333333,
              "#9c179e"
             ],
             [
              0.4444444444444444,
              "#bd3786"
             ],
             [
              0.5555555555555556,
              "#d8576b"
             ],
             [
              0.6666666666666666,
              "#ed7953"
             ],
             [
              0.7777777777777778,
              "#fb9f3a"
             ],
             [
              0.8888888888888888,
              "#fdca26"
             ],
             [
              1,
              "#f0f921"
             ]
            ],
            "type": "heatmapgl"
           }
          ],
          "histogram": [
           {
            "marker": {
             "colorbar": {
              "outlinewidth": 0,
              "ticks": ""
             }
            },
            "type": "histogram"
           }
          ],
          "histogram2d": [
           {
            "colorbar": {
             "outlinewidth": 0,
             "ticks": ""
            },
            "colorscale": [
             [
              0,
              "#0d0887"
             ],
             [
              0.1111111111111111,
              "#46039f"
             ],
             [
              0.2222222222222222,
              "#7201a8"
             ],
             [
              0.3333333333333333,
              "#9c179e"
             ],
             [
              0.4444444444444444,
              "#bd3786"
             ],
             [
              0.5555555555555556,
              "#d8576b"
             ],
             [
              0.6666666666666666,
              "#ed7953"
             ],
             [
              0.7777777777777778,
              "#fb9f3a"
             ],
             [
              0.8888888888888888,
              "#fdca26"
             ],
             [
              1,
              "#f0f921"
             ]
            ],
            "type": "histogram2d"
           }
          ],
          "histogram2dcontour": [
           {
            "colorbar": {
             "outlinewidth": 0,
             "ticks": ""
            },
            "colorscale": [
             [
              0,
              "#0d0887"
             ],
             [
              0.1111111111111111,
              "#46039f"
             ],
             [
              0.2222222222222222,
              "#7201a8"
             ],
             [
              0.3333333333333333,
              "#9c179e"
             ],
             [
              0.4444444444444444,
              "#bd3786"
             ],
             [
              0.5555555555555556,
              "#d8576b"
             ],
             [
              0.6666666666666666,
              "#ed7953"
             ],
             [
              0.7777777777777778,
              "#fb9f3a"
             ],
             [
              0.8888888888888888,
              "#fdca26"
             ],
             [
              1,
              "#f0f921"
             ]
            ],
            "type": "histogram2dcontour"
           }
          ],
          "mesh3d": [
           {
            "colorbar": {
             "outlinewidth": 0,
             "ticks": ""
            },
            "type": "mesh3d"
           }
          ],
          "parcoords": [
           {
            "line": {
             "colorbar": {
              "outlinewidth": 0,
              "ticks": ""
             }
            },
            "type": "parcoords"
           }
          ],
          "pie": [
           {
            "automargin": true,
            "type": "pie"
           }
          ],
          "scatter": [
           {
            "marker": {
             "colorbar": {
              "outlinewidth": 0,
              "ticks": ""
             }
            },
            "type": "scatter"
           }
          ],
          "scatter3d": [
           {
            "line": {
             "colorbar": {
              "outlinewidth": 0,
              "ticks": ""
             }
            },
            "marker": {
             "colorbar": {
              "outlinewidth": 0,
              "ticks": ""
             }
            },
            "type": "scatter3d"
           }
          ],
          "scattercarpet": [
           {
            "marker": {
             "colorbar": {
              "outlinewidth": 0,
              "ticks": ""
             }
            },
            "type": "scattercarpet"
           }
          ],
          "scattergeo": [
           {
            "marker": {
             "colorbar": {
              "outlinewidth": 0,
              "ticks": ""
             }
            },
            "type": "scattergeo"
           }
          ],
          "scattergl": [
           {
            "marker": {
             "colorbar": {
              "outlinewidth": 0,
              "ticks": ""
             }
            },
            "type": "scattergl"
           }
          ],
          "scattermapbox": [
           {
            "marker": {
             "colorbar": {
              "outlinewidth": 0,
              "ticks": ""
             }
            },
            "type": "scattermapbox"
           }
          ],
          "scatterpolar": [
           {
            "marker": {
             "colorbar": {
              "outlinewidth": 0,
              "ticks": ""
             }
            },
            "type": "scatterpolar"
           }
          ],
          "scatterpolargl": [
           {
            "marker": {
             "colorbar": {
              "outlinewidth": 0,
              "ticks": ""
             }
            },
            "type": "scatterpolargl"
           }
          ],
          "scatterternary": [
           {
            "marker": {
             "colorbar": {
              "outlinewidth": 0,
              "ticks": ""
             }
            },
            "type": "scatterternary"
           }
          ],
          "surface": [
           {
            "colorbar": {
             "outlinewidth": 0,
             "ticks": ""
            },
            "colorscale": [
             [
              0,
              "#0d0887"
             ],
             [
              0.1111111111111111,
              "#46039f"
             ],
             [
              0.2222222222222222,
              "#7201a8"
             ],
             [
              0.3333333333333333,
              "#9c179e"
             ],
             [
              0.4444444444444444,
              "#bd3786"
             ],
             [
              0.5555555555555556,
              "#d8576b"
             ],
             [
              0.6666666666666666,
              "#ed7953"
             ],
             [
              0.7777777777777778,
              "#fb9f3a"
             ],
             [
              0.8888888888888888,
              "#fdca26"
             ],
             [
              1,
              "#f0f921"
             ]
            ],
            "type": "surface"
           }
          ],
          "table": [
           {
            "cells": {
             "fill": {
              "color": "#EBF0F8"
             },
             "line": {
              "color": "white"
             }
            },
            "header": {
             "fill": {
              "color": "#C8D4E3"
             },
             "line": {
              "color": "white"
             }
            },
            "type": "table"
           }
          ]
         },
         "layout": {
          "annotationdefaults": {
           "arrowcolor": "#2a3f5f",
           "arrowhead": 0,
           "arrowwidth": 1
          },
          "coloraxis": {
           "colorbar": {
            "outlinewidth": 0,
            "ticks": ""
           }
          },
          "colorscale": {
           "diverging": [
            [
             0,
             "#8e0152"
            ],
            [
             0.1,
             "#c51b7d"
            ],
            [
             0.2,
             "#de77ae"
            ],
            [
             0.3,
             "#f1b6da"
            ],
            [
             0.4,
             "#fde0ef"
            ],
            [
             0.5,
             "#f7f7f7"
            ],
            [
             0.6,
             "#e6f5d0"
            ],
            [
             0.7,
             "#b8e186"
            ],
            [
             0.8,
             "#7fbc41"
            ],
            [
             0.9,
             "#4d9221"
            ],
            [
             1,
             "#276419"
            ]
           ],
           "sequential": [
            [
             0,
             "#0d0887"
            ],
            [
             0.1111111111111111,
             "#46039f"
            ],
            [
             0.2222222222222222,
             "#7201a8"
            ],
            [
             0.3333333333333333,
             "#9c179e"
            ],
            [
             0.4444444444444444,
             "#bd3786"
            ],
            [
             0.5555555555555556,
             "#d8576b"
            ],
            [
             0.6666666666666666,
             "#ed7953"
            ],
            [
             0.7777777777777778,
             "#fb9f3a"
            ],
            [
             0.8888888888888888,
             "#fdca26"
            ],
            [
             1,
             "#f0f921"
            ]
           ],
           "sequentialminus": [
            [
             0,
             "#0d0887"
            ],
            [
             0.1111111111111111,
             "#46039f"
            ],
            [
             0.2222222222222222,
             "#7201a8"
            ],
            [
             0.3333333333333333,
             "#9c179e"
            ],
            [
             0.4444444444444444,
             "#bd3786"
            ],
            [
             0.5555555555555556,
             "#d8576b"
            ],
            [
             0.6666666666666666,
             "#ed7953"
            ],
            [
             0.7777777777777778,
             "#fb9f3a"
            ],
            [
             0.8888888888888888,
             "#fdca26"
            ],
            [
             1,
             "#f0f921"
            ]
           ]
          },
          "colorway": [
           "#636efa",
           "#EF553B",
           "#00cc96",
           "#ab63fa",
           "#FFA15A",
           "#19d3f3",
           "#FF6692",
           "#B6E880",
           "#FF97FF",
           "#FECB52"
          ],
          "font": {
           "color": "#2a3f5f"
          },
          "geo": {
           "bgcolor": "white",
           "lakecolor": "white",
           "landcolor": "#E5ECF6",
           "showlakes": true,
           "showland": true,
           "subunitcolor": "white"
          },
          "hoverlabel": {
           "align": "left"
          },
          "hovermode": "closest",
          "mapbox": {
           "style": "light"
          },
          "paper_bgcolor": "white",
          "plot_bgcolor": "#E5ECF6",
          "polar": {
           "angularaxis": {
            "gridcolor": "white",
            "linecolor": "white",
            "ticks": ""
           },
           "bgcolor": "#E5ECF6",
           "radialaxis": {
            "gridcolor": "white",
            "linecolor": "white",
            "ticks": ""
           }
          },
          "scene": {
           "xaxis": {
            "backgroundcolor": "#E5ECF6",
            "gridcolor": "white",
            "gridwidth": 2,
            "linecolor": "white",
            "showbackground": true,
            "ticks": "",
            "zerolinecolor": "white"
           },
           "yaxis": {
            "backgroundcolor": "#E5ECF6",
            "gridcolor": "white",
            "gridwidth": 2,
            "linecolor": "white",
            "showbackground": true,
            "ticks": "",
            "zerolinecolor": "white"
           },
           "zaxis": {
            "backgroundcolor": "#E5ECF6",
            "gridcolor": "white",
            "gridwidth": 2,
            "linecolor": "white",
            "showbackground": true,
            "ticks": "",
            "zerolinecolor": "white"
           }
          },
          "shapedefaults": {
           "line": {
            "color": "#2a3f5f"
           }
          },
          "ternary": {
           "aaxis": {
            "gridcolor": "white",
            "linecolor": "white",
            "ticks": ""
           },
           "baxis": {
            "gridcolor": "white",
            "linecolor": "white",
            "ticks": ""
           },
           "bgcolor": "#E5ECF6",
           "caxis": {
            "gridcolor": "white",
            "linecolor": "white",
            "ticks": ""
           }
          },
          "title": {
           "x": 0.05
          },
          "xaxis": {
           "automargin": true,
           "gridcolor": "white",
           "linecolor": "white",
           "ticks": "",
           "title": {
            "standoff": 15
           },
           "zerolinecolor": "white",
           "zerolinewidth": 2
          },
          "yaxis": {
           "automargin": true,
           "gridcolor": "white",
           "linecolor": "white",
           "ticks": "",
           "title": {
            "standoff": 15
           },
           "zerolinecolor": "white",
           "zerolinewidth": 2
          }
         }
        }
       }
      },
      "text/html": [
       "<div>\n",
       "        \n",
       "        \n",
       "            <div id=\"119ae9ea-3891-42bc-ac1f-eb545517cf0a\" class=\"plotly-graph-div\" style=\"height:525px; width:100%;\"></div>\n",
       "            <script type=\"text/javascript\">\n",
       "                require([\"plotly\"], function(Plotly) {\n",
       "                    window.PLOTLYENV=window.PLOTLYENV || {};\n",
       "                    \n",
       "                if (document.getElementById(\"119ae9ea-3891-42bc-ac1f-eb545517cf0a\")) {\n",
       "                    Plotly.newPlot(\n",
       "                        '119ae9ea-3891-42bc-ac1f-eb545517cf0a',\n",
       "                        [{\"hovertemplate\": \"r=%{r}<br>theta=%{theta}<extra></extra>\", \"legendgroup\": \"\", \"line\": {\"color\": \"#636efa\", \"dash\": \"solid\"}, \"mode\": \"lines\", \"name\": \"\", \"r\": [107.0, 7.9, 1.53, 107.0], \"showlegend\": false, \"subplot\": \"polar\", \"theta\": [\"#Hits\", \"%Time\", \"IPC\", \"#Hits\"], \"type\": \"scatterpolar\"}],\n",
       "                        {\"legend\": {\"tracegroupgap\": 0}, \"margin\": {\"t\": 60}, \"polar\": {\"angularaxis\": {\"direction\": \"clockwise\", \"rotation\": 90}, \"domain\": {\"x\": [0.0, 1.0], \"y\": [0.0, 1.0]}}, \"template\": {\"data\": {\"bar\": [{\"error_x\": {\"color\": \"#2a3f5f\"}, \"error_y\": {\"color\": \"#2a3f5f\"}, \"marker\": {\"line\": {\"color\": \"#E5ECF6\", \"width\": 0.5}}, \"type\": \"bar\"}], \"barpolar\": [{\"marker\": {\"line\": {\"color\": \"#E5ECF6\", \"width\": 0.5}}, \"type\": \"barpolar\"}], \"carpet\": [{\"aaxis\": {\"endlinecolor\": \"#2a3f5f\", \"gridcolor\": \"white\", \"linecolor\": \"white\", \"minorgridcolor\": \"white\", \"startlinecolor\": \"#2a3f5f\"}, \"baxis\": {\"endlinecolor\": \"#2a3f5f\", \"gridcolor\": \"white\", \"linecolor\": \"white\", \"minorgridcolor\": \"white\", \"startlinecolor\": \"#2a3f5f\"}, \"type\": \"carpet\"}], \"choropleth\": [{\"colorbar\": {\"outlinewidth\": 0, \"ticks\": \"\"}, \"type\": \"choropleth\"}], \"contour\": [{\"colorbar\": {\"outlinewidth\": 0, \"ticks\": \"\"}, \"colorscale\": [[0.0, \"#0d0887\"], [0.1111111111111111, \"#46039f\"], [0.2222222222222222, \"#7201a8\"], [0.3333333333333333, \"#9c179e\"], [0.4444444444444444, \"#bd3786\"], [0.5555555555555556, \"#d8576b\"], [0.6666666666666666, \"#ed7953\"], [0.7777777777777778, \"#fb9f3a\"], [0.8888888888888888, \"#fdca26\"], [1.0, \"#f0f921\"]], \"type\": \"contour\"}], \"contourcarpet\": [{\"colorbar\": {\"outlinewidth\": 0, \"ticks\": \"\"}, \"type\": \"contourcarpet\"}], \"heatmap\": [{\"colorbar\": {\"outlinewidth\": 0, \"ticks\": \"\"}, \"colorscale\": [[0.0, \"#0d0887\"], [0.1111111111111111, \"#46039f\"], [0.2222222222222222, \"#7201a8\"], [0.3333333333333333, \"#9c179e\"], [0.4444444444444444, \"#bd3786\"], [0.5555555555555556, \"#d8576b\"], [0.6666666666666666, \"#ed7953\"], [0.7777777777777778, \"#fb9f3a\"], [0.8888888888888888, \"#fdca26\"], [1.0, \"#f0f921\"]], \"type\": \"heatmap\"}], \"heatmapgl\": [{\"colorbar\": {\"outlinewidth\": 0, \"ticks\": \"\"}, \"colorscale\": [[0.0, \"#0d0887\"], [0.1111111111111111, \"#46039f\"], [0.2222222222222222, \"#7201a8\"], [0.3333333333333333, \"#9c179e\"], [0.4444444444444444, \"#bd3786\"], [0.5555555555555556, \"#d8576b\"], [0.6666666666666666, \"#ed7953\"], [0.7777777777777778, \"#fb9f3a\"], [0.8888888888888888, \"#fdca26\"], [1.0, \"#f0f921\"]], \"type\": \"heatmapgl\"}], \"histogram\": [{\"marker\": {\"colorbar\": {\"outlinewidth\": 0, \"ticks\": \"\"}}, \"type\": \"histogram\"}], \"histogram2d\": [{\"colorbar\": {\"outlinewidth\": 0, \"ticks\": \"\"}, \"colorscale\": [[0.0, \"#0d0887\"], [0.1111111111111111, \"#46039f\"], [0.2222222222222222, \"#7201a8\"], [0.3333333333333333, \"#9c179e\"], [0.4444444444444444, \"#bd3786\"], [0.5555555555555556, \"#d8576b\"], [0.6666666666666666, \"#ed7953\"], [0.7777777777777778, \"#fb9f3a\"], [0.8888888888888888, \"#fdca26\"], [1.0, \"#f0f921\"]], \"type\": \"histogram2d\"}], \"histogram2dcontour\": [{\"colorbar\": {\"outlinewidth\": 0, \"ticks\": \"\"}, \"colorscale\": [[0.0, \"#0d0887\"], [0.1111111111111111, \"#46039f\"], [0.2222222222222222, \"#7201a8\"], [0.3333333333333333, \"#9c179e\"], [0.4444444444444444, \"#bd3786\"], [0.5555555555555556, \"#d8576b\"], [0.6666666666666666, \"#ed7953\"], [0.7777777777777778, \"#fb9f3a\"], [0.8888888888888888, \"#fdca26\"], [1.0, \"#f0f921\"]], \"type\": \"histogram2dcontour\"}], \"mesh3d\": [{\"colorbar\": {\"outlinewidth\": 0, \"ticks\": \"\"}, \"type\": \"mesh3d\"}], \"parcoords\": [{\"line\": {\"colorbar\": {\"outlinewidth\": 0, \"ticks\": \"\"}}, \"type\": \"parcoords\"}], \"pie\": [{\"automargin\": true, \"type\": \"pie\"}], \"scatter\": [{\"marker\": {\"colorbar\": {\"outlinewidth\": 0, \"ticks\": \"\"}}, \"type\": \"scatter\"}], \"scatter3d\": [{\"line\": {\"colorbar\": {\"outlinewidth\": 0, \"ticks\": \"\"}}, \"marker\": {\"colorbar\": {\"outlinewidth\": 0, \"ticks\": \"\"}}, \"type\": \"scatter3d\"}], \"scattercarpet\": [{\"marker\": {\"colorbar\": {\"outlinewidth\": 0, \"ticks\": \"\"}}, \"type\": \"scattercarpet\"}], \"scattergeo\": [{\"marker\": {\"colorbar\": {\"outlinewidth\": 0, \"ticks\": \"\"}}, \"type\": \"scattergeo\"}], \"scattergl\": [{\"marker\": {\"colorbar\": {\"outlinewidth\": 0, \"ticks\": \"\"}}, \"type\": \"scattergl\"}], \"scattermapbox\": [{\"marker\": {\"colorbar\": {\"outlinewidth\": 0, \"ticks\": \"\"}}, \"type\": \"scattermapbox\"}], \"scatterpolar\": [{\"marker\": {\"colorbar\": {\"outlinewidth\": 0, \"ticks\": \"\"}}, \"type\": \"scatterpolar\"}], \"scatterpolargl\": [{\"marker\": {\"colorbar\": {\"outlinewidth\": 0, \"ticks\": \"\"}}, \"type\": \"scatterpolargl\"}], \"scatterternary\": [{\"marker\": {\"colorbar\": {\"outlinewidth\": 0, \"ticks\": \"\"}}, \"type\": \"scatterternary\"}], \"surface\": [{\"colorbar\": {\"outlinewidth\": 0, \"ticks\": \"\"}, \"colorscale\": [[0.0, \"#0d0887\"], [0.1111111111111111, \"#46039f\"], [0.2222222222222222, \"#7201a8\"], [0.3333333333333333, \"#9c179e\"], [0.4444444444444444, \"#bd3786\"], [0.5555555555555556, \"#d8576b\"], [0.6666666666666666, \"#ed7953\"], [0.7777777777777778, \"#fb9f3a\"], [0.8888888888888888, \"#fdca26\"], [1.0, \"#f0f921\"]], \"type\": \"surface\"}], \"table\": [{\"cells\": {\"fill\": {\"color\": \"#EBF0F8\"}, \"line\": {\"color\": \"white\"}}, \"header\": {\"fill\": {\"color\": \"#C8D4E3\"}, \"line\": {\"color\": \"white\"}}, \"type\": \"table\"}]}, \"layout\": {\"annotationdefaults\": {\"arrowcolor\": \"#2a3f5f\", \"arrowhead\": 0, \"arrowwidth\": 1}, \"coloraxis\": {\"colorbar\": {\"outlinewidth\": 0, \"ticks\": \"\"}}, \"colorscale\": {\"diverging\": [[0, \"#8e0152\"], [0.1, \"#c51b7d\"], [0.2, \"#de77ae\"], [0.3, \"#f1b6da\"], [0.4, \"#fde0ef\"], [0.5, \"#f7f7f7\"], [0.6, \"#e6f5d0\"], [0.7, \"#b8e186\"], [0.8, \"#7fbc41\"], [0.9, \"#4d9221\"], [1, \"#276419\"]], \"sequential\": [[0.0, \"#0d0887\"], [0.1111111111111111, \"#46039f\"], [0.2222222222222222, \"#7201a8\"], [0.3333333333333333, \"#9c179e\"], [0.4444444444444444, \"#bd3786\"], [0.5555555555555556, \"#d8576b\"], [0.6666666666666666, \"#ed7953\"], [0.7777777777777778, \"#fb9f3a\"], [0.8888888888888888, \"#fdca26\"], [1.0, \"#f0f921\"]], \"sequentialminus\": [[0.0, \"#0d0887\"], [0.1111111111111111, \"#46039f\"], [0.2222222222222222, \"#7201a8\"], [0.3333333333333333, \"#9c179e\"], [0.4444444444444444, \"#bd3786\"], [0.5555555555555556, \"#d8576b\"], [0.6666666666666666, \"#ed7953\"], [0.7777777777777778, \"#fb9f3a\"], [0.8888888888888888, \"#fdca26\"], [1.0, \"#f0f921\"]]}, \"colorway\": [\"#636efa\", \"#EF553B\", \"#00cc96\", \"#ab63fa\", \"#FFA15A\", \"#19d3f3\", \"#FF6692\", \"#B6E880\", \"#FF97FF\", \"#FECB52\"], \"font\": {\"color\": \"#2a3f5f\"}, \"geo\": {\"bgcolor\": \"white\", \"lakecolor\": \"white\", \"landcolor\": \"#E5ECF6\", \"showlakes\": true, \"showland\": true, \"subunitcolor\": \"white\"}, \"hoverlabel\": {\"align\": \"left\"}, \"hovermode\": \"closest\", \"mapbox\": {\"style\": \"light\"}, \"paper_bgcolor\": \"white\", \"plot_bgcolor\": \"#E5ECF6\", \"polar\": {\"angularaxis\": {\"gridcolor\": \"white\", \"linecolor\": \"white\", \"ticks\": \"\"}, \"bgcolor\": \"#E5ECF6\", \"radialaxis\": {\"gridcolor\": \"white\", \"linecolor\": \"white\", \"ticks\": \"\"}}, \"scene\": {\"xaxis\": {\"backgroundcolor\": \"#E5ECF6\", \"gridcolor\": \"white\", \"gridwidth\": 2, \"linecolor\": \"white\", \"showbackground\": true, \"ticks\": \"\", \"zerolinecolor\": \"white\"}, \"yaxis\": {\"backgroundcolor\": \"#E5ECF6\", \"gridcolor\": \"white\", \"gridwidth\": 2, \"linecolor\": \"white\", \"showbackground\": true, \"ticks\": \"\", \"zerolinecolor\": \"white\"}, \"zaxis\": {\"backgroundcolor\": \"#E5ECF6\", \"gridcolor\": \"white\", \"gridwidth\": 2, \"linecolor\": \"white\", \"showbackground\": true, \"ticks\": \"\", \"zerolinecolor\": \"white\"}}, \"shapedefaults\": {\"line\": {\"color\": \"#2a3f5f\"}}, \"ternary\": {\"aaxis\": {\"gridcolor\": \"white\", \"linecolor\": \"white\", \"ticks\": \"\"}, \"baxis\": {\"gridcolor\": \"white\", \"linecolor\": \"white\", \"ticks\": \"\"}, \"bgcolor\": \"#E5ECF6\", \"caxis\": {\"gridcolor\": \"white\", \"linecolor\": \"white\", \"ticks\": \"\"}}, \"title\": {\"x\": 0.05}, \"xaxis\": {\"automargin\": true, \"gridcolor\": \"white\", \"linecolor\": \"white\", \"ticks\": \"\", \"title\": {\"standoff\": 15}, \"zerolinecolor\": \"white\", \"zerolinewidth\": 2}, \"yaxis\": {\"automargin\": true, \"gridcolor\": \"white\", \"linecolor\": \"white\", \"ticks\": \"\", \"title\": {\"standoff\": 15}, \"zerolinecolor\": \"white\", \"zerolinewidth\": 2}}}},\n",
       "                        {\"responsive\": true}\n",
       "                    ).then(function(){\n",
       "                            \n",
       "var gd = document.getElementById('119ae9ea-3891-42bc-ac1f-eb545517cf0a');\n",
       "var x = new MutationObserver(function (mutations, observer) {{\n",
       "        var display = window.getComputedStyle(gd).display;\n",
       "        if (!display || display === 'none') {{\n",
       "            console.log([gd, 'removed!']);\n",
       "            Plotly.purge(gd);\n",
       "            observer.disconnect();\n",
       "        }}\n",
       "}});\n",
       "\n",
       "// Listen for the removal of the full notebook cells\n",
       "var notebookContainer = gd.closest('#notebook-container');\n",
       "if (notebookContainer) {{\n",
       "    x.observe(notebookContainer, {childList: true});\n",
       "}}\n",
       "\n",
       "// Listen for the clearing of the current output cell\n",
       "var outputEl = gd.closest('.output');\n",
       "if (outputEl) {{\n",
       "    x.observe(outputEl, {childList: true});\n",
       "}}\n",
       "\n",
       "                        })\n",
       "                };\n",
       "                });\n",
       "            </script>\n",
       "        </div>"
      ]
     },
     "metadata": {},
     "output_type": "display_data"
    },
    {
     "data": {
      "image/svg+xml": [
       "<svg xmlns=\"http://www.w3.org/2000/svg\" xmlns:xlink=\"http://www.w3.org/1999/xlink\" id=\"chart-c619e16b-8440-4229-bdc5-72643a61f012\" class=\"pygal-chart\" viewBox=\"0 0 800 600\"><!--Generated with pygal 2.4.0 (lxml) ©Kozea 2012-2016 on 2020-06-05--><!--http://pygal.org--><!--http://github.com/Kozea/pygal--><defs><style type=\"text/css\">#chart-c619e16b-8440-4229-bdc5-72643a61f012{-webkit-user-select:none;-webkit-font-smoothing:antialiased;font-family:Consolas,&quot;Liberation Mono&quot;,Menlo,Courier,monospace}#chart-c619e16b-8440-4229-bdc5-72643a61f012 .title{font-family:Consolas,&quot;Liberation Mono&quot;,Menlo,Courier,monospace;font-size:16px}#chart-c619e16b-8440-4229-bdc5-72643a61f012 .legends .legend text{font-family:Consolas,&quot;Liberation Mono&quot;,Menlo,Courier,monospace;font-size:14px}#chart-c619e16b-8440-4229-bdc5-72643a61f012 .axis text{font-family:Consolas,&quot;Liberation Mono&quot;,Menlo,Courier,monospace;font-size:10px}#chart-c619e16b-8440-4229-bdc5-72643a61f012 .axis text.major{font-family:Consolas,&quot;Liberation Mono&quot;,Menlo,Courier,monospace;font-size:10px}#chart-c619e16b-8440-4229-bdc5-72643a61f012 .text-overlay text.value{font-family:Consolas,&quot;Liberation Mono&quot;,Menlo,Courier,monospace;font-size:16px}#chart-c619e16b-8440-4229-bdc5-72643a61f012 .text-overlay text.label{font-family:Consolas,&quot;Liberation Mono&quot;,Menlo,Courier,monospace;font-size:10px}#chart-c619e16b-8440-4229-bdc5-72643a61f012 .tooltip{font-family:Consolas,&quot;Liberation Mono&quot;,Menlo,Courier,monospace;font-size:14px}#chart-c619e16b-8440-4229-bdc5-72643a61f012 text.no_data{font-family:Consolas,&quot;Liberation Mono&quot;,Menlo,Courier,monospace;font-size:64px}\n",
       "#chart-c619e16b-8440-4229-bdc5-72643a61f012{background-color:rgba(249,249,249,1)}#chart-c619e16b-8440-4229-bdc5-72643a61f012 path,#chart-c619e16b-8440-4229-bdc5-72643a61f012 line,#chart-c619e16b-8440-4229-bdc5-72643a61f012 rect,#chart-c619e16b-8440-4229-bdc5-72643a61f012 circle{-webkit-transition:150ms;-moz-transition:150ms;transition:150ms}#chart-c619e16b-8440-4229-bdc5-72643a61f012 .graph &gt; .background{fill:rgba(249,249,249,1)}#chart-c619e16b-8440-4229-bdc5-72643a61f012 .plot &gt; .background{fill:rgba(255,255,255,1)}#chart-c619e16b-8440-4229-bdc5-72643a61f012 .graph{fill:rgba(0,0,0,.87)}#chart-c619e16b-8440-4229-bdc5-72643a61f012 text.no_data{fill:rgba(0,0,0,1)}#chart-c619e16b-8440-4229-bdc5-72643a61f012 .title{fill:rgba(0,0,0,1)}#chart-c619e16b-8440-4229-bdc5-72643a61f012 .legends .legend text{fill:rgba(0,0,0,.87)}#chart-c619e16b-8440-4229-bdc5-72643a61f012 .legends .legend:hover text{fill:rgba(0,0,0,1)}#chart-c619e16b-8440-4229-bdc5-72643a61f012 .axis .line{stroke:rgba(0,0,0,1)}#chart-c619e16b-8440-4229-bdc5-72643a61f012 .axis .guide.line{stroke:rgba(0,0,0,.54)}#chart-c619e16b-8440-4229-bdc5-72643a61f012 .axis .major.line{stroke:rgba(0,0,0,.87)}#chart-c619e16b-8440-4229-bdc5-72643a61f012 .axis text.major{fill:rgba(0,0,0,1)}#chart-c619e16b-8440-4229-bdc5-72643a61f012 .axis.y .guides:hover .guide.line,#chart-c619e16b-8440-4229-bdc5-72643a61f012 .line-graph .axis.x .guides:hover .guide.line,#chart-c619e16b-8440-4229-bdc5-72643a61f012 .stackedline-graph .axis.x .guides:hover .guide.line,#chart-c619e16b-8440-4229-bdc5-72643a61f012 .xy-graph .axis.x .guides:hover .guide.line{stroke:rgba(0,0,0,1)}#chart-c619e16b-8440-4229-bdc5-72643a61f012 .axis .guides:hover text{fill:rgba(0,0,0,1)}#chart-c619e16b-8440-4229-bdc5-72643a61f012 .reactive{fill-opacity:.7;stroke-opacity:.8}#chart-c619e16b-8440-4229-bdc5-72643a61f012 .ci{stroke:rgba(0,0,0,.87)}#chart-c619e16b-8440-4229-bdc5-72643a61f012 .reactive.active,#chart-c619e16b-8440-4229-bdc5-72643a61f012 .active .reactive{fill-opacity:.8;stroke-opacity:.9;stroke-width:4}#chart-c619e16b-8440-4229-bdc5-72643a61f012 .ci .reactive.active{stroke-width:1.5}#chart-c619e16b-8440-4229-bdc5-72643a61f012 .series text{fill:rgba(0,0,0,1)}#chart-c619e16b-8440-4229-bdc5-72643a61f012 .tooltip rect{fill:rgba(255,255,255,1);stroke:rgba(0,0,0,1);-webkit-transition:opacity 150ms;-moz-transition:opacity 150ms;transition:opacity 150ms}#chart-c619e16b-8440-4229-bdc5-72643a61f012 .tooltip .label{fill:rgba(0,0,0,.87)}#chart-c619e16b-8440-4229-bdc5-72643a61f012 .tooltip .label{fill:rgba(0,0,0,.87)}#chart-c619e16b-8440-4229-bdc5-72643a61f012 .tooltip .legend{font-size:.8em;fill:rgba(0,0,0,.54)}#chart-c619e16b-8440-4229-bdc5-72643a61f012 .tooltip .x_label{font-size:.6em;fill:rgba(0,0,0,1)}#chart-c619e16b-8440-4229-bdc5-72643a61f012 .tooltip .xlink{font-size:.5em;text-decoration:underline}#chart-c619e16b-8440-4229-bdc5-72643a61f012 .tooltip .value{font-size:1.5em}#chart-c619e16b-8440-4229-bdc5-72643a61f012 .bound{font-size:.5em}#chart-c619e16b-8440-4229-bdc5-72643a61f012 .max-value{font-size:.75em;fill:rgba(0,0,0,.54)}#chart-c619e16b-8440-4229-bdc5-72643a61f012 .map-element{fill:rgba(255,255,255,1);stroke:rgba(0,0,0,.54) !important}#chart-c619e16b-8440-4229-bdc5-72643a61f012 .map-element .reactive{fill-opacity:inherit;stroke-opacity:inherit}#chart-c619e16b-8440-4229-bdc5-72643a61f012 .color-0,#chart-c619e16b-8440-4229-bdc5-72643a61f012 .color-0 a:visited{stroke:#F44336;fill:#F44336}#chart-c619e16b-8440-4229-bdc5-72643a61f012 .color-1,#chart-c619e16b-8440-4229-bdc5-72643a61f012 .color-1 a:visited{stroke:#3F51B5;fill:#3F51B5}#chart-c619e16b-8440-4229-bdc5-72643a61f012 .color-2,#chart-c619e16b-8440-4229-bdc5-72643a61f012 .color-2 a:visited{stroke:#009688;fill:#009688}#chart-c619e16b-8440-4229-bdc5-72643a61f012 .color-3,#chart-c619e16b-8440-4229-bdc5-72643a61f012 .color-3 a:visited{stroke:#FFC107;fill:#FFC107}#chart-c619e16b-8440-4229-bdc5-72643a61f012 .text-overlay .color-0 text{fill:black}#chart-c619e16b-8440-4229-bdc5-72643a61f012 .text-overlay .color-1 text{fill:black}#chart-c619e16b-8440-4229-bdc5-72643a61f012 .text-overlay .color-2 text{fill:black}#chart-c619e16b-8440-4229-bdc5-72643a61f012 .text-overlay .color-3 text{fill:black}\n",
       "#chart-c619e16b-8440-4229-bdc5-72643a61f012 text.no_data{text-anchor:middle}#chart-c619e16b-8440-4229-bdc5-72643a61f012 .guide.line{fill:none}#chart-c619e16b-8440-4229-bdc5-72643a61f012 .centered{text-anchor:middle}#chart-c619e16b-8440-4229-bdc5-72643a61f012 .title{text-anchor:middle}#chart-c619e16b-8440-4229-bdc5-72643a61f012 .legends .legend text{fill-opacity:1}#chart-c619e16b-8440-4229-bdc5-72643a61f012 .axis.x text{text-anchor:middle}#chart-c619e16b-8440-4229-bdc5-72643a61f012 .axis.x:not(.web) text[transform]{text-anchor:start}#chart-c619e16b-8440-4229-bdc5-72643a61f012 .axis.x:not(.web) text[transform].backwards{text-anchor:end}#chart-c619e16b-8440-4229-bdc5-72643a61f012 .axis.y text{text-anchor:end}#chart-c619e16b-8440-4229-bdc5-72643a61f012 .axis.y text[transform].backwards{text-anchor:start}#chart-c619e16b-8440-4229-bdc5-72643a61f012 .axis.y2 text{text-anchor:start}#chart-c619e16b-8440-4229-bdc5-72643a61f012 .axis.y2 text[transform].backwards{text-anchor:end}#chart-c619e16b-8440-4229-bdc5-72643a61f012 .axis .guide.line{stroke-dasharray:4,4}#chart-c619e16b-8440-4229-bdc5-72643a61f012 .axis .major.guide.line{stroke-dasharray:6,6}#chart-c619e16b-8440-4229-bdc5-72643a61f012 .horizontal .axis.y .guide.line,#chart-c619e16b-8440-4229-bdc5-72643a61f012 .horizontal .axis.y2 .guide.line,#chart-c619e16b-8440-4229-bdc5-72643a61f012 .vertical .axis.x .guide.line{opacity:0}#chart-c619e16b-8440-4229-bdc5-72643a61f012 .horizontal .axis.always_show .guide.line,#chart-c619e16b-8440-4229-bdc5-72643a61f012 .vertical .axis.always_show .guide.line{opacity:1 !important}#chart-c619e16b-8440-4229-bdc5-72643a61f012 .axis.y .guides:hover .guide.line,#chart-c619e16b-8440-4229-bdc5-72643a61f012 .axis.y2 .guides:hover .guide.line,#chart-c619e16b-8440-4229-bdc5-72643a61f012 .axis.x .guides:hover .guide.line{opacity:1}#chart-c619e16b-8440-4229-bdc5-72643a61f012 .axis .guides:hover text{opacity:1}#chart-c619e16b-8440-4229-bdc5-72643a61f012 .nofill{fill:none}#chart-c619e16b-8440-4229-bdc5-72643a61f012 .subtle-fill{fill-opacity:.2}#chart-c619e16b-8440-4229-bdc5-72643a61f012 .dot{stroke-width:1px;fill-opacity:1}#chart-c619e16b-8440-4229-bdc5-72643a61f012 .dot.active{stroke-width:5px}#chart-c619e16b-8440-4229-bdc5-72643a61f012 .dot.negative{fill:transparent}#chart-c619e16b-8440-4229-bdc5-72643a61f012 text,#chart-c619e16b-8440-4229-bdc5-72643a61f012 tspan{stroke:none !important}#chart-c619e16b-8440-4229-bdc5-72643a61f012 .series text.active{opacity:1}#chart-c619e16b-8440-4229-bdc5-72643a61f012 .tooltip rect{fill-opacity:.95;stroke-width:.5}#chart-c619e16b-8440-4229-bdc5-72643a61f012 .tooltip text{fill-opacity:1}#chart-c619e16b-8440-4229-bdc5-72643a61f012 .showable{visibility:hidden}#chart-c619e16b-8440-4229-bdc5-72643a61f012 .showable.shown{visibility:visible}#chart-c619e16b-8440-4229-bdc5-72643a61f012 .gauge-background{fill:rgba(229,229,229,1);stroke:none}#chart-c619e16b-8440-4229-bdc5-72643a61f012 .bg-lines{stroke:rgba(249,249,249,1);stroke-width:2px}</style><script type=\"text/javascript\">window.pygal = window.pygal || {};window.pygal.config = window.pygal.config || {};window.pygal.config['c619e16b-8440-4229-bdc5-72643a61f012'] = {&quot;allow_interruptions&quot;: false, &quot;box_mode&quot;: &quot;extremes&quot;, &quot;classes&quot;: [&quot;pygal-chart&quot;], &quot;css&quot;: [&quot;file://style.css&quot;, &quot;file://graph.css&quot;], &quot;defs&quot;: [], &quot;disable_xml_declaration&quot;: false, &quot;dots_size&quot;: 2.5, &quot;dynamic_print_values&quot;: false, &quot;explicit_size&quot;: false, &quot;fill&quot;: false, &quot;force_uri_protocol&quot;: &quot;https&quot;, &quot;formatter&quot;: null, &quot;half_pie&quot;: false, &quot;height&quot;: 600, &quot;include_x_axis&quot;: false, &quot;inner_radius&quot;: 0, &quot;interpolate&quot;: null, &quot;interpolation_parameters&quot;: {}, &quot;interpolation_precision&quot;: 250, &quot;inverse_y_axis&quot;: false, &quot;js&quot;: [&quot;//kozea.github.io/pygal.js/2.0.x/pygal-tooltips.min.js&quot;], &quot;legend_at_bottom&quot;: false, &quot;legend_at_bottom_columns&quot;: null, &quot;legend_box_size&quot;: 12, &quot;logarithmic&quot;: false, &quot;margin&quot;: 20, &quot;margin_bottom&quot;: null, &quot;margin_left&quot;: null, &quot;margin_right&quot;: null, &quot;margin_top&quot;: null, &quot;max_scale&quot;: 16, &quot;min_scale&quot;: 4, &quot;missing_value_fill_truncation&quot;: &quot;x&quot;, &quot;no_data_text&quot;: &quot;No data&quot;, &quot;no_prefix&quot;: false, &quot;order_min&quot;: null, &quot;pretty_print&quot;: false, &quot;print_labels&quot;: false, &quot;print_values&quot;: false, &quot;print_values_position&quot;: &quot;center&quot;, &quot;print_zeroes&quot;: true, &quot;range&quot;: null, &quot;rounded_bars&quot;: null, &quot;secondary_range&quot;: null, &quot;show_dots&quot;: true, &quot;show_legend&quot;: true, &quot;show_minor_x_labels&quot;: true, &quot;show_minor_y_labels&quot;: true, &quot;show_only_major_dots&quot;: false, &quot;show_x_guides&quot;: false, &quot;show_x_labels&quot;: true, &quot;show_y_guides&quot;: true, &quot;show_y_labels&quot;: true, &quot;spacing&quot;: 10, &quot;stack_from_top&quot;: false, &quot;strict&quot;: false, &quot;stroke&quot;: true, &quot;stroke_style&quot;: null, &quot;style&quot;: {&quot;background&quot;: &quot;rgba(249, 249, 249, 1)&quot;, &quot;ci_colors&quot;: [], &quot;colors&quot;: [&quot;#F44336&quot;, &quot;#3F51B5&quot;, &quot;#009688&quot;, &quot;#FFC107&quot;, &quot;#FF5722&quot;, &quot;#9C27B0&quot;, &quot;#03A9F4&quot;, &quot;#8BC34A&quot;, &quot;#FF9800&quot;, &quot;#E91E63&quot;, &quot;#2196F3&quot;, &quot;#4CAF50&quot;, &quot;#FFEB3B&quot;, &quot;#673AB7&quot;, &quot;#00BCD4&quot;, &quot;#CDDC39&quot;, &quot;#9E9E9E&quot;, &quot;#607D8B&quot;], &quot;font_family&quot;: &quot;Consolas, \\&quot;Liberation Mono\\&quot;, Menlo, Courier, monospace&quot;, &quot;foreground&quot;: &quot;rgba(0, 0, 0, .87)&quot;, &quot;foreground_strong&quot;: &quot;rgba(0, 0, 0, 1)&quot;, &quot;foreground_subtle&quot;: &quot;rgba(0, 0, 0, .54)&quot;, &quot;guide_stroke_dasharray&quot;: &quot;4,4&quot;, &quot;label_font_family&quot;: &quot;Consolas, \\&quot;Liberation Mono\\&quot;, Menlo, Courier, monospace&quot;, &quot;label_font_size&quot;: 10, &quot;legend_font_family&quot;: &quot;Consolas, \\&quot;Liberation Mono\\&quot;, Menlo, Courier, monospace&quot;, &quot;legend_font_size&quot;: 14, &quot;major_guide_stroke_dasharray&quot;: &quot;6,6&quot;, &quot;major_label_font_family&quot;: &quot;Consolas, \\&quot;Liberation Mono\\&quot;, Menlo, Courier, monospace&quot;, &quot;major_label_font_size&quot;: 10, &quot;no_data_font_family&quot;: &quot;Consolas, \\&quot;Liberation Mono\\&quot;, Menlo, Courier, monospace&quot;, &quot;no_data_font_size&quot;: 64, &quot;opacity&quot;: &quot;.7&quot;, &quot;opacity_hover&quot;: &quot;.8&quot;, &quot;plot_background&quot;: &quot;rgba(255, 255, 255, 1)&quot;, &quot;stroke_opacity&quot;: &quot;.8&quot;, &quot;stroke_opacity_hover&quot;: &quot;.9&quot;, &quot;title_font_family&quot;: &quot;Consolas, \\&quot;Liberation Mono\\&quot;, Menlo, Courier, monospace&quot;, &quot;title_font_size&quot;: 16, &quot;tooltip_font_family&quot;: &quot;Consolas, \\&quot;Liberation Mono\\&quot;, Menlo, Courier, monospace&quot;, &quot;tooltip_font_size&quot;: 14, &quot;transition&quot;: &quot;150ms&quot;, &quot;value_background&quot;: &quot;rgba(229, 229, 229, 1)&quot;, &quot;value_colors&quot;: [], &quot;value_font_family&quot;: &quot;Consolas, \\&quot;Liberation Mono\\&quot;, Menlo, Courier, monospace&quot;, &quot;value_font_size&quot;: 16, &quot;value_label_font_family&quot;: &quot;Consolas, \\&quot;Liberation Mono\\&quot;, Menlo, Courier, monospace&quot;, &quot;value_label_font_size&quot;: 10}, &quot;title&quot;: &quot;Simple HPC Banchmark&quot;, &quot;tooltip_border_radius&quot;: 0, &quot;tooltip_fancy_mode&quot;: true, &quot;truncate_label&quot;: null, &quot;truncate_legend&quot;: null, &quot;width&quot;: 800, &quot;x_label_rotation&quot;: 0, &quot;x_labels&quot;: [&quot;#Hits&quot;, &quot;%Time&quot;, &quot;IPC&quot;], &quot;x_labels_major&quot;: null, &quot;x_labels_major_count&quot;: null, &quot;x_labels_major_every&quot;: null, &quot;x_title&quot;: null, &quot;xrange&quot;: null, &quot;y_label_rotation&quot;: 0, &quot;y_labels&quot;: null, &quot;y_labels_major&quot;: null, &quot;y_labels_major_count&quot;: null, &quot;y_labels_major_every&quot;: null, &quot;y_title&quot;: null, &quot;zero&quot;: 0, &quot;legends&quot;: [&quot;rrtm_taumol3&quot;, &quot;solver_mcica_lw&quot;, &quot;save_fluxes&quot;, &quot;rrtm_kgb7&quot;]}</script><script type=\"text/javascript\" xlink:href=\"https://kozea.github.io/pygal.js/2.0.x/pygal-tooltips.min.js\"/></defs><title>Simple HPC Banchmark</title><g class=\"graph radar-graph vertical\"><rect x=\"0\" y=\"0\" width=\"800\" height=\"600\" class=\"background\"/><g transform=\"translate(196, 46)\" class=\"plot\"><rect x=\"0\" y=\"0\" width=\"584.0\" height=\"514\" class=\"background\"/><g class=\"axis y web\"><g class=\"guides\"><path d=\"M292.000000 55.336472 L230.182159 62.814703 172.949064 84.694769 124.545432 119.353925 88.561140 164.221661 67.664977 215.970343 63.406716 270.762006 76.102174 324.533004 104.809786 373.295388 147.400440 413.432676 200.715381 441.968067 260.800485 456.785223 323.199515 456.785223 383.284619 441.968067 436.599560 413.432676 479.190214 373.295388 507.897826 324.533004 520.593284 270.762006 516.335023 215.970343 495.438860 164.221661 459.454568 119.353925 411.050936 84.694769 353.817841 62.814703 292.000000 55.336472 Z\" class=\"major guide line\"/><text x=\"287.0\" y=\"55.33647206528559\" class=\"major\">100</text><title>100</title></g><g class=\"guides\"><path d=\"M292.000000 95.669178 L242.545727 101.651762 196.759251 119.155815 158.036346 146.883140 129.248912 182.777329 112.531981 224.176274 109.125373 268.009605 119.281739 311.026403 142.247829 350.036311 176.320352 382.146140 218.972305 404.974454 267.040388 416.828178 316.959612 416.828178 365.027695 404.974454 407.679648 382.146140 441.752171 350.036311 464.718261 311.026403 474.874627 268.009605 471.468019 224.176274 454.751088 182.777329 425.963654 146.883140 387.240749 119.155815 341.454273 101.651762 292.000000 95.669178 Z\" class=\"guide line\"/><text x=\"287.0\" y=\"95.66917765222848\" class=\"\">80</text><title>80</title></g><g class=\"guides\"><path d=\"M292.000000 136.001883 L254.909295 140.488822 220.569438 153.616861 191.527259 174.412355 169.936684 201.332997 157.398986 232.382206 154.844030 265.257204 162.461304 297.519802 179.685872 326.777233 205.240264 350.859605 237.229229 367.980840 273.280291 376.871134 310.719709 376.871134 346.770771 367.980840 378.759736 350.859605 404.314128 326.777233 421.538696 297.519802 429.155970 265.257204 426.601014 232.382206 414.063316 201.332997 392.472741 174.412355 363.430562 153.616861 329.090705 140.488822 292.000000 136.001883 Z\" class=\"guide line\"/><text x=\"287.0\" y=\"136.00188323917138\" class=\"\">60</text><title>60</title></g><g class=\"guides\"><path d=\"M292.000000 176.334589 L267.272863 179.325881 244.379625 188.077907 225.018173 201.941570 210.624456 219.888665 202.265991 240.588137 200.562687 262.504802 205.640870 284.013202 217.123914 303.518155 234.160176 319.573070 255.486152 330.987227 279.520194 336.914089 304.479806 336.914089 328.513848 330.987227 349.839824 319.573070 366.876086 303.518155 378.359130 284.013202 383.437313 262.504802 381.734009 240.588137 373.375544 219.888665 358.981827 201.941570 339.620375 188.077907 316.727137 179.325881 292.000000 176.334589 Z\" class=\"guide line\"/><text x=\"287.0\" y=\"176.3345888261142\" class=\"\">40</text><title>40</title></g><g class=\"guides\"><path d=\"M292.000000 216.667294 L279.636432 218.162941 268.189813 222.538954 258.509086 229.470785 251.312228 238.444332 247.132995 248.794069 246.281343 259.752401 248.820435 270.506601 254.561957 280.259078 263.080088 288.286535 273.743076 293.993613 285.760097 296.957045 298.239903 296.957045 310.256924 293.993613 320.919912 288.286535 329.438043 280.259078 335.179565 270.506601 337.718657 259.752401 336.867005 248.794069 332.687772 238.444332 325.490914 229.470785 315.810187 222.538954 304.363568 218.162941 292.000000 216.667294 Z\" class=\"guide line\"/><text x=\"287.0\" y=\"216.6672944130571\" class=\"\">20</text><title>20</title></g><g class=\"guides\"><path d=\"M292.000000 257.000000 L292.000000 257.000000 292.000000 257.000000 292.000000 257.000000 292.000000 257.000000 292.000000 257.000000 292.000000 257.000000 292.000000 257.000000 292.000000 257.000000 292.000000 257.000000 292.000000 257.000000 292.000000 257.000000 292.000000 257.000000 292.000000 257.000000 292.000000 257.000000 292.000000 257.000000 292.000000 257.000000 292.000000 257.000000 292.000000 257.000000 292.000000 257.000000 292.000000 257.000000 292.000000 257.000000 292.000000 257.000000 292.000000 257.000000 Z\" class=\"major guide line\"/><text x=\"287.0\" y=\"257.0\" class=\"major\">0</text><title>0</title></g></g><g class=\"axis x web\"><g class=\"guides\"><path d=\"M292.000000 257.000000 L292.000000 19.037037\" class=\"line\"/><text x=\"292.00000000000006\" y=\"5.139999999999986\" class=\"\" transform=\"rotate(0.000000 292.000000 5.140000)\">#Hits</text><title>1.570796327</title></g><g class=\"guides\"><path d=\"M292.000000 257.000000 L219.054947 27.861349\" class=\"line\"/><text x=\"214.79495596570598\" y=\"14.47965200858323\" class=\"\" transform=\"rotate(-15.652174 214.794956 14.479652)\">%Time</text><title>1.843978297</title></g><g class=\"guides\"><path d=\"M292.000000 257.000000 L151.519895 53.679827\" class=\"line\"/><text x=\"143.31585685786038\" y=\"41.805928770921355\" class=\"\" transform=\"rotate(-31.304348 143.315857 41.805929)\">IPC</text><title>2.117160267</title></g></g><g class=\"series serie-0 color-0\"><path d=\"M292.000000 41.220025 L287.116391 241.659362 290.178521 254.363730 292.000000 257.000000 292.000000 257.000000 292.000000 257.000000 292.000000 257.000000 292.000000 257.000000 292.000000 257.000000 292.000000 257.000000 292.000000 257.000000 292.000000 257.000000 292.000000 257.000000 292.000000 257.000000 292.000000 257.000000 292.000000 257.000000 292.000000 257.000000 292.000000 257.000000 292.000000 257.000000 292.000000 257.000000 292.000000 257.000000 292.000000 257.000000 292.000000 257.000000 Z\" class=\"line reactive nofill\"/></g><g class=\"series serie-1 color-1\"><path d=\"M292.000000 31.136849 L286.869119 240.882620 290.571389 254.932337 292.000000 257.000000 292.000000 257.000000 292.000000 257.000000 292.000000 257.000000 292.000000 257.000000 292.000000 257.000000 292.000000 257.000000 292.000000 257.000000 292.000000 257.000000 292.000000 257.000000 292.000000 257.000000 292.000000 257.000000 292.000000 257.000000 292.000000 257.000000 292.000000 257.000000 292.000000 257.000000 292.000000 257.000000 292.000000 257.000000 292.000000 257.000000 292.000000 257.000000 Z\" class=\"line reactive nofill\"/></g><g class=\"series serie-2 color-2\"><path d=\"M292.000000 19.037037 L286.621848 240.105879 290.476148 254.794493 292.000000 257.000000 292.000000 257.000000 292.000000 257.000000 292.000000 257.000000 292.000000 257.000000 292.000000 257.000000 292.000000 257.000000 292.000000 257.000000 292.000000 257.000000 292.000000 257.000000 292.000000 257.000000 292.000000 257.000000 292.000000 257.000000 292.000000 257.000000 292.000000 257.000000 292.000000 257.000000 292.000000 257.000000 292.000000 257.000000 292.000000 257.000000 292.000000 257.000000 Z\" class=\"line reactive nofill\"/></g><g class=\"series serie-3 color-3\"><path d=\"M292.000000 144.068424 L289.465468 249.038403 290.452338 254.760032 292.000000 257.000000 292.000000 257.000000 292.000000 257.000000 292.000000 257.000000 292.000000 257.000000 292.000000 257.000000 292.000000 257.000000 292.000000 257.000000 292.000000 257.000000 292.000000 257.000000 292.000000 257.000000 292.000000 257.000000 292.000000 257.000000 292.000000 257.000000 292.000000 257.000000 292.000000 257.000000 292.000000 257.000000 292.000000 257.000000 292.000000 257.000000 292.000000 257.000000 Z\" class=\"line reactive nofill\"/></g></g><g class=\"titles\"><text x=\"400.0\" y=\"26\" class=\"title plot_title\">Simple HPC Banchmark</text></g><g transform=\"translate(196, 46)\" class=\"plot overlay\"><g class=\"series serie-0 color-0\"><g class=\"dots\"><circle cx=\"292.0\" cy=\"41.22002510985561\" r=\"2.5\" class=\"dot reactive tooltip-trigger\"/><desc class=\"value\">107</desc><desc class=\"x \">292.0</desc><desc class=\"y \">41.22002510985561</desc><desc class=\"x_label\">#Hits</desc></g><g class=\"dots\"><circle cx=\"287.1163905233442\" cy=\"241.65936151520532\" r=\"2.5\" class=\"dot reactive tooltip-trigger\"/><desc class=\"value\">7.9</desc><desc class=\"x \">287.1163905233442</desc><desc class=\"y \">241.65936151520532</desc><desc class=\"x_label\">%Time</desc></g><g class=\"dots\"><circle cx=\"290.17852067233343\" cy=\"254.36372995871216\" r=\"2.5\" class=\"dot reactive tooltip-trigger\"/><desc class=\"value\">1.53</desc><desc class=\"x \">290.17852067233343</desc><desc class=\"y \">254.36372995871216</desc><desc class=\"x_label\">IPC</desc></g><g class=\"dots\"><circle cx=\"292.0\" cy=\"257.0\" r=\"2.5\" class=\"dot reactive tooltip-trigger\"/><desc class=\"value\">0</desc><desc class=\"x \">292.0</desc><desc class=\"y \">257.0</desc></g><g class=\"dots\"><circle cx=\"292.0\" cy=\"257.0\" r=\"2.5\" class=\"dot reactive tooltip-trigger\"/><desc class=\"value\">0</desc><desc class=\"x \">292.0</desc><desc class=\"y \">257.0</desc></g><g class=\"dots\"><circle cx=\"292.0\" cy=\"257.0\" r=\"2.5\" class=\"dot reactive tooltip-trigger\"/><desc class=\"value\">0</desc><desc class=\"x \">292.0</desc><desc class=\"y \">257.0</desc></g><g class=\"dots\"><circle cx=\"292.0\" cy=\"257.0\" r=\"2.5\" class=\"dot reactive tooltip-trigger\"/><desc class=\"value\">0</desc><desc class=\"x \">292.0</desc><desc class=\"y \">257.0</desc></g><g class=\"dots\"><circle cx=\"292.0\" cy=\"257.0\" r=\"2.5\" class=\"dot reactive tooltip-trigger\"/><desc class=\"value\">0</desc><desc class=\"x \">292.0</desc><desc class=\"y \">257.0</desc></g><g class=\"dots\"><circle cx=\"292.0\" cy=\"257.0\" r=\"2.5\" class=\"dot reactive tooltip-trigger\"/><desc class=\"value\">0</desc><desc class=\"x \">292.0</desc><desc class=\"y \">257.0</desc></g><g class=\"dots\"><circle cx=\"292.0\" cy=\"257.0\" r=\"2.5\" class=\"dot reactive tooltip-trigger\"/><desc class=\"value\">0</desc><desc class=\"x \">292.0</desc><desc class=\"y \">257.0</desc></g><g class=\"dots\"><circle cx=\"292.0\" cy=\"257.0\" r=\"2.5\" class=\"dot reactive tooltip-trigger\"/><desc class=\"value\">0</desc><desc class=\"x \">292.0</desc><desc class=\"y \">257.0</desc></g><g class=\"dots\"><circle cx=\"292.0\" cy=\"257.0\" r=\"2.5\" class=\"dot reactive tooltip-trigger\"/><desc class=\"value\">0</desc><desc class=\"x \">292.0</desc><desc class=\"y \">257.0</desc></g><g class=\"dots\"><circle cx=\"292.0\" cy=\"257.0\" r=\"2.5\" class=\"dot reactive tooltip-trigger\"/><desc class=\"value\">0</desc><desc class=\"x \">292.0</desc><desc class=\"y \">257.0</desc></g><g class=\"dots\"><circle cx=\"292.0\" cy=\"257.0\" r=\"2.5\" class=\"dot reactive tooltip-trigger\"/><desc class=\"value\">0</desc><desc class=\"x \">292.0</desc><desc class=\"y \">257.0</desc></g><g class=\"dots\"><circle cx=\"292.0\" cy=\"257.0\" r=\"2.5\" class=\"dot reactive tooltip-trigger\"/><desc class=\"value\">0</desc><desc class=\"x \">292.0</desc><desc class=\"y \">257.0</desc></g><g class=\"dots\"><circle cx=\"292.0\" cy=\"257.0\" r=\"2.5\" class=\"dot reactive tooltip-trigger\"/><desc class=\"value\">0</desc><desc class=\"x \">292.0</desc><desc class=\"y \">257.0</desc></g><g class=\"dots\"><circle cx=\"292.0\" cy=\"257.0\" r=\"2.5\" class=\"dot reactive tooltip-trigger\"/><desc class=\"value\">0</desc><desc class=\"x \">292.0</desc><desc class=\"y \">257.0</desc></g><g class=\"dots\"><circle cx=\"292.0\" cy=\"257.0\" r=\"2.5\" class=\"dot reactive tooltip-trigger\"/><desc class=\"value\">0</desc><desc class=\"x \">292.0</desc><desc class=\"y \">257.0</desc></g><g class=\"dots\"><circle cx=\"292.0\" cy=\"257.0\" r=\"2.5\" class=\"dot reactive tooltip-trigger\"/><desc class=\"value\">0</desc><desc class=\"x \">292.0</desc><desc class=\"y \">257.0</desc></g><g class=\"dots\"><circle cx=\"292.0\" cy=\"257.0\" r=\"2.5\" class=\"dot reactive tooltip-trigger\"/><desc class=\"value\">0</desc><desc class=\"x \">292.0</desc><desc class=\"y \">257.0</desc></g><g class=\"dots\"><circle cx=\"292.0\" cy=\"257.0\" r=\"2.5\" class=\"dot reactive tooltip-trigger\"/><desc class=\"value\">0</desc><desc class=\"x \">292.0</desc><desc class=\"y \">257.0</desc></g><g class=\"dots\"><circle cx=\"292.0\" cy=\"257.0\" r=\"2.5\" class=\"dot reactive tooltip-trigger\"/><desc class=\"value\">0</desc><desc class=\"x \">292.0</desc><desc class=\"y \">257.0</desc></g><g class=\"dots\"><circle cx=\"292.0\" cy=\"257.0\" r=\"2.5\" class=\"dot reactive tooltip-trigger\"/><desc class=\"value\">0</desc><desc class=\"x \">292.0</desc><desc class=\"y \">257.0</desc></g></g><g class=\"series serie-1 color-1\"><g class=\"dots\"><circle cx=\"292.0\" cy=\"31.13684871311989\" r=\"2.5\" class=\"dot reactive tooltip-trigger\"/><desc class=\"value\">112</desc><desc class=\"x \">292.0</desc><desc class=\"y \">31.13684871311989</desc><desc class=\"x_label\">#Hits</desc></g><g class=\"dots\"><circle cx=\"286.86911915743747\" cy=\"240.88262032610174\" r=\"2.5\" class=\"dot reactive tooltip-trigger\"/><desc class=\"value\">8.3</desc><desc class=\"x \">286.86911915743747</desc><desc class=\"y \">240.88262032610174</desc><desc class=\"x_label\">%Time</desc></g><g class=\"dots\"><circle cx=\"290.57138876261445\" cy=\"254.93233722251938\" r=\"2.5\" class=\"dot reactive tooltip-trigger\"/><desc class=\"value\">1.2</desc><desc class=\"x \">290.57138876261445</desc><desc class=\"y \">254.93233722251938</desc><desc class=\"x_label\">IPC</desc></g><g class=\"dots\"><circle cx=\"292.0\" cy=\"257.0\" r=\"2.5\" class=\"dot reactive tooltip-trigger\"/><desc class=\"value\">0</desc><desc class=\"x \">292.0</desc><desc class=\"y \">257.0</desc></g><g class=\"dots\"><circle cx=\"292.0\" cy=\"257.0\" r=\"2.5\" class=\"dot reactive tooltip-trigger\"/><desc class=\"value\">0</desc><desc class=\"x \">292.0</desc><desc class=\"y \">257.0</desc></g><g class=\"dots\"><circle cx=\"292.0\" cy=\"257.0\" r=\"2.5\" class=\"dot reactive tooltip-trigger\"/><desc class=\"value\">0</desc><desc class=\"x \">292.0</desc><desc class=\"y \">257.0</desc></g><g class=\"dots\"><circle cx=\"292.0\" cy=\"257.0\" r=\"2.5\" class=\"dot reactive tooltip-trigger\"/><desc class=\"value\">0</desc><desc class=\"x \">292.0</desc><desc class=\"y \">257.0</desc></g><g class=\"dots\"><circle cx=\"292.0\" cy=\"257.0\" r=\"2.5\" class=\"dot reactive tooltip-trigger\"/><desc class=\"value\">0</desc><desc class=\"x \">292.0</desc><desc class=\"y \">257.0</desc></g><g class=\"dots\"><circle cx=\"292.0\" cy=\"257.0\" r=\"2.5\" class=\"dot reactive tooltip-trigger\"/><desc class=\"value\">0</desc><desc class=\"x \">292.0</desc><desc class=\"y \">257.0</desc></g><g class=\"dots\"><circle cx=\"292.0\" cy=\"257.0\" r=\"2.5\" class=\"dot reactive tooltip-trigger\"/><desc class=\"value\">0</desc><desc class=\"x \">292.0</desc><desc class=\"y \">257.0</desc></g><g class=\"dots\"><circle cx=\"292.0\" cy=\"257.0\" r=\"2.5\" class=\"dot reactive tooltip-trigger\"/><desc class=\"value\">0</desc><desc class=\"x \">292.0</desc><desc class=\"y \">257.0</desc></g><g class=\"dots\"><circle cx=\"292.0\" cy=\"257.0\" r=\"2.5\" class=\"dot reactive tooltip-trigger\"/><desc class=\"value\">0</desc><desc class=\"x \">292.0</desc><desc class=\"y \">257.0</desc></g><g class=\"dots\"><circle cx=\"292.0\" cy=\"257.0\" r=\"2.5\" class=\"dot reactive tooltip-trigger\"/><desc class=\"value\">0</desc><desc class=\"x \">292.0</desc><desc class=\"y \">257.0</desc></g><g class=\"dots\"><circle cx=\"292.0\" cy=\"257.0\" r=\"2.5\" class=\"dot reactive tooltip-trigger\"/><desc class=\"value\">0</desc><desc class=\"x \">292.0</desc><desc class=\"y \">257.0</desc></g><g class=\"dots\"><circle cx=\"292.0\" cy=\"257.0\" r=\"2.5\" class=\"dot reactive tooltip-trigger\"/><desc class=\"value\">0</desc><desc class=\"x \">292.0</desc><desc class=\"y \">257.0</desc></g><g class=\"dots\"><circle cx=\"292.0\" cy=\"257.0\" r=\"2.5\" class=\"dot reactive tooltip-trigger\"/><desc class=\"value\">0</desc><desc class=\"x \">292.0</desc><desc class=\"y \">257.0</desc></g><g class=\"dots\"><circle cx=\"292.0\" cy=\"257.0\" r=\"2.5\" class=\"dot reactive tooltip-trigger\"/><desc class=\"value\">0</desc><desc class=\"x \">292.0</desc><desc class=\"y \">257.0</desc></g><g class=\"dots\"><circle cx=\"292.0\" cy=\"257.0\" r=\"2.5\" class=\"dot reactive tooltip-trigger\"/><desc class=\"value\">0</desc><desc class=\"x \">292.0</desc><desc class=\"y \">257.0</desc></g><g class=\"dots\"><circle cx=\"292.0\" cy=\"257.0\" r=\"2.5\" class=\"dot reactive tooltip-trigger\"/><desc class=\"value\">0</desc><desc class=\"x \">292.0</desc><desc class=\"y \">257.0</desc></g><g class=\"dots\"><circle cx=\"292.0\" cy=\"257.0\" r=\"2.5\" class=\"dot reactive tooltip-trigger\"/><desc class=\"value\">0</desc><desc class=\"x \">292.0</desc><desc class=\"y \">257.0</desc></g><g class=\"dots\"><circle cx=\"292.0\" cy=\"257.0\" r=\"2.5\" class=\"dot reactive tooltip-trigger\"/><desc class=\"value\">0</desc><desc class=\"x \">292.0</desc><desc class=\"y \">257.0</desc></g><g class=\"dots\"><circle cx=\"292.0\" cy=\"257.0\" r=\"2.5\" class=\"dot reactive tooltip-trigger\"/><desc class=\"value\">0</desc><desc class=\"x \">292.0</desc><desc class=\"y \">257.0</desc></g><g class=\"dots\"><circle cx=\"292.0\" cy=\"257.0\" r=\"2.5\" class=\"dot reactive tooltip-trigger\"/><desc class=\"value\">0</desc><desc class=\"x \">292.0</desc><desc class=\"y \">257.0</desc></g></g><g class=\"series serie-2 color-2\"><g class=\"dots\"><circle cx=\"292.00000000000006\" cy=\"19.03703703703701\" r=\"2.5\" class=\"dot reactive tooltip-trigger\"/><desc class=\"value\">118</desc><desc class=\"x left\">292.00000000000006</desc><desc class=\"y left\">19.03703703703701</desc><desc class=\"x_label\">#Hits</desc></g><g class=\"dots\"><circle cx=\"286.62184779153085\" cy=\"240.10587913699828\" r=\"2.5\" class=\"dot reactive tooltip-trigger\"/><desc class=\"value\">8.7</desc><desc class=\"x \">286.62184779153085</desc><desc class=\"y \">240.10587913699828</desc><desc class=\"x_label\">%Time</desc></g><g class=\"dots\"><circle cx=\"290.4761480134554\" cy=\"254.79449303735396\" r=\"2.5\" class=\"dot reactive tooltip-trigger\"/><desc class=\"value\">1.28</desc><desc class=\"x \">290.4761480134554</desc><desc class=\"y \">254.79449303735396</desc><desc class=\"x_label\">IPC</desc></g><g class=\"dots\"><circle cx=\"292.0\" cy=\"257.0\" r=\"2.5\" class=\"dot reactive tooltip-trigger\"/><desc class=\"value\">0</desc><desc class=\"x \">292.0</desc><desc class=\"y \">257.0</desc></g><g class=\"dots\"><circle cx=\"292.0\" cy=\"257.0\" r=\"2.5\" class=\"dot reactive tooltip-trigger\"/><desc class=\"value\">0</desc><desc class=\"x \">292.0</desc><desc class=\"y \">257.0</desc></g><g class=\"dots\"><circle cx=\"292.0\" cy=\"257.0\" r=\"2.5\" class=\"dot reactive tooltip-trigger\"/><desc class=\"value\">0</desc><desc class=\"x \">292.0</desc><desc class=\"y \">257.0</desc></g><g class=\"dots\"><circle cx=\"292.0\" cy=\"257.0\" r=\"2.5\" class=\"dot reactive tooltip-trigger\"/><desc class=\"value\">0</desc><desc class=\"x \">292.0</desc><desc class=\"y \">257.0</desc></g><g class=\"dots\"><circle cx=\"292.0\" cy=\"257.0\" r=\"2.5\" class=\"dot reactive tooltip-trigger\"/><desc class=\"value\">0</desc><desc class=\"x \">292.0</desc><desc class=\"y \">257.0</desc></g><g class=\"dots\"><circle cx=\"292.0\" cy=\"257.0\" r=\"2.5\" class=\"dot reactive tooltip-trigger\"/><desc class=\"value\">0</desc><desc class=\"x \">292.0</desc><desc class=\"y \">257.0</desc></g><g class=\"dots\"><circle cx=\"292.0\" cy=\"257.0\" r=\"2.5\" class=\"dot reactive tooltip-trigger\"/><desc class=\"value\">0</desc><desc class=\"x \">292.0</desc><desc class=\"y \">257.0</desc></g><g class=\"dots\"><circle cx=\"292.0\" cy=\"257.0\" r=\"2.5\" class=\"dot reactive tooltip-trigger\"/><desc class=\"value\">0</desc><desc class=\"x \">292.0</desc><desc class=\"y \">257.0</desc></g><g class=\"dots\"><circle cx=\"292.0\" cy=\"257.0\" r=\"2.5\" class=\"dot reactive tooltip-trigger\"/><desc class=\"value\">0</desc><desc class=\"x \">292.0</desc><desc class=\"y \">257.0</desc></g><g class=\"dots\"><circle cx=\"292.0\" cy=\"257.0\" r=\"2.5\" class=\"dot reactive tooltip-trigger\"/><desc class=\"value\">0</desc><desc class=\"x \">292.0</desc><desc class=\"y \">257.0</desc></g><g class=\"dots\"><circle cx=\"292.0\" cy=\"257.0\" r=\"2.5\" class=\"dot reactive tooltip-trigger\"/><desc class=\"value\">0</desc><desc class=\"x \">292.0</desc><desc class=\"y \">257.0</desc></g><g class=\"dots\"><circle cx=\"292.0\" cy=\"257.0\" r=\"2.5\" class=\"dot reactive tooltip-trigger\"/><desc class=\"value\">0</desc><desc class=\"x \">292.0</desc><desc class=\"y \">257.0</desc></g><g class=\"dots\"><circle cx=\"292.0\" cy=\"257.0\" r=\"2.5\" class=\"dot reactive tooltip-trigger\"/><desc class=\"value\">0</desc><desc class=\"x \">292.0</desc><desc class=\"y \">257.0</desc></g><g class=\"dots\"><circle cx=\"292.0\" cy=\"257.0\" r=\"2.5\" class=\"dot reactive tooltip-trigger\"/><desc class=\"value\">0</desc><desc class=\"x \">292.0</desc><desc class=\"y \">257.0</desc></g><g class=\"dots\"><circle cx=\"292.0\" cy=\"257.0\" r=\"2.5\" class=\"dot reactive tooltip-trigger\"/><desc class=\"value\">0</desc><desc class=\"x \">292.0</desc><desc class=\"y \">257.0</desc></g><g class=\"dots\"><circle cx=\"292.0\" cy=\"257.0\" r=\"2.5\" class=\"dot reactive tooltip-trigger\"/><desc class=\"value\">0</desc><desc class=\"x \">292.0</desc><desc class=\"y \">257.0</desc></g><g class=\"dots\"><circle cx=\"292.0\" cy=\"257.0\" r=\"2.5\" class=\"dot reactive tooltip-trigger\"/><desc class=\"value\">0</desc><desc class=\"x \">292.0</desc><desc class=\"y \">257.0</desc></g><g class=\"dots\"><circle cx=\"292.0\" cy=\"257.0\" r=\"2.5\" class=\"dot reactive tooltip-trigger\"/><desc class=\"value\">0</desc><desc class=\"x \">292.0</desc><desc class=\"y \">257.0</desc></g><g class=\"dots\"><circle cx=\"292.0\" cy=\"257.0\" r=\"2.5\" class=\"dot reactive tooltip-trigger\"/><desc class=\"value\">0</desc><desc class=\"x \">292.0</desc><desc class=\"y \">257.0</desc></g><g class=\"dots\"><circle cx=\"292.0\" cy=\"257.0\" r=\"2.5\" class=\"dot reactive tooltip-trigger\"/><desc class=\"value\">0</desc><desc class=\"x \">292.0</desc><desc class=\"y \">257.0</desc></g></g><g class=\"series serie-3 color-3\"><g class=\"dots\"><circle cx=\"292.0\" cy=\"144.06842435655994\" r=\"2.5\" class=\"dot reactive tooltip-trigger\"/><desc class=\"value\">56</desc><desc class=\"x \">292.0</desc><desc class=\"y \">144.06842435655994</desc><desc class=\"x_label\">#Hits</desc></g><g class=\"dots\"><circle cx=\"289.46546849945713\" cy=\"249.0384028116888\" r=\"2.5\" class=\"dot reactive tooltip-trigger\"/><desc class=\"value\">4.1</desc><desc class=\"x \">289.46546849945713</desc><desc class=\"y \">249.0384028116888</desc><desc class=\"x_label\">%Time</desc></g><g class=\"dots\"><circle cx=\"290.45233782616566\" cy=\"254.7600319910626\" r=\"2.5\" class=\"dot reactive tooltip-trigger\"/><desc class=\"value\">1.3</desc><desc class=\"x \">290.45233782616566</desc><desc class=\"y \">254.7600319910626</desc><desc class=\"x_label\">IPC</desc></g><g class=\"dots\"><circle cx=\"292.0\" cy=\"257.0\" r=\"2.5\" class=\"dot reactive tooltip-trigger\"/><desc class=\"value\">0</desc><desc class=\"x \">292.0</desc><desc class=\"y \">257.0</desc></g><g class=\"dots\"><circle cx=\"292.0\" cy=\"257.0\" r=\"2.5\" class=\"dot reactive tooltip-trigger\"/><desc class=\"value\">0</desc><desc class=\"x \">292.0</desc><desc class=\"y \">257.0</desc></g><g class=\"dots\"><circle cx=\"292.0\" cy=\"257.0\" r=\"2.5\" class=\"dot reactive tooltip-trigger\"/><desc class=\"value\">0</desc><desc class=\"x \">292.0</desc><desc class=\"y \">257.0</desc></g><g class=\"dots\"><circle cx=\"292.0\" cy=\"257.0\" r=\"2.5\" class=\"dot reactive tooltip-trigger\"/><desc class=\"value\">0</desc><desc class=\"x \">292.0</desc><desc class=\"y \">257.0</desc></g><g class=\"dots\"><circle cx=\"292.0\" cy=\"257.0\" r=\"2.5\" class=\"dot reactive tooltip-trigger\"/><desc class=\"value\">0</desc><desc class=\"x \">292.0</desc><desc class=\"y \">257.0</desc></g><g class=\"dots\"><circle cx=\"292.0\" cy=\"257.0\" r=\"2.5\" class=\"dot reactive tooltip-trigger\"/><desc class=\"value\">0</desc><desc class=\"x \">292.0</desc><desc class=\"y \">257.0</desc></g><g class=\"dots\"><circle cx=\"292.0\" cy=\"257.0\" r=\"2.5\" class=\"dot reactive tooltip-trigger\"/><desc class=\"value\">0</desc><desc class=\"x \">292.0</desc><desc class=\"y \">257.0</desc></g><g class=\"dots\"><circle cx=\"292.0\" cy=\"257.0\" r=\"2.5\" class=\"dot reactive tooltip-trigger\"/><desc class=\"value\">0</desc><desc class=\"x \">292.0</desc><desc class=\"y \">257.0</desc></g><g class=\"dots\"><circle cx=\"292.0\" cy=\"257.0\" r=\"2.5\" class=\"dot reactive tooltip-trigger\"/><desc class=\"value\">0</desc><desc class=\"x \">292.0</desc><desc class=\"y \">257.0</desc></g><g class=\"dots\"><circle cx=\"292.0\" cy=\"257.0\" r=\"2.5\" class=\"dot reactive tooltip-trigger\"/><desc class=\"value\">0</desc><desc class=\"x \">292.0</desc><desc class=\"y \">257.0</desc></g><g class=\"dots\"><circle cx=\"292.0\" cy=\"257.0\" r=\"2.5\" class=\"dot reactive tooltip-trigger\"/><desc class=\"value\">0</desc><desc class=\"x \">292.0</desc><desc class=\"y \">257.0</desc></g><g class=\"dots\"><circle cx=\"292.0\" cy=\"257.0\" r=\"2.5\" class=\"dot reactive tooltip-trigger\"/><desc class=\"value\">0</desc><desc class=\"x \">292.0</desc><desc class=\"y \">257.0</desc></g><g class=\"dots\"><circle cx=\"292.0\" cy=\"257.0\" r=\"2.5\" class=\"dot reactive tooltip-trigger\"/><desc class=\"value\">0</desc><desc class=\"x \">292.0</desc><desc class=\"y \">257.0</desc></g><g class=\"dots\"><circle cx=\"292.0\" cy=\"257.0\" r=\"2.5\" class=\"dot reactive tooltip-trigger\"/><desc class=\"value\">0</desc><desc class=\"x \">292.0</desc><desc class=\"y \">257.0</desc></g><g class=\"dots\"><circle cx=\"292.0\" cy=\"257.0\" r=\"2.5\" class=\"dot reactive tooltip-trigger\"/><desc class=\"value\">0</desc><desc class=\"x \">292.0</desc><desc class=\"y \">257.0</desc></g><g class=\"dots\"><circle cx=\"292.0\" cy=\"257.0\" r=\"2.5\" class=\"dot reactive tooltip-trigger\"/><desc class=\"value\">0</desc><desc class=\"x \">292.0</desc><desc class=\"y \">257.0</desc></g><g class=\"dots\"><circle cx=\"292.0\" cy=\"257.0\" r=\"2.5\" class=\"dot reactive tooltip-trigger\"/><desc class=\"value\">0</desc><desc class=\"x \">292.0</desc><desc class=\"y \">257.0</desc></g><g class=\"dots\"><circle cx=\"292.0\" cy=\"257.0\" r=\"2.5\" class=\"dot reactive tooltip-trigger\"/><desc class=\"value\">0</desc><desc class=\"x \">292.0</desc><desc class=\"y \">257.0</desc></g><g class=\"dots\"><circle cx=\"292.0\" cy=\"257.0\" r=\"2.5\" class=\"dot reactive tooltip-trigger\"/><desc class=\"value\">0</desc><desc class=\"x \">292.0</desc><desc class=\"y \">257.0</desc></g><g class=\"dots\"><circle cx=\"292.0\" cy=\"257.0\" r=\"2.5\" class=\"dot reactive tooltip-trigger\"/><desc class=\"value\">0</desc><desc class=\"x \">292.0</desc><desc class=\"y \">257.0</desc></g></g></g><g transform=\"translate(196, 46)\" class=\"plot text-overlay\"><g class=\"series serie-0 color-0\"/><g class=\"series serie-1 color-1\"/><g class=\"series serie-2 color-2\"/><g class=\"series serie-3 color-3\"/></g><g transform=\"translate(196, 46)\" class=\"plot tooltip-overlay\"><g transform=\"translate(0 0)\" style=\"opacity: 0\" class=\"tooltip\"><rect rx=\"0\" ry=\"0\" width=\"0\" height=\"0\" class=\"tooltip-box\"/><g class=\"text\"/></g></g><g transform=\"translate(10, 56)\" class=\"legends\"><g id=\"activate-serie-0\" class=\"legend reactive activate-serie\"><rect x=\"0.0\" y=\"1.0\" width=\"12\" height=\"12\" class=\"color-0 reactive\"/><text x=\"17.0\" y=\"11.2\">rrtm_taumol3</text></g><g id=\"activate-serie-1\" class=\"legend reactive activate-serie\"><rect x=\"0.0\" y=\"22.0\" width=\"12\" height=\"12\" class=\"color-1 reactive\"/><text x=\"17.0\" y=\"32.2\">solver_mcica_lw</text></g><g id=\"activate-serie-2\" class=\"legend reactive activate-serie\"><rect x=\"0.0\" y=\"43.0\" width=\"12\" height=\"12\" class=\"color-2 reactive\"/><text x=\"17.0\" y=\"53.2\">save_fluxes</text></g><g id=\"activate-serie-3\" class=\"legend reactive activate-serie\"><rect x=\"0.0\" y=\"64.0\" width=\"12\" height=\"12\" class=\"color-3 reactive\"/><text x=\"17.0\" y=\"74.2\">rrtm_kgb7</text></g></g><g transform=\"translate(790, 56)\" class=\"legends\"/></g></svg>"
      ],
      "text/plain": [
       "<IPython.core.display.SVG object>"
      ]
     },
     "metadata": {},
     "output_type": "display_data"
    },
    {
     "data": {
      "application/vnd.plotly.v1+json": {
       "config": {
        "plotlyServerURL": "https://plot.ly"
       },
       "data": [
        {
         "customdata": [
          [
           "save_fluxes"
          ],
          [
           "solver_mcica_lw"
          ],
          [
           "rrtm_taumol3"
          ],
          [
           "solver_homogeneous_sw"
          ],
          [
           "rrtm_kgb7"
          ],
          [
           "solver_homogeneous_lw"
          ],
          [
           "fast_expm_exchange_2"
          ],
          [
           "rrtm_taumol5"
          ],
          [
           "get_real_matrix_indexed"
          ],
          [
           "calc_ice_optics_fu_lw"
          ],
          [
           "rrtm_taumol15"
          ],
          [
           "print_real"
          ],
          [
           "rrtm_taumol7"
          ],
          [
           "gas_optics"
          ],
          [
           "srtm_setcoef"
          ],
          [
           "consolidate_config"
          ],
          [
           "diag_mat_right_divide_3"
          ],
          [
           "calc_ice_optics_baran"
          ],
          [
           "rrtm_taumol4"
          ],
          [
           "rrtm_taumol9"
          ],
          [
           "solver_tripleclouds_sw"
          ],
          [
           "rrtm_taumol6"
          ],
          [
           "lu_substitution"
          ],
          [
           "srtm_taumol22"
          ],
          [
           "rrtm_taumol8"
          ],
          [
           "calc_ice_optics_fu_sw"
          ],
          [
           "deallocate_thermodynamics_arrays"
          ],
          [
           "srtm_taumol17"
          ],
          [
           "srtm_taumol18"
          ],
          [
           "read_input"
          ],
          [
           "solver_mcica_sw"
          ],
          [
           "fast_adding_ica_lw"
          ],
          [
           "srtm_taumol16"
          ],
          [
           "srtm_taumol27"
          ],
          [
           "srtm_gas_optical_depth"
          ],
          [
           "cloud_optics"
          ],
          [
           "rrtm_kgb3"
          ],
          [
           "param_cloud_effective_separation_eta"
          ],
          [
           "get_real_array3"
          ],
          [
           "srtm_taumol21"
          ],
          [
           "surrtrf"
          ],
          [
           "rrtm_kgb13"
          ],
          [
           "calc_no_scattering_transmittance_lw"
          ],
          [
           "get_sw_weights"
          ],
          [
           "calc_surface_spectral"
          ],
          [
           "get_real_vector_indexed"
          ],
          [
           "rrtm_kgb15"
          ],
          [
           "allocate_flux_type"
          ],
          [
           "srtm_taumol23"
          ],
          [
           "srtm_taumol29"
          ],
          [
           "print_config"
          ],
          [
           "calc_boundary_conditions_lw"
          ],
          [
           "allocate_cloud_arrays"
          ],
          [
           "rrtm_kgb5"
          ]
         ],
         "hovertemplate": "#Hits=%{marker.color}<br>Function=%{customdata[0]}<br>%Time=%{z}<br>IPC=%{marker.size}<extra></extra>",
         "legendgroup": "",
         "marker": {
          "color": [
           118,
           112,
           107,
           78,
           56,
           52,
           41,
           28,
           28,
           27,
           26,
           21,
           20,
           17,
           15,
           15,
           11,
           9,
           8,
           7,
           7,
           7,
           6,
           6,
           4,
           4,
           4,
           4,
           4,
           3,
           3,
           3,
           3,
           3,
           3,
           3,
           2,
           2,
           2,
           2,
           2,
           2,
           1,
           1,
           1,
           1,
           1,
           1,
           1,
           1,
           1,
           1,
           1,
           1
          ],
          "coloraxis": "coloraxis",
          "size": [
           1.28,
           1.2,
           1.53,
           1.45,
           1.3,
           1.18,
           1.4,
           1.54,
           0.82,
           1.07,
           1.25,
           0.88,
           1.56,
           1.42,
           0.88,
           0.88,
           1.19,
           1.01,
           1.6,
           1.19,
           1.21,
           1.33,
           1.51,
           1.01,
           1.5,
           0.88,
           0.59,
           1.45,
           0.99,
           0.24,
           0.7,
           1.21,
           0.63,
           1.36,
           1.23,
           0.81,
           0.06,
           0.42,
           0.95,
           1.14,
           0.85,
           0.05,
           0.13,
           0.26,
           0.2,
           0,
           0.05,
           1.99,
           1.47,
           0.05,
           0.02,
           0.02,
           1.17,
           0.05
          ],
          "sizemode": "area",
          "sizeref": 0.004975,
          "symbol": "circle"
         },
         "mode": "markers",
         "name": "",
         "scene": "scene",
         "showlegend": false,
         "type": "scatter3d",
         "x": [
          118,
          112,
          107,
          78,
          56,
          52,
          41,
          28,
          28,
          27,
          26,
          21,
          20,
          17,
          15,
          15,
          11,
          9,
          8,
          7,
          7,
          7,
          6,
          6,
          4,
          4,
          4,
          4,
          4,
          3,
          3,
          3,
          3,
          3,
          3,
          3,
          2,
          2,
          2,
          2,
          2,
          2,
          1,
          1,
          1,
          1,
          1,
          1,
          1,
          1,
          1,
          1,
          1,
          1
         ],
         "y": [
          "save_fluxes",
          "solver_mcica_lw",
          "rrtm_taumol3",
          "solver_homogeneous_sw",
          "rrtm_kgb7",
          "solver_homogeneous_lw",
          "fast_expm_exchange_2",
          "rrtm_taumol5",
          "get_real_matrix_indexed",
          "calc_ice_optics_fu_lw",
          "rrtm_taumol15",
          "print_real",
          "rrtm_taumol7",
          "gas_optics",
          "srtm_setcoef",
          "consolidate_config",
          "diag_mat_right_divide_3",
          "calc_ice_optics_baran",
          "rrtm_taumol4",
          "rrtm_taumol9",
          "solver_tripleclouds_sw",
          "rrtm_taumol6",
          "lu_substitution",
          "srtm_taumol22",
          "rrtm_taumol8",
          "calc_ice_optics_fu_sw",
          "deallocate_thermodynamics_arrays",
          "srtm_taumol17",
          "srtm_taumol18",
          "read_input",
          "solver_mcica_sw",
          "fast_adding_ica_lw",
          "srtm_taumol16",
          "srtm_taumol27",
          "srtm_gas_optical_depth",
          "cloud_optics",
          "rrtm_kgb3",
          "param_cloud_effective_separation_eta",
          "get_real_array3",
          "srtm_taumol21",
          "surrtrf",
          "rrtm_kgb13",
          "calc_no_scattering_transmittance_lw",
          "get_sw_weights",
          "calc_surface_spectral",
          "get_real_vector_indexed",
          "rrtm_kgb15",
          "allocate_flux_type",
          "srtm_taumol23",
          "srtm_taumol29",
          "print_config",
          "calc_boundary_conditions_lw",
          "allocate_cloud_arrays",
          "rrtm_kgb5"
         ],
         "z": [
          8.7,
          8.3,
          7.9,
          5.8,
          4.1,
          3.8,
          3,
          2.1,
          2.1,
          2,
          1.9,
          1.6,
          1.5,
          1.3,
          1.1,
          1.1,
          0.8,
          0.7,
          0.6,
          0.5,
          0.5,
          0.5,
          0.4,
          0.4,
          0.3,
          0.3,
          0.3,
          0.3,
          0.3,
          0.3,
          0.2,
          0.2,
          0.2,
          0.2,
          0.2,
          0.2,
          0.2,
          0.1,
          0.1,
          0.1,
          0.1,
          0.1,
          0.1,
          0.1,
          0.1,
          0.1,
          0.1,
          0.1,
          0.1,
          0.1,
          0.1,
          0.1,
          0.1,
          0.1
         ]
        }
       ],
       "layout": {
        "coloraxis": {
         "colorbar": {
          "title": {
           "text": "#Hits"
          }
         },
         "colorscale": [
          [
           0,
           "#0d0887"
          ],
          [
           0.1111111111111111,
           "#46039f"
          ],
          [
           0.2222222222222222,
           "#7201a8"
          ],
          [
           0.3333333333333333,
           "#9c179e"
          ],
          [
           0.4444444444444444,
           "#bd3786"
          ],
          [
           0.5555555555555556,
           "#d8576b"
          ],
          [
           0.6666666666666666,
           "#ed7953"
          ],
          [
           0.7777777777777778,
           "#fb9f3a"
          ],
          [
           0.8888888888888888,
           "#fdca26"
          ],
          [
           1,
           "#f0f921"
          ]
         ]
        },
        "legend": {
         "itemsizing": "constant",
         "tracegroupgap": 0
        },
        "margin": {
         "t": 60
        },
        "scene": {
         "domain": {
          "x": [
           0,
           1
          ],
          "y": [
           0,
           1
          ]
         },
         "xaxis": {
          "title": {
           "text": "#Hits"
          }
         },
         "yaxis": {
          "title": {
           "text": "Function"
          }
         },
         "zaxis": {
          "title": {
           "text": "%Time"
          },
          "type": "log"
         }
        },
        "template": {
         "data": {
          "bar": [
           {
            "error_x": {
             "color": "#2a3f5f"
            },
            "error_y": {
             "color": "#2a3f5f"
            },
            "marker": {
             "line": {
              "color": "#E5ECF6",
              "width": 0.5
             }
            },
            "type": "bar"
           }
          ],
          "barpolar": [
           {
            "marker": {
             "line": {
              "color": "#E5ECF6",
              "width": 0.5
             }
            },
            "type": "barpolar"
           }
          ],
          "carpet": [
           {
            "aaxis": {
             "endlinecolor": "#2a3f5f",
             "gridcolor": "white",
             "linecolor": "white",
             "minorgridcolor": "white",
             "startlinecolor": "#2a3f5f"
            },
            "baxis": {
             "endlinecolor": "#2a3f5f",
             "gridcolor": "white",
             "linecolor": "white",
             "minorgridcolor": "white",
             "startlinecolor": "#2a3f5f"
            },
            "type": "carpet"
           }
          ],
          "choropleth": [
           {
            "colorbar": {
             "outlinewidth": 0,
             "ticks": ""
            },
            "type": "choropleth"
           }
          ],
          "contour": [
           {
            "colorbar": {
             "outlinewidth": 0,
             "ticks": ""
            },
            "colorscale": [
             [
              0,
              "#0d0887"
             ],
             [
              0.1111111111111111,
              "#46039f"
             ],
             [
              0.2222222222222222,
              "#7201a8"
             ],
             [
              0.3333333333333333,
              "#9c179e"
             ],
             [
              0.4444444444444444,
              "#bd3786"
             ],
             [
              0.5555555555555556,
              "#d8576b"
             ],
             [
              0.6666666666666666,
              "#ed7953"
             ],
             [
              0.7777777777777778,
              "#fb9f3a"
             ],
             [
              0.8888888888888888,
              "#fdca26"
             ],
             [
              1,
              "#f0f921"
             ]
            ],
            "type": "contour"
           }
          ],
          "contourcarpet": [
           {
            "colorbar": {
             "outlinewidth": 0,
             "ticks": ""
            },
            "type": "contourcarpet"
           }
          ],
          "heatmap": [
           {
            "colorbar": {
             "outlinewidth": 0,
             "ticks": ""
            },
            "colorscale": [
             [
              0,
              "#0d0887"
             ],
             [
              0.1111111111111111,
              "#46039f"
             ],
             [
              0.2222222222222222,
              "#7201a8"
             ],
             [
              0.3333333333333333,
              "#9c179e"
             ],
             [
              0.4444444444444444,
              "#bd3786"
             ],
             [
              0.5555555555555556,
              "#d8576b"
             ],
             [
              0.6666666666666666,
              "#ed7953"
             ],
             [
              0.7777777777777778,
              "#fb9f3a"
             ],
             [
              0.8888888888888888,
              "#fdca26"
             ],
             [
              1,
              "#f0f921"
             ]
            ],
            "type": "heatmap"
           }
          ],
          "heatmapgl": [
           {
            "colorbar": {
             "outlinewidth": 0,
             "ticks": ""
            },
            "colorscale": [
             [
              0,
              "#0d0887"
             ],
             [
              0.1111111111111111,
              "#46039f"
             ],
             [
              0.2222222222222222,
              "#7201a8"
             ],
             [
              0.3333333333333333,
              "#9c179e"
             ],
             [
              0.4444444444444444,
              "#bd3786"
             ],
             [
              0.5555555555555556,
              "#d8576b"
             ],
             [
              0.6666666666666666,
              "#ed7953"
             ],
             [
              0.7777777777777778,
              "#fb9f3a"
             ],
             [
              0.8888888888888888,
              "#fdca26"
             ],
             [
              1,
              "#f0f921"
             ]
            ],
            "type": "heatmapgl"
           }
          ],
          "histogram": [
           {
            "marker": {
             "colorbar": {
              "outlinewidth": 0,
              "ticks": ""
             }
            },
            "type": "histogram"
           }
          ],
          "histogram2d": [
           {
            "colorbar": {
             "outlinewidth": 0,
             "ticks": ""
            },
            "colorscale": [
             [
              0,
              "#0d0887"
             ],
             [
              0.1111111111111111,
              "#46039f"
             ],
             [
              0.2222222222222222,
              "#7201a8"
             ],
             [
              0.3333333333333333,
              "#9c179e"
             ],
             [
              0.4444444444444444,
              "#bd3786"
             ],
             [
              0.5555555555555556,
              "#d8576b"
             ],
             [
              0.6666666666666666,
              "#ed7953"
             ],
             [
              0.7777777777777778,
              "#fb9f3a"
             ],
             [
              0.8888888888888888,
              "#fdca26"
             ],
             [
              1,
              "#f0f921"
             ]
            ],
            "type": "histogram2d"
           }
          ],
          "histogram2dcontour": [
           {
            "colorbar": {
             "outlinewidth": 0,
             "ticks": ""
            },
            "colorscale": [
             [
              0,
              "#0d0887"
             ],
             [
              0.1111111111111111,
              "#46039f"
             ],
             [
              0.2222222222222222,
              "#7201a8"
             ],
             [
              0.3333333333333333,
              "#9c179e"
             ],
             [
              0.4444444444444444,
              "#bd3786"
             ],
             [
              0.5555555555555556,
              "#d8576b"
             ],
             [
              0.6666666666666666,
              "#ed7953"
             ],
             [
              0.7777777777777778,
              "#fb9f3a"
             ],
             [
              0.8888888888888888,
              "#fdca26"
             ],
             [
              1,
              "#f0f921"
             ]
            ],
            "type": "histogram2dcontour"
           }
          ],
          "mesh3d": [
           {
            "colorbar": {
             "outlinewidth": 0,
             "ticks": ""
            },
            "type": "mesh3d"
           }
          ],
          "parcoords": [
           {
            "line": {
             "colorbar": {
              "outlinewidth": 0,
              "ticks": ""
             }
            },
            "type": "parcoords"
           }
          ],
          "pie": [
           {
            "automargin": true,
            "type": "pie"
           }
          ],
          "scatter": [
           {
            "marker": {
             "colorbar": {
              "outlinewidth": 0,
              "ticks": ""
             }
            },
            "type": "scatter"
           }
          ],
          "scatter3d": [
           {
            "line": {
             "colorbar": {
              "outlinewidth": 0,
              "ticks": ""
             }
            },
            "marker": {
             "colorbar": {
              "outlinewidth": 0,
              "ticks": ""
             }
            },
            "type": "scatter3d"
           }
          ],
          "scattercarpet": [
           {
            "marker": {
             "colorbar": {
              "outlinewidth": 0,
              "ticks": ""
             }
            },
            "type": "scattercarpet"
           }
          ],
          "scattergeo": [
           {
            "marker": {
             "colorbar": {
              "outlinewidth": 0,
              "ticks": ""
             }
            },
            "type": "scattergeo"
           }
          ],
          "scattergl": [
           {
            "marker": {
             "colorbar": {
              "outlinewidth": 0,
              "ticks": ""
             }
            },
            "type": "scattergl"
           }
          ],
          "scattermapbox": [
           {
            "marker": {
             "colorbar": {
              "outlinewidth": 0,
              "ticks": ""
             }
            },
            "type": "scattermapbox"
           }
          ],
          "scatterpolar": [
           {
            "marker": {
             "colorbar": {
              "outlinewidth": 0,
              "ticks": ""
             }
            },
            "type": "scatterpolar"
           }
          ],
          "scatterpolargl": [
           {
            "marker": {
             "colorbar": {
              "outlinewidth": 0,
              "ticks": ""
             }
            },
            "type": "scatterpolargl"
           }
          ],
          "scatterternary": [
           {
            "marker": {
             "colorbar": {
              "outlinewidth": 0,
              "ticks": ""
             }
            },
            "type": "scatterternary"
           }
          ],
          "surface": [
           {
            "colorbar": {
             "outlinewidth": 0,
             "ticks": ""
            },
            "colorscale": [
             [
              0,
              "#0d0887"
             ],
             [
              0.1111111111111111,
              "#46039f"
             ],
             [
              0.2222222222222222,
              "#7201a8"
             ],
             [
              0.3333333333333333,
              "#9c179e"
             ],
             [
              0.4444444444444444,
              "#bd3786"
             ],
             [
              0.5555555555555556,
              "#d8576b"
             ],
             [
              0.6666666666666666,
              "#ed7953"
             ],
             [
              0.7777777777777778,
              "#fb9f3a"
             ],
             [
              0.8888888888888888,
              "#fdca26"
             ],
             [
              1,
              "#f0f921"
             ]
            ],
            "type": "surface"
           }
          ],
          "table": [
           {
            "cells": {
             "fill": {
              "color": "#EBF0F8"
             },
             "line": {
              "color": "white"
             }
            },
            "header": {
             "fill": {
              "color": "#C8D4E3"
             },
             "line": {
              "color": "white"
             }
            },
            "type": "table"
           }
          ]
         },
         "layout": {
          "annotationdefaults": {
           "arrowcolor": "#2a3f5f",
           "arrowhead": 0,
           "arrowwidth": 1
          },
          "coloraxis": {
           "colorbar": {
            "outlinewidth": 0,
            "ticks": ""
           }
          },
          "colorscale": {
           "diverging": [
            [
             0,
             "#8e0152"
            ],
            [
             0.1,
             "#c51b7d"
            ],
            [
             0.2,
             "#de77ae"
            ],
            [
             0.3,
             "#f1b6da"
            ],
            [
             0.4,
             "#fde0ef"
            ],
            [
             0.5,
             "#f7f7f7"
            ],
            [
             0.6,
             "#e6f5d0"
            ],
            [
             0.7,
             "#b8e186"
            ],
            [
             0.8,
             "#7fbc41"
            ],
            [
             0.9,
             "#4d9221"
            ],
            [
             1,
             "#276419"
            ]
           ],
           "sequential": [
            [
             0,
             "#0d0887"
            ],
            [
             0.1111111111111111,
             "#46039f"
            ],
            [
             0.2222222222222222,
             "#7201a8"
            ],
            [
             0.3333333333333333,
             "#9c179e"
            ],
            [
             0.4444444444444444,
             "#bd3786"
            ],
            [
             0.5555555555555556,
             "#d8576b"
            ],
            [
             0.6666666666666666,
             "#ed7953"
            ],
            [
             0.7777777777777778,
             "#fb9f3a"
            ],
            [
             0.8888888888888888,
             "#fdca26"
            ],
            [
             1,
             "#f0f921"
            ]
           ],
           "sequentialminus": [
            [
             0,
             "#0d0887"
            ],
            [
             0.1111111111111111,
             "#46039f"
            ],
            [
             0.2222222222222222,
             "#7201a8"
            ],
            [
             0.3333333333333333,
             "#9c179e"
            ],
            [
             0.4444444444444444,
             "#bd3786"
            ],
            [
             0.5555555555555556,
             "#d8576b"
            ],
            [
             0.6666666666666666,
             "#ed7953"
            ],
            [
             0.7777777777777778,
             "#fb9f3a"
            ],
            [
             0.8888888888888888,
             "#fdca26"
            ],
            [
             1,
             "#f0f921"
            ]
           ]
          },
          "colorway": [
           "#636efa",
           "#EF553B",
           "#00cc96",
           "#ab63fa",
           "#FFA15A",
           "#19d3f3",
           "#FF6692",
           "#B6E880",
           "#FF97FF",
           "#FECB52"
          ],
          "font": {
           "color": "#2a3f5f"
          },
          "geo": {
           "bgcolor": "white",
           "lakecolor": "white",
           "landcolor": "#E5ECF6",
           "showlakes": true,
           "showland": true,
           "subunitcolor": "white"
          },
          "hoverlabel": {
           "align": "left"
          },
          "hovermode": "closest",
          "mapbox": {
           "style": "light"
          },
          "paper_bgcolor": "white",
          "plot_bgcolor": "#E5ECF6",
          "polar": {
           "angularaxis": {
            "gridcolor": "white",
            "linecolor": "white",
            "ticks": ""
           },
           "bgcolor": "#E5ECF6",
           "radialaxis": {
            "gridcolor": "white",
            "linecolor": "white",
            "ticks": ""
           }
          },
          "scene": {
           "xaxis": {
            "backgroundcolor": "#E5ECF6",
            "gridcolor": "white",
            "gridwidth": 2,
            "linecolor": "white",
            "showbackground": true,
            "ticks": "",
            "zerolinecolor": "white"
           },
           "yaxis": {
            "backgroundcolor": "#E5ECF6",
            "gridcolor": "white",
            "gridwidth": 2,
            "linecolor": "white",
            "showbackground": true,
            "ticks": "",
            "zerolinecolor": "white"
           },
           "zaxis": {
            "backgroundcolor": "#E5ECF6",
            "gridcolor": "white",
            "gridwidth": 2,
            "linecolor": "white",
            "showbackground": true,
            "ticks": "",
            "zerolinecolor": "white"
           }
          },
          "shapedefaults": {
           "line": {
            "color": "#2a3f5f"
           }
          },
          "ternary": {
           "aaxis": {
            "gridcolor": "white",
            "linecolor": "white",
            "ticks": ""
           },
           "baxis": {
            "gridcolor": "white",
            "linecolor": "white",
            "ticks": ""
           },
           "bgcolor": "#E5ECF6",
           "caxis": {
            "gridcolor": "white",
            "linecolor": "white",
            "ticks": ""
           }
          },
          "title": {
           "x": 0.05
          },
          "xaxis": {
           "automargin": true,
           "gridcolor": "white",
           "linecolor": "white",
           "ticks": "",
           "title": {
            "standoff": 15
           },
           "zerolinecolor": "white",
           "zerolinewidth": 2
          },
          "yaxis": {
           "automargin": true,
           "gridcolor": "white",
           "linecolor": "white",
           "ticks": "",
           "title": {
            "standoff": 15
           },
           "zerolinecolor": "white",
           "zerolinewidth": 2
          }
         }
        }
       }
      },
      "text/html": [
       "<div>\n",
       "        \n",
       "        \n",
       "            <div id=\"f762052e-3c3e-49fb-b594-6979b02463bf\" class=\"plotly-graph-div\" style=\"height:525px; width:100%;\"></div>\n",
       "            <script type=\"text/javascript\">\n",
       "                require([\"plotly\"], function(Plotly) {\n",
       "                    window.PLOTLYENV=window.PLOTLYENV || {};\n",
       "                    \n",
       "                if (document.getElementById(\"f762052e-3c3e-49fb-b594-6979b02463bf\")) {\n",
       "                    Plotly.newPlot(\n",
       "                        'f762052e-3c3e-49fb-b594-6979b02463bf',\n",
       "                        [{\"customdata\": [[\"save_fluxes\"], [\"solver_mcica_lw\"], [\"rrtm_taumol3\"], [\"solver_homogeneous_sw\"], [\"rrtm_kgb7\"], [\"solver_homogeneous_lw\"], [\"fast_expm_exchange_2\"], [\"rrtm_taumol5\"], [\"get_real_matrix_indexed\"], [\"calc_ice_optics_fu_lw\"], [\"rrtm_taumol15\"], [\"print_real\"], [\"rrtm_taumol7\"], [\"gas_optics\"], [\"srtm_setcoef\"], [\"consolidate_config\"], [\"diag_mat_right_divide_3\"], [\"calc_ice_optics_baran\"], [\"rrtm_taumol4\"], [\"rrtm_taumol9\"], [\"solver_tripleclouds_sw\"], [\"rrtm_taumol6\"], [\"lu_substitution\"], [\"srtm_taumol22\"], [\"rrtm_taumol8\"], [\"calc_ice_optics_fu_sw\"], [\"deallocate_thermodynamics_arrays\"], [\"srtm_taumol17\"], [\"srtm_taumol18\"], [\"read_input\"], [\"solver_mcica_sw\"], [\"fast_adding_ica_lw\"], [\"srtm_taumol16\"], [\"srtm_taumol27\"], [\"srtm_gas_optical_depth\"], [\"cloud_optics\"], [\"rrtm_kgb3\"], [\"param_cloud_effective_separation_eta\"], [\"get_real_array3\"], [\"srtm_taumol21\"], [\"surrtrf\"], [\"rrtm_kgb13\"], [\"calc_no_scattering_transmittance_lw\"], [\"get_sw_weights\"], [\"calc_surface_spectral\"], [\"get_real_vector_indexed\"], [\"rrtm_kgb15\"], [\"allocate_flux_type\"], [\"srtm_taumol23\"], [\"srtm_taumol29\"], [\"print_config\"], [\"calc_boundary_conditions_lw\"], [\"allocate_cloud_arrays\"], [\"rrtm_kgb5\"]], \"hovertemplate\": \"#Hits=%{marker.color}<br>Function=%{customdata[0]}<br>%Time=%{z}<br>IPC=%{marker.size}<extra></extra>\", \"legendgroup\": \"\", \"marker\": {\"color\": [118, 112, 107, 78, 56, 52, 41, 28, 28, 27, 26, 21, 20, 17, 15, 15, 11, 9, 8, 7, 7, 7, 6, 6, 4, 4, 4, 4, 4, 3, 3, 3, 3, 3, 3, 3, 2, 2, 2, 2, 2, 2, 1, 1, 1, 1, 1, 1, 1, 1, 1, 1, 1, 1], \"coloraxis\": \"coloraxis\", \"size\": [1.28, 1.2, 1.53, 1.45, 1.3, 1.18, 1.4, 1.54, 0.82, 1.07, 1.25, 0.88, 1.56, 1.42, 0.88, 0.88, 1.19, 1.01, 1.6, 1.19, 1.21, 1.33, 1.51, 1.01, 1.5, 0.88, 0.59, 1.45, 0.99, 0.24, 0.7, 1.21, 0.63, 1.36, 1.23, 0.81, 0.06, 0.42, 0.95, 1.14, 0.85, 0.05, 0.13, 0.26, 0.2, 0.0, 0.05, 1.99, 1.47, 0.05, 0.02, 0.02, 1.17, 0.05], \"sizemode\": \"area\", \"sizeref\": 0.004975, \"symbol\": \"circle\"}, \"mode\": \"markers\", \"name\": \"\", \"scene\": \"scene\", \"showlegend\": false, \"type\": \"scatter3d\", \"x\": [118, 112, 107, 78, 56, 52, 41, 28, 28, 27, 26, 21, 20, 17, 15, 15, 11, 9, 8, 7, 7, 7, 6, 6, 4, 4, 4, 4, 4, 3, 3, 3, 3, 3, 3, 3, 2, 2, 2, 2, 2, 2, 1, 1, 1, 1, 1, 1, 1, 1, 1, 1, 1, 1], \"y\": [\"save_fluxes\", \"solver_mcica_lw\", \"rrtm_taumol3\", \"solver_homogeneous_sw\", \"rrtm_kgb7\", \"solver_homogeneous_lw\", \"fast_expm_exchange_2\", \"rrtm_taumol5\", \"get_real_matrix_indexed\", \"calc_ice_optics_fu_lw\", \"rrtm_taumol15\", \"print_real\", \"rrtm_taumol7\", \"gas_optics\", \"srtm_setcoef\", \"consolidate_config\", \"diag_mat_right_divide_3\", \"calc_ice_optics_baran\", \"rrtm_taumol4\", \"rrtm_taumol9\", \"solver_tripleclouds_sw\", \"rrtm_taumol6\", \"lu_substitution\", \"srtm_taumol22\", \"rrtm_taumol8\", \"calc_ice_optics_fu_sw\", \"deallocate_thermodynamics_arrays\", \"srtm_taumol17\", \"srtm_taumol18\", \"read_input\", \"solver_mcica_sw\", \"fast_adding_ica_lw\", \"srtm_taumol16\", \"srtm_taumol27\", \"srtm_gas_optical_depth\", \"cloud_optics\", \"rrtm_kgb3\", \"param_cloud_effective_separation_eta\", \"get_real_array3\", \"srtm_taumol21\", \"surrtrf\", \"rrtm_kgb13\", \"calc_no_scattering_transmittance_lw\", \"get_sw_weights\", \"calc_surface_spectral\", \"get_real_vector_indexed\", \"rrtm_kgb15\", \"allocate_flux_type\", \"srtm_taumol23\", \"srtm_taumol29\", \"print_config\", \"calc_boundary_conditions_lw\", \"allocate_cloud_arrays\", \"rrtm_kgb5\"], \"z\": [8.7, 8.3, 7.9, 5.8, 4.1, 3.8, 3.0, 2.1, 2.1, 2.0, 1.9, 1.6, 1.5, 1.3, 1.1, 1.1, 0.8, 0.7, 0.6, 0.5, 0.5, 0.5, 0.4, 0.4, 0.3, 0.3, 0.3, 0.3, 0.3, 0.3, 0.2, 0.2, 0.2, 0.2, 0.2, 0.2, 0.2, 0.1, 0.1, 0.1, 0.1, 0.1, 0.1, 0.1, 0.1, 0.1, 0.1, 0.1, 0.1, 0.1, 0.1, 0.1, 0.1, 0.1]}],\n",
       "                        {\"coloraxis\": {\"colorbar\": {\"title\": {\"text\": \"#Hits\"}}, \"colorscale\": [[0.0, \"#0d0887\"], [0.1111111111111111, \"#46039f\"], [0.2222222222222222, \"#7201a8\"], [0.3333333333333333, \"#9c179e\"], [0.4444444444444444, \"#bd3786\"], [0.5555555555555556, \"#d8576b\"], [0.6666666666666666, \"#ed7953\"], [0.7777777777777778, \"#fb9f3a\"], [0.8888888888888888, \"#fdca26\"], [1.0, \"#f0f921\"]]}, \"legend\": {\"itemsizing\": \"constant\", \"tracegroupgap\": 0}, \"margin\": {\"t\": 60}, \"scene\": {\"domain\": {\"x\": [0.0, 1.0], \"y\": [0.0, 1.0]}, \"xaxis\": {\"title\": {\"text\": \"#Hits\"}}, \"yaxis\": {\"title\": {\"text\": \"Function\"}}, \"zaxis\": {\"title\": {\"text\": \"%Time\"}, \"type\": \"log\"}}, \"template\": {\"data\": {\"bar\": [{\"error_x\": {\"color\": \"#2a3f5f\"}, \"error_y\": {\"color\": \"#2a3f5f\"}, \"marker\": {\"line\": {\"color\": \"#E5ECF6\", \"width\": 0.5}}, \"type\": \"bar\"}], \"barpolar\": [{\"marker\": {\"line\": {\"color\": \"#E5ECF6\", \"width\": 0.5}}, \"type\": \"barpolar\"}], \"carpet\": [{\"aaxis\": {\"endlinecolor\": \"#2a3f5f\", \"gridcolor\": \"white\", \"linecolor\": \"white\", \"minorgridcolor\": \"white\", \"startlinecolor\": \"#2a3f5f\"}, \"baxis\": {\"endlinecolor\": \"#2a3f5f\", \"gridcolor\": \"white\", \"linecolor\": \"white\", \"minorgridcolor\": \"white\", \"startlinecolor\": \"#2a3f5f\"}, \"type\": \"carpet\"}], \"choropleth\": [{\"colorbar\": {\"outlinewidth\": 0, \"ticks\": \"\"}, \"type\": \"choropleth\"}], \"contour\": [{\"colorbar\": {\"outlinewidth\": 0, \"ticks\": \"\"}, \"colorscale\": [[0.0, \"#0d0887\"], [0.1111111111111111, \"#46039f\"], [0.2222222222222222, \"#7201a8\"], [0.3333333333333333, \"#9c179e\"], [0.4444444444444444, \"#bd3786\"], [0.5555555555555556, \"#d8576b\"], [0.6666666666666666, \"#ed7953\"], [0.7777777777777778, \"#fb9f3a\"], [0.8888888888888888, \"#fdca26\"], [1.0, \"#f0f921\"]], \"type\": \"contour\"}], \"contourcarpet\": [{\"colorbar\": {\"outlinewidth\": 0, \"ticks\": \"\"}, \"type\": \"contourcarpet\"}], \"heatmap\": [{\"colorbar\": {\"outlinewidth\": 0, \"ticks\": \"\"}, \"colorscale\": [[0.0, \"#0d0887\"], [0.1111111111111111, \"#46039f\"], [0.2222222222222222, \"#7201a8\"], [0.3333333333333333, \"#9c179e\"], [0.4444444444444444, \"#bd3786\"], [0.5555555555555556, \"#d8576b\"], [0.6666666666666666, \"#ed7953\"], [0.7777777777777778, \"#fb9f3a\"], [0.8888888888888888, \"#fdca26\"], [1.0, \"#f0f921\"]], \"type\": \"heatmap\"}], \"heatmapgl\": [{\"colorbar\": {\"outlinewidth\": 0, \"ticks\": \"\"}, \"colorscale\": [[0.0, \"#0d0887\"], [0.1111111111111111, \"#46039f\"], [0.2222222222222222, \"#7201a8\"], [0.3333333333333333, \"#9c179e\"], [0.4444444444444444, \"#bd3786\"], [0.5555555555555556, \"#d8576b\"], [0.6666666666666666, \"#ed7953\"], [0.7777777777777778, \"#fb9f3a\"], [0.8888888888888888, \"#fdca26\"], [1.0, \"#f0f921\"]], \"type\": \"heatmapgl\"}], \"histogram\": [{\"marker\": {\"colorbar\": {\"outlinewidth\": 0, \"ticks\": \"\"}}, \"type\": \"histogram\"}], \"histogram2d\": [{\"colorbar\": {\"outlinewidth\": 0, \"ticks\": \"\"}, \"colorscale\": [[0.0, \"#0d0887\"], [0.1111111111111111, \"#46039f\"], [0.2222222222222222, \"#7201a8\"], [0.3333333333333333, \"#9c179e\"], [0.4444444444444444, \"#bd3786\"], [0.5555555555555556, \"#d8576b\"], [0.6666666666666666, \"#ed7953\"], [0.7777777777777778, \"#fb9f3a\"], [0.8888888888888888, \"#fdca26\"], [1.0, \"#f0f921\"]], \"type\": \"histogram2d\"}], \"histogram2dcontour\": [{\"colorbar\": {\"outlinewidth\": 0, \"ticks\": \"\"}, \"colorscale\": [[0.0, \"#0d0887\"], [0.1111111111111111, \"#46039f\"], [0.2222222222222222, \"#7201a8\"], [0.3333333333333333, \"#9c179e\"], [0.4444444444444444, \"#bd3786\"], [0.5555555555555556, \"#d8576b\"], [0.6666666666666666, \"#ed7953\"], [0.7777777777777778, \"#fb9f3a\"], [0.8888888888888888, \"#fdca26\"], [1.0, \"#f0f921\"]], \"type\": \"histogram2dcontour\"}], \"mesh3d\": [{\"colorbar\": {\"outlinewidth\": 0, \"ticks\": \"\"}, \"type\": \"mesh3d\"}], \"parcoords\": [{\"line\": {\"colorbar\": {\"outlinewidth\": 0, \"ticks\": \"\"}}, \"type\": \"parcoords\"}], \"pie\": [{\"automargin\": true, \"type\": \"pie\"}], \"scatter\": [{\"marker\": {\"colorbar\": {\"outlinewidth\": 0, \"ticks\": \"\"}}, \"type\": \"scatter\"}], \"scatter3d\": [{\"line\": {\"colorbar\": {\"outlinewidth\": 0, \"ticks\": \"\"}}, \"marker\": {\"colorbar\": {\"outlinewidth\": 0, \"ticks\": \"\"}}, \"type\": \"scatter3d\"}], \"scattercarpet\": [{\"marker\": {\"colorbar\": {\"outlinewidth\": 0, \"ticks\": \"\"}}, \"type\": \"scattercarpet\"}], \"scattergeo\": [{\"marker\": {\"colorbar\": {\"outlinewidth\": 0, \"ticks\": \"\"}}, \"type\": \"scattergeo\"}], \"scattergl\": [{\"marker\": {\"colorbar\": {\"outlinewidth\": 0, \"ticks\": \"\"}}, \"type\": \"scattergl\"}], \"scattermapbox\": [{\"marker\": {\"colorbar\": {\"outlinewidth\": 0, \"ticks\": \"\"}}, \"type\": \"scattermapbox\"}], \"scatterpolar\": [{\"marker\": {\"colorbar\": {\"outlinewidth\": 0, \"ticks\": \"\"}}, \"type\": \"scatterpolar\"}], \"scatterpolargl\": [{\"marker\": {\"colorbar\": {\"outlinewidth\": 0, \"ticks\": \"\"}}, \"type\": \"scatterpolargl\"}], \"scatterternary\": [{\"marker\": {\"colorbar\": {\"outlinewidth\": 0, \"ticks\": \"\"}}, \"type\": \"scatterternary\"}], \"surface\": [{\"colorbar\": {\"outlinewidth\": 0, \"ticks\": \"\"}, \"colorscale\": [[0.0, \"#0d0887\"], [0.1111111111111111, \"#46039f\"], [0.2222222222222222, \"#7201a8\"], [0.3333333333333333, \"#9c179e\"], [0.4444444444444444, \"#bd3786\"], [0.5555555555555556, \"#d8576b\"], [0.6666666666666666, \"#ed7953\"], [0.7777777777777778, \"#fb9f3a\"], [0.8888888888888888, \"#fdca26\"], [1.0, \"#f0f921\"]], \"type\": \"surface\"}], \"table\": [{\"cells\": {\"fill\": {\"color\": \"#EBF0F8\"}, \"line\": {\"color\": \"white\"}}, \"header\": {\"fill\": {\"color\": \"#C8D4E3\"}, \"line\": {\"color\": \"white\"}}, \"type\": \"table\"}]}, \"layout\": {\"annotationdefaults\": {\"arrowcolor\": \"#2a3f5f\", \"arrowhead\": 0, \"arrowwidth\": 1}, \"coloraxis\": {\"colorbar\": {\"outlinewidth\": 0, \"ticks\": \"\"}}, \"colorscale\": {\"diverging\": [[0, \"#8e0152\"], [0.1, \"#c51b7d\"], [0.2, \"#de77ae\"], [0.3, \"#f1b6da\"], [0.4, \"#fde0ef\"], [0.5, \"#f7f7f7\"], [0.6, \"#e6f5d0\"], [0.7, \"#b8e186\"], [0.8, \"#7fbc41\"], [0.9, \"#4d9221\"], [1, \"#276419\"]], \"sequential\": [[0.0, \"#0d0887\"], [0.1111111111111111, \"#46039f\"], [0.2222222222222222, \"#7201a8\"], [0.3333333333333333, \"#9c179e\"], [0.4444444444444444, \"#bd3786\"], [0.5555555555555556, \"#d8576b\"], [0.6666666666666666, \"#ed7953\"], [0.7777777777777778, \"#fb9f3a\"], [0.8888888888888888, \"#fdca26\"], [1.0, \"#f0f921\"]], \"sequentialminus\": [[0.0, \"#0d0887\"], [0.1111111111111111, \"#46039f\"], [0.2222222222222222, \"#7201a8\"], [0.3333333333333333, \"#9c179e\"], [0.4444444444444444, \"#bd3786\"], [0.5555555555555556, \"#d8576b\"], [0.6666666666666666, \"#ed7953\"], [0.7777777777777778, \"#fb9f3a\"], [0.8888888888888888, \"#fdca26\"], [1.0, \"#f0f921\"]]}, \"colorway\": [\"#636efa\", \"#EF553B\", \"#00cc96\", \"#ab63fa\", \"#FFA15A\", \"#19d3f3\", \"#FF6692\", \"#B6E880\", \"#FF97FF\", \"#FECB52\"], \"font\": {\"color\": \"#2a3f5f\"}, \"geo\": {\"bgcolor\": \"white\", \"lakecolor\": \"white\", \"landcolor\": \"#E5ECF6\", \"showlakes\": true, \"showland\": true, \"subunitcolor\": \"white\"}, \"hoverlabel\": {\"align\": \"left\"}, \"hovermode\": \"closest\", \"mapbox\": {\"style\": \"light\"}, \"paper_bgcolor\": \"white\", \"plot_bgcolor\": \"#E5ECF6\", \"polar\": {\"angularaxis\": {\"gridcolor\": \"white\", \"linecolor\": \"white\", \"ticks\": \"\"}, \"bgcolor\": \"#E5ECF6\", \"radialaxis\": {\"gridcolor\": \"white\", \"linecolor\": \"white\", \"ticks\": \"\"}}, \"scene\": {\"xaxis\": {\"backgroundcolor\": \"#E5ECF6\", \"gridcolor\": \"white\", \"gridwidth\": 2, \"linecolor\": \"white\", \"showbackground\": true, \"ticks\": \"\", \"zerolinecolor\": \"white\"}, \"yaxis\": {\"backgroundcolor\": \"#E5ECF6\", \"gridcolor\": \"white\", \"gridwidth\": 2, \"linecolor\": \"white\", \"showbackground\": true, \"ticks\": \"\", \"zerolinecolor\": \"white\"}, \"zaxis\": {\"backgroundcolor\": \"#E5ECF6\", \"gridcolor\": \"white\", \"gridwidth\": 2, \"linecolor\": \"white\", \"showbackground\": true, \"ticks\": \"\", \"zerolinecolor\": \"white\"}}, \"shapedefaults\": {\"line\": {\"color\": \"#2a3f5f\"}}, \"ternary\": {\"aaxis\": {\"gridcolor\": \"white\", \"linecolor\": \"white\", \"ticks\": \"\"}, \"baxis\": {\"gridcolor\": \"white\", \"linecolor\": \"white\", \"ticks\": \"\"}, \"bgcolor\": \"#E5ECF6\", \"caxis\": {\"gridcolor\": \"white\", \"linecolor\": \"white\", \"ticks\": \"\"}}, \"title\": {\"x\": 0.05}, \"xaxis\": {\"automargin\": true, \"gridcolor\": \"white\", \"linecolor\": \"white\", \"ticks\": \"\", \"title\": {\"standoff\": 15}, \"zerolinecolor\": \"white\", \"zerolinewidth\": 2}, \"yaxis\": {\"automargin\": true, \"gridcolor\": \"white\", \"linecolor\": \"white\", \"ticks\": \"\", \"title\": {\"standoff\": 15}, \"zerolinecolor\": \"white\", \"zerolinewidth\": 2}}}},\n",
       "                        {\"responsive\": true}\n",
       "                    ).then(function(){\n",
       "                            \n",
       "var gd = document.getElementById('f762052e-3c3e-49fb-b594-6979b02463bf');\n",
       "var x = new MutationObserver(function (mutations, observer) {{\n",
       "        var display = window.getComputedStyle(gd).display;\n",
       "        if (!display || display === 'none') {{\n",
       "            console.log([gd, 'removed!']);\n",
       "            Plotly.purge(gd);\n",
       "            observer.disconnect();\n",
       "        }}\n",
       "}});\n",
       "\n",
       "// Listen for the removal of the full notebook cells\n",
       "var notebookContainer = gd.closest('#notebook-container');\n",
       "if (notebookContainer) {{\n",
       "    x.observe(notebookContainer, {childList: true});\n",
       "}}\n",
       "\n",
       "// Listen for the clearing of the current output cell\n",
       "var outputEl = gd.closest('.output');\n",
       "if (outputEl) {{\n",
       "    x.observe(outputEl, {childList: true});\n",
       "}}\n",
       "\n",
       "                        })\n",
       "                };\n",
       "                });\n",
       "            </script>\n",
       "        </div>"
      ]
     },
     "metadata": {},
     "output_type": "display_data"
    }
   ],
   "source": [
    "#  Runtime vs. Cache-miss ratios vs. IPC\n",
    "data_labels = ['rrtm_taumol3', 'solver_mcica_lw', 'save_fluxes', 'rrtm_kgb7', '']\n",
    "df = data.loc[data['Function'] == 'rrtm_taumol3']\n",
    "xx = data[['Function','#Hits', '%Time', 'IPC']]\n",
    "x = df[['#Hits', '%Time', 'IPC']]\n",
    "dictionary = x.to_dict('r')[0]\n",
    "keys = list(dictionary.keys())\n",
    "vals = list(dictionary.values())\n",
    "\n",
    "df = pd.DataFrame(dict(r= vals, theta = keys))\n",
    "\n",
    "fig = px.line_polar(df, r='r', theta='theta', line_close=True)\n",
    "fig.show()\n",
    "\n",
    "\n",
    "\n",
    "radar_chart = pygal.Radar()\n",
    "radar_chart.title = 'Simple HPC Banchmark'\n",
    "radar_chart.x_labels = ['#Hits', '%Time', 'IPC']\n",
    "for x in data_labels:\n",
    "    data_inside = data.loc[data['Function'] == x].to_dict('r')\n",
    "    if data_inside == []:\n",
    "        continue\n",
    "    radar_chart.add(x, data.loc[data['Function'] == x].to_dict('r')[0])\n",
    "display(SVG(radar_chart.render()))\n",
    "\n",
    "\n",
    "\n",
    "df = px.data.gapminder()\n",
    "fig = px.scatter_3d(xx, x='#Hits', y='Function', z='%Time', size='IPC', color=\"#Hits\",\n",
    "                    hover_data=['Function'])\n",
    "fig.update_layout(scene_zaxis_type=\"log\")\n",
    "fig.show()"
   ]
  }
 ],
 "metadata": {
  "kernelspec": {
   "display_name": "Python 3",
   "language": "python",
   "name": "python3"
  },
  "language_info": {
   "codemirror_mode": {
    "name": "ipython",
    "version": 3
   },
   "file_extension": ".py",
   "mimetype": "text/x-python",
   "name": "python",
   "nbconvert_exporter": "python",
   "pygments_lexer": "ipython3",
   "version": "3.8.2"
  }
 },
 "nbformat": 4,
 "nbformat_minor": 4
}
